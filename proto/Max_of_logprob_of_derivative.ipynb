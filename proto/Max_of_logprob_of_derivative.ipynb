{
 "cells": [
  {
   "cell_type": "markdown",
   "metadata": {
    "collapsed": true
   },
   "source": [
    "## Intro\n",
    "\n",
    "This is inspired by \n",
    "Article (likas2001probability) Likas, A. Probability density estimation using artificial neural networks Computer physics communications, Elsevier, 2001, 135, 167-175\n",
    "\n",
    "But rather than estimating the working with a network, we will instead work with its derivitive.\n",
    "This will let us replace their integration with a derivative.\n",
    "\n",
    "Note that this method only works for compact supports\n",
    "\n"
   ]
  },
  {
   "cell_type": "markdown",
   "metadata": {},
   "source": [
    "They use the PDF is given by $$p_h(x,p) = \\dfrac{h(x,p)}{\\int_S h(z,p) dz}$$\n",
    "and in their case $h=N(x,p)$  a neural network with weight and bias parameters $p$.\n",
    "Where $S$ is a compact support. (That means bounded)\n",
    "\n",
    "\n",
    "But if instead we say $h=\\frac{\\partial N(x,p)}{\\partial x}$,\n",
    "\n",
    "then $$p_h(x,p) = \\dfrac{h(x,p)}{\\int_S h(z,p)}=\\dfrac{\\frac{\\partial N(x,p)}{\\partial x}}{N(max(S),p) - N(min(S), p)}$$\n",
    "\n",
    "The denominator is ofcourse more complex for non-1D values of S.\n"
   ]
  },
  {
   "cell_type": "markdown",
   "metadata": {},
   "source": [
    "The loss function given is the negative log-likelihood of the set of training samples $X$\n",
    "$$L(p) = -\\sum_{\\forall x \\in X} ln(h(x,p))  + |X| ln(\\int_S h(z,p) dx)$$\n",
    "\n",
    "Which befomes:\n",
    "\n",
    "$$L(p) = -\\sum_{\\forall x \\in X} log(\\frac{\\partial N(x,p)}{\\partial x})  + |X|(ln(N(max(S),p)-N(min(S),p)) dx$$"
   ]
  },
  {
   "cell_type": "code",
   "execution_count": 1,
   "metadata": {},
   "outputs": [
    {
     "data": {
      "text/plain": [
       "only (generic function with 1 method)"
      ]
     },
     "execution_count": 1,
     "metadata": {},
     "output_type": "execute_result"
    }
   ],
   "source": [
    "using DensityEstimationML\n",
    "function only(itr)\n",
    "    state = start(itr)\n",
    "    val,state = next(itr, state)\n",
    "    @assert(done(itr,state))\n",
    "    return val\n",
    "end"
   ]
  },
  {
   "cell_type": "code",
   "execution_count": 2,
   "metadata": {
    "collapsed": true
   },
   "outputs": [],
   "source": [
    "using TensorFlow\n",
    "using Distributions\n",
    "using StatsBase\n",
    "using StaticArrays"
   ]
  },
  {
   "cell_type": "code",
   "execution_count": 3,
   "metadata": {},
   "outputs": [
    {
     "name": "stderr",
     "output_type": "stream",
     "text": [
      "2017-09-21 16:34:05.339908: W tensorflow/core/platform/cpu_feature_guard.cc:45] The TensorFlow library wasn't compiled to use SSE4.1 instructions, but these are available on your machine and could speed up CPU computations.\n",
      "2017-09-21 16:34:05.339940: W tensorflow/core/platform/cpu_feature_guard.cc:45] The TensorFlow library wasn't compiled to use SSE4.2 instructions, but these are available on your machine and could speed up CPU computations.\n",
      "2017-09-21 16:34:05.339945: W tensorflow/core/platform/cpu_feature_guard.cc:45] The TensorFlow library wasn't compiled to use AVX instructions, but these are available on your machine and could speed up CPU computations.\n",
      "2017-09-21 16:34:05.563312: I tensorflow/stream_executor/cuda/cuda_gpu_executor.cc:893] successful NUMA node read from SysFS had negative value (-1), but there must be at least one NUMA node, so returning NUMA node zero\n",
      "2017-09-21 16:34:05.563927: I tensorflow/core/common_runtime/gpu/gpu_device.cc:940] Found device 0 with properties: \n",
      "name: GeForce GTX TITAN X\n",
      "major: 5 minor: 2 memoryClockRate (GHz) 1.076\n",
      "pciBusID 0000:01:00.0\n",
      "Total memory: 11.91GiB\n",
      "Free memory: 11.78GiB\n",
      "2017-09-21 16:34:05.563944: I tensorflow/core/common_runtime/gpu/gpu_device.cc:961] DMA: 0 \n",
      "2017-09-21 16:34:05.563951: I tensorflow/core/common_runtime/gpu/gpu_device.cc:971] 0:   Y \n",
      "2017-09-21 16:34:05.563965: I tensorflow/core/common_runtime/gpu/gpu_device.cc:1030] Creating TensorFlow device (/gpu:0) -> (device: 0, name: GeForce GTX TITAN X, pci bus id: 0000:01:00.0)\n"
     ]
    },
    {
     "name": "stdout",
     "output_type": "stream",
     "text": [
      "pdf = <Tensor pdf:1 shape=unknown dtype=Float64>\n"
     ]
    },
    {
     "data": {
      "text/plain": [
       "DensityEstimationML.NeuralDensityEstimator{1}(Session(Ptr{Void} @0x00007f2cc7fddc30), <Tensor Group:1 shape=unknown dtype=Any>, <Tensor Group_2:1 shape=unknown dtype=Any>, <Tensor t:1 shape=(1, ?) dtype=Float32>, <Tensor pdf:1 shape=unknown dtype=Float64>)"
      ]
     },
     "execution_count": 3,
     "metadata": {},
     "output_type": "execute_result"
    }
   ],
   "source": [
    "dataset = GenerateDatasets.Likas1()\n",
    "data = original_sample(dataset)\n",
    "est = NeuralDensityEstimator([64], approximate_support(dataset))"
   ]
  },
  {
   "cell_type": "code",
   "execution_count": 4,
   "metadata": {},
   "outputs": [
    {
     "data": {
      "text/plain": [
       "5000-element Array{Float64,1}:\n",
       " 0.0416668\n",
       " 0.0416668\n",
       " 0.0416668\n",
       " 0.0416665\n",
       " 0.0416668\n",
       " 0.0416668\n",
       " 0.0416668\n",
       " 0.0416668\n",
       " 0.0416665\n",
       " 0.0416665\n",
       " 0.0416668\n",
       " 0.0416665\n",
       " 0.0416666\n",
       " ⋮        \n",
       " 0.0416668\n",
       " 0.0416667\n",
       " 0.0416668\n",
       " 0.0416668\n",
       " 0.0416667\n",
       " 0.0416668\n",
       " 0.0416668\n",
       " 0.0416666\n",
       " 0.0416668\n",
       " 0.0416665\n",
       " 0.0416668\n",
       " 0.0416667"
      ]
     },
     "execution_count": 4,
     "metadata": {},
     "output_type": "execute_result"
    }
   ],
   "source": [
    "pdf(est, data)"
   ]
  },
  {
   "cell_type": "code",
   "execution_count": 5,
   "metadata": {},
   "outputs": [
    {
     "ename": "LoadError",
     "evalue": "\u001b[91mUndefVarError: liklpdf not defined\u001b[39m",
     "output_type": "error",
     "traceback": [
      "\u001b[91mUndefVarError: liklpdf not defined\u001b[39m",
      "",
      "Stacktrace:",
      " [1] \u001b[1minclude_string\u001b[22m\u001b[22m\u001b[1m(\u001b[22m\u001b[22m::String, ::String\u001b[1m)\u001b[22m\u001b[22m at \u001b[1m./loading.jl:515\u001b[22m\u001b[22m"
     ]
    }
   ],
   "source": [
    "liklpdf(est, data)"
   ]
  },
  {
   "cell_type": "code",
   "execution_count": 5,
   "metadata": {},
   "outputs": [
    {
     "data": {
      "text/html": [
       "pdf(est::<b>DensityEstimationML.NeuralDensityEstimator</b>, ts::<b>AbstractArray</b>) at <a href=\"https://github.com/oxinabox/DensityEstimationML.jl/tree/83fc4102adc0dbf5f8e11c0129149190392b8488//src/estimator.jl#L33\" target=\"_blank\">/home/uniwa/students2/students/20361362/linux/.julia/v0.6/DensityEstimationML/src/estimator.jl:33</a>"
      ],
      "text/plain": [
       "pdf(est::DensityEstimationML.NeuralDensityEstimator, ts::AbstractArray) in DensityEstimationML at /home/uniwa/students2/students/20361362/linux/.julia/v0.6/DensityEstimationML/src/estimator.jl:33"
      ]
     },
     "execution_count": 5,
     "metadata": {},
     "output_type": "execute_result"
    }
   ],
   "source": [
    "@which pdf(est, DensityEstimationML.autostatic_array(data))"
   ]
  },
  {
   "cell_type": "code",
   "execution_count": 6,
   "metadata": {},
   "outputs": [
    {
     "data": {
      "text/plain": [
       "true"
      ]
     },
     "execution_count": 6,
     "metadata": {},
     "output_type": "execute_result"
    }
   ],
   "source": [
    "DensityEstimationML.autostatic_array(data) |> typeof <: StaticVector{5000}"
   ]
  },
  {
   "cell_type": "code",
   "execution_count": 7,
   "metadata": {},
   "outputs": [
    {
     "data": {
      "text/plain": [
       "true"
      ]
     },
     "execution_count": 7,
     "metadata": {},
     "output_type": "execute_result"
    }
   ],
   "source": [
    "StaticVector{5000} <: AbstractVector"
   ]
  },
  {
   "cell_type": "code",
   "execution_count": 22,
   "metadata": {},
   "outputs": [],
   "source": [
    "function Distributions.pdf(est::NeuralDensityEstimator{1}, ts::StaticArrays.StaticArray{Tuple{1},Float64,1})\n",
    "    println(\"hi\")\n",
    "end"
   ]
  },
  {
   "cell_type": "code",
   "execution_count": 19,
   "metadata": {},
   "outputs": [
    {
     "data": {
      "text/plain": [
       "StaticArrays.StaticArray{Tuple{5000},Float64,1}"
      ]
     },
     "execution_count": 19,
     "metadata": {},
     "output_type": "execute_result"
    }
   ],
   "source": [
    "DensityEstimationML.autostatic_array(data) |> typeof |> supertype"
   ]
  },
  {
   "cell_type": "code",
   "execution_count": 25,
   "metadata": {},
   "outputs": [
    {
     "ename": "LoadError",
     "evalue": "\u001b[91mUndefVarError: _pdf not defined\u001b[39m",
     "output_type": "error",
     "traceback": [
      "\u001b[91mUndefVarError: _pdf not defined\u001b[39m",
      "",
      "Stacktrace:",
      " [1] \u001b[1mpdf\u001b[22m\u001b[22m\u001b[1m(\u001b[22m\u001b[22m::DensityEstimationML.NeuralDensityEstimator{1}, ::Array{Float64,1}\u001b[1m)\u001b[22m\u001b[22m at \u001b[1m/home/uniwa/students2/students/20361362/linux/.julia/v0.6/DensityEstimationML/src/estimator.jl:33\u001b[22m\u001b[22m",
      " [2] \u001b[1minclude_string\u001b[22m\u001b[22m\u001b[1m(\u001b[22m\u001b[22m::String, ::String\u001b[1m)\u001b[22m\u001b[22m at \u001b[1m./loading.jl:515\u001b[22m\u001b[22m"
     ]
    }
   ],
   "source": [
    "pdf(est, data)"
   ]
  },
  {
   "cell_type": "code",
   "execution_count": null,
   "metadata": {
    "scrolled": true
   },
   "outputs": [],
   "source": [
    "dataset = GenerateDatasets.Likas3()\n",
    "data = original_sample(dataset)\n",
    "est = NeuralDensityEstimator([64], approximate_support(dataset))\n",
    "sess = est.sess\n",
    "run(sess, est.pdf, Dict(est.t=>[0.1 0.1; 0.1 0.1; 0.3 0.6]'))"
   ]
  },
  {
   "cell_type": "code",
   "execution_count": 15,
   "metadata": {},
   "outputs": [
    {
     "data": {
      "text/plain": [
       ":(getindex(x, (Base.endof)(x)))"
      ]
     },
     "execution_count": 15,
     "metadata": {},
     "output_type": "execute_result"
    }
   ],
   "source": [
    "expand(:(x[end]))"
   ]
  },
  {
   "cell_type": "code",
   "execution_count": 10,
   "metadata": {},
   "outputs": [
    {
     "ename": "LoadError",
     "evalue": "\u001b[91mUndefVarError: gr not defined\u001b[39m",
     "output_type": "error",
     "traceback": [
      "\u001b[91mUndefVarError: gr not defined\u001b[39m",
      "",
      "Stacktrace:",
      " [1] \u001b[1minclude_string\u001b[22m\u001b[22m\u001b[1m(\u001b[22m\u001b[22m::String, ::String\u001b[1m)\u001b[22m\u001b[22m at \u001b[1m./loading.jl:515\u001b[22m\u001b[22m"
     ]
    }
   ],
   "source": [
    "gradients(gr[\"yt\"], gr[\"t\"])[1,:] |> get_shape"
   ]
  },
  {
   "cell_type": "code",
   "execution_count": 17,
   "metadata": {},
   "outputs": [
    {
     "data": {
      "text/plain": [
       "1×3 RowVector{Int64,Array{Int64,1}}:\n",
       " 1  2  3"
      ]
     },
     "execution_count": 17,
     "metadata": {},
     "output_type": "execute_result"
    }
   ],
   "source": [
    "reshape(RowVector([1,2,3]), Val(2))"
   ]
  },
  {
   "cell_type": "code",
   "execution_count": null,
   "metadata": {
    "collapsed": true
   },
   "outputs": [],
   "source": []
  },
  {
   "cell_type": "code",
   "execution_count": null,
   "metadata": {},
   "outputs": [],
   "source": [
    "println.(sort(gr |> keys |> collect))"
   ]
  },
  {
   "cell_type": "code",
   "execution_count": 6,
   "metadata": {},
   "outputs": [
    {
     "data": {
      "text/plain": [
       "running_plot"
      ]
     },
     "execution_count": 6,
     "metadata": {},
     "output_type": "execute_result"
    }
   ],
   "source": [
    "using Plots\n",
    "using IJulia\n",
    "\n",
    "\"\"\"\n",
    "Function returning a function that will display a running plot.\n",
    "WARNING: Introducting or removing any variables is not supported.\n",
    "And will silently error.\n",
    "\"\"\"\n",
    "function running_plot()\n",
    "    epochs = Int[]\n",
    "    record = Dict()\n",
    "    function inner(epoch, vars::Associative)\n",
    "        for (var, values) in vars\n",
    "            value = only(values) #Incase it was an array\n",
    "            past = get!(record, var) do\n",
    "                typeof(value)[]\n",
    "            end\n",
    "            push!(past, value)\n",
    "        end\n",
    "        push!(epochs, epoch)\n",
    "        \n",
    "        IJulia.clear_output(true)\n",
    "        plot(epochs, hcat(values(record)...); label=hcat(keys(vars)...), layout=length(vars)) |> IJulia.display       \n",
    "    end\n",
    "end\n"
   ]
  },
  {
   "cell_type": "code",
   "execution_count": 11,
   "metadata": {},
   "outputs": [
    {
     "data": {
      "text/plain": [
       "demonstration_plot (generic function with 1 method)"
      ]
     },
     "execution_count": 11,
     "metadata": {},
     "output_type": "execute_result"
    }
   ],
   "source": [
    "function demonstration_plot(est, dataset, data, args...; kwargs...)\n",
    "    X = minimum(approximate_support(dataset)) : 0.01 : maximum(approximate_support(dataset)) |> collect\n",
    "    println(\"True loglikelihood      = $(loglikelihood(dataset, data))\")\n",
    "    println(\"Estimated loglikelihood = $(loglikelihood(est, data))\")\n",
    "    plot([X], [pdf(est,X), data],\n",
    "        #xlims= approximate_support(dataset),\n",
    "        xlims= (first(X), last(X)),\n",
    "        seriestype = [:path :histogram],\n",
    "        layout=(2,1),\n",
    "        legend=false,\n",
    "        nbins=[1  length(data)÷10],\n",
    "        args...; kwargs...\n",
    "    )\n",
    "end"
   ]
  },
  {
   "cell_type": "code",
   "execution_count": 12,
   "metadata": {
    "scrolled": true
   },
   "outputs": [
    {
     "data": {
      "text/plain": [
       "demo (generic function with 2 methods)"
      ]
     },
     "execution_count": 12,
     "metadata": {},
     "output_type": "execute_result"
    }
   ],
   "source": [
    "function demo(dataset, layers, epochs=20_000; max_conditioning_epochs=2000)\n",
    "    data = original_sample(dataset)\n",
    "    @show loglikelihood(dataset, data)\n",
    "    est = NeuralDensityEstimator(layers, approximate_support(dataset))\n",
    "\n",
    "    condition!(est; max_epochs = max_conditioning_epochs)\n",
    "    println(\"Conditioning Done\")\n",
    "    Plots.gr()\n",
    "    fit!(est, data; epochs=epochs, callback=running_plot())\n",
    "    println(\"Fitting Done\")\n",
    "    plotly()\n",
    "    demonstration_plot(est, dataset, data) |> IJulia.display\n",
    "    \n",
    "    est    \n",
    "end"
   ]
  },
  {
   "cell_type": "code",
   "execution_count": 13,
   "metadata": {},
   "outputs": [
    {
     "data": {
      "text/html": [
       "<?xml version=\"1.0\" encoding=\"utf-8\"?>\n",
       "<svg xmlns=\"http://www.w3.org/2000/svg\" xmlns:xlink=\"http://www.w3.org/1999/xlink\" width=\"600\" height=\"400\" viewBox=\"0 0 600 400\">\n",
       "<defs>\n",
       "  <clipPath id=\"clip00\">\n",
       "    <rect x=\"0\" y=\"0\" width=\"600\" height=\"400\"/>\n",
       "  </clipPath>\n",
       "</defs>\n",
       "<polygon clip-path=\"url(#clip00)\" points=\"\n",
       "0,400 600,400 600,0 0,0 \n",
       "  \" fill=\"#ffffff\" fill-opacity=\"1\"/>\n",
       "<defs>\n",
       "  <clipPath id=\"clip01\">\n",
       "    <rect x=\"120\" y=\"0\" width=\"421\" height=\"400\"/>\n",
       "  </clipPath>\n",
       "</defs>\n",
       "<polygon clip-path=\"url(#clip00)\" points=\"\n",
       "55.6177,175.813 283.776,175.813 283.776,11.811 55.6177,11.811 \n",
       "  \" fill=\"#ffffff\" fill-opacity=\"1\"/>\n",
       "<defs>\n",
       "  <clipPath id=\"clip02\">\n",
       "    <rect x=\"55\" y=\"11\" width=\"229\" height=\"165\"/>\n",
       "  </clipPath>\n",
       "</defs>\n",
       "<polyline clip-path=\"url(#clip02)\" style=\"stroke:#000000; stroke-width:0.5; stroke-opacity:0.1; fill:none\" points=\"\n",
       "  118.741,173.353 118.741,14.2711 \n",
       "  \"/>\n",
       "<polyline clip-path=\"url(#clip02)\" style=\"stroke:#000000; stroke-width:0.5; stroke-opacity:0.1; fill:none\" points=\"\n",
       "  182.119,173.353 182.119,14.2711 \n",
       "  \"/>\n",
       "<polyline clip-path=\"url(#clip02)\" style=\"stroke:#000000; stroke-width:0.5; stroke-opacity:0.1; fill:none\" points=\"\n",
       "  245.496,173.353 245.496,14.2711 \n",
       "  \"/>\n",
       "<polyline clip-path=\"url(#clip02)\" style=\"stroke:#000000; stroke-width:0.5; stroke-opacity:0.1; fill:none\" points=\"\n",
       "  59.04,175.669 280.353,175.669 \n",
       "  \"/>\n",
       "<polyline clip-path=\"url(#clip02)\" style=\"stroke:#000000; stroke-width:0.5; stroke-opacity:0.1; fill:none\" points=\"\n",
       "  59.04,119.767 280.353,119.767 \n",
       "  \"/>\n",
       "<polyline clip-path=\"url(#clip02)\" style=\"stroke:#000000; stroke-width:0.5; stroke-opacity:0.1; fill:none\" points=\"\n",
       "  59.04,63.866 280.353,63.866 \n",
       "  \"/>\n",
       "<polyline clip-path=\"url(#clip00)\" style=\"stroke:#000000; stroke-width:1; stroke-opacity:1; fill:none\" points=\"\n",
       "  55.6177,175.813 283.776,175.813 \n",
       "  \"/>\n",
       "<polyline clip-path=\"url(#clip00)\" style=\"stroke:#000000; stroke-width:1; stroke-opacity:1; fill:none\" points=\"\n",
       "  118.741,175.813 118.741,173.353 \n",
       "  \"/>\n",
       "<polyline clip-path=\"url(#clip00)\" style=\"stroke:#000000; stroke-width:1; stroke-opacity:1; fill:none\" points=\"\n",
       "  182.119,175.813 182.119,173.353 \n",
       "  \"/>\n",
       "<polyline clip-path=\"url(#clip00)\" style=\"stroke:#000000; stroke-width:1; stroke-opacity:1; fill:none\" points=\"\n",
       "  245.496,175.813 245.496,173.353 \n",
       "  \"/>\n",
       "<polyline clip-path=\"url(#clip00)\" style=\"stroke:#000000; stroke-width:1; stroke-opacity:1; fill:none\" points=\"\n",
       "  55.6177,175.813 55.6177,11.811 \n",
       "  \"/>\n",
       "<polyline clip-path=\"url(#clip00)\" style=\"stroke:#000000; stroke-width:1; stroke-opacity:1; fill:none\" points=\"\n",
       "  55.6177,175.669 59.04,175.669 \n",
       "  \"/>\n",
       "<polyline clip-path=\"url(#clip00)\" style=\"stroke:#000000; stroke-width:1; stroke-opacity:1; fill:none\" points=\"\n",
       "  55.6177,119.767 59.04,119.767 \n",
       "  \"/>\n",
       "<polyline clip-path=\"url(#clip00)\" style=\"stroke:#000000; stroke-width:1; stroke-opacity:1; fill:none\" points=\"\n",
       "  55.6177,63.866 59.04,63.866 \n",
       "  \"/>\n",
       "<g clip-path=\"url(#clip00)\">\n",
       "<text style=\"fill:#000000; fill-opacity:1; font-family:Arial,Helvetica Neue,Helvetica,sans-serif; font-size:12; text-anchor:middle;\" transform=\"rotate(0, 118.741, 189.613)\" x=\"118.741\" y=\"189.613\">250</text>\n",
       "</g>\n",
       "<g clip-path=\"url(#clip00)\">\n",
       "<text style=\"fill:#000000; fill-opacity:1; font-family:Arial,Helvetica Neue,Helvetica,sans-serif; font-size:12; text-anchor:middle;\" transform=\"rotate(0, 182.119, 189.613)\" x=\"182.119\" y=\"189.613\">500</text>\n",
       "</g>\n",
       "<g clip-path=\"url(#clip00)\">\n",
       "<text style=\"fill:#000000; fill-opacity:1; font-family:Arial,Helvetica Neue,Helvetica,sans-serif; font-size:12; text-anchor:middle;\" transform=\"rotate(0, 245.496, 189.613)\" x=\"245.496\" y=\"189.613\">750</text>\n",
       "</g>\n",
       "<g clip-path=\"url(#clip00)\">\n",
       "<text style=\"fill:#000000; fill-opacity:1; font-family:Arial,Helvetica Neue,Helvetica,sans-serif; font-size:12; text-anchor:end;\" transform=\"rotate(0, 49.6177, 180.169)\" x=\"49.6177\" y=\"180.169\">2</text>\n",
       "</g>\n",
       "<g clip-path=\"url(#clip00)\">\n",
       "<text style=\"fill:#000000; fill-opacity:1; font-family:Arial,Helvetica Neue,Helvetica,sans-serif; font-size:12; text-anchor:end;\" transform=\"rotate(0, 49.6177, 124.267)\" x=\"49.6177\" y=\"124.267\">4</text>\n",
       "</g>\n",
       "<g clip-path=\"url(#clip00)\">\n",
       "<text style=\"fill:#000000; fill-opacity:1; font-family:Arial,Helvetica Neue,Helvetica,sans-serif; font-size:12; text-anchor:end;\" transform=\"rotate(0, 49.6177, 68.366)\" x=\"49.6177\" y=\"68.366\">6</text>\n",
       "</g>\n",
       "<polyline clip-path=\"url(#clip02)\" style=\"stroke:#009af9; stroke-width:1; stroke-opacity:1; fill:none\" points=\"\n",
       "  55.6177,175.813 80.9686,29.8831 106.319,11.811 131.67,47.8998 157.021,78.5602 182.372,101.323 207.723,112.48 233.074,119.652 258.425,125.621 283.776,131.343 \n",
       "  \n",
       "  \"/>\n",
       "<polygon clip-path=\"url(#clip00)\" points=\"\n",
       "171.536,62.931 265.776,62.931 265.776,32.691 171.536,32.691 \n",
       "  \" fill=\"#ffffff\" fill-opacity=\"1\"/>\n",
       "<polyline clip-path=\"url(#clip00)\" style=\"stroke:#000000; stroke-width:1; stroke-opacity:1; fill:none\" points=\"\n",
       "  171.536,62.931 265.776,62.931 265.776,32.691 171.536,32.691 171.536,62.931 \n",
       "  \"/>\n",
       "<polyline clip-path=\"url(#clip00)\" style=\"stroke:#009af9; stroke-width:1; stroke-opacity:1; fill:none\" points=\"\n",
       "  177.536,47.811 213.536,47.811 \n",
       "  \"/>\n",
       "<g clip-path=\"url(#clip00)\">\n",
       "<text style=\"fill:#000000; fill-opacity:1; font-family:Arial,Helvetica Neue,Helvetica,sans-serif; font-size:12; text-anchor:start;\" transform=\"rotate(0, 219.536, 52.311)\" x=\"219.536\" y=\"52.311\">ysmax</text>\n",
       "</g>\n",
       "<polygon clip-path=\"url(#clip00)\" points=\"\n",
       "352.157,175.813 580.315,175.813 580.315,11.811 352.157,11.811 \n",
       "  \" fill=\"#ffffff\" fill-opacity=\"1\"/>\n",
       "<defs>\n",
       "  <clipPath id=\"clip03\">\n",
       "    <rect x=\"352\" y=\"11\" width=\"229\" height=\"165\"/>\n",
       "  </clipPath>\n",
       "</defs>\n",
       "<polyline clip-path=\"url(#clip03)\" style=\"stroke:#000000; stroke-width:0.5; stroke-opacity:0.1; fill:none\" points=\"\n",
       "  415.281,173.353 415.281,14.2711 \n",
       "  \"/>\n",
       "<polyline clip-path=\"url(#clip03)\" style=\"stroke:#000000; stroke-width:0.5; stroke-opacity:0.1; fill:none\" points=\"\n",
       "  478.658,173.353 478.658,14.2711 \n",
       "  \"/>\n",
       "<polyline clip-path=\"url(#clip03)\" style=\"stroke:#000000; stroke-width:0.5; stroke-opacity:0.1; fill:none\" points=\"\n",
       "  542.035,173.353 542.035,14.2711 \n",
       "  \"/>\n",
       "<polyline clip-path=\"url(#clip03)\" style=\"stroke:#000000; stroke-width:0.5; stroke-opacity:0.1; fill:none\" points=\"\n",
       "  355.579,124.203 576.893,124.203 \n",
       "  \"/>\n",
       "<polyline clip-path=\"url(#clip03)\" style=\"stroke:#000000; stroke-width:0.5; stroke-opacity:0.1; fill:none\" points=\"\n",
       "  355.579,26.021 576.893,26.021 \n",
       "  \"/>\n",
       "<polyline clip-path=\"url(#clip00)\" style=\"stroke:#000000; stroke-width:1; stroke-opacity:1; fill:none\" points=\"\n",
       "  352.157,175.813 580.315,175.813 \n",
       "  \"/>\n",
       "<polyline clip-path=\"url(#clip00)\" style=\"stroke:#000000; stroke-width:1; stroke-opacity:1; fill:none\" points=\"\n",
       "  415.281,175.813 415.281,173.353 \n",
       "  \"/>\n",
       "<polyline clip-path=\"url(#clip00)\" style=\"stroke:#000000; stroke-width:1; stroke-opacity:1; fill:none\" points=\"\n",
       "  478.658,175.813 478.658,173.353 \n",
       "  \"/>\n",
       "<polyline clip-path=\"url(#clip00)\" style=\"stroke:#000000; stroke-width:1; stroke-opacity:1; fill:none\" points=\"\n",
       "  542.035,175.813 542.035,173.353 \n",
       "  \"/>\n",
       "<polyline clip-path=\"url(#clip00)\" style=\"stroke:#000000; stroke-width:1; stroke-opacity:1; fill:none\" points=\"\n",
       "  352.157,175.813 352.157,11.811 \n",
       "  \"/>\n",
       "<polyline clip-path=\"url(#clip00)\" style=\"stroke:#000000; stroke-width:1; stroke-opacity:1; fill:none\" points=\"\n",
       "  352.157,124.203 355.579,124.203 \n",
       "  \"/>\n",
       "<polyline clip-path=\"url(#clip00)\" style=\"stroke:#000000; stroke-width:1; stroke-opacity:1; fill:none\" points=\"\n",
       "  352.157,26.021 355.579,26.021 \n",
       "  \"/>\n",
       "<g clip-path=\"url(#clip00)\">\n",
       "<text style=\"fill:#000000; fill-opacity:1; font-family:Arial,Helvetica Neue,Helvetica,sans-serif; font-size:12; text-anchor:middle;\" transform=\"rotate(0, 415.281, 189.613)\" x=\"415.281\" y=\"189.613\">250</text>\n",
       "</g>\n",
       "<g clip-path=\"url(#clip00)\">\n",
       "<text style=\"fill:#000000; fill-opacity:1; font-family:Arial,Helvetica Neue,Helvetica,sans-serif; font-size:12; text-anchor:middle;\" transform=\"rotate(0, 478.658, 189.613)\" x=\"478.658\" y=\"189.613\">500</text>\n",
       "</g>\n",
       "<g clip-path=\"url(#clip00)\">\n",
       "<text style=\"fill:#000000; fill-opacity:1; font-family:Arial,Helvetica Neue,Helvetica,sans-serif; font-size:12; text-anchor:middle;\" transform=\"rotate(0, 542.035, 189.613)\" x=\"542.035\" y=\"189.613\">750</text>\n",
       "</g>\n",
       "<g clip-path=\"url(#clip00)\">\n",
       "<text style=\"fill:#000000; fill-opacity:1; font-family:Arial,Helvetica Neue,Helvetica,sans-serif; font-size:12; text-anchor:end;\" transform=\"rotate(0, 346.157, 128.703)\" x=\"346.157\" y=\"128.703\">20000</text>\n",
       "</g>\n",
       "<g clip-path=\"url(#clip00)\">\n",
       "<text style=\"fill:#000000; fill-opacity:1; font-family:Arial,Helvetica Neue,Helvetica,sans-serif; font-size:12; text-anchor:end;\" transform=\"rotate(0, 346.157, 30.521)\" x=\"346.157\" y=\"30.521\">30000</text>\n",
       "</g>\n",
       "<polyline clip-path=\"url(#clip03)\" style=\"stroke:#009af9; stroke-width:1; stroke-opacity:1; fill:none\" points=\"\n",
       "  352.157,11.811 377.508,140.502 402.859,165.107 428.21,169.653 453.56,171.116 478.911,171.932 504.262,172.581 529.613,173.35 554.964,174.368 580.315,175.813 \n",
       "  \n",
       "  \"/>\n",
       "<polygon clip-path=\"url(#clip00)\" points=\"\n",
       "433.823,62.931 562.315,62.931 562.315,32.691 433.823,32.691 \n",
       "  \" fill=\"#ffffff\" fill-opacity=\"1\"/>\n",
       "<polyline clip-path=\"url(#clip00)\" style=\"stroke:#000000; stroke-width:1; stroke-opacity:1; fill:none\" points=\"\n",
       "  433.823,62.931 562.315,62.931 562.315,32.691 433.823,32.691 433.823,62.931 \n",
       "  \"/>\n",
       "<polyline clip-path=\"url(#clip00)\" style=\"stroke:#009af9; stroke-width:1; stroke-opacity:1; fill:none\" points=\"\n",
       "  439.823,47.811 475.823,47.811 \n",
       "  \"/>\n",
       "<g clip-path=\"url(#clip00)\">\n",
       "<text style=\"fill:#000000; fill-opacity:1; font-family:Arial,Helvetica Neue,Helvetica,sans-serif; font-size:12; text-anchor:start;\" transform=\"rotate(0, 481.823, 52.311)\" x=\"481.823\" y=\"52.311\">working_loss</text>\n",
       "</g>\n",
       "<polygon clip-path=\"url(#clip00)\" points=\"\n",
       "55.6177,375.813 283.776,375.813 283.776,211.811 55.6177,211.811 \n",
       "  \" fill=\"#ffffff\" fill-opacity=\"1\"/>\n",
       "<defs>\n",
       "  <clipPath id=\"clip04\">\n",
       "    <rect x=\"55\" y=\"211\" width=\"229\" height=\"165\"/>\n",
       "  </clipPath>\n",
       "</defs>\n",
       "<polyline clip-path=\"url(#clip04)\" style=\"stroke:#000000; stroke-width:0.5; stroke-opacity:0.1; fill:none\" points=\"\n",
       "  118.741,373.353 118.741,214.271 \n",
       "  \"/>\n",
       "<polyline clip-path=\"url(#clip04)\" style=\"stroke:#000000; stroke-width:0.5; stroke-opacity:0.1; fill:none\" points=\"\n",
       "  182.119,373.353 182.119,214.271 \n",
       "  \"/>\n",
       "<polyline clip-path=\"url(#clip04)\" style=\"stroke:#000000; stroke-width:0.5; stroke-opacity:0.1; fill:none\" points=\"\n",
       "  245.496,373.353 245.496,214.271 \n",
       "  \"/>\n",
       "<polyline clip-path=\"url(#clip04)\" style=\"stroke:#000000; stroke-width:0.5; stroke-opacity:0.1; fill:none\" points=\"\n",
       "  59.04,361.603 280.353,361.603 \n",
       "  \"/>\n",
       "<polyline clip-path=\"url(#clip04)\" style=\"stroke:#000000; stroke-width:0.5; stroke-opacity:0.1; fill:none\" points=\"\n",
       "  59.04,263.422 280.353,263.422 \n",
       "  \"/>\n",
       "<polyline clip-path=\"url(#clip00)\" style=\"stroke:#000000; stroke-width:1; stroke-opacity:1; fill:none\" points=\"\n",
       "  55.6177,375.813 283.776,375.813 \n",
       "  \"/>\n",
       "<polyline clip-path=\"url(#clip00)\" style=\"stroke:#000000; stroke-width:1; stroke-opacity:1; fill:none\" points=\"\n",
       "  118.741,375.813 118.741,373.353 \n",
       "  \"/>\n",
       "<polyline clip-path=\"url(#clip00)\" style=\"stroke:#000000; stroke-width:1; stroke-opacity:1; fill:none\" points=\"\n",
       "  182.119,375.813 182.119,373.353 \n",
       "  \"/>\n",
       "<polyline clip-path=\"url(#clip00)\" style=\"stroke:#000000; stroke-width:1; stroke-opacity:1; fill:none\" points=\"\n",
       "  245.496,375.813 245.496,373.353 \n",
       "  \"/>\n",
       "<polyline clip-path=\"url(#clip00)\" style=\"stroke:#000000; stroke-width:1; stroke-opacity:1; fill:none\" points=\"\n",
       "  55.6177,375.813 55.6177,211.811 \n",
       "  \"/>\n",
       "<polyline clip-path=\"url(#clip00)\" style=\"stroke:#000000; stroke-width:1; stroke-opacity:1; fill:none\" points=\"\n",
       "  55.6177,361.603 59.04,361.603 \n",
       "  \"/>\n",
       "<polyline clip-path=\"url(#clip00)\" style=\"stroke:#000000; stroke-width:1; stroke-opacity:1; fill:none\" points=\"\n",
       "  55.6177,263.422 59.04,263.422 \n",
       "  \"/>\n",
       "<g clip-path=\"url(#clip00)\">\n",
       "<text style=\"fill:#000000; fill-opacity:1; font-family:Arial,Helvetica Neue,Helvetica,sans-serif; font-size:12; text-anchor:middle;\" transform=\"rotate(0, 118.741, 389.613)\" x=\"118.741\" y=\"389.613\">250</text>\n",
       "</g>\n",
       "<g clip-path=\"url(#clip00)\">\n",
       "<text style=\"fill:#000000; fill-opacity:1; font-family:Arial,Helvetica Neue,Helvetica,sans-serif; font-size:12; text-anchor:middle;\" transform=\"rotate(0, 182.119, 389.613)\" x=\"182.119\" y=\"389.613\">500</text>\n",
       "</g>\n",
       "<g clip-path=\"url(#clip00)\">\n",
       "<text style=\"fill:#000000; fill-opacity:1; font-family:Arial,Helvetica Neue,Helvetica,sans-serif; font-size:12; text-anchor:middle;\" transform=\"rotate(0, 245.496, 389.613)\" x=\"245.496\" y=\"389.613\">750</text>\n",
       "</g>\n",
       "<g clip-path=\"url(#clip00)\">\n",
       "<text style=\"fill:#000000; fill-opacity:1; font-family:Arial,Helvetica Neue,Helvetica,sans-serif; font-size:12; text-anchor:end;\" transform=\"rotate(0, 49.6177, 366.103)\" x=\"49.6177\" y=\"366.103\">-30000</text>\n",
       "</g>\n",
       "<g clip-path=\"url(#clip00)\">\n",
       "<text style=\"fill:#000000; fill-opacity:1; font-family:Arial,Helvetica Neue,Helvetica,sans-serif; font-size:12; text-anchor:end;\" transform=\"rotate(0, 49.6177, 267.922)\" x=\"49.6177\" y=\"267.922\">-20000</text>\n",
       "</g>\n",
       "<polyline clip-path=\"url(#clip04)\" style=\"stroke:#009af9; stroke-width:1; stroke-opacity:1; fill:none\" points=\"\n",
       "  55.6177,375.813 80.9686,247.11 106.319,222.505 131.67,217.967 157.021,216.507 182.372,215.692 207.723,215.044 233.074,214.274 258.425,213.257 283.776,211.811 \n",
       "  \n",
       "  \"/>\n",
       "<polygon clip-path=\"url(#clip00)\" points=\"\n",
       "140.567,262.931 265.776,262.931 265.776,232.691 140.567,232.691 \n",
       "  \" fill=\"#ffffff\" fill-opacity=\"1\"/>\n",
       "<polyline clip-path=\"url(#clip00)\" style=\"stroke:#000000; stroke-width:1; stroke-opacity:1; fill:none\" points=\"\n",
       "  140.567,262.931 265.776,262.931 265.776,232.691 140.567,232.691 140.567,262.931 \n",
       "  \"/>\n",
       "<polyline clip-path=\"url(#clip00)\" style=\"stroke:#009af9; stroke-width:1; stroke-opacity:1; fill:none\" points=\"\n",
       "  146.567,247.811 182.567,247.811 \n",
       "  \"/>\n",
       "<g clip-path=\"url(#clip00)\">\n",
       "<text style=\"fill:#000000; fill-opacity:1; font-family:Arial,Helvetica Neue,Helvetica,sans-serif; font-size:12; text-anchor:start;\" transform=\"rotate(0, 188.567, 252.311)\" x=\"188.567\" y=\"252.311\">loglikelihood</text>\n",
       "</g>\n",
       "<polygon clip-path=\"url(#clip00)\" points=\"\n",
       "352.157,375.813 580.315,375.813 580.315,211.811 352.157,211.811 \n",
       "  \" fill=\"#ffffff\" fill-opacity=\"1\"/>\n",
       "<defs>\n",
       "  <clipPath id=\"clip05\">\n",
       "    <rect x=\"352\" y=\"211\" width=\"229\" height=\"165\"/>\n",
       "  </clipPath>\n",
       "</defs>\n",
       "<polyline clip-path=\"url(#clip05)\" style=\"stroke:#000000; stroke-width:0.5; stroke-opacity:0.1; fill:none\" points=\"\n",
       "  415.281,373.353 415.281,214.271 \n",
       "  \"/>\n",
       "<polyline clip-path=\"url(#clip05)\" style=\"stroke:#000000; stroke-width:0.5; stroke-opacity:0.1; fill:none\" points=\"\n",
       "  478.658,373.353 478.658,214.271 \n",
       "  \"/>\n",
       "<polyline clip-path=\"url(#clip05)\" style=\"stroke:#000000; stroke-width:0.5; stroke-opacity:0.1; fill:none\" points=\"\n",
       "  542.035,373.353 542.035,214.271 \n",
       "  \"/>\n",
       "<polyline clip-path=\"url(#clip05)\" style=\"stroke:#000000; stroke-width:0.5; stroke-opacity:0.1; fill:none\" points=\"\n",
       "  355.579,311.744 576.893,311.744 \n",
       "  \"/>\n",
       "<polyline clip-path=\"url(#clip05)\" style=\"stroke:#000000; stroke-width:0.5; stroke-opacity:0.1; fill:none\" points=\"\n",
       "  355.579,241.897 576.893,241.897 \n",
       "  \"/>\n",
       "<polyline clip-path=\"url(#clip00)\" style=\"stroke:#000000; stroke-width:1; stroke-opacity:1; fill:none\" points=\"\n",
       "  352.157,375.813 580.315,375.813 \n",
       "  \"/>\n",
       "<polyline clip-path=\"url(#clip00)\" style=\"stroke:#000000; stroke-width:1; stroke-opacity:1; fill:none\" points=\"\n",
       "  415.281,375.813 415.281,373.353 \n",
       "  \"/>\n",
       "<polyline clip-path=\"url(#clip00)\" style=\"stroke:#000000; stroke-width:1; stroke-opacity:1; fill:none\" points=\"\n",
       "  478.658,375.813 478.658,373.353 \n",
       "  \"/>\n",
       "<polyline clip-path=\"url(#clip00)\" style=\"stroke:#000000; stroke-width:1; stroke-opacity:1; fill:none\" points=\"\n",
       "  542.035,375.813 542.035,373.353 \n",
       "  \"/>\n",
       "<polyline clip-path=\"url(#clip00)\" style=\"stroke:#000000; stroke-width:1; stroke-opacity:1; fill:none\" points=\"\n",
       "  352.157,375.813 352.157,211.811 \n",
       "  \"/>\n",
       "<polyline clip-path=\"url(#clip00)\" style=\"stroke:#000000; stroke-width:1; stroke-opacity:1; fill:none\" points=\"\n",
       "  352.157,311.744 355.579,311.744 \n",
       "  \"/>\n",
       "<polyline clip-path=\"url(#clip00)\" style=\"stroke:#000000; stroke-width:1; stroke-opacity:1; fill:none\" points=\"\n",
       "  352.157,241.897 355.579,241.897 \n",
       "  \"/>\n",
       "<g clip-path=\"url(#clip00)\">\n",
       "<text style=\"fill:#000000; fill-opacity:1; font-family:Arial,Helvetica Neue,Helvetica,sans-serif; font-size:12; text-anchor:middle;\" transform=\"rotate(0, 415.281, 389.613)\" x=\"415.281\" y=\"389.613\">250</text>\n",
       "</g>\n",
       "<g clip-path=\"url(#clip00)\">\n",
       "<text style=\"fill:#000000; fill-opacity:1; font-family:Arial,Helvetica Neue,Helvetica,sans-serif; font-size:12; text-anchor:middle;\" transform=\"rotate(0, 478.658, 389.613)\" x=\"478.658\" y=\"389.613\">500</text>\n",
       "</g>\n",
       "<g clip-path=\"url(#clip00)\">\n",
       "<text style=\"fill:#000000; fill-opacity:1; font-family:Arial,Helvetica Neue,Helvetica,sans-serif; font-size:12; text-anchor:middle;\" transform=\"rotate(0, 542.035, 389.613)\" x=\"542.035\" y=\"389.613\">750</text>\n",
       "</g>\n",
       "<g clip-path=\"url(#clip00)\">\n",
       "<text style=\"fill:#000000; fill-opacity:1; font-family:Arial,Helvetica Neue,Helvetica,sans-serif; font-size:12; text-anchor:end;\" transform=\"rotate(0, 346.157, 316.244)\" x=\"346.157\" y=\"316.244\">2</text>\n",
       "</g>\n",
       "<g clip-path=\"url(#clip00)\">\n",
       "<text style=\"fill:#000000; fill-opacity:1; font-family:Arial,Helvetica Neue,Helvetica,sans-serif; font-size:12; text-anchor:end;\" transform=\"rotate(0, 346.157, 246.397)\" x=\"346.157\" y=\"246.397\">3</text>\n",
       "</g>\n",
       "<polyline clip-path=\"url(#clip05)\" style=\"stroke:#009af9; stroke-width:1; stroke-opacity:1; fill:none\" points=\"\n",
       "  352.157,375.813 377.508,275.189 402.859,221.293 428.21,211.811 453.56,214.333 478.911,222.434 504.262,227.634 529.613,231.504 554.964,236.622 580.315,244.114 \n",
       "  \n",
       "  \"/>\n",
       "<polygon clip-path=\"url(#clip00)\" points=\"\n",
       "471.37,262.931 562.315,262.931 562.315,232.691 471.37,232.691 \n",
       "  \" fill=\"#ffffff\" fill-opacity=\"1\"/>\n",
       "<polyline clip-path=\"url(#clip00)\" style=\"stroke:#000000; stroke-width:1; stroke-opacity:1; fill:none\" points=\"\n",
       "  471.37,262.931 562.315,262.931 562.315,232.691 471.37,232.691 471.37,262.931 \n",
       "  \"/>\n",
       "<polyline clip-path=\"url(#clip00)\" style=\"stroke:#009af9; stroke-width:1; stroke-opacity:1; fill:none\" points=\"\n",
       "  477.37,247.811 513.37,247.811 \n",
       "  \"/>\n",
       "<g clip-path=\"url(#clip00)\">\n",
       "<text style=\"fill:#000000; fill-opacity:1; font-family:Arial,Helvetica Neue,Helvetica,sans-serif; font-size:12; text-anchor:start;\" transform=\"rotate(0, 519.37, 252.311)\" x=\"519.37\" y=\"252.311\">ysmin</text>\n",
       "</g>\n",
       "</svg>\n"
      ]
     },
     "metadata": {},
     "output_type": "display_data"
    },
    {
     "data": {
      "text/html": [
       "<script src=\"/home/uniwa/students2/students/20361362/linux/.julia/v0.6/Plots/src/backends/../../deps/plotly-latest.min.js\"></script>    <div id=\"b9cda38c-c802-4f14-af3e-155306a7617f\" style=\"width:600px;height:400px;\"></div>\n",
       "    <script>\n",
       "    PLOT = document.getElementById('b9cda38c-c802-4f14-af3e-155306a7617f');\n",
       "    Plotly.plot(PLOT, [{\"showlegend\":true,\"mode\":\"lines\",\"xaxis\":\"x\",\"colorbar\":{\"title\":\"\"},\"line\":{\"color\":\"rgba(0, 154, 250, 1.000)\",\"shape\":\"linear\",\"dash\":\"solid\",\"width\":1},\"y\":[0.009291391226448523,0.00933007663298841,0.009368895825225492,0.009407870963980781,0.009447013540050354,0.00948629236413057,0.009525733700898178,0.009565326059557101,0.00960507436473423,0.009644981078743009,0.009685037173100807,0.00972525003474796,0.009765629512938245,0.009806156729935253,0.009846841534992762,0.009887684748881924,0.009928701145483408,0.009969859535493572,0.010011180438191132,0.01005266057049149,0.010094295828538904,0.010136114939323572,0.010178083430457258,0.01022021279273604,0.01026249645999073,0.010304954130728891,0.010347578418010189,0.010390356189496245,0.010433308785236923,0.010476420610580399,0.010519703156322753,0.010563151497837093,0.010606757427411937,0.010650539822783696,0.010694492117783184,0.01073861020855466,0.010782903123580757,0.010827339673557831,0.010871965821670196,0.010916777464062112,0.010961725354464671,0.011006864484544817,0.011052179259650734,0.011097668038240121,0.01114331440489001,0.011189146265819449,0.011235144743292022,0.011281327894272998,0.011327680124110555,0.011374203074346988,0.011420902490380339,0.011467789863006684,0.01151485205988765,0.01156207512791371,0.011609491077159658,0.011657089237600561,0.01170485319381345,0.011752807568932782,0.011800932664450989,0.01184925146196023,0.01189774097986835,0.011946420916682911,0.0119952707531252,0.01204430526307589,0.012093531833475318,0.012142934048900513,0.012192532428630188,0.012242294141818405,0.012292264330878329,0.012342400315710237,0.012392738210244666,0.012443254212118308,0.012493962274440688,0.012544836132535054,0.012595920928814572,0.012647190398602492,0.012698659315779483,0.01275031126492258,0.012802143783718337,0.012854165079878235,0.012906388285740653,0.012958794523569175,0.013011382972592654,0.013064185642885877,0.013117175449000948,0.01317037044790313,0.01322374601645797,0.01327731857008844,0.013331071693371568,0.013385039037924443,0.013439193518299163,0.01349354498374951,0.013548104925071566,0.013602856926842358,0.013657787856723511,0.01371293875327245,0.013768278427185532,0.013823815086174241,0.01387955857949236,0.013935505624055296,0.013991644729066968,0.014047993951492643,0.014104530309740165,0.014161280068486283,0.01421823173693492,0.014275380390459187,0.014332729312143673,0.014390283426615273,0.014448050941585468,0.014506020366258183,0.014564203191429497,0.014622573152422654,0.014681168004710489,0.014739949992820169,0.014798951947597635,0.014858152528993024,0.014917563227802418,0.014977182402483517,0.015037013336120916,0.015097057670256913,0.01515729734792624,0.015217770124601727,0.01527842511247217,0.015339306633179586,0.015400396629758707,0.015461693460667237,0.015523218465955037,0.015584933890149278,0.015646879130265082,0.01570902135545652,0.015771378622688847,0.01583397227201193,0.01589675634024145,0.015959775149019428,0.016022989301330736,0.016086431628021317,0.016150080789041305,0.016213943350559888,0.01627801438795018,0.01634233001514271,0.01640684591049546,0.016471583414058293,0.016536545808915802,0.01660170847193353,0.016667102592415124,0.016732713396479908,0.016798537601043287,0.016864601470782014,0.016930850834800292,0.01699735792095918,0.017064045576770732,0.01713099259626519,0.017198131676208386,0.01726549564744626,0.017333084509978808,0.01740091960385589,0.01746894511663941,0.017537202086886798,0.017605679023801966,0.017674395625892483,0.017743310854600926,0.01781246410694242,0.017881827476697913,0.017951420662374977,0.018021253513227385,0.018091303047662984,0.018161579114935558,0.018232078431960508,0.018302802640280134,0.018373733682929168,0.018444919164634224,0.018516311480668686,0.018587945103420794,0.018659769145079344,0.01873184270116702,0.018804144431633966,0.018876671053395588,0.018949432415705666,0.01902240717851434,0.019095642946548225,0.01916907241657314,0.01924273334406192,0.01931662244592997,0.0193907315144658,0.019465083531261574,0.01953964074084446,0.01961445074794107,0.01968950370329762,0.01976473230367994,0.019840205493864494,0.019915942972358852,0.019991872511301946,0.02006802529999742,0.02014445879242566,0.020221072854506562,0.02029792329867822,0.020375011766482924,0.020452298860905556,0.020529835469757313,0.020607631442291982,0.020685603059852422,0.02076385538114563,0.020842293196718386,0.020920962469755007,0.02099987961567846,0.021079001954389023,0.021158354109021154,0.02123794100420174,0.021317777413811457,0.02139781573312369,0.021478080585272896,0.02155860151802042,0.021639327643555056,0.021720263886503693,0.021801451285423757,0.02188285700946931,0.02196449583252102,0.02204635298069822,0.022128439944796987,0.022210750158648127,0.022293286905336246,0.02237606167565741,0.022459023581800422,0.02254225305933783,0.02262569757891613,0.02270935549899303,0.02279323502728001,0.022877357503826933,0.022961683531618666,0.02304623937533197,0.023131048016558995,0.023216007679677336,0.023301236555732366,0.023386677190743697,0.023472350924761187,0.023558226568481198,0.02364433859429196,0.02373066894522821,0.023817214338205356,0.0239039714901388,0.023990960099536107,0.02407815226017823,0.024165577519826516,0.024253193198381238,0.024341068240618872,0.024429110720170788,0.02451741584649021,0.024605924524054447,0.024694600638932966,0.02478352462669832,0.024872666939589158,0.024962004596013332,0.02505159669149352,0.025141349658118806,0.02523131602524269,0.02532150235903436,0.025411915225663,0.025502521794282675,0.025593348329570133,0.025684365283764034,0.025775559524526,0.025867013128970873,0.025958634170730032,0.026050478462241566,0.026142513172659546,0.026234748151237743,0.026327176831806978,0.026419820554417103,0.026512679319068123,0.02660567925635668,0.026698940198870442,0.026792373503325376,0.026885974245094597,0.026979801519700787,0.02707380279779045,0.027167994494786553,0.027262407799992738,0.027356967202463348,0.027451712099213505,0.027546649056412402,0.02764181911261746,0.027737117209121673,0.027832612290701515,0.027928307640441578,0.028024186842918894,0.028120249898133463,0.028216431144393407,0.028312835640405733,0.02840940757373234,0.028506176492134577,0.028603096432428126,0.028700170677697586,0.0287974287757043,0.028894916689632576,0.028992457132914356,0.029090233958286887,0.029188145390127766,0.02928623410853671,0.029384473848836967,0.029482887592620695,0.029581465490634114,0.02968015829660832,0.029779044804573555,0.02987805935283795,0.029977238055332034,0.03007655464737906,0.030176005845894426,0.03027564089714705,0.03037538757327586,0.030475255723534645,0.030575327425038244,0.03067551075141803,0.030775795853420225,0.030876231977313734,0.03097684538777531,0.031077501478336603,0.03117835783705812,0.03127931268831745,0.03138032335201488,0.031481590096310616,0.031582896237621484,0.03168435011773907,0.03178587294263313,0.03188756320484147,0.031989309279487906,0.032091160412841345,0.032193175700424466,0.03229526321586866,0.032397416393004724,0.03249966806267861,0.0326020740373284,0.03270458507068519,0.032807128934887915,0.03290973517769793,0.03301249572548385,0.03311529567028489,0.03321821052304672,0.033321161489739085,0.03342423064747682,0.03352731293755293,0.033630533117181984,0.033733772995318594,0.0338370719689779,0.03394047600134421,0.034043860335202944,0.034147349727768686,0.03425090478202631,0.03435447953479149,0.03445809696765639,0.034561809609974514,0.03466549927070048,0.03476931040555641,0.03487301976478994,0.034976853881238036,0.03508065844992478,0.035184531963388,0.035288415326105,0.035392338085837124,0.03549621816546953,0.0356001146605249,0.03570401115558028,0.03580797659541212,0.035911856675044526,0.03601574988701531,0.036119708760677965,0.036223585557225775,0.0363274557876044,0.03643131945181383,0.036535202814530834,0.03663901066630217,0.036742739724043266,0.036846495046461106,0.03695015515942573,0.03705383497089791,0.03715742613908606,0.037260954928666934,0.03736450998292455,0.03746792058146004,0.0375713508785031,0.037674656418331585,0.037777915994975764,0.03788105738057457,0.03798409370746637,0.0380871103358506,0.03819007443488134,0.03829288422893616,0.038395569265776426,0.038498211622516966,0.038600670126520256,0.038703118781269766,0.038805386866366615,0.03890752034499512,0.03900959144501634,0.039111445861454375,0.03921318208684703,0.03931487234905537,0.03941633936151133,0.03951762908739923,0.03961879405607256,0.03971980800285458,0.03982064466306853,0.03992132701830658,0.04002185835165331,0.04012221239843197,0.040222280816850975,0.040322237610393795,0.040422026966622324,0.04052156680842173,0.04062087683429956,0.04071999315818636,0.04081885996764404,0.040917598736802556,0.04101609784078572,0.04111424237163276,0.04121221618208092,0.041309976592030485,0.04140748420446633,0.04150475871789601,0.04160162941192065,0.041698335951715605,0.04179479626016602,0.041890957807918405,0.04198683044422653,0.042082335375060155,0.04217759079146465,0.04227258027801705,0.04236725787153303,0.04246156775957451,0.042555585453087144,0.042649287970478775,0.042742629348565084,0.04283563913510742,0.042928268083836874,0.043020644235052606,0.043112567320594396,0.04320411941757708,0.043295323507592826,0.0433861992891492,0.04347660230652405,0.04356663761842441,0.043656305224850256,0.043745526331771346,0.04383444211182522,0.043922858863020824,0.0440108192654579,0.04409838898082831,0.044185482648932614,0.044272192196139454,0.044358419129910995,0.044444196281093196,0.04452945470490957,0.044614283044644154,0.04469861892168967,0.044782541130076375,0.04486589208174375,0.04494870460753775,0.045031096898503736,0.04511292449891959,0.04519426620281556,0.04527500381914627,0.045355324483733576,0.04543496554980996,0.04551419623031212,0.04559275387847255,0.04567083547936688,0.04574820136781976,0.04582510434134492,0.04590143277506616,0.045977101308784046,0.04605218873652883,0.046126760719992395,0.04620064325569125,0.046273931553078636,0.04634651070419376,0.04641848905082822,0.046489830479051475,0.04656045947791788,0.04663056974941847,0.046699849400516816,0.04676863002275691,0.046836616138525314,0.046903916089613605,0.04697048062975289,0.047036381986804224,0.047101587329921674,0.0471660080158212,0.047229850878832226,0.04729278761049536,0.047355064442155134,0.047416563182766186,0.04747735606018957,0.04753741680974854,0.04759653531402908,0.047655020182983024,0.047712694130042296,0.04776951775819177,0.047825546879869556,0.04788084387368292,0.04793528726550189,0.047988840941395945,0.048041619809325864,0.04809350896133086,0.048144570776018226,0.048194851216572264,0.04824417299642491,0.04829268385438289,0.04834032797800811,0.048387069253370024,0.04843296677599134,0.04847791220408045,0.04852189568838358,0.048565094515468796,0.048607357663444775,0.04864861618753505,0.048688948881769875,0.048728296650626564,0.04876680066674264,0.04880437556991867,0.048840824375079035,0.0488764753906831,0.0489111053669785,0.04894466834078091,0.04897733174940462,0.04900890845702778,0.04903964469499493,0.04906922528718506,0.049097824237081644,0.04912546452627684,0.049152018114471493,0.04917761304196475,0.04920207530527315,0.049225480415342346,0.04924794328013312,0.04926930302850038,0.049289602340543845,0.04930878540382541,0.04932698025864425,0.04934403916619363,0.049359968692642746,0.049374808235006715,0.04938853809477799,0.049401230499817615,0.04941286246853344,0.049423292828287946,0.049432574108434615,0.04944091642638746,0.04944794879358738,0.04945388461053297,0.04945869761254748,0.04946242391356144,0.04946494203944488,0.0494663078026359,0.0494664719568656,0.04946544106830314,0.04946346465137767,0.049460122471261185,0.0494557231379055,0.049450020419966066,0.04944326383187203,0.04943531876715503,0.04942610971486942,0.0494157450168068,0.04940411961426016,0.04939136811369784,0.0493773591917361,0.049362247153350844,0.04934593022291966,0.04932840183427337,0.049309520814774424,0.049289543245021154,0.049268482257351934,0.049246075204999254,0.0492224862421928,0.04919756106395668,0.049171490089197314,0.04914427003483013,0.04911571376503326,0.049086031397220724,0.04905510802343172,0.049023051985457866,0.0489897812061843,0.048954993641828405,0.04891913579189493,0.04888212886235362,0.04884383496365155,0.04880437556991867,0.048763675170209346,0.04872170421676221,0.04867857761753806,0.04863418374766071,0.04858873929071334,0.04854200129843601,0.048493900826052254,0.04844467753873742,0.04839436098425286,0.048342658968069704,0.04828996874342382,0.04823593573717907,0.04818065844187327,0.048124274747059353,0.04806655811990036,0.04800788283203998,0.047947933707357206,0.04788669761351366,0.04782458165299898,0.04776101456909383,0.04769646584289514,0.04763070237539675,0.047563724166598646,0.04749566910605378,0.047426524061423773,0.04735619054017081,0.047284583182095455,0.04721206640958761,0.04713848263458679,0.04706356921032547,0.04698763802984008,0.04691063328069252,0.046832538547459814,0.04675354096596381,0.04667323671679948,0.04659197380693376,0.0465096701592518,0.04642630279216146,0.046342012878300254,0.04625661984801553,0.046170044907277046,0.04608271485708198,0.04599422259494071,0.045904909561651,0.04581449341193776,0.04572317769704583,0.045630923019960065,0.045537886968740976,0.04544365915781434,0.045348617141908444,0.045252685410077625,0.04515585411306811,0.04505814951555664,0.04495963071306591,0.0448602517424116,0.04475997977274778,0.04465900850606548,0.04455709827718936,0.04445450188363313,0.0443510584542517,0.0442467515736221,0.044142086836771774,0.04403638136210522,0.04392993719340506,0.04382287580480126,0.043715184063955456,0.04360665841962282,0.043497660011108684,0.04338793932398391,0.04327765722939359,0.04316677104723802,0.04305532345761691,0.042943192986400286,0.04283064228035566,0.04271755643152224,0.04260382381502384,0.042489779305489035,0.04237523905018056,0.04226007500879927,0.04214476322861125,0.04202876200065854,0.04191263929857585,0.04179584028106685,0.04167893292176625,0.04156174650027517,0.04144412671161772,0.04132622786076979,0.041207935039770605,0.041089395987426884,0.04097086021816776,0.04085209463298707,0.040733004022431595,0.04061396594122962,0.040494507625199634,0.0403750197614083,0.04025562054090101,0.04013587659651137,0.04001647409291948,0.03989665792066877,0.03977712737677772,0.0396574261124878,0.039538181196956415,0.03941865393614996,0.03929916278927404,0.039180062329464777,0.0390608666602023,0.038941910656115165,0.03882338145302523,0.03870484240068151,0.03858642810555236,0.03846868684276493,0.038350981693908034,0.03823360813659511,0.038116733608140455,0.03800005934784601,0.0378839530611863,0.037768237461593246,0.03765298149384332,0.03753805711763738,0.037423904266310974,0.037309987797075325,0.03719692164674947,0.03708423961732109,0.03697231926351847,0.036861150736087825,0.036750238289255506,0.03664043224193129,0.036531315642371776,0.036422642259232425,0.03631502931241687,0.03620820102281923,0.03610218037203167,0.035997033021746054,0.03589247006051814,0.03578951909382578,0.03568694568186171,0.035585344062937396,0.035485180435065176,0.03538560119625064,0.035287368022119577,0.03519010992411287,0.03509380392063835,0.034998949040554304,0.03490514803062486,0.03481242387244218,0.034721213216257256,0.034630888992912646,0.03454216691484981,0.03445466286117128,0.03436839324730001,0.03428351237821192,0.03419997100763811,0.034118235333590874,0.034037523981936914,0.03395840820939554,0.033881052170196435,0.03380499623249648,0.03373045379679426,0.03365761199891164,0.033586408460241315,0.03351660351560796,0.03344877170481547,0.03338252890696638,0.0333181344857436,0.033255532628709034,0.033194546049294615,0.03313545709277541,0.03307837738402762,0.03302288012205404,0.032969529997404795,0.032917985569282146,0.03286816804365583,0.03282056988321493,0.032775086029252436,0.03273125356684062,0.03268981119001309,0.03265041745797209,0.032613282488131626,0.03257795649790235,0.03254497463007304,0.03251441896175855,0.03248593163673815,0.03245957503361913,0.032435385266332016,0.032413779286620224,0.032394415653686,0.03237734033071364,0.032362944004769835,0.032350750628588464,0.03234080616535384,0.032333816478253646,0.03232902645783129,0.03232655757821676,0.03232685633891479,0.03232980454888002,0.03233540220811245,0.03234335383899863,0.032354260246019236,0.032367734025192184,0.032383699665571836,0.0324029352582069,0.03242434096975848,0.03244894440570441,0.03247594449340381,0.03250601426519842,0.0325392226658647,0.032574804736692296,0.032613748686143945,0.0326553880480471,0.03270010037713006,0.032747954618169275,0.03279842876071435,0.03285231074506778,0.03290887500953435,0.03296874534018688,0.03303201694647858,0.03309825646124308,0.033167585358610335,0.03324000363858036,0.03331576738175147,0.03339493240056175,0.033477117857198334,0.03356300991634131,0.03365182392077277,0.03374398338840531,0.033839984065012596,0.033939051142630496,0.03404162455459457,0.03414775026408913,0.034256893128325396,0.03437025475626469,0.034486728748398914,0.03460690277687035,0.034730678349141175,0.034858065314465184,0.034988899518612684,0.035123226924767985,0.03526155641104312,0.03540391095903026,0.03554945338215799,0.035698905959036915,0.03585228510509004,0.03600946606310278,0.036170241998745724,0.036335558440381895,0.03650411856959674,0.03667684165007652,0.036853366542515927,0.037033936195174894,0.03721880668865173,0.037407186799559344,0.03759973971098568,0.03779650810303045,0.03799757405280851,0.038202527174745614,0.038411590718594166,0.03862486645997656,0.0388423018695393,0.03906366056519162,0.039289950453903835,0.03951996007746083,0.03975459556721048,0.039993426839071006,0.040236539253241846,0.04048371284305522,0.0407359653647352,0.040992095209320456,0.04125288703402891,0.04151793045328633,0.04178745856609888,0.042061789831672164,0.04234047118433223,0.04262353545492501,0.04291101875738105,0.04320343653598157,0.043500332441968034,0.043801391299219436,0.044107919775404104,0.04441859807051534,0.044733852985550326,0.0450538815055847,0.04537831592514396,0.04570798686463032,0.0460419356633424,0.04638090758148299,0.04672474831407619,0.04707294898300996,0.04742577880122098,0.04778401914284259,0.04814669164866582,0.04851407538088116,0.0488862195857575,0.049263350796131825,0.049644989681653436,0.05003146455078172,0.050422713024909374,0.05081879748264371,0.0512199280413987,0.05162567790017718,0.052036296573408254,0.052451209521288025,0.052871569106508906,0.0532965808225992,0.05372564714816284,0.05416012071405246,0.05459892466852131,0.055042613852865734,0.05549070893673503,0.05594412918381547,0.05640133154434797,0.05686368834769273,0.057330549543100184,0.05780172471166389,0.05827764722055023,0.05875786400408527,0.059242197775700924,0.0597312329244549,0.060224470421488936,0.060722310803123486,0.061224202511146776,0.06173009301620532,0.062240238398897425,0.06275452046817773,0.06327271597429382,0.06379471329236955,0.06432043362837464,0.06485037601116735,0.06538343075815499,0.06592044490516275,0.06646047292382762,0.06700442094549748,0.06755171771345302,0.0681020611839116,0.0686555761140878,0.06921213774676704,0.06977155566304288,0.07033324547385765,0.07089819867075864,0.07146565357812011,0.07203505863773028,0.07260738564262896,0.07318124913111752,0.0737572269260845,0.07433541095389849,0.07491496074490352,0.07549565961551638,0.07607839399857738,0.07666185066024903,0.07724644983535932,0.07783142984828248,0.0784177624920583,0.07900412796668005,0.0795903358532413,0.080177364510951,0.08076378908109544,0.08135012829104045,0.08193541691391543,0.08252021307410135,0.08310357124323518,0.08368644351584913,0.08426696509989391,0.08484660025109837,0.0854238190520418,0.08599856240720151,0.08657110609568336,0.08714119403688905,0.08770798576116258,0.0882712842834283,0.08883129315493103,0.08938784165527189,0.08994010244713325,0.09048768156036387,0.0910310057959609,0.0915691099270538,0.09210242732080895,0.09263005184587844,0.09315220675201467,0.0936680581357308,0.09417736961493609,0.09468042353490558,0.0951763137642914,0.09566478422249525,0.09614608442394623,0.09661938046515754,0.09708490872821991,0.09754192066984597,0.09799002888605364,0.09842959451614824,0.09885899571634045,0.09927994625678822,0.09969025303698288,0.10009085501911828,0.10048089203503084,0.10086008173944547,0.10122875244082158,0.1015860833680107,0.1019317790433994,0.1022656096510661,0.10258786410245507,0.10289718976671365,0.10319510999509339,0.10347966806917636,0.10375106754020737,0.1040099124957517,0.10425523114276958,0.10448690529021562,0.10470534860674865,0.10490913623365497,0.10509943038288076,0.10527529209223221,0.10543663600150989,0.10558340958136028,0.1057159805372579,0.10583365285526886,0.10593570425678252,0.1060232903875759,0.1060957217998843,0.10615351722107355,0.10619541594665961,0.10622254079157359,0.1062342285727275,0.10622995399658638,0.10621085957658885,0.10617699127591922,0.10612703586073996,0.10606171560966172,0.10598166744109572,0.10588567004757302,0.1057750760599463,0.10564934048617297,0.10550860121580598,0.10535289764586045,0.10518231513653582,0.10499762849579623,0.10479772804104898,0.10458399923399264,0.10435545714924908,0.10411340188831744,0.10385749201039997,0.10358718252345409,0.10330410183743834,0.10300760646777232,0.10269868133983417,0.10237629556506145,0.10204142750266311,0.10169409685114669,0.10133540016076656,0.10096428027828348,0.10058216862858035,0.10018833636687738,0.0997841755210423,0.0993692789885855,0.09894415893070362,0.09850832288470755,0.09806341239289425,0.09760903348511242,0.09714563266086683,0.09667347256692498,0.09619349873164988,0.09570486411921636,0.09520848799331064,0.09470468553005376,0.09419439569163952,0.09367681740542705,0.09315279114107236,0.09262332152246115,0.09208752868292229,0.09154723801748992,0.09100099840277358,0.09045077968952955,0.0898962404369601,0.089337058902775,0.08877475187205662,0.08820907639654499,0.08764045927723732,0.08706845401462884,0.08649468901867809,0.08591887537794081,0.08534125604067694,0.08476211335216155,0.08418186754722264,0.08360072874327422,0.08301903181494484,0.08243701314432528,0.08185491567967547,0.08127314652348504,0.08069183699913773,0.08011200486285765,0.07953242224100668,0.07895427104403861,0.07837755783812263,0.07780257810087218,0.07723018543428163,0.07665940804531124,0.07609100760958676,0.07552577863357988,0.07496280841977356,0.0744029177393162,0.07384665815041959,0.07329330080830389,0.07274360738859488,0.07219799155995137,0.07165582953630052,0.07111807341217456,0.07058404687214717,0.0700547611062732,0.06952948726977287,0.06900925625120861,0.06849315535306336,0.06798238618429843,0.06747600978272,0.06697514896325917,0.06647882536670696,0.0659881946388404,0.06550290220652334,0.0650223768130365,0.0645477544056493,0.06407814855152143,0.06361454417603102,0.06315652104435007,0.06270372458334246,0.06225703465967931,0.06181607700171693,0.06138047733781163,0.06095105643911186,0.060527485997158244,0.060109299813938456,0.059697443417815514,0.05929149657396141,0.05889096025351789,0.058496819381863095,0.05810853553312363,0.05772621376600651,0.0573493353531459,0.056978773595043775,0.05661418048473317,0.056255319640123334,0.05590194811295433,0.055554919505220554,0.05521363629552593,0.054878177277900696,0.05454808938667092,0.05422414742980074,0.053906003400323206,0.05359350627634701,0.05328660352851865,0.052985058774747365,0.052689403874737355,0.052399310520029246,0.05211481154146897,0.051835739501742244,0.05156201888990341,0.05129337064376199,0.05103044809715217,0.05077283101524592,0.050520453736351376,0.05027332939280691,0.05003132009505959,0.049794438975447775,0.04956223953446672,0.04933539152137356,0.049113556778455136,0.04889664337934281,0.04868455939766796,0.048477301550346005,0.04827479760951587,0.04807663062343414,0.04788343422742743,0.04769485713144418,0.04751082382453876,0.04733127192810387,0.047156145629701426,0.04698540224923171,0.046819035220525516,0.046656906654029925,0.0464986619766088,0.046344885577319826,0.046195288544718764,0.04604977895243698,0.04590820906166776,0.04577065766644135,0.04563697374486644,0.045507140881520046,0.0453810966977949,0.04525880179667587,0.04514022334731703,0.045025308820364866,0.044913683944175685,0.044805900276961255,0.04470164592568516,0.04460079285004823,0.04450340999482696,0.04440931022419948,0.04431852965209634,0.04423101574916402,0.04414670613679525,0.044065564701059504,0.043987535629518675,0.043912582808242236,0.04384067012329965,0.043771708931406896,0.04370546285047321,0.043642338982988235,0.04358207796526905,0.043524581304777835,0.04346991466320648,0.043417940151002046,0.04336862822040318,0.04332196573907151,0.043277936291584065,0.04323643810231844,0.043197438340428704,0.04316096327059159,0.043126930815692265,0.04309526546478507,0.04306600004871594,0.04303905905653923,0.04301440637432439,0.0429920026050563,0.042971785370127684,0.04295380719889204,0.04293795318338858,0.042924016489287904,0.04291238452057207,0.042902804479727365,0.04289522712048488,0.04288963931050623,0.04288601806819927,0.042884314147295086,0.04288448815077856,0.04288651709705753,0.042890378004539834,0.0428960610239717,0.0429034742289845,0.04291265045042417,0.04292354700819099,0.04293612450526983,0.04295035667698396,0.042966187710895255,0.04298366028710346,0.043002659497647776,0.04302325757038927,0.04304532646502879,0.04306895154176577,0.043093988344878084,0.0431205091022268,0.0431484612844584,0.043177762814458065,0.043208469504663866,0.04324054852422988,0.04327391122987207,0.043308600301690155,0.043344550077992254,0.04338160297071787,0.043420064306734237,0.04345974695021949,0.04350062135341229,0.04354268095014345,0.04358585679563651,0.043630155456060644,0.04367560319609261,0.04372212778787134,0.0437697489299044,0.04381837141273857,0.04386808059657328,0.043918787838124515,0.043970463589630915,0.04402313739885383,0.04407678300111651,0.04413135443323465,0.044186838562869854,0.04424325508852971,0.04430057117936825,0.044358701475186064,0.04441775760085933,0.044477575402158354,0.0445382796362977,0.04459979150924712,0.04466204207623015,0.04472511341436163,0.044788920163442124,0.044853475455810005,0.044918762876042295,0.04498474959329307,0.04505148485383123,0.04511887673128815,0.04518696790576355,0.04525567301705798,0.04532505772686334,0.04539504324114936,0.04546567552310036,0.04553690204336284,0.04560874250044435,0.04568111810031466,0.045754071523073474,0.04582758635329783,0.045901652741733946,0.04597623785753588,0.04605132856836526,0.04612691830805289,0.04620301364276798,0.046279591590918344,0.04635662917091185,0.04643412309966389,0.04651207666025906,0.046590447172597645,0.046669264184440985,0.0467484653171818,0.04682808011858144,0.046908075757793946,0.04698834717611235,0.04706912418945818,0.04715022294509422,0.047231715670881504,0.04731352357278979,0.04739563680156531,0.04747812430198452,0.04756088429842501,0.04764393320630976,0.04772729729031552,0.0478109634181039,0.047894872494152224,0.04797903765079886,0.04806351470048191,0.04814820515066356,0.0482331090013438,0.04831828206496074,0.0484036553967379,0.048489222430506095,0.04857503897870341,0.0486610328134688,0.048747200651717656,0.04883354249344999,0.048920068187919566,0.04900676131970343,0.04909356607636349,0.04918056781809917,0.04926770088321861,0.04935495213938342,0.049442328152762796,0.04952984205569511,0.049617434752657674,0.04970514892375021,0.049792951738126784,0.04988083006344901,0.04996882986290121,0.05005690517329906,0.050144987049866106,0.050233157569717184,0.05032138061892176,0.050409656197479835,0.050497984305391416,0.05058631897947218,0.05067470618290645,0.050763080254002335,0.05085148715594417,0.05093988749171681,0.051028346923012134,0.051116727560277214,0.05120513446221905,0.05129351509948412,0.05138185633973408,0.05147018116456106,0.051558473158542104,0.051646699490831276,0.05173490284152829,0.05182307992754855,0.0519111618041156,0.051999151754314014,0.052087099024412706,0.052175003614411686,0.05226280314570366,0.0523505173167962,0.052438142844604706,0.052525653464452426,0.052613085290269895,0.052700382509619025,0.05278757138717655,0.05287467490453464,0.05296160770149386,0.053048435439746064,0.05313514827003749,0.05322168053067626,0.05330808803410047,0.05339434123254876,0.05348047623995168,0.053566447093124914,0.05365222096122252,0.05373783067509043,0.053823249970051903,0.053908524809291244,0.053993615795793336,0.054078516363388986,0.05416322979516279,0.054247716694099626,0.054332062420398924,0.05441613565067694,0.054500070991402014,0.05458371085451364,0.05466719312956477,0.05475043902252515,0.054833478081156115,0.054916251209934985,0.054998771541200135,0.05508107847196669,0.05516314902064248,0.05524497662105834,0.055326541574706685,0.05540783074924916,0.05548889667403925,0.05556967368738509,0.055650181487794236,0.05573041350909751,0.055810376317464085,0.055890076479063154,0.055969487729217976,0.0560485772370826,0.056127436929025665,0.056205961746340155,0.056284171387533645,0.05636210524962125,0.05643970423708029,0.05651702087926427,0.05659402234532724,0.056670702069100014,0.056747046918244226,0.056823063458929055,0.056898784522000444,0.05697413787959733,0.05704919575958077,0.05712385310324376,0.05719821496929332,0.05727223539454512,0.057345861849645664,0.05741920595947114,0.05749214296680699,0.05756473853334508,0.057636953262070294,0.05770881341765937,0.05778031900011232,0.057851410913906456,0.05792218765157958,0.05799253758825551,0.05806249355478019,0.058132114646676294,0.05820130237140603,0.05827012895683043,0.05833856157210359,0.05840653455553361,0.058474120134981565,0.05854136427363176,0.058608135648100454,0.058674545883263825,0.05874055558210676,0.05880612534761412,0.05887128801063184,0.058936023872652385,0.059000359198352476,0.059064188929025124,0.0591276837850692,0.05919068617842421,0.05925326177078202,0.05931544339298859,0.059377152251013636,0.059438421175703124,0.05949921077004191,0.05955960639422944,0.05961948985722034,0.059678992482398364,0.05973797638021056,0.05979656630787151,0.05985465720667419,0.05991224907661862,0.05996942071173504,0.06002611958266996,0.060082339123254176,0.06013809903199527,0.06019333364720134,0.060248121762902666,0.06030242398208411,0.06035626000325323,0.0604095969955641,0.06046246778986264,0.06051482642296455,0.060566699159546586,0.0606180466025936,0.06066892128145912,0.06071931006380475,0.060769180118784565,0.06081857084341368,0.06086740344366185,0.060915796110574454,0.06096365691778286,0.06101095303444114,0.0610577763869179,0.06110408101202885,0.06114989317445072,0.06119515377866084,0.06123990222167433,0.06128416476816793,0.06132784292560384,0.0613710154880123,0.06141364305837819,0.06145577159988582,0.06149734201701251,0.061538380574435,0.0615788872721533,0.061618875242505776,0.061658298522308114,0.06169717681006789,0.061735556068969404,0.061773304975628905,0.06181060081661447,0.061847312268542336,0.0618834393314125,0.06191905423308604,0.061954104444209436,0.06198864906030539,0.06202254362565178,0.06205595229447828,0.06208878314041628,0.06212105586197332,0.06215277045914942,0.062183907233437016,0.0622144661848361,0.06224449984270018,0.06227395567767575,0.0623028862191163,0.06233114701129973,0.062358889076117335,0.06238608614889237,0.0624127053987789,0.062438687730254225,0.06246413820202536,0.062489017417077165,0.06251333850774803,0.06253706207702282,0.0625602143895783,0.06258278887924526,0.06260475271517778,0.06262617155906773,0.06264698631539242,0.06266724294733615,0.06268684952853033,0.06270595708086624,0.06272441458245258,0.06274232052582716,0.0627596158154673,0.06277632671604974,0.06279245979374366,0.06280798221770315,0.06282296621578926,0.06283731329546416,0.06285110881692729,0.06286426741997925,0.06287682850163512,0.06288882489274086,0.06290021063011215,0.06291101854459495,0.06292123550385086,0.06293079584618799,0.06293987685817444,0.06294826185622701,0.06295607559756025,0.06296330494983579,0.06296993021454608,0.06297597109019867,0.062981407878286,0.06298627340965401,0.06299048232410327,0.06299412654800239,0.06299717325050543,0.06299960929927403,0.06300146095898493,0.0630026953987922,0.0630033257510342,0.06300339141272608,0.0630028004574992,0.06300166451022975,0.06299993104156422,0.06299757378682587,0.06299463214302983,0.06299107327933015,0.06298698912209547,0.06298221551709608,0.06297686408920819,0.06297091513992423,0.06296440150009013,0.06295725750801402,0.06294954225921859,0.06294120979051952,0.06293227980042439,0.06292276542127156,0.0629126863515686,0.06290194409877768,0.06289066342011339,0.06287875895537627,0.06286625696924308,0.06285319029255977,0.062839512962142,0.06282524467649735,0.06281038543562581,0.06279492210718901,0.06277887438969453,0.06276224228314234,0.06274501265519408,0.06272724460137244,0.06270881993063203,0.06268988966486419,0.06267024368665489,0.06265011181192572,0.06262939554813884,0.06260806206444833,0.06258612449319256,0.0625636616284018,0.06254059467604575,0.06251694333463202,0.062492701037991406,0.06246792031547741,0.06244246984370628,0.062416566306261204,0.062389999585728176,0.062362907571660145,0.06233523116853442,0.062306983508689365,0.06227814489361744,0.06224876128650293,0.06221879985649992,0.06218824090510083,0.062157169792505115,0.06212550772468251,0.062093267833971406,0.062060489517386914,0.0620271399440831,0.0619932519449059,0.061958759858163445,0.06192373591171679,0.06188816697322757,0.061852039910357405,0.0618153481569371,0.06177809827913586,0.06174032967396879,0.06170197011357484,0.061663091825815065,0.061623675112181905,0.06158368057566024,0.061543206708787886,0.061502148452857834,0.06146053863871602,0.06141842979571595,0.0613757825268425,0.061332550868911345,0.061288800483614375,0.0612445773341359,0.06119974353092297,0.061154463228205294,0.061108605102599106,0.06106224138196547,0.061015358933966014,0.06096793806009318,0.060920005025023705,0.06087157296109598,0.06082260903746405,0.06077311325412794,0.06072315783894868,0.06067268369640361,0.06062167112798516,0.06057016609687763,0.060518162036911856,0.060465639249580254,0.0604126108672212,0.06035911628684984,0.0603051292437894,0.06025065630420908,0.06019566463726294,0.06014018050762773,0.060084210481472645,0.06002779395581279,0.05997085213661794,0.05991343755324158,0.059855583036529644,0.0597972032262827,0.05973837691653101,0.05967903844558268,0.05961927973980634,0.05955906140218687,0.05949833746953996,0.059437147338880725,0.059375523841055114,0.05931340788054043,0.05925087168519774,0.059187849593335166,0.0591244007004754,0.05906047904343413,0.058996150283903225,0.05893134219402162,0.05886610730314283,0.058800452177436034,0.05873429802287097,0.058667763030493036,0.05860076184010278,0.05853337981189964,0.05846551188717662,0.05839723685996397,0.0583285481640925,0.05825941953488546,0.05818990350169635,0.05811994096900249,0.05804955163531143,0.05797878802997668,0.05790761075598311,0.05783602637949991,0.05776402833435789,0.05769164945140299,0.05761882406894333,0.05754563098100917,0.057472050489092937,0.05739807602702545,0.05732370102863752,0.05724897145711346,0.057173815084592204,0.057098323837442386,0.057022432053972116,0.05694618569736572,0.05686949284125457,0.05679248480902241,0.056715115637484936,0.05663737876047295,0.05655924134714053,0.05648077562534872,0.05640196846275916,0.056322773896187533,0.056243257587325714,0.05616336044065102,0.05608312185317856,0.05600253525873916,0.05592163348817876,0.055840344313636284,0.05575875966148037,0.0556768335685267,0.05559455946860609,0.05551200302341041,0.05542906574040185,0.05534582641361066,0.055262285043036846,0.05517838253315771,0.055094177979495944,0.05500967794822074,0.05492489557167046,0.05483975533889946,0.05475433932702258,0.05466859828977092,0.05458254864256744,0.05449619695158133,0.05440962201084284,0.05432268593079903,0.05423549377015691,0.05414806194433944,0.05406026241304746,0.053972203518072574,0.05388385571165344,0.05379528465548192,0.053706359026174266,0.053617229845621804,0.053527844584471025,0.053438150713368424,0.05334822046017507,0.05325799472936828,0.05316754574880911,0.05307686038615918,0.0529858828289804,0.05289468202204926,0.052803215285266006,0.05271153186489956,0.052619602213188586,0.052527416480879295,0.052435020631156,0.0523423621346652,0.052249490237675805,0.05215637539242647,0.052063102959116626,0.05196953504819335,0.051875786567617405,0.05178178200644315,0.05168761000795461,0.05159320162737532,0.051498579846297424,0.05140375451397472,0.051308761744337725,0.05121350304484864,0.051118099889637426,0.0510224899000968,0.05092669934090351,0.05083067896578867,0.050734510851867094,0.05063811948819315,0.05054159023496626,0.050444844298156176,0.05034794733945478,0.05025085339567776,0.05015360514692483,0.050056179611603836,0.049958580072799366,0.04986080981359602,0.04976290166483974,0.049664835928022955,0.0495665929046381,0.04946821199170031,0.04936968662304039,0.049270990533981596,0.0491721335737777,0.04907316170561302,0.04897406179714919,0.04887480101754026,0.04877540891454758,0.0486758592234944,0.048576217606072586,0.04847642496675946,0.048376501004062586,0.04827648511499708,0.04817630507170189,0.04807601996969969,0.04797563637515968,0.047875128023405114,0.04777448834826679,0.047673763312929024,0.04757291680346129,0.04747197180145574,0.047370918457658596,0.04726975348898526,0.04716852614170464,0.04706719045263243,0.046965759554107006,0.04686421374762079,0.04676263182720405,0.046660934998826516,0.04655912982865739,0.04645728197838855,0.04635534548483567,0.04625333019725254,0.04615124596489295,0.04604906323999554,0.04594683455191381,0.04584454020214021,0.045742167058336364,0.0456397446682636,0.04553723691799141,0.045434679921450304,0.04533210322640163,0.045229428038815155,0.04512674300197489,0.045023952906427626,0.0449211431123728,0.04481831361981041,0.044715375785456424,0.04461245436652541,0.04450947056898711,0.044406460506772064,0.04430342089679567,0.044200318908211994,0.04409724318430507,0.04399408866636789,0.04389091773300775,0.04378773366730923,0.043684493789172614,0.04358126704337438,0.0434780074667302,0.0433747610224244,0.043271468614934284,0.043168192622867134,0.04306488708303865,0.042961558561618,0.04285824645562032,0.04275490808494589,0.042651615677455776,0.042548257608273785,0.04244493236993773,0.042341626830109245,0.04223831472411156,0.042134989485775515,0.04203171021062377,0.04192841780313366,0.04182513852798191,0.041721885517506926,0.04161864235628572,0.041515418893572076,0.041412211846281397,0.04130904419600585,0.041205869979561105,0.04110273844321609,0.040999636454632414,0.04089657714614846,0.0407935211207491,0.040690517624703236,0.04058752726099575,0.04048459599281095,0.04038168114004912,0.04027883851514836,0.04017601230567056,0.04007323205937708,0.039970474794675755,0.03986779960708928,0.0397651736657717,0.03966257727221547,0.03956003340801274,0.03945756833784026,0.03935512624925994,0.03925278265321744,0.03915043905717493,0.039048193953670235,0.03894601122877282,0.03884386133472135,0.03874179680086932,0.038639794645624566,0.03853785815207169,0.03843597418787231,0.03833418871621075,0.038232459056987286,0.03813080819179407,0.03802924925296948,0.03792771329573705,0.03782630537880377,0.03772496640664697,0.037623689813097445,0.03752252156133952,0.03742139927276591,0.03732040502449145,0.03721944689014753,0.037118613513018164,0.037017875345342025,0.03691722253786533,0.036816628825911316,0.03671613032341052,0.03661576642737808,0.036515468193037505,0.03641528814974231,0.03631518361739278,0.036215177577581054,0.036115279879560924,0.036015480674078615,0.03591579309347249,0.035816190873065805,0.035716696994450715,0.035617344288473164,0.035518053961102886,0.03541892122179312,0.03531987055959819,0.03522093152227945,0.035122094260583124,0.03502337518993217,0.03492478087649578,0.03482629818793558,0.03472792384116698,0.03462965783618997,0.03453155270235806,0.03443353621181018,0.03433563462922308,0.03423788078544271,0.034140245132707706,0.0340427211048489,0.03394534481579681,0.033848060453113345,0.033750923829236605,0.033653908679489836,0.033557037985465187,0.033460288765570514,0.033363647887467436,0.03326717772976324,0.033170825763104414,0.03307460183674475,0.03297851251685343,0.03288257093576883,0.032786767244237174,0.03269109815917386,0.03259556696366349,0.03250017037462146,0.03240491167513237,0.032309800714450006,0.03221481779406679,0.032120005594082464,0.032025328000566476,0.03193079157968803,0.03183638976527792,0.03174213240658994,0.03164804248521624,0.031554093736480084,0.031460296009635236,0.031366652587766296,0.03127316018778867,0.031179795828110205,0.031086595622661427,0.03099355628835775,0.030900658126691603,0.030807901137662987,0.030715324718287036,0.030622915736225366,0.030530644643716635,0.03043851800693003,0.0303465653736269,0.030254783460722644,0.03016312302194836,0.03007164971899592,0.029980334004103985,0.029889185726526334,0.02979816548924784,0.029707342237044975,0.02961666672364883,0.02952614879831319,0.029435814725714802,0.029345631675007727,0.02925560949544575,0.029165754753198055,0.029076070731349237,0.028986570562237673,0.028897198433425267,0.028808023289688487,0.02871900245092762,0.028630165464904003,0.028541492633110076,0.02845295769086909,0.028364616450619135,0.02827647219544481,0.0281884789621618,0.028100646600023888,0.02801298495828485,0.027925530150875223,0.027838216516103128,0.027751080167899102,0.02766412438934773,0.027577332765026052,0.027490734842695406,0.027404292866882965,0.027318041309976965,0.02723195226575836,0.027146047074277004,0.02706032245244831,0.0269747652679339,0.026889390294614443,0.026804192607863053,0.0267191886231027,0.02663432252789528,0.02654968789015173,0.02646518129270733,0.02638089466193072,0.02629676233613002,0.026212822070778054,0.026129064016621045,0.026045481607489804,0.02596207648492663,0.025878855215100707,0.025795829288808116,0.025712970799829808,0.025630299446673346,0.025547811946254138,0.025465508298572182,0.025383391786712072,0.02530142957982787,0.02521967256573078,0.025138109253624728,0.025056710095748363,0.024975504639863033,0.02489446990437658,0.024813638720134944,0.024732986464003667,0.02465251477752505,0.02457223679303747,0.02449212296277958,0.024412225816104877,0.024332492823659867,0.024252945325494407,0.02417357511389701,0.024094429793594288,0.0240154272874714,0.0239366414649317,0.023858021438163984,0.02377960824572568,0.023701355924432475,0.02362330387129949,0.023545447161699835,0.023467771021752837,0.023390267243747015,0.023312980149324387,0.02323584900141996,0.023158927970929537,0.023082184227007183,0.023005637468160454,0.0229292614297126,0.022853088942509567,0.022777098666501485,0.02270129060168836,0.022625658181901008,0.022550237521069952,0.02247500563760304,0.0223999461160773,0.022325083579627193,0.022250409820541224,0.022175919914192512,0.022101620426750238,0.022027504792045217,0.02195358942550042,0.02187986119477747,0.02180631025062258,0.021732930026866572,0.02165974678818619,0.021586776950004407,0.02151399424764447,0.02144137077488733,0.021368960702628788,0.02129672299231142,0.021224669134731308,0.021152820469938303,0.021081149091713366,0.021009659924683385,0.020938364459644438,0.020867262696596528,0.020796351352455056,0.020725609087170162,0.02065506873158779,0.02058471222874267,0.02051453137092332,0.020444547498179595,0.020374757327426905,0.020305136235530794,0.02023571541179491,0.02016648172388087,0.020097438454873266,0.020028582321687513,0.019959888701189154,0.0198914019150202,0.0198231006231308,0.019754983183978652,0.019687039748309973,0.019619293297716923,0.019551748756826394,0.019484373294792443,0.01941718332703804,0.019350177212020894,0.019283358232825593,0.01921671325711376,0.019150257058766076,0.019083997845494017,0.019017920843416913,0.018952032618703957,0.018886313472847575,0.018820786387439937,0.01875544151322725,0.018690287057921005,0.018625303323013636,0.018560514931639602,0.01849590382683363,0.01843147657476491,0.01836722496772196,0.018303167062670045,0.01823928808572849,0.018175601169235674,0.018112070199261063,0.018048747705158158,0.017985594289911835,0.01792262636894506,0.017859829168377164,0.01779721910363111,0.01773478960853772,0.01767255545697766,0.017610478893478103,0.017548599315054172,0.017486887173944525,0.01742536381019902,0.01736402429919077,0.01730284401778532,0.017241873853793874,0.017181057994778332,0.01712041942233086,0.017059972910332122,0.016999697118732265,0.016939580556735202,0.016879675753694444,0.016819935104883374,0.016760363534928886,0.01670097417616935,0.01664177523631626,0.016582725676812182,0.016523866536214547,0.016465187965269572,0.016406685039350364,0.016348342984576252,0.01629018806562399,0.01623219401781682,0.01617439531354298,0.016116760763498834,0.016059295292311267,0.01600200382460717,0.01594489456809803,0.015887949465818584,0.015831184933191793,0.01577459440404847,0.01571816802913484,0.01566192879004306,0.015605840572842592,0.015549929642210188,0.015494186148892069,0.015438629791395797,0.01538323430504462,0.015328007897550025,0.015272942361200526,0.015218059036045981,0.015163339865121127,0.01510880290539123,0.015054416967552647,0.015000208316282128,0.01494616874386819,0.014892291684141646,0.014838583703271683,0.0147850448012583,0.014731663487305419,0.014678461101462901,0.01462542943601926,0.014572543867840043,0.014519848718567267,0.014467316081981884,0.014414914768780252,0.014362715365281139,0.014310668625215638,0.014258781114752936,0.014207056116977628,0.014155496914974305,0.014104101867200673,0.014052866049029842,0.014001802592800183,0.01395090000771562,0.013900155010691561,0.01384957416789719,0.013799149271621026,0.013748875397236177,0.01369878045096169,0.013648837347349665,0.013599060039509628,0.0135494370366455,0.01349997900878221,0.013450656408158413,0.013401521764127611,0.013352537321216978,0.013303700617113064,0.013255023963383097,0.013206524596221196,0.013158151627816157,0.013109955945979182,0.01306191867297386,0.013014022572606069,0.012966283239527632,0.012918698211425104,0.012871278979094564,0.012824003381715,0.01277690178781891,0.01272992741345083,0.012683122938710477,0.012636462098921103,0.01258996048873453,0.012543612362752716,0.012497412796348771,0.012451364251836142,0.012405456059189897,0.012359719407713679,0.012314128853501883,0.012268681934241066,0.012223393423811901,0.012178236236766489,0.012133239100095023,0.012088404476110952,0.012043692147027997,0.011999144792945882,0.01195473943227245,0.01191048591426148,0.011866377672743785,0.011822405679236734,0.01177859866073052,0.011734937739488732,0.011691413887028733,0.01164803120720627,0.011604789700021337,0.011561704139354612,0.011518763034410013,0.011475958998247205,0.011433308446289158,0.011390788396943715,0.011348414444862695,0.011306181665419208,0.011264097445553591,0.011222154398325508,0.011180349240650363,0.01113868689715505,0.011097162443212676,0.011055779161907834,0.011014549364807754,0.010973435296439604,0.010932465683793583,0.010891637243785094,0.010850950797185286,0.010810408806307606,0.010769995676500234,0.010729721257016949,0.010689594576340385,0.010649593473649533,0.010609722873571285,0.010570000833070907,0.010530404370556242,0.010490942514509922,0.010451633321897214,0.01041243903724529,0.01037339495371353,0.010334477268938632,0.01029568926600519,0.01025704325648043,0.010218520362627936,0.010180128792159194,0.010141880035870285,0.01010376014065168,0.010065763361105344,0.010027901188027351,0.009990165413706223,0.00995257901973411,0.00991510260909589,0.009877769012637502,0.00984055360722449,0.009803468704424079,0.009766508558838235,0.00972968630280533,0.009692997011698474,0.009656426732408142,0.009619983672645821,0.00958366290778462,0.009547469362451428,0.009511412065128877,0.009475474600394001,0.009439652864391057,0.009403967376398753,0.009368408287163314,0.009332960822804062,0.00929764057797282,0.009262459043465666,0.00922738502997896,0.009192438236020261,0.009157625227758762,0.009122919740517708,0.009088340652033518,0.009053878933823555,0.009019547718226195,0.008985326485962727,0.008951232473227268,0.008917270604646711,0.00888340066243478,0.008849666147462344,0.00881604654045069,0.008782554973738194,0.008749161899563512,0.008715914101882107,0.008682760692882771,0.008649730399555706,0.008616824042672054,0.008584036697604928,0.008551353590473655,0.00851878867438776,0.008486349336287577,0.008454019160750139,0.00842179978931774,0.008389707637413351,0.008357708232648737,0.00832583768895443,0.008294078770136312,0.008262429834652087,0.008230894986357495,0.008199474225252539,0.008168171655192959,0.008136965936128896,0.008105882511965952,0.008074906608823455,0.008044039047472553,0.00801329460179392,0.007982648648653098,0.00795211842424421,0.007921696541626918,0.007891378896945477,0.007861161386344148,0.007831077661440016,0.007801086683675659,0.007771206510016343,0.0077414313950640275,0.007711756414191824,0.007682207011305333,0.007652746251702874,0.007623393013120863,0.0075941530409573375,0.007565021410585408,0.007535989914293588,0.007507060193624177,0.0074782379939752125,0.007449520853033249,0.007420921903136663,0.0073924124172952575,0.007363996499364776,0.007335692206310483,0.00730750446275927,0.0072794004378652,0.007251399830135834,0.007223509205740359,0.007195717894653848,0.007168027538418596,0.007140430750094267,0.007112934095850049,0.007085536754914793,0.007058247755771133,0.007031053966080693,0.007003962772783809,0.006976968430482442,0.006950065193778554,0.0069232760442643],\"type\":\"scatter\",\"name\":\"y1\",\"yaxis\":\"y\",\"x\":[-12.0,-11.99,-11.98,-11.97,-11.96,-11.95,-11.94,-11.93,-11.92,-11.91,-11.9,-11.89,-11.88,-11.87,-11.86,-11.85,-11.84,-11.83,-11.82,-11.81,-11.8,-11.79,-11.78,-11.77,-11.76,-11.75,-11.74,-11.73,-11.72,-11.71,-11.7,-11.69,-11.68,-11.67,-11.66,-11.65,-11.64,-11.63,-11.62,-11.61,-11.6,-11.59,-11.58,-11.57,-11.56,-11.55,-11.54,-11.53,-11.52,-11.51,-11.5,-11.49,-11.48,-11.47,-11.46,-11.45,-11.44,-11.43,-11.42,-11.41,-11.4,-11.39,-11.38,-11.37,-11.36,-11.35,-11.34,-11.33,-11.32,-11.31,-11.3,-11.29,-11.28,-11.27,-11.26,-11.25,-11.24,-11.23,-11.22,-11.21,-11.2,-11.19,-11.18,-11.17,-11.16,-11.15,-11.14,-11.13,-11.12,-11.11,-11.1,-11.09,-11.08,-11.07,-11.06,-11.05,-11.04,-11.03,-11.02,-11.01,-11.0,-10.99,-10.98,-10.97,-10.96,-10.95,-10.94,-10.93,-10.92,-10.91,-10.9,-10.89,-10.88,-10.87,-10.86,-10.85,-10.84,-10.83,-10.82,-10.81,-10.8,-10.79,-10.78,-10.77,-10.76,-10.75,-10.74,-10.73,-10.72,-10.71,-10.7,-10.69,-10.68,-10.67,-10.66,-10.65,-10.64,-10.63,-10.62,-10.61,-10.6,-10.59,-10.58,-10.57,-10.56,-10.55,-10.54,-10.53,-10.52,-10.51,-10.5,-10.49,-10.48,-10.47,-10.46,-10.45,-10.44,-10.43,-10.42,-10.41,-10.4,-10.39,-10.38,-10.37,-10.36,-10.35,-10.34,-10.33,-10.32,-10.31,-10.3,-10.29,-10.28,-10.27,-10.26,-10.25,-10.24,-10.23,-10.22,-10.21,-10.2,-10.19,-10.18,-10.17,-10.16,-10.15,-10.14,-10.13,-10.12,-10.11,-10.1,-10.09,-10.08,-10.07,-10.06,-10.05,-10.04,-10.03,-10.02,-10.01,-10.0,-9.99,-9.98,-9.97,-9.96,-9.95,-9.94,-9.93,-9.92,-9.91,-9.9,-9.89,-9.88,-9.87,-9.86,-9.85,-9.84,-9.83,-9.82,-9.81,-9.8,-9.79,-9.78,-9.77,-9.76,-9.75,-9.74,-9.73,-9.72,-9.71,-9.7,-9.69,-9.68,-9.67,-9.66,-9.65,-9.64,-9.63,-9.62,-9.61,-9.6,-9.59,-9.58,-9.57,-9.56,-9.55,-9.54,-9.53,-9.52,-9.51,-9.5,-9.49,-9.48,-9.47,-9.46,-9.45,-9.44,-9.43,-9.42,-9.41,-9.4,-9.39,-9.38,-9.37,-9.36,-9.35,-9.34,-9.33,-9.32,-9.31,-9.3,-9.29,-9.28,-9.27,-9.26,-9.25,-9.24,-9.23,-9.22,-9.21,-9.2,-9.19,-9.18,-9.17,-9.16,-9.15,-9.14,-9.13,-9.12,-9.11,-9.1,-9.09,-9.08,-9.07,-9.06,-9.05,-9.04,-9.03,-9.02,-9.01,-9.0,-8.99,-8.98,-8.97,-8.96,-8.95,-8.94,-8.93,-8.92,-8.91,-8.9,-8.89,-8.88,-8.87,-8.86,-8.85,-8.84,-8.83,-8.82,-8.81,-8.8,-8.79,-8.78,-8.77,-8.76,-8.75,-8.74,-8.73,-8.72,-8.71,-8.7,-8.69,-8.68,-8.67,-8.66,-8.65,-8.64,-8.63,-8.62,-8.61,-8.6,-8.59,-8.58,-8.57,-8.56,-8.55,-8.54,-8.53,-8.52,-8.51,-8.5,-8.49,-8.48,-8.47,-8.46,-8.45,-8.44,-8.43,-8.42,-8.41,-8.4,-8.39,-8.38,-8.37,-8.36,-8.35,-8.34,-8.33,-8.32,-8.31,-8.3,-8.29,-8.28,-8.27,-8.26,-8.25,-8.24,-8.23,-8.22,-8.21,-8.2,-8.19,-8.18,-8.17,-8.16,-8.15,-8.14,-8.13,-8.12,-8.11,-8.1,-8.09,-8.08,-8.07,-8.06,-8.05,-8.04,-8.03,-8.02,-8.01,-8.0,-7.99,-7.98,-7.97,-7.96,-7.95,-7.94,-7.93,-7.92,-7.91,-7.9,-7.89,-7.88,-7.87,-7.86,-7.85,-7.84,-7.83,-7.82,-7.81,-7.8,-7.79,-7.78,-7.77,-7.76,-7.75,-7.74,-7.73,-7.72,-7.71,-7.7,-7.69,-7.68,-7.67,-7.66,-7.65,-7.64,-7.63,-7.62,-7.61,-7.6,-7.59,-7.58,-7.57,-7.56,-7.55,-7.54,-7.53,-7.52,-7.51,-7.5,-7.49,-7.48,-7.47,-7.46,-7.45,-7.44,-7.43,-7.42,-7.41,-7.4,-7.39,-7.38,-7.37,-7.36,-7.35,-7.34,-7.33,-7.32,-7.31,-7.3,-7.29,-7.28,-7.27,-7.26,-7.25,-7.24,-7.23,-7.22,-7.21,-7.2,-7.19,-7.18,-7.17,-7.16,-7.15,-7.14,-7.13,-7.12,-7.11,-7.1,-7.09,-7.08,-7.07,-7.06,-7.05,-7.04,-7.03,-7.02,-7.01,-7.0,-6.99,-6.98,-6.97,-6.96,-6.95,-6.94,-6.93,-6.92,-6.91,-6.9,-6.89,-6.88,-6.87,-6.86,-6.85,-6.84,-6.83,-6.82,-6.81,-6.8,-6.79,-6.78,-6.77,-6.76,-6.75,-6.74,-6.73,-6.72,-6.71,-6.7,-6.69,-6.68,-6.67,-6.66,-6.65,-6.64,-6.63,-6.62,-6.61,-6.6,-6.59,-6.58,-6.57,-6.56,-6.55,-6.54,-6.53,-6.52,-6.51,-6.5,-6.49,-6.48,-6.47,-6.46,-6.45,-6.44,-6.43,-6.42,-6.41,-6.4,-6.39,-6.38,-6.37,-6.36,-6.35,-6.34,-6.33,-6.32,-6.31,-6.3,-6.29,-6.28,-6.27,-6.26,-6.25,-6.24,-6.23,-6.22,-6.21,-6.2,-6.19,-6.18,-6.17,-6.16,-6.15,-6.14,-6.13,-6.12,-6.11,-6.1,-6.09,-6.08,-6.07,-6.06,-6.05,-6.04,-6.03,-6.02,-6.01,-6.0,-5.99,-5.98,-5.97,-5.96,-5.95,-5.94,-5.93,-5.92,-5.91,-5.9,-5.89,-5.88,-5.87,-5.86,-5.85,-5.84,-5.83,-5.82,-5.81,-5.8,-5.79,-5.78,-5.77,-5.76,-5.75,-5.74,-5.73,-5.72,-5.71,-5.7,-5.69,-5.68,-5.67,-5.66,-5.65,-5.64,-5.63,-5.62,-5.61,-5.6,-5.59,-5.58,-5.57,-5.56,-5.55,-5.54,-5.53,-5.52,-5.51,-5.5,-5.49,-5.48,-5.47,-5.46,-5.45,-5.44,-5.43,-5.42,-5.41,-5.4,-5.39,-5.38,-5.37,-5.36,-5.35,-5.34,-5.33,-5.32,-5.31,-5.3,-5.29,-5.28,-5.27,-5.26,-5.25,-5.24,-5.23,-5.22,-5.21,-5.2,-5.19,-5.18,-5.17,-5.16,-5.15,-5.14,-5.13,-5.12,-5.11,-5.1,-5.09,-5.08,-5.07,-5.06,-5.05,-5.04,-5.03,-5.02,-5.01,-5.0,-4.99,-4.98,-4.97,-4.96,-4.95,-4.94,-4.93,-4.92,-4.91,-4.9,-4.89,-4.88,-4.87,-4.86,-4.85,-4.84,-4.83,-4.82,-4.81,-4.8,-4.79,-4.78,-4.77,-4.76,-4.75,-4.74,-4.73,-4.72,-4.71,-4.7,-4.69,-4.68,-4.67,-4.66,-4.65,-4.64,-4.63,-4.62,-4.61,-4.6,-4.59,-4.58,-4.57,-4.56,-4.55,-4.54,-4.53,-4.52,-4.51,-4.5,-4.49,-4.48,-4.47,-4.46,-4.45,-4.44,-4.43,-4.42,-4.41,-4.4,-4.39,-4.38,-4.37,-4.36,-4.35,-4.34,-4.33,-4.32,-4.31,-4.3,-4.29,-4.28,-4.27,-4.26,-4.25,-4.24,-4.23,-4.22,-4.21,-4.2,-4.19,-4.18,-4.17,-4.16,-4.15,-4.14,-4.13,-4.12,-4.11,-4.1,-4.09,-4.08,-4.07,-4.06,-4.05,-4.04,-4.03,-4.02,-4.01,-4.0,-3.99,-3.98,-3.97,-3.96,-3.95,-3.94,-3.93,-3.92,-3.91,-3.9,-3.89,-3.88,-3.87,-3.86,-3.85,-3.84,-3.83,-3.82,-3.81,-3.8,-3.79,-3.78,-3.77,-3.76,-3.75,-3.74,-3.73,-3.72,-3.71,-3.7,-3.69,-3.68,-3.67,-3.66,-3.65,-3.64,-3.63,-3.62,-3.61,-3.6,-3.59,-3.58,-3.57,-3.56,-3.55,-3.54,-3.53,-3.52,-3.51,-3.5,-3.49,-3.48,-3.47,-3.46,-3.45,-3.44,-3.43,-3.42,-3.41,-3.4,-3.39,-3.38,-3.37,-3.36,-3.35,-3.34,-3.33,-3.32,-3.31,-3.3,-3.29,-3.28,-3.27,-3.26,-3.25,-3.24,-3.23,-3.22,-3.21,-3.2,-3.19,-3.18,-3.17,-3.16,-3.15,-3.14,-3.13,-3.12,-3.11,-3.1,-3.09,-3.08,-3.07,-3.06,-3.05,-3.04,-3.03,-3.02,-3.01,-3.0,-2.99,-2.98,-2.97,-2.96,-2.95,-2.94,-2.93,-2.92,-2.91,-2.9,-2.89,-2.88,-2.87,-2.86,-2.85,-2.84,-2.83,-2.82,-2.81,-2.8,-2.79,-2.78,-2.77,-2.76,-2.75,-2.74,-2.73,-2.72,-2.71,-2.7,-2.69,-2.68,-2.67,-2.66,-2.65,-2.64,-2.63,-2.62,-2.61,-2.6,-2.59,-2.58,-2.57,-2.56,-2.55,-2.54,-2.53,-2.52,-2.51,-2.5,-2.49,-2.48,-2.47,-2.46,-2.45,-2.44,-2.43,-2.42,-2.41,-2.4,-2.39,-2.38,-2.37,-2.36,-2.35,-2.34,-2.33,-2.32,-2.31,-2.3,-2.29,-2.28,-2.27,-2.26,-2.25,-2.24,-2.23,-2.22,-2.21,-2.2,-2.19,-2.18,-2.17,-2.16,-2.15,-2.14,-2.13,-2.12,-2.11,-2.1,-2.09,-2.08,-2.07,-2.06,-2.05,-2.04,-2.03,-2.02,-2.01,-2.0,-1.99,-1.98,-1.97,-1.96,-1.95,-1.94,-1.93,-1.92,-1.91,-1.9,-1.89,-1.88,-1.87,-1.86,-1.85,-1.84,-1.83,-1.82,-1.81,-1.8,-1.79,-1.78,-1.77,-1.76,-1.75,-1.74,-1.73,-1.72,-1.71,-1.7,-1.69,-1.68,-1.67,-1.66,-1.65,-1.64,-1.63,-1.62,-1.61,-1.6,-1.59,-1.58,-1.57,-1.56,-1.55,-1.54,-1.53,-1.52,-1.51,-1.5,-1.49,-1.48,-1.47,-1.46,-1.45,-1.44,-1.43,-1.42,-1.41,-1.4,-1.39,-1.38,-1.37,-1.36,-1.35,-1.34,-1.33,-1.32,-1.31,-1.3,-1.29,-1.28,-1.27,-1.26,-1.25,-1.24,-1.23,-1.22,-1.21,-1.2,-1.19,-1.18,-1.17,-1.16,-1.15,-1.14,-1.13,-1.12,-1.11,-1.1,-1.09,-1.08,-1.07,-1.06,-1.05,-1.04,-1.03,-1.02,-1.01,-1.0,-0.99,-0.98,-0.97,-0.96,-0.95,-0.94,-0.93,-0.92,-0.91,-0.9,-0.89,-0.88,-0.87,-0.86,-0.85,-0.84,-0.83,-0.82,-0.81,-0.8,-0.79,-0.78,-0.77,-0.76,-0.75,-0.74,-0.73,-0.72,-0.71,-0.7,-0.69,-0.68,-0.67,-0.66,-0.65,-0.64,-0.63,-0.62,-0.61,-0.6,-0.59,-0.58,-0.57,-0.56,-0.55,-0.54,-0.53,-0.52,-0.51,-0.5,-0.49,-0.48,-0.47,-0.46,-0.45,-0.44,-0.43,-0.42,-0.41,-0.4,-0.39,-0.38,-0.37,-0.36,-0.35,-0.34,-0.33,-0.32,-0.31,-0.3,-0.29,-0.28,-0.27,-0.26,-0.25,-0.24,-0.23,-0.22,-0.21,-0.2,-0.19,-0.18,-0.17,-0.16,-0.15,-0.14,-0.13,-0.12,-0.11,-0.1,-0.09,-0.08,-0.07,-0.06,-0.05,-0.04,-0.03,-0.02,-0.01,0.0,0.01,0.02,0.03,0.04,0.05,0.06,0.07,0.08,0.09,0.1,0.11,0.12,0.13,0.14,0.15,0.16,0.17,0.18,0.19,0.2,0.21,0.22,0.23,0.24,0.25,0.26,0.27,0.28,0.29,0.3,0.31,0.32,0.33,0.34,0.35,0.36,0.37,0.38,0.39,0.4,0.41,0.42,0.43,0.44,0.45,0.46,0.47,0.48,0.49,0.5,0.51,0.52,0.53,0.54,0.55,0.56,0.57,0.58,0.59,0.6,0.61,0.62,0.63,0.64,0.65,0.66,0.67,0.68,0.69,0.7,0.71,0.72,0.73,0.74,0.75,0.76,0.77,0.78,0.79,0.8,0.81,0.82,0.83,0.84,0.85,0.86,0.87,0.88,0.89,0.9,0.91,0.92,0.93,0.94,0.95,0.96,0.97,0.98,0.99,1.0,1.01,1.02,1.03,1.04,1.05,1.06,1.07,1.08,1.09,1.1,1.11,1.12,1.13,1.14,1.15,1.16,1.17,1.18,1.19,1.2,1.21,1.22,1.23,1.24,1.25,1.26,1.27,1.28,1.29,1.3,1.31,1.32,1.33,1.34,1.35,1.36,1.37,1.38,1.39,1.4,1.41,1.42,1.43,1.44,1.45,1.46,1.47,1.48,1.49,1.5,1.51,1.52,1.53,1.54,1.55,1.56,1.57,1.58,1.59,1.6,1.61,1.62,1.63,1.64,1.65,1.66,1.67,1.68,1.69,1.7,1.71,1.72,1.73,1.74,1.75,1.76,1.77,1.78,1.79,1.8,1.81,1.82,1.83,1.84,1.85,1.86,1.87,1.88,1.89,1.9,1.91,1.92,1.93,1.94,1.95,1.96,1.97,1.98,1.99,2.0,2.01,2.02,2.03,2.04,2.05,2.06,2.07,2.08,2.09,2.1,2.11,2.12,2.13,2.14,2.15,2.16,2.17,2.18,2.19,2.2,2.21,2.22,2.23,2.24,2.25,2.26,2.27,2.28,2.29,2.3,2.31,2.32,2.33,2.34,2.35,2.36,2.37,2.38,2.39,2.4,2.41,2.42,2.43,2.44,2.45,2.46,2.47,2.48,2.49,2.5,2.51,2.52,2.53,2.54,2.55,2.56,2.57,2.58,2.59,2.6,2.61,2.62,2.63,2.64,2.65,2.66,2.67,2.68,2.69,2.7,2.71,2.72,2.73,2.74,2.75,2.76,2.77,2.78,2.79,2.8,2.81,2.82,2.83,2.84,2.85,2.86,2.87,2.88,2.89,2.9,2.91,2.92,2.93,2.94,2.95,2.96,2.97,2.98,2.99,3.0,3.01,3.02,3.03,3.04,3.05,3.06,3.07,3.08,3.09,3.1,3.11,3.12,3.13,3.14,3.15,3.16,3.17,3.18,3.19,3.2,3.21,3.22,3.23,3.24,3.25,3.26,3.27,3.28,3.29,3.3,3.31,3.32,3.33,3.34,3.35,3.36,3.37,3.38,3.39,3.4,3.41,3.42,3.43,3.44,3.45,3.46,3.47,3.48,3.49,3.5,3.51,3.52,3.53,3.54,3.55,3.56,3.57,3.58,3.59,3.6,3.61,3.62,3.63,3.64,3.65,3.66,3.67,3.68,3.69,3.7,3.71,3.72,3.73,3.74,3.75,3.76,3.77,3.78,3.79,3.8,3.81,3.82,3.83,3.84,3.85,3.86,3.87,3.88,3.89,3.9,3.91,3.92,3.93,3.94,3.95,3.96,3.97,3.98,3.99,4.0,4.01,4.02,4.03,4.04,4.05,4.06,4.07,4.08,4.09,4.1,4.11,4.12,4.13,4.14,4.15,4.16,4.17,4.18,4.19,4.2,4.21,4.22,4.23,4.24,4.25,4.26,4.27,4.28,4.29,4.3,4.31,4.32,4.33,4.34,4.35,4.36,4.37,4.38,4.39,4.4,4.41,4.42,4.43,4.44,4.45,4.46,4.47,4.48,4.49,4.5,4.51,4.52,4.53,4.54,4.55,4.56,4.57,4.58,4.59,4.6,4.61,4.62,4.63,4.64,4.65,4.66,4.67,4.68,4.69,4.7,4.71,4.72,4.73,4.74,4.75,4.76,4.77,4.78,4.79,4.8,4.81,4.82,4.83,4.84,4.85,4.86,4.87,4.88,4.89,4.9,4.91,4.92,4.93,4.94,4.95,4.96,4.97,4.98,4.99,5.0,5.01,5.02,5.03,5.04,5.05,5.06,5.07,5.08,5.09,5.1,5.11,5.12,5.13,5.14,5.15,5.16,5.17,5.18,5.19,5.2,5.21,5.22,5.23,5.24,5.25,5.26,5.27,5.28,5.29,5.3,5.31,5.32,5.33,5.34,5.35,5.36,5.37,5.38,5.39,5.4,5.41,5.42,5.43,5.44,5.45,5.46,5.47,5.48,5.49,5.5,5.51,5.52,5.53,5.54,5.55,5.56,5.57,5.58,5.59,5.6,5.61,5.62,5.63,5.64,5.65,5.66,5.67,5.68,5.69,5.7,5.71,5.72,5.73,5.74,5.75,5.76,5.77,5.78,5.79,5.8,5.81,5.82,5.83,5.84,5.85,5.86,5.87,5.88,5.89,5.9,5.91,5.92,5.93,5.94,5.95,5.96,5.97,5.98,5.99,6.0,6.01,6.02,6.03,6.04,6.05,6.06,6.07,6.08,6.09,6.1,6.11,6.12,6.13,6.14,6.15,6.16,6.17,6.18,6.19,6.2,6.21,6.22,6.23,6.24,6.25,6.26,6.27,6.28,6.29,6.3,6.31,6.32,6.33,6.34,6.35,6.36,6.37,6.38,6.39,6.4,6.41,6.42,6.43,6.44,6.45,6.46,6.47,6.48,6.49,6.5,6.51,6.52,6.53,6.54,6.55,6.56,6.57,6.58,6.59,6.6,6.61,6.62,6.63,6.64,6.65,6.66,6.67,6.68,6.69,6.7,6.71,6.72,6.73,6.74,6.75,6.76,6.77,6.78,6.79,6.8,6.81,6.82,6.83,6.84,6.85,6.86,6.87,6.88,6.89,6.9,6.91,6.92,6.93,6.94,6.95,6.96,6.97,6.98,6.99,7.0,7.01,7.02,7.03,7.04,7.05,7.06,7.07,7.08,7.09,7.1,7.11,7.12,7.13,7.14,7.15,7.16,7.17,7.18,7.19,7.2,7.21,7.22,7.23,7.24,7.25,7.26,7.27,7.28,7.29,7.3,7.31,7.32,7.33,7.34,7.35,7.36,7.37,7.38,7.39,7.4,7.41,7.42,7.43,7.44,7.45,7.46,7.47,7.48,7.49,7.5,7.51,7.52,7.53,7.54,7.55,7.56,7.57,7.58,7.59,7.6,7.61,7.62,7.63,7.64,7.65,7.66,7.67,7.68,7.69,7.7,7.71,7.72,7.73,7.74,7.75,7.76,7.77,7.78,7.79,7.8,7.81,7.82,7.83,7.84,7.85,7.86,7.87,7.88,7.89,7.9,7.91,7.92,7.93,7.94,7.95,7.96,7.97,7.98,7.99,8.0,8.01,8.02,8.03,8.04,8.05,8.06,8.07,8.08,8.09,8.1,8.11,8.12,8.13,8.14,8.15,8.16,8.17,8.18,8.19,8.2,8.21,8.22,8.23,8.24,8.25,8.26,8.27,8.28,8.29,8.3,8.31,8.32,8.33,8.34,8.35,8.36,8.37,8.38,8.39,8.4,8.41,8.42,8.43,8.44,8.45,8.46,8.47,8.48,8.49,8.5,8.51,8.52,8.53,8.54,8.55,8.56,8.57,8.58,8.59,8.6,8.61,8.62,8.63,8.64,8.65,8.66,8.67,8.68,8.69,8.7,8.71,8.72,8.73,8.74,8.75,8.76,8.77,8.78,8.79,8.8,8.81,8.82,8.83,8.84,8.85,8.86,8.87,8.88,8.89,8.9,8.91,8.92,8.93,8.94,8.95,8.96,8.97,8.98,8.99,9.0,9.01,9.02,9.03,9.04,9.05,9.06,9.07,9.08,9.09,9.1,9.11,9.12,9.13,9.14,9.15,9.16,9.17,9.18,9.19,9.2,9.21,9.22,9.23,9.24,9.25,9.26,9.27,9.28,9.29,9.3,9.31,9.32,9.33,9.34,9.35,9.36,9.37,9.38,9.39,9.4,9.41,9.42,9.43,9.44,9.45,9.46,9.47,9.48,9.49,9.5,9.51,9.52,9.53,9.54,9.55,9.56,9.57,9.58,9.59,9.6,9.61,9.62,9.63,9.64,9.65,9.66,9.67,9.68,9.69,9.7,9.71,9.72,9.73,9.74,9.75,9.76,9.77,9.78,9.79,9.8,9.81,9.82,9.83,9.84,9.85,9.86,9.87,9.88,9.89,9.9,9.91,9.92,9.93,9.94,9.95,9.96,9.97,9.98,9.99,10.0,10.01,10.02,10.03,10.04,10.05,10.06,10.07,10.08,10.09,10.1,10.11,10.12,10.13,10.14,10.15,10.16,10.17,10.18,10.19,10.2,10.21,10.22,10.23,10.24,10.25,10.26,10.27,10.28,10.29,10.3,10.31,10.32,10.33,10.34,10.35,10.36,10.37,10.38,10.39,10.4,10.41,10.42,10.43,10.44,10.45,10.46,10.47,10.48,10.49,10.5,10.51,10.52,10.53,10.54,10.55,10.56,10.57,10.58,10.59,10.6,10.61,10.62,10.63,10.64,10.65,10.66,10.67,10.68,10.69,10.7,10.71,10.72,10.73,10.74,10.75,10.76,10.77,10.78,10.79,10.8,10.81,10.82,10.83,10.84,10.85,10.86,10.87,10.88,10.89,10.9,10.91,10.92,10.93,10.94,10.95,10.96,10.97,10.98,10.99,11.0,11.01,11.02,11.03,11.04,11.05,11.06,11.07,11.08,11.09,11.1,11.11,11.12,11.13,11.14,11.15,11.16,11.17,11.18,11.19,11.2,11.21,11.22,11.23,11.24,11.25,11.26,11.27,11.28,11.29,11.3,11.31,11.32,11.33,11.34,11.35,11.36,11.37,11.38,11.39,11.4,11.41,11.42,11.43,11.44,11.45,11.46,11.47,11.48,11.49,11.5,11.51,11.52,11.53,11.54,11.55,11.56,11.57,11.58,11.59,11.6,11.61,11.62,11.63,11.64,11.65,11.66,11.67,11.68,11.69,11.7,11.71,11.72,11.73,11.74,11.75,11.76,11.77,11.78,11.79,11.8,11.81,11.82,11.83,11.84,11.85,11.86,11.87,11.88,11.89,11.9,11.91,11.92,11.93,11.94,11.95,11.96,11.97,11.98,11.99,12.0]},{\"showlegend\":true,\"marker\":{\"color\":\"rgba(0, 154, 250, 1.000)\"},\"xaxis\":\"x2\",\"colorbar\":{\"title\":\"\"},\"y\":[1.0,0.0,0.0,1.0,0.0,0.0,0.0,0.0,3.0,0.0,0.0,4.0,1.0,5.0,7.0,5.0,12.0,6.0,14.0,10.0,24.0,27.0,24.0,30.0,35.0,32.0,35.0,29.0,44.0,46.0,39.0,48.0,44.0,58.0,33.0,38.0,65.0,46.0,41.0,46.0,41.0,38.0,34.0,38.0,33.0,31.0,27.0,27.0,19.0,15.0,14.0,9.0,14.0,9.0,4.0,6.0,7.0,5.0,4.0,4.0,0.0,2.0,2.0,0.0,2.0,3.0,0.0,0.0,0.0,0.0,0.0,0.0,0.0,0.0,0.0,0.0,0.0,0.0,0.0,0.0,0.0,0.0,0.0,0.0,0.0,0.0,0.0,0.0,0.0,0.0,0.0,0.0,0.0,0.0,0.0,0.0,0.0,0.0,0.0,0.0,0.0,0.0,0.0,0.0,0.0,0.0,0.0,0.0,0.0,0.0,0.0,0.0,0.0,0.0,0.0,31.0,27.0,38.0,24.0,21.0,29.0,34.0,26.0,38.0,24.0,35.0,37.0,45.0,28.0,39.0,25.0,21.0,33.0,40.0,28.0,25.0,36.0,30.0,39.0,41.0,31.0,36.0,25.0,35.0,35.0,32.0,38.0,22.0,33.0,37.0,29.0,33.0,27.0,37.0,26.0,0.0,0.0,0.0,0.0,0.0,0.0,0.0,0.0,0.0,0.0,0.0,0.0,0.0,0.0,0.0,0.0,0.0,0.0,0.0,0.0,0.0,0.0,0.0,0.0,0.0,0.0,0.0,0.0,0.0,0.0,0.0,0.0,0.0,0.0,0.0,0.0,0.0,0.0,0.0,0.0,30.0,34.0,35.0,35.0,32.0,25.0,27.0,31.0,28.0,30.0,29.0,31.0,32.0,42.0,33.0,37.0,28.0,25.0,38.0,23.0,37.0,27.0,26.0,32.0,32.0,36.0,22.0,42.0,38.0,31.0,38.0,25.0,37.0,33.0,38.0,30.0,20.0,27.0,34.0,27.0,0.0,0.0,0.0,0.0,0.0,0.0,0.0,0.0,0.0,0.0,0.0,0.0,0.0,0.0,0.0,0.0,0.0,0.0,0.0,0.0,0.0,0.0,0.0,0.0,0.0,0.0,0.0,0.0,0.0,0.0,0.0,0.0,0.0,0.0,0.0,0.0,0.0,0.0,0.0,0.0,0.0,0.0,0.0,0.0,0.0,0.0,0.0,1.0,0.0,1.0,2.0,1.0,0.0,4.0,1.0,4.0,5.0,2.0,2.0,2.0,5.0,7.0,8.0,15.0,15.0,15.0,22.0,33.0,21.0,21.0,30.0,40.0,40.0,45.0,51.0,43.0,42.0,39.0,41.0,39.0,40.0,57.0,48.0,46.0,43.0,62.0,45.0,39.0,38.0,27.0,36.0,20.0,23.0,15.0,17.0,10.0,14.0,7.0,12.0,5.0,11.0,2.0,6.0,1.0,1.0,4.0,3.0,0.0,2.0,1.0],\"type\":\"bar\",\"name\":\"y2\",\"yaxis\":\"y2\",\"orientation\":\"v\",\"x\":[-8.725,-8.675,-8.625,-8.575,-8.525,-8.475,-8.425,-8.375,-8.325,-8.275,-8.225,-8.175,-8.125,-8.075,-8.025,-7.975,-7.925000000000001,-7.875,-7.824999999999999,-7.775,-7.725,-7.675000000000001,-7.625,-7.574999999999999,-7.525,-7.475,-7.425000000000001,-7.375,-7.324999999999999,-7.275,-7.225,-7.175000000000001,-7.125,-7.074999999999999,-7.025,-6.975,-6.925000000000001,-6.875,-6.824999999999999,-6.775,-6.725,-6.675000000000001,-6.625,-6.574999999999999,-6.525,-6.475,-6.425000000000001,-6.375,-6.324999999999999,-6.275,-6.225,-6.175000000000001,-6.125,-6.074999999999999,-6.025,-5.975,-5.925000000000001,-5.875,-5.824999999999999,-5.775,-5.725,-5.675000000000001,-5.625,-5.574999999999999,-5.525,-5.475,-5.425000000000001,-5.375,-5.324999999999999,-5.275,-5.225,-5.175000000000001,-5.125,-5.074999999999999,-5.025,-4.975,-4.925000000000001,-4.875,-4.824999999999999,-4.775,-4.725,-4.675000000000001,-4.625,-4.574999999999999,-4.525,-4.475,-4.425000000000001,-4.375,-4.324999999999999,-4.275,-4.225,-4.175000000000001,-4.125,-4.074999999999999,-4.025,-3.975,-3.925,-3.875,-3.825,-3.775,-3.725,-3.675,-3.625,-3.575,-3.525,-3.475,-3.425,-3.375,-3.325,-3.275,-3.225,-3.175,-3.125,-3.075,-3.025,-2.975,-2.925,-2.875,-2.825,-2.775,-2.725,-2.675,-2.625,-2.575,-2.525,-2.475,-2.425,-2.375,-2.325,-2.275,-2.225,-2.175,-2.125,-2.075,-2.025,-1.975,-1.9249999999999998,-1.875,-1.8250000000000002,-1.775,-1.725,-1.6749999999999998,-1.625,-1.5750000000000002,-1.525,-1.475,-1.4249999999999998,-1.375,-1.3250000000000002,-1.275,-1.225,-1.1749999999999998,-1.125,-1.0750000000000002,-1.025,-0.975,-0.925,-0.875,-0.825,-0.775,-0.725,-0.675,-0.625,-0.575,-0.525,-0.475,-0.42500000000000004,-0.375,-0.32499999999999996,-0.275,-0.225,-0.175,-0.125,-0.07500000000000001,-0.025,0.025,0.07500000000000001,0.125,0.175,0.225,0.275,0.32499999999999996,0.375,0.42500000000000004,0.475,0.525,0.575,0.625,0.675,0.725,0.775,0.825,0.875,0.925,0.975,1.025,1.0750000000000002,1.125,1.1749999999999998,1.225,1.275,1.3250000000000002,1.375,1.4249999999999998,1.475,1.525,1.5750000000000002,1.625,1.6749999999999998,1.725,1.775,1.8250000000000002,1.875,1.9249999999999998,1.975,2.025,2.075,2.125,2.175,2.225,2.275,2.325,2.375,2.425,2.475,2.525,2.575,2.625,2.675,2.725,2.775,2.825,2.875,2.925,2.975,3.025,3.075,3.125,3.175,3.225,3.275,3.325,3.375,3.425,3.475,3.525,3.575,3.625,3.675,3.725,3.775,3.825,3.875,3.925,3.975,4.025,4.074999999999999,4.125,4.175000000000001,4.225,4.275,4.324999999999999,4.375,4.425000000000001,4.475,4.525,4.574999999999999,4.625,4.675000000000001,4.725,4.775,4.824999999999999,4.875,4.925000000000001,4.975,5.025,5.074999999999999,5.125,5.175000000000001,5.225,5.275,5.324999999999999,5.375,5.425000000000001,5.475,5.525,5.574999999999999,5.625,5.675000000000001,5.725,5.775,5.824999999999999,5.875,5.925000000000001,5.975,6.025,6.074999999999999,6.125,6.175000000000001,6.225,6.275,6.324999999999999,6.375,6.425000000000001,6.475,6.525,6.574999999999999,6.625,6.675000000000001,6.725,6.775,6.824999999999999,6.875,6.925000000000001,6.975,7.025,7.074999999999999,7.125,7.175000000000001,7.225,7.275,7.324999999999999,7.375,7.425000000000001,7.475,7.525,7.574999999999999,7.625,7.675000000000001,7.725,7.775,7.824999999999999,7.875,7.925000000000001,7.975,8.025,8.075,8.125,8.175,8.225,8.275,8.325,8.375,8.425,8.475]}], {\"xaxis\":{\"gridwidth\":0.5,\"tickvals\":[-10.0,0.0,10.0],\"ticks\":\"inside\",\"range\":[-12.0,12.0],\"domain\":[0.0658209390492855,0.9934383202099738],\"tickmode\":\"array\",\"linecolor\":\"rgba(0, 0, 0, 1.000)\",\"showgrid\":true,\"title\":\"\",\"tickangle\":0,\"gridcolor\":\"rgba(0, 0, 0, 0.100)\",\"titlefont\":{\"color\":\"rgba(0, 0, 0, 1.000)\",\"family\":\"sans-serif\",\"size\":15},\"tickcolor\":\"rgba(0, 0, 0, 1.000)\",\"ticktext\":[\"-10\",\"0\",\"10\"],\"zeroline\":false,\"type\":\"-\",\"tickfont\":{\"color\":\"rgba(0, 0, 0, 1.000)\",\"family\":\"sans-serif\",\"size\":11},\"anchor\":\"y\"},\"paper_bgcolor\":\"rgba(255, 255, 255, 1.000)\",\"height\":400,\"yaxis\":{\"gridwidth\":0.5,\"tickvals\":[0.05,0.1],\"ticks\":\"inside\",\"tickmode\":\"array\",\"domain\":[0.5376202974628171,0.9901574803149606],\"linecolor\":\"rgba(0, 0, 0, 1.000)\",\"showgrid\":true,\"title\":\"\",\"tickangle\":0,\"gridcolor\":\"rgba(0, 0, 0, 0.100)\",\"titlefont\":{\"color\":\"rgba(0, 0, 0, 1.000)\",\"family\":\"sans-serif\",\"size\":15},\"tickcolor\":\"rgba(0, 0, 0, 1.000)\",\"ticktext\":[\"0.05\",\"0.10\"],\"zeroline\":false,\"type\":\"-\",\"tickfont\":{\"color\":\"rgba(0, 0, 0, 1.000)\",\"family\":\"sans-serif\",\"size\":11},\"anchor\":\"x\"},\"yaxis2\":{\"gridwidth\":0.5,\"tickvals\":[0.0,20.0,40.0,60.0],\"ticks\":\"inside\",\"tickmode\":\"array\",\"domain\":[0.03762029746281716,0.4901574803149606],\"linecolor\":\"rgba(0, 0, 0, 1.000)\",\"showgrid\":true,\"title\":\"\",\"tickangle\":0,\"gridcolor\":\"rgba(0, 0, 0, 0.100)\",\"titlefont\":{\"color\":\"rgba(0, 0, 0, 1.000)\",\"family\":\"sans-serif\",\"size\":15},\"tickcolor\":\"rgba(0, 0, 0, 1.000)\",\"ticktext\":[\"0\",\"20\",\"40\",\"60\"],\"zeroline\":false,\"type\":\"-\",\"tickfont\":{\"color\":\"rgba(0, 0, 0, 1.000)\",\"family\":\"sans-serif\",\"size\":11},\"anchor\":\"x2\"},\"annotations\":[],\"plot_bgcolor\":\"rgba(255, 255, 255, 1.000)\",\"showlegend\":false,\"xaxis2\":{\"gridwidth\":0.5,\"tickvals\":[-10.0,0.0,10.0],\"ticks\":\"inside\",\"range\":[-12.0,12.0],\"domain\":[0.0658209390492855,0.9934383202099738],\"tickmode\":\"array\",\"linecolor\":\"rgba(0, 0, 0, 1.000)\",\"showgrid\":true,\"title\":\"\",\"tickangle\":0,\"gridcolor\":\"rgba(0, 0, 0, 0.100)\",\"titlefont\":{\"color\":\"rgba(0, 0, 0, 1.000)\",\"family\":\"sans-serif\",\"size\":15},\"tickcolor\":\"rgba(0, 0, 0, 1.000)\",\"ticktext\":[\"-10\",\"0\",\"10\"],\"zeroline\":false,\"type\":\"-\",\"tickfont\":{\"color\":\"rgba(0, 0, 0, 1.000)\",\"family\":\"sans-serif\",\"size\":11},\"anchor\":\"y2\"},\"margin\":{\"l\":0,\"b\":20,\"r\":0,\"t\":20},\"width\":600});\n",
       "    </script>\n"
      ]
     },
     "metadata": {},
     "output_type": "display_data"
    },
    {
     "name": "stdout",
     "output_type": "stream",
     "text": [
      "Fitting Done\n",
      "True loglikelihood      = -10471.934928226601\n",
      "Estimated loglikelihood = -14553.320976478046\n"
     ]
    },
    {
     "data": {
      "text/plain": [
       "DensityEstimationML.NeuralDensityEstimator{1}(Session(Ptr{Void} @0x00007f2c98586af0), <Tensor Group:1 shape=unknown dtype=Any>, <Tensor Group_2:1 shape=unknown dtype=Any>, <Tensor t:1 shape=(1, ?) dtype=Float32>, <Tensor pdf:1 shape=unknown dtype=Float64>)"
      ]
     },
     "execution_count": 13,
     "metadata": {},
     "output_type": "execute_result"
    }
   ],
   "source": [
    "est=demo(GenerateDatasets.Likas1(), [64, 64, 256], 1_000)"
   ]
  },
  {
   "cell_type": "code",
   "execution_count": null,
   "metadata": {},
   "outputs": [],
   "source": [
    "let \n",
    "    sess = Session(Graph())\n",
    "    X=constant([1.0,2,3])\n",
    "    y=Ops.mul(X,X)\n",
    "    @show y\n",
    "end"
   ]
  },
  {
   "cell_type": "code",
   "execution_count": null,
   "metadata": {},
   "outputs": [],
   "source": [
    "loglikelihood(GenerateDatasets.Likas1(), [2.0])"
   ]
  },
  {
   "cell_type": "code",
   "execution_count": null,
   "metadata": {},
   "outputs": [],
   "source": [
    "GenerateDatasets.Likas1()"
   ]
  },
  {
   "cell_type": "code",
   "execution_count": null,
   "metadata": {},
   "outputs": [],
   "source": [
    "sort(component_weights(est))"
   ]
  },
  {
   "cell_type": "code",
   "execution_count": null,
   "metadata": {},
   "outputs": [],
   "source": [
    "demo(GenerateDatasets.Likas2(), [64,64], 20_000)"
   ]
  },
  {
   "cell_type": "code",
   "execution_count": null,
   "metadata": {},
   "outputs": [],
   "source": [
    "demo(GenerateDatasets.MagdonIsmailAndAtiya(), [32], 10_000)"
   ]
  },
  {
   "cell_type": "code",
   "execution_count": null,
   "metadata": {},
   "outputs": [],
   "source": [
    "demo(Arcsine(1,4), [64,64], 20_000)"
   ]
  },
  {
   "cell_type": "code",
   "execution_count": null,
   "metadata": {
    "collapsed": true
   },
   "outputs": [],
   "source": [
    "dataset = GenerateDatasets.Likas3()\n",
    "data = original_sample(dataset)\n",
    "est = NeuralDensityEstimator([64], approximate_support(GenerateDatasets.Likas3()))"
   ]
  },
  {
   "cell_type": "code",
   "execution_count": null,
   "metadata": {},
   "outputs": [],
   "source": []
  },
  {
   "cell_type": "code",
   "execution_count": null,
   "metadata": {},
   "outputs": [],
   "source": [
    "@show loglikelihood(dataset, data)"
   ]
  },
  {
   "cell_type": "code",
   "execution_count": null,
   "metadata": {},
   "outputs": [],
   "source": [
    "est = NeuralDensityEstimator([64], approximate_support(GenerateDatasets.Likas3()))"
   ]
  },
  {
   "cell_type": "code",
   "execution_count": null,
   "metadata": {},
   "outputs": [],
   "source": [
    "condition!(est)"
   ]
  },
  {
   "cell_type": "code",
   "execution_count": null,
   "metadata": {},
   "outputs": [],
   "source": [
    "\n",
    "fit!(est, data'; epochs=10_000, callback=running_plot())"
   ]
  },
  {
   "cell_type": "code",
   "execution_count": null,
   "metadata": {
    "scrolled": true
   },
   "outputs": [],
   "source": [
    "\n",
    "fit!(est, data; epochs=10_000, callback=running_plot())\n",
    "println(\"Fitting Done\")"
   ]
  },
  {
   "cell_type": "code",
   "execution_count": null,
   "metadata": {},
   "outputs": [],
   "source": [
    "sess = est.sess\n",
    "run(sess, est.pdf, Dict(est.t=>[0.1 0.1; 0.1 0.1; 0.3 0.6]'))"
   ]
  },
  {
   "cell_type": "code",
   "execution_count": null,
   "metadata": {},
   "outputs": [],
   "source": [
    "sess = est.sess\n",
    "run(sess, sess.graph[\"numerator\"], Dict(est.t=>[0.1 0.1; 0.1 0.1; 0.3 0.6]'))"
   ]
  },
  {
   "cell_type": "code",
   "execution_count": null,
   "metadata": {},
   "outputs": [],
   "source": [
    "data"
   ]
  },
  {
   "cell_type": "code",
   "execution_count": null,
   "metadata": {},
   "outputs": [],
   "source": [
    "run(sess, gather(constant(data), 1))"
   ]
  },
  {
   "cell_type": "code",
   "execution_count": null,
   "metadata": {
    "collapsed": true
   },
   "outputs": [],
   "source": [
    "plotly()"
   ]
  },
  {
   "cell_type": "code",
   "execution_count": null,
   "metadata": {},
   "outputs": [],
   "source": [
    "\"\"\"\n",
    "    meshgrid(xs, ys, zfun)\n",
    "\n",
    "Evalates `zfun(x,y)` at each point in `xs`, and `ys`.\n",
    "Returns 3 vectors, a list of x points a list of y points and the value of z at that point.\n",
    "\"\"\"\n",
    "function meshgrid(xs, ys, zfun) \n",
    "    # There is a cute generalisation of this with a `@generated` function\n",
    "    xpoints = eltype(xs)[]\n",
    "    ypoints = eltype(ys)[]\n",
    "    zpoints = typeof(zfun(xs[1],ys[1]))[]\n",
    "    sizehint!.([xpoints, ypoints, zpoints], length(xs)*length(ys))\n",
    "    for x in xs, y in ys\n",
    "        push!(xpoints,x)\n",
    "        push!(ypoints,y)\n",
    "        push!(zpoints,zfun(x,y))\n",
    "    end\n",
    "    \n",
    "    xpoints, ypoints, zpoints\n",
    "end\n"
   ]
  },
  {
   "cell_type": "code",
   "execution_count": null,
   "metadata": {
    "scrolled": true
   },
   "outputs": [],
   "source": [
    "X=-0.1:0.01:0.3\n",
    "Y=-0.1:0.01:0.3\n",
    "scatter3d(meshgrid(X,Y, (x,y)->pdf(est, [x,y]))...)"
   ]
  },
  {
   "cell_type": "code",
   "execution_count": null,
   "metadata": {},
   "outputs": [],
   "source": [
    "pdf(est, SMatrix{1,2}([0.1 0.1]))"
   ]
  },
  {
   "cell_type": "code",
   "execution_count": null,
   "metadata": {},
   "outputs": [],
   "source": [
    "est"
   ]
  },
  {
   "cell_type": "code",
   "execution_count": null,
   "metadata": {},
   "outputs": [],
   "source": [
    "size([0.1 0.1])"
   ]
  },
  {
   "cell_type": "code",
   "execution_count": null,
   "metadata": {},
   "outputs": [],
   "source": [
    "?SArray"
   ]
  },
  {
   "cell_type": "code",
   "execution_count": null,
   "metadata": {
    "collapsed": true
   },
   "outputs": [],
   "source": []
  }
 ],
 "metadata": {
  "kernelspec": {
   "display_name": "Julia 0.6.0",
   "language": "julia",
   "name": "julia-0.6"
  },
  "language_info": {
   "file_extension": ".jl",
   "mimetype": "application/julia",
   "name": "julia",
   "version": "0.6.0"
  }
 },
 "nbformat": 4,
 "nbformat_minor": 2
}
