{
 "cells": [
  {
   "cell_type": "markdown",
   "metadata": {
    "collapsed": true
   },
   "source": [
    "## Intro\n",
    "\n",
    "This is inspired by \n",
    "Article (likas2001probability) Likas, A. Probability density estimation using artificial neural networks Computer physics communications, Elsevier, 2001, 135, 167-175\n",
    "\n",
    "But rather than estimating the working with a network, we will instead work with its derivitive.\n",
    "This will let us replace their integration with a derivative.\n",
    "\n",
    "Note that this method only works for compact supports\n",
    "\n"
   ]
  },
  {
   "cell_type": "markdown",
   "metadata": {},
   "source": [
    "They use the PDF is given by $$p_h(x,p) = \\dfrac{h(x,p)}{\\int_S h(z,p) dz}$$\n",
    "and in their case $h=N(x,p)$  a neural network with weight and bias parameters $p$.\n",
    "Where $S$ is a compact support. (That means bounded)\n",
    "\n",
    "\n",
    "But if instead we say $h=\\frac{\\partial N(x,p)}{\\partial x}$,\n",
    "\n",
    "then $$p_h(x,p) = \\dfrac{h(x,p)}{\\int_S h(z,p)}=\\dfrac{\\frac{\\partial N(x,p)}{\\partial x}}{N(max(S),p) - N(min(S), p)}$$\n",
    "\n",
    "The denominator is ofcourse more complex for non-1D values of S.\n"
   ]
  },
  {
   "cell_type": "markdown",
   "metadata": {},
   "source": [
    "The loss function given is the negative log-likelihood of the set of training samples $X$\n",
    "$$L(p) = -\\sum_{\\forall x \\in X} ln(h(x,p))  + |X| ln(\\int_S h(z,p) dx)$$\n",
    "\n",
    "Which befomes:\n",
    "\n",
    "$$L(p) = -\\sum_{\\forall x \\in X} log(\\frac{\\partial N(x,p)}{\\partial x})  + |X|(ln(N(max(S),p)-N(min(S),p)) dx$$"
   ]
  },
  {
   "cell_type": "code",
   "execution_count": null,
   "metadata": {
    "collapsed": true
   },
   "outputs": [],
   "source": [
    "using Plots\n",
    "using IJulia"
   ]
  },
  {
   "cell_type": "code",
   "execution_count": null,
   "metadata": {
    "collapsed": true
   },
   "outputs": [],
   "source": [
    "using TensorFlow\n",
    "using Distributions\n",
    "using StatsBase\n",
    "using StaticArrays"
   ]
  },
  {
   "cell_type": "code",
   "execution_count": null,
   "metadata": {},
   "outputs": [],
   "source": [
    "using DensityEstimationML\n",
    "function only(itr)\n",
    "    state = start(itr)\n",
    "    val,state = next(itr, state)\n",
    "    @assert(done(itr,state))\n",
    "    return val\n",
    "end"
   ]
  },
  {
   "cell_type": "code",
   "execution_count": null,
   "metadata": {},
   "outputs": [],
   "source": [
    "\"\"\"\n",
    "Function returning a function that will display a running plot.\n",
    "WARNING: Introducting or removing any variables is not supported.\n",
    "And will silently error.\n",
    "\"\"\"\n",
    "function running_plot()\n",
    "    epochs = Int[]\n",
    "    record = Dict()\n",
    "    function inner(epoch, vars::Associative)\n",
    "        for (var, values) in vars\n",
    "            value = only(values) #Incase it was an array\n",
    "            past = get!(record, var) do\n",
    "                typeof(value)[]\n",
    "            end\n",
    "            push!(past, value)\n",
    "        end\n",
    "        push!(epochs, epoch)\n",
    "        \n",
    "        IJulia.clear_output(true)\n",
    "        plot(epochs, hcat(values(record)...); label=hcat(keys(vars)...), layout=length(vars)) |> IJulia.display       \n",
    "    end\n",
    "end\n"
   ]
  },
  {
   "cell_type": "code",
   "execution_count": null,
   "metadata": {},
   "outputs": [],
   "source": [
    "function demonstration_plot(est, dataset, data, args...; kwargs...)\n",
    "    X = minimum(approximate_support(dataset)) : 0.01 : maximum(approximate_support(dataset))\n",
    "    @show typeof(data)\n",
    "    println(\"True loglikelihood      = $(loglikelihood(dataset, data))\")\n",
    "    println(\"Estimated loglikelihood = $(loglikelihood(est, data))\")\n",
    "    plot([X], [pdf(est,X), data],\n",
    "        #xlims= approximate_support(dataset),\n",
    "        xlims= (first(X), last(X)),\n",
    "        seriestype = [:path :histogram],\n",
    "        layout=(2,1),\n",
    "        legend=false,\n",
    "        nbins=[1  length(data)÷10],\n",
    "        args...; kwargs...\n",
    "    )\n",
    "end"
   ]
  },
  {
   "cell_type": "code",
   "execution_count": null,
   "metadata": {
    "scrolled": true
   },
   "outputs": [],
   "source": [
    "function demo(dataset, layers, epochs=20_000; max_conditioning_epochs=2000)\n",
    "    data = original_sample(dataset)\n",
    "    @show loglikelihood(dataset, data)\n",
    "    est = NeuralDensityEstimator(layers, approximate_support(dataset))\n",
    "\n",
    "    condition!(est; max_epochs = max_conditioning_epochs)\n",
    "    println(\"Conditioning Done\")\n",
    "    Plots.gr()\n",
    "    fit!(est, data; epochs=epochs, callback=running_plot())\n",
    "    println(\"Fitting Done\")\n",
    "    plotly()\n",
    "    demonstration_plot(est, dataset, data) |> IJulia.display\n",
    "    \n",
    "    est    \n",
    "end"
   ]
  },
  {
   "cell_type": "code",
   "execution_count": null,
   "metadata": {},
   "outputs": [],
   "source": [
    "est=demo(GenerateDatasets.Likas1(), [64, 64, 256], 1_000)"
   ]
  },
  {
   "cell_type": "code",
   "execution_count": null,
   "metadata": {},
   "outputs": [],
   "source": [
    "let \n",
    "    sess = Session(Graph())\n",
    "    X=constant([1.0,2,3])\n",
    "    y=Ops.mul(X,X)\n",
    "    @show y\n",
    "end"
   ]
  },
  {
   "cell_type": "code",
   "execution_count": null,
   "metadata": {},
   "outputs": [],
   "source": [
    "loglikelihood(GenerateDatasets.Likas1(), [2.0])"
   ]
  },
  {
   "cell_type": "code",
   "execution_count": null,
   "metadata": {},
   "outputs": [],
   "source": [
    "GenerateDatasets.Likas1()"
   ]
  },
  {
   "cell_type": "code",
   "execution_count": null,
   "metadata": {},
   "outputs": [],
   "source": [
    "sort(component_weights(est))"
   ]
  },
  {
   "cell_type": "code",
   "execution_count": null,
   "metadata": {},
   "outputs": [],
   "source": [
    "demo(GenerateDatasets.Likas2(), [64,64], 20_000)"
   ]
  },
  {
   "cell_type": "code",
   "execution_count": null,
   "metadata": {},
   "outputs": [],
   "source": [
    "demo(GenerateDatasets.MagdonIsmailAndAtiya(), [32], 10_000)"
   ]
  },
  {
   "cell_type": "code",
   "execution_count": null,
   "metadata": {},
   "outputs": [],
   "source": [
    "demo(Arcsine(1,4), [64,64], 20_000)"
   ]
  },
  {
   "cell_type": "code",
   "execution_count": null,
   "metadata": {
    "collapsed": true
   },
   "outputs": [],
   "source": []
  },
  {
   "cell_type": "code",
   "execution_count": 7,
   "metadata": {},
   "outputs": [
    {
     "data": {
      "text/plain": [
       "2×5000 Array{Float64,2}:\n",
       " 0.128923  0.0275165  0.174635   0.0790673  …  0.0390223  0.125306   0.030824\n",
       " 0.174406  0.103756   0.0603885  0.129334      0.0500258  0.0198605  0.020437"
      ]
     },
     "execution_count": 7,
     "metadata": {},
     "output_type": "execute_result"
    }
   ],
   "source": [
    "dataset = GenerateDatasets.Likas3()\n",
    "data = original_sample(dataset)"
   ]
  },
  {
   "cell_type": "code",
   "execution_count": 8,
   "metadata": {},
   "outputs": [
    {
     "data": {
      "text/plain": [
       "2"
      ]
     },
     "execution_count": 8,
     "metadata": {},
     "output_type": "execute_result"
    }
   ],
   "source": [
    "size(data,1)"
   ]
  },
  {
   "cell_type": "code",
   "execution_count": 9,
   "metadata": {},
   "outputs": [
    {
     "name": "stdout",
     "output_type": "stream",
     "text": [
      "loglikelihood(dataset, data) = 16094.379124341185\n"
     ]
    },
    {
     "data": {
      "text/plain": [
       "16094.379124341185"
      ]
     },
     "execution_count": 9,
     "metadata": {},
     "output_type": "execute_result"
    }
   ],
   "source": [
    "@show loglikelihood(dataset, data)"
   ]
  },
  {
   "cell_type": "code",
   "execution_count": 10,
   "metadata": {},
   "outputs": [
    {
     "name": "stderr",
     "output_type": "stream",
     "text": [
      "2017-09-20 20:08:51.522920: W tensorflow/core/platform/cpu_feature_guard.cc:45] The TensorFlow library wasn't compiled to use SSE4.1 instructions, but these are available on your machine and could speed up CPU computations.\n",
      "2017-09-20 20:08:51.522950: W tensorflow/core/platform/cpu_feature_guard.cc:45] The TensorFlow library wasn't compiled to use SSE4.2 instructions, but these are available on your machine and could speed up CPU computations.\n",
      "2017-09-20 20:08:51.522955: W tensorflow/core/platform/cpu_feature_guard.cc:45] The TensorFlow library wasn't compiled to use AVX instructions, but these are available on your machine and could speed up CPU computations.\n",
      "2017-09-20 20:08:51.726509: I tensorflow/stream_executor/cuda/cuda_gpu_executor.cc:893] successful NUMA node read from SysFS had negative value (-1), but there must be at least one NUMA node, so returning NUMA node zero\n",
      "2017-09-20 20:08:51.727014: I tensorflow/core/common_runtime/gpu/gpu_device.cc:940] Found device 0 with properties: \n",
      "name: GeForce GTX TITAN X\n",
      "major: 5 minor: 2 memoryClockRate (GHz) 1.076\n",
      "pciBusID 0000:01:00.0\n",
      "Total memory: 11.91GiB\n",
      "Free memory: 11.78GiB\n",
      "2017-09-20 20:08:51.727027: I tensorflow/core/common_runtime/gpu/gpu_device.cc:961] DMA: 0 \n",
      "2017-09-20 20:08:51.727032: I tensorflow/core/common_runtime/gpu/gpu_device.cc:971] 0:   Y \n",
      "2017-09-20 20:08:51.727043: I tensorflow/core/common_runtime/gpu/gpu_device.cc:1030] Creating TensorFlow device (/gpu:0) -> (device: 0, name: GeForce GTX TITAN X, pci bus id: 0000:01:00.0)\n"
     ]
    },
    {
     "name": "stdout",
     "output_type": "stream",
     "text": [
      "pdf = <Tensor pdf:1 shape=unknown dtype=Float64>\n"
     ]
    },
    {
     "data": {
      "text/plain": [
       "DensityEstimationML.NeuralDensityEstimator{2}(Session(Ptr{Void} @0x00007f862844ba30), <Tensor Group:1 shape=unknown dtype=Any>, <Tensor Group_2:1 shape=unknown dtype=Any>, <Tensor t:1 shape=(2, ?) dtype=Float32>, <Tensor pdf:1 shape=unknown dtype=Float64>)"
      ]
     },
     "execution_count": 10,
     "metadata": {},
     "output_type": "execute_result"
    }
   ],
   "source": [
    "est = NeuralDensityEstimator([64], approximate_support(GenerateDatasets.Likas3()))"
   ]
  },
  {
   "cell_type": "code",
   "execution_count": 11,
   "metadata": {},
   "outputs": [
    {
     "name": "stdout",
     "output_type": "stream",
     "text": [
      "(ii, ysmin, ysmax, condition_loss) = (1, [1.00345], [1.00345], [0.993132])\n",
      "(ii, ysmin, ysmax, condition_loss) = (51, [1.15976], [1.16003], [0.731074])\n",
      "(ii, ysmin, ysmax, condition_loss) = (101, [1.53263], [1.53849], [0.496684])\n",
      "(ii, ysmin, ysmax, condition_loss) = (151, [1.50045], [1.51411], [0.48654])\n",
      "(ii, ysmin, ysmax, condition_loss) = (201, [1.50034], [1.52537], [0.475611])\n",
      "(ii, ysmin, ysmax, condition_loss) = (251, [1.5003], [1.54026], [0.461667])\n",
      "(ii, ysmin, ysmax, condition_loss) = (301, [1.49962], [1.55846], [0.444581])\n",
      "(ii, ysmin, ysmax, condition_loss) = (351, [1.49798], [1.58027], [0.424158])\n",
      "(ii, ysmin, ysmax, condition_loss) = (401, [1.49488], [1.60591], [0.40021])\n",
      "(ii, ysmin, ysmax, condition_loss) = (451, [1.48969], [1.63541], [0.372719])\n",
      "(ii, ysmin, ysmax, condition_loss) = (501, [1.48171], [1.66833], [0.342047])\n",
      "(ii, ysmin, ysmax, condition_loss) = (551, [1.47034], [1.70364], [0.309044])\n",
      "(ii, ysmin, ysmax, condition_loss) = (601, [1.45528], [1.73983], [0.274962])\n",
      "(ii, ysmin, ysmax, condition_loss) = (651, [1.43664], [1.77532], [0.241137])\n",
      "(ii, ysmin, ysmax, condition_loss) = (701, [1.41481], [1.80896], [0.208563])\n",
      "(ii, ysmin, ysmax, condition_loss) = (751, [1.38992], [1.8404], [0.177509])\n",
      "(ii, ysmin, ysmax, condition_loss) = (801, [1.3613], [1.87021], [0.147384])\n",
      "(ii, ysmin, ysmax, condition_loss) = (851, [1.32729], [1.89916], [0.117289])\n",
      "(ii, ysmin, ysmax, condition_loss) = (901, [1.287], [1.92659], [0.0877585])\n",
      "(ii, ysmin, ysmax, condition_loss) = (951, [1.24373], [1.94965], [0.0619385])\n",
      "(ii, ysmin, ysmax, condition_loss) = (1001, [1.20407], [1.96609], [0.0427933])\n",
      "(ii, ysmin, ysmax, condition_loss) = (1051, [1.17214], [1.97656], [0.0301814])\n",
      "(ii, ysmin, ysmax, condition_loss) = (1101, [1.14792], [1.98304], [0.022169])\n",
      "(ii, ysmin, ysmax, condition_loss) = (1151, [1.12967], [1.98716], [0.0169801])\n",
      "(ii, ysmin, ysmax, condition_loss) = (1201, [1.11566], [1.9899], [0.0134802])\n",
      "(ii, ysmin, ysmax, condition_loss) = (1251, [1.10463], [1.99181], [0.0110137])\n",
      "(ii, ysmin, ysmax, condition_loss) = (1301, [1.0957], [1.9932], [0.00920488])\n",
      "(ii, ysmin, ysmax, condition_loss) = (1351, [1.08831], [1.99424], [0.00783242])\n",
      "(ii, ysmin, ysmax, condition_loss) = (1401, [1.08208], [1.99506], [0.00676091])\n",
      "(ii, ysmin, ysmax, condition_loss) = (1451, [1.07672], [1.9957], [0.00590429])\n",
      "(ii, ysmin, ysmax, condition_loss) = (1501, [1.07205], [1.99622], [0.00520582])\n",
      "(ii, ysmin, ysmax, condition_loss) = (1551, [1.06794], [1.99666], [0.00462681])\n",
      "(ii, ysmin, ysmax, condition_loss) = (1601, [1.06427], [1.99702], [0.00414012])\n",
      "(ii, ysmin, ysmax, condition_loss) = (1651, [1.06098], [1.99732], [0.00372615])\n",
      "(ii, ysmin, ysmax, condition_loss) = (1701, [1.05801], [1.99759], [0.00337045])\n",
      "(ii, ysmin, ysmax, condition_loss) = (1751, [1.05529], [1.99781], [0.00306213])\n",
      "(ii, ysmin, ysmax, condition_loss) = (1801, [1.05281], [1.99801], [0.0027928])\n",
      "(ii, ysmin, ysmax, condition_loss) = (1851, [1.05052], [1.99818], [0.00255596])\n",
      "(ii, ysmin, ysmax, condition_loss) = (1901, [1.04841], [1.99834], [0.00234644])\n",
      "(ii, ysmin, ysmax, condition_loss) = (1951, [1.04645], [1.99847], [0.0021601])\n"
     ]
    }
   ],
   "source": [
    "condition!(est)"
   ]
  },
  {
   "cell_type": "code",
   "execution_count": null,
   "metadata": {},
   "outputs": [],
   "source": [
    "\n",
    "fit!(est, data'; epochs=10_000, callback=running_plot())"
   ]
  },
  {
   "cell_type": "code",
   "execution_count": null,
   "metadata": {},
   "outputs": [],
   "source": [
    "\n",
    "fit!(est, data; epochs=10_000, callback=running_plot())\n",
    "println(\"Fitting Done\")"
   ]
  },
  {
   "cell_type": "code",
   "execution_count": null,
   "metadata": {},
   "outputs": [],
   "source": [
    "sess = est.sess\n",
    "run(sess, gradients(sess.graph([\"yt\"]), Dict(est.t=>[0.1 0.1; 0.1 0.1; 0.3 0.3]))"
   ]
  },
  {
   "cell_type": "code",
   "execution_count": 12,
   "metadata": {},
   "outputs": [
    {
     "data": {
      "text/plain": [
       "2×3 Array{Float64,2}:\n",
       " 1.36282  1.36282  0.565036\n",
       " 1.36311  1.36311  0.565153"
      ]
     },
     "execution_count": 12,
     "metadata": {},
     "output_type": "execute_result"
    }
   ],
   "source": [
    "sess = est.sess\n",
    "run(sess, est.pdf, Dict(est.t=>[0.1 0.1; 0.1 0.1; 0.3 0.6]'))"
   ]
  },
  {
   "cell_type": "code",
   "execution_count": 14,
   "metadata": {},
   "outputs": [
    {
     "data": {
      "text/plain": [
       "2×3 Array{Float32,2}:\n",
       " 1.30008  1.30008  0.539024\n",
       " 1.30036  1.30036  0.539136"
      ]
     },
     "execution_count": 14,
     "metadata": {},
     "output_type": "execute_result"
    }
   ],
   "source": [
    "sess = est.sess\n",
    "run(sess, sess.graph[\"numerator\"], Dict(est.t=>[0.1 0.1; 0.1 0.1; 0.3 0.6]'))"
   ]
  },
  {
   "cell_type": "code",
   "execution_count": null,
   "metadata": {
    "collapsed": true
   },
   "outputs": [],
   "source": []
  },
  {
   "cell_type": "code",
   "execution_count": null,
   "metadata": {
    "collapsed": true
   },
   "outputs": [],
   "source": [
    "plotly()"
   ]
  },
  {
   "cell_type": "code",
   "execution_count": null,
   "metadata": {},
   "outputs": [],
   "source": [
    "\"\"\"\n",
    "    meshgrid(xs, ys, zfun)\n",
    "\n",
    "Evalates `zfun(x,y)` at each point in `xs`, and `ys`.\n",
    "Returns 3 vectors, a list of x points a list of y points and the value of z at that point.\n",
    "\"\"\"\n",
    "function meshgrid(xs, ys, zfun) \n",
    "    # There is a cute generalisation of this with a `@generated` function\n",
    "    xpoints = eltype(xs)[]\n",
    "    ypoints = eltype(ys)[]\n",
    "    zpoints = typeof(zfun(xs[1],ys[1]))[]\n",
    "    sizehint!.([xpoints, ypoints, zpoints], length(xs)*length(ys))\n",
    "    for x in xs, y in ys\n",
    "        push!(xpoints,x)\n",
    "        push!(ypoints,y)\n",
    "        push!(zpoints,zfun(x,y))\n",
    "    end\n",
    "    \n",
    "    xpoints, ypoints, zpoints\n",
    "end\n"
   ]
  },
  {
   "cell_type": "code",
   "execution_count": null,
   "metadata": {
    "scrolled": true
   },
   "outputs": [],
   "source": [
    "X=-0.1:0.01:0.3\n",
    "Y=-0.1:0.01:0.3\n",
    "scatter3d(meshgrid(X,Y, (x,y)->pdf(est, [x,y]))...)"
   ]
  },
  {
   "cell_type": "code",
   "execution_count": null,
   "metadata": {},
   "outputs": [],
   "source": [
    "pdf(est, SMatrix{1,2}([0.1 0.1]))"
   ]
  },
  {
   "cell_type": "code",
   "execution_count": null,
   "metadata": {},
   "outputs": [],
   "source": [
    "est"
   ]
  },
  {
   "cell_type": "code",
   "execution_count": null,
   "metadata": {},
   "outputs": [],
   "source": [
    "size([0.1 0.1])"
   ]
  },
  {
   "cell_type": "code",
   "execution_count": null,
   "metadata": {},
   "outputs": [],
   "source": [
    "?SArray"
   ]
  },
  {
   "cell_type": "code",
   "execution_count": null,
   "metadata": {
    "collapsed": true
   },
   "outputs": [],
   "source": []
  }
 ],
 "metadata": {
  "kernelspec": {
   "display_name": "Julia 0.6.0",
   "language": "julia",
   "name": "julia-0.6"
  },
  "language_info": {
   "file_extension": ".jl",
   "mimetype": "application/julia",
   "name": "julia",
   "version": "0.6.0"
  }
 },
 "nbformat": 4,
 "nbformat_minor": 2
}
