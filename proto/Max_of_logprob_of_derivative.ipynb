{
 "cells": [
  {
   "cell_type": "markdown",
   "metadata": {
    "collapsed": true
   },
   "source": [
    "## Intro\n",
    "\n",
    "This is inspired by \n",
    "Article (likas2001probability) Likas, A. Probability density estimation using artificial neural networks Computer physics communications, Elsevier, 2001, 135, 167-175\n",
    "\n",
    "But rather than estimating the working with a network, we will instead work with its derivitive.\n",
    "This will let us replace their integration with a derivative.\n",
    "\n",
    "Note that this method only works for compact supports\n",
    "\n"
   ]
  },
  {
   "cell_type": "markdown",
   "metadata": {},
   "source": [
    "They use the PDF is given by $$p_h(x,p) = \\dfrac{h(x,p)}{\\int_S h(z,p) dz}$$\n",
    "and in their case $h=N(x,p)$  a neural network with weight and bias parameters $p$.\n",
    "Where $S$ is a compact support. (That means bounded)\n",
    "\n",
    "\n",
    "But if instead we say $h=\\frac{\\partial N(x,p)}{\\partial x}$,\n",
    "\n",
    "then $$p_h(x,p) = \\dfrac{h(x,p)}{\\int_S h(z,p)}=\\dfrac{\\frac{\\partial N(x,p)}{\\partial x}}{N(max(S),p) - N(min(S), p)}$$\n",
    "\n",
    "The denominator is ofcourse more complex for non-1D values of S.\n"
   ]
  },
  {
   "cell_type": "markdown",
   "metadata": {},
   "source": [
    "The loss function given is the negative log-likelihood of the set of training samples $X$\n",
    "$$L(p) = -\\sum_{\\forall x \\in X} ln(h(x,p))  + |X| ln(\\int_S h(z,p) dx)$$\n",
    "\n",
    "Which befomes:\n",
    "\n",
    "$$L(p) = -\\sum_{\\forall x \\in X} log(\\frac{\\partial N(x,p)}{\\partial x})  + |X|(ln(N(max(S),p)-N(min(S),p)) dx$$"
   ]
  },
  {
   "cell_type": "code",
   "execution_count": null,
   "metadata": {
    "collapsed": true
   },
   "outputs": [],
   "source": [
    "using Plots\n",
    "using IJulia"
   ]
  },
  {
   "cell_type": "code",
   "execution_count": null,
   "metadata": {
    "collapsed": true
   },
   "outputs": [],
   "source": [
    "using TensorFlow\n",
    "using Distributions\n",
    "using StatsBase"
   ]
  },
  {
   "cell_type": "code",
   "execution_count": null,
   "metadata": {},
   "outputs": [],
   "source": [
    "using DensityEstimationML\n",
    "function only(itr)\n",
    "    state = start(itr)\n",
    "    val,state = next(itr, state)\n",
    "    @assert(done(itr,state))\n",
    "    return val\n",
    "end"
   ]
  },
  {
   "cell_type": "code",
   "execution_count": 4,
   "metadata": {},
   "outputs": [
    {
     "data": {
      "text/plain": [
       "running_plot"
      ]
     },
     "execution_count": 4,
     "metadata": {},
     "output_type": "execute_result"
    }
   ],
   "source": [
    "\"\"\"\n",
    "Function returning a function that will display a running plot.\n",
    "WARNING: Introducting or removing any variables is not supported.\n",
    "And will silently error.\n",
    "\"\"\"\n",
    "function running_plot()\n",
    "    epochs = Int[]\n",
    "    record = Dict()\n",
    "    function inner(epoch, vars::Associative)\n",
    "        for (var, values) in vars\n",
    "            value = only(values) #Incase it was an array\n",
    "            past = get!(record, var) do\n",
    "                typeof(value)[]\n",
    "            end\n",
    "            push!(past, value)\n",
    "        end\n",
    "        push!(epochs, epoch)\n",
    "        \n",
    "        IJulia.clear_output(true)\n",
    "        plot(epochs, hcat(values(record)...); label=hcat(keys(vars)...), layout=length(vars)) |> IJulia.display       \n",
    "    end\n",
    "end\n"
   ]
  },
  {
   "cell_type": "code",
   "execution_count": 5,
   "metadata": {},
   "outputs": [
    {
     "data": {
      "text/plain": [
       "demonstration_plot (generic function with 1 method)"
      ]
     },
     "execution_count": 5,
     "metadata": {},
     "output_type": "execute_result"
    }
   ],
   "source": [
    "function demonstration_plot(est, dataset, data, args...; kwargs...)\n",
    "    X = minimum(approximate_support(dataset)) : 0.01 : maximum(approximate_support(dataset))\n",
    "    @show typeof(data)\n",
    "    println(\"True loglikelihood      = $(loglikelihood(dataset, data))\")\n",
    "    println(\"Estimated loglikelihood = $(loglikelihood(est, data))\")\n",
    "    plot([X], [pdf(est,X), data],\n",
    "        #xlims= approximate_support(dataset),\n",
    "        xlims= (first(X), last(X)),\n",
    "        seriestype = [:path :histogram],\n",
    "        layout=(2,1),\n",
    "        legend=false,\n",
    "        nbins=[1  length(data)÷10],\n",
    "        args...; kwargs...\n",
    "    )\n",
    "end"
   ]
  },
  {
   "cell_type": "code",
   "execution_count": 6,
   "metadata": {
    "scrolled": true
   },
   "outputs": [
    {
     "data": {
      "text/plain": [
       "demo (generic function with 2 methods)"
      ]
     },
     "execution_count": 6,
     "metadata": {},
     "output_type": "execute_result"
    }
   ],
   "source": [
    "function demo(dataset, layers, epochs=20_000; max_conditioning_epochs=2000)\n",
    "    data = original_sample(dataset)\n",
    "    @show loglikelihood(dataset, data)\n",
    "    est = NeuralDensityEstimator(layers, approximate_support(dataset))\n",
    "\n",
    "    condition!(est; max_epochs = max_conditioning_epochs)\n",
    "    println(\"Conditioning Done\")\n",
    "    Plots.gr()\n",
    "    fit!(est, data; epochs=epochs, callback=running_plot())\n",
    "    println(\"Fitting Done\")\n",
    "    plotly()\n",
    "    demonstration_plot(est, dataset, data) |> IJulia.display\n",
    "    \n",
    "    est    \n",
    "end"
   ]
  },
  {
   "cell_type": "code",
   "execution_count": null,
   "metadata": {},
   "outputs": [],
   "source": [
    "est=demo(GenerateDatasets.Likas1(), [64, 64, 256], 1_000)"
   ]
  },
  {
   "cell_type": "code",
   "execution_count": null,
   "metadata": {},
   "outputs": [],
   "source": [
    "loglikelihood(GenerateDatasets.Likas1(), [2.0])"
   ]
  },
  {
   "cell_type": "code",
   "execution_count": null,
   "metadata": {},
   "outputs": [],
   "source": [
    "GenerateDatasets.Likas1()"
   ]
  },
  {
   "cell_type": "code",
   "execution_count": null,
   "metadata": {},
   "outputs": [],
   "source": [
    "sort(component_weights(est))"
   ]
  },
  {
   "cell_type": "code",
   "execution_count": null,
   "metadata": {},
   "outputs": [],
   "source": [
    "demo(GenerateDatasets.Likas2(), [64,64], 20_000)"
   ]
  },
  {
   "cell_type": "code",
   "execution_count": null,
   "metadata": {},
   "outputs": [],
   "source": [
    "demo(GenerateDatasets.MagdonIsmailAndAtiya(), [32], 10_000)"
   ]
  },
  {
   "cell_type": "code",
   "execution_count": null,
   "metadata": {},
   "outputs": [],
   "source": [
    "demo(Arcsine(1,4), [64,64], 20_000)"
   ]
  },
  {
   "cell_type": "code",
   "execution_count": null,
   "metadata": {
    "collapsed": true
   },
   "outputs": [],
   "source": []
  },
  {
   "cell_type": "code",
   "execution_count": 10,
   "metadata": {},
   "outputs": [
    {
     "data": {
      "text/plain": [
       "2×5000 Array{Float64,2}:\n",
       " 0.168274  0.0164784  0.0360932  0.0139004  …  0.16162   0.168491  0.00861437\n",
       " 0.100672  0.128224   0.166696   0.0778806     0.142952  0.142529  0.0350145 "
      ]
     },
     "execution_count": 10,
     "metadata": {},
     "output_type": "execute_result"
    }
   ],
   "source": [
    "dataset = GenerateDatasets.Likas3()\n",
    "data = original_sample(dataset)"
   ]
  },
  {
   "cell_type": "code",
   "execution_count": 13,
   "metadata": {},
   "outputs": [
    {
     "name": "stdout",
     "output_type": "stream",
     "text": [
      "loglikelihood(dataset, data) = 16094.379124341185\n"
     ]
    },
    {
     "data": {
      "text/plain": [
       "16094.379124341185"
      ]
     },
     "execution_count": 13,
     "metadata": {},
     "output_type": "execute_result"
    }
   ],
   "source": [
    "@show loglikelihood(dataset, data)"
   ]
  },
  {
   "cell_type": "code",
   "execution_count": 15,
   "metadata": {},
   "outputs": [
    {
     "name": "stderr",
     "output_type": "stream",
     "text": [
      "2017-09-20 14:18:33.536439: W tensorflow/core/platform/cpu_feature_guard.cc:45] The TensorFlow library wasn't compiled to use SSE4.1 instructions, but these are available on your machine and could speed up CPU computations.\n",
      "2017-09-20 14:18:33.536470: W tensorflow/core/platform/cpu_feature_guard.cc:45] The TensorFlow library wasn't compiled to use SSE4.2 instructions, but these are available on your machine and could speed up CPU computations.\n",
      "2017-09-20 14:18:33.536476: W tensorflow/core/platform/cpu_feature_guard.cc:45] The TensorFlow library wasn't compiled to use AVX instructions, but these are available on your machine and could speed up CPU computations.\n",
      "2017-09-20 14:18:33.731465: I tensorflow/stream_executor/cuda/cuda_gpu_executor.cc:893] successful NUMA node read from SysFS had negative value (-1), but there must be at least one NUMA node, so returning NUMA node zero\n",
      "2017-09-20 14:18:33.731991: I tensorflow/core/common_runtime/gpu/gpu_device.cc:940] Found device 0 with properties: \n",
      "name: GeForce GTX TITAN X\n",
      "major: 5 minor: 2 memoryClockRate (GHz) 1.076\n",
      "pciBusID 0000:01:00.0\n",
      "Total memory: 11.91GiB\n",
      "Free memory: 11.78GiB\n",
      "2017-09-20 14:18:33.732005: I tensorflow/core/common_runtime/gpu/gpu_device.cc:961] DMA: 0 \n",
      "2017-09-20 14:18:33.732011: I tensorflow/core/common_runtime/gpu/gpu_device.cc:971] 0:   Y \n",
      "2017-09-20 14:18:33.732023: I tensorflow/core/common_runtime/gpu/gpu_device.cc:1030] Creating TensorFlow device (/gpu:0) -> (device: 0, name: GeForce GTX TITAN X, pci bus id: 0000:01:00.0)\n"
     ]
    },
    {
     "data": {
      "text/plain": [
       "DensityEstimationML.NeuralDensityEstimator{2}(Session(Ptr{Void} @0x00007f7af9fef350), <Tensor Group:1 shape=unknown dtype=Any>, <Tensor Group_2:1 shape=unknown dtype=Any>, <Tensor t:1 shape=(2, ?) dtype=Float32>, <Tensor pdf:1 shape=unknown dtype=Float64>)"
      ]
     },
     "execution_count": 15,
     "metadata": {},
     "output_type": "execute_result"
    }
   ],
   "source": [
    "\n",
    "est = NeuralDensityEstimator([64], (-0.1, -0.1),(0.3,0.3))"
   ]
  },
  {
   "cell_type": "code",
   "execution_count": 16,
   "metadata": {},
   "outputs": [
    {
     "name": "stdout",
     "output_type": "stream",
     "text": [
      "(ii, ysmin, ysmax, condition_loss) = (1, [1.00279], [1.00279], [0.994445])\n",
      "(ii, ysmin, ysmax, condition_loss) = (51, [1.15626], [1.15652], [0.73588])\n",
      "(ii, ysmin, ysmax, condition_loss) = (101, [1.53301], [1.53886], [0.496748])\n",
      "(ii, ysmin, ysmax, condition_loss) = (151, [1.50044], [1.51408], [0.486552])\n",
      "(ii, ysmin, ysmax, condition_loss) = (201, [1.50034], [1.52536], [0.475627])\n",
      "(ii, ysmin, ysmax, condition_loss) = (251, [1.50031], [1.54024], [0.461693])\n",
      "(ii, ysmin, ysmax, condition_loss) = (301, [1.49963], [1.55843], [0.444619])\n",
      "(ii, ysmin, ysmax, condition_loss) = (351, [1.49799], [1.58022], [0.424207])\n",
      "(ii, ysmin, ysmax, condition_loss) = (401, [1.49489], [1.60586], [0.400265])\n",
      "(ii, ysmin, ysmax, condition_loss) = (451, [1.48971], [1.63536], [0.372773])\n",
      "(ii, ysmin, ysmax, condition_loss) = (501, [1.48173], [1.6683], [0.34209])\n",
      "(ii, ysmin, ysmax, condition_loss) = (551, [1.47035], [1.70363], [0.309066])\n",
      "(ii, ysmin, ysmax, condition_loss) = (601, [1.45528], [1.73986], [0.274952])\n",
      "(ii, ysmin, ysmax, condition_loss) = (651, [1.43662], [1.77538], [0.24109])\n",
      "(ii, ysmin, ysmax, condition_loss) = (701, [1.41477], [1.80902], [0.20851])\n",
      "(ii, ysmin, ysmax, condition_loss) = (751, [1.39], [1.84031], [0.177602])\n",
      "(ii, ysmin, ysmax, condition_loss) = (801, [1.36201], [1.86952], [0.148076])\n",
      "(ii, ysmin, ysmax, condition_loss) = (851, [1.32992], [1.8971], [0.119433])\n",
      "(ii, ysmin, ysmax, condition_loss) = (901, [1.2933], [1.92263], [0.0920121])\n",
      "(ii, ysmin, ysmax, condition_loss) = (951, [1.25401], [1.94453], [0.0675974])\n",
      "(ii, ysmin, ysmax, condition_loss) = (1001, [1.21601], [1.96135], [0.0481528])\n",
      "(ii, ysmin, ysmax, condition_loss) = (1051, [1.18279], [1.97314], [0.0341347])\n",
      "(ii, ysmin, ysmax, condition_loss) = (1101, [1.15568], [1.98097], [0.0245984])\n",
      "(ii, ysmin, ysmax, condition_loss) = (1151, [1.13427], [1.98611], [0.0182223])\n",
      "(ii, ysmin, ysmax, condition_loss) = (1201, [1.11751], [1.98952], [0.0139174])\n",
      "(ii, ysmin, ysmax, condition_loss) = (1251, [1.10429], [1.99185], [0.010942])\n",
      "(ii, ysmin, ysmax, condition_loss) = (1301, [1.09372], [1.99348], [0.00882644])\n",
      "(ii, ysmin, ysmax, condition_loss) = (1351, [1.08515], [1.99467], [0.00727854])\n",
      "(ii, ysmin, ysmax, condition_loss) = (1401, [1.07807], [1.99555], [0.0061153])\n",
      "(ii, ysmin, ysmax, condition_loss) = (1451, [1.07215], [1.99622], [0.00521987])\n",
      "(ii, ysmin, ysmax, condition_loss) = (1501, [1.06712], [1.99675], [0.00451577])\n",
      "(ii, ysmin, ysmax, condition_loss) = (1551, [1.0628], [1.99717], [0.00395168])\n",
      "(ii, ysmin, ysmax, condition_loss) = (1601, [1.05904], [1.9975], [0.00349231])\n",
      "(ii, ysmin, ysmax, condition_loss) = (1651, [1.05575], [1.99778], [0.0031128])\n",
      "(ii, ysmin, ysmax, condition_loss) = (1701, [1.05283], [1.99801], [0.00279528])\n",
      "(ii, ysmin, ysmax, condition_loss) = (1751, [1.05023], [1.99821], [0.00252665])\n",
      "(ii, ysmin, ysmax, condition_loss) = (1801, [1.0479], [1.99837], [0.0022971])\n",
      "(ii, ysmin, ysmax, condition_loss) = (1851, [1.04579], [1.99852], [0.0020992])\n",
      "(ii, ysmin, ysmax, condition_loss) = (1901, [1.04388], [1.99864], [0.00192723])\n",
      "(ii, ysmin, ysmax, condition_loss) = (1951, [1.04213], [1.99875], [0.0017767])\n",
      "Conditioning Done\n"
     ]
    },
    {
     "ename": "LoadError",
     "evalue": "\u001b[91mDimensionMismatch(\"Failed to set  input \\\"t:0\\\",  as Tensors have incompatiable shapes (TensorShape[2, ?] vs TensorShape[5000, 2])\")\u001b[39m",
     "output_type": "error",
     "traceback": [
      "\u001b[91mDimensionMismatch(\"Failed to set  input \\\"t:0\\\",  as Tensors have incompatiable shapes (TensorShape[2, ?] vs TensorShape[5000, 2])\")\u001b[39m",
      "",
      "Stacktrace:",
      " [1] \u001b[1mcheck_shape\u001b[22m\u001b[22m\u001b[1m(\u001b[22m\u001b[22m::TensorFlow.Tensor{Float32}, ::Array{Float64,2}\u001b[1m)\u001b[22m\u001b[22m at \u001b[1m/home/uniwa/students2/students/20361362/linux/.julia/v0.6/TensorFlow/src/run.jl:140\u001b[22m\u001b[22m",
      " [2] \u001b[1mrun\u001b[22m\u001b[22m\u001b[1m(\u001b[22m\u001b[22m::TensorFlow.Session, ::Array{TensorFlow.Tensor,1}, ::Dict{TensorFlow.Tensor{Float32},Array{Float64,2}}\u001b[1m)\u001b[22m\u001b[22m at \u001b[1m/home/uniwa/students2/students/20361362/linux/.julia/v0.6/TensorFlow/src/run.jl:164\u001b[22m\u001b[22m",
      " [3] \u001b[1m#fit!#10\u001b[22m\u001b[22m\u001b[1m(\u001b[22m\u001b[22m::DensityEstimationML.#ignore, ::Array{String,1}, ::Int64, ::Function, ::DensityEstimationML.NeuralDensityEstimator{2}, ::Array{Float64,2}\u001b[1m)\u001b[22m\u001b[22m at \u001b[1m/home/uniwa/students2/students/20361362/linux/.julia/v0.6/DensityEstimationML/src/estimator.jl:63\u001b[22m\u001b[22m",
      " [4] \u001b[1m(::StatsBase.#kw##fit!)\u001b[22m\u001b[22m\u001b[1m(\u001b[22m\u001b[22m::Array{Any,1}, ::StatsBase.#fit!, ::DensityEstimationML.NeuralDensityEstimator{2}, ::Array{Float64,2}\u001b[1m)\u001b[22m\u001b[22m at \u001b[1m./<missing>:0\u001b[22m\u001b[22m",
      " [5] \u001b[1minclude_string\u001b[22m\u001b[22m\u001b[1m(\u001b[22m\u001b[22m::String, ::String\u001b[1m)\u001b[22m\u001b[22m at \u001b[1m./loading.jl:515\u001b[22m\u001b[22m"
     ]
    }
   ],
   "source": [
    "\n",
    "condition!(est)\n",
    "println(\"Conditioning Done\")\n",
    "fit!(est, data; epochs=10_000)\n",
    "println(\"Fitting Done\")"
   ]
  },
  {
   "cell_type": "code",
   "execution_count": null,
   "metadata": {},
   "outputs": [],
   "source": [
    "gr =est.sess.graph\n",
    "run(est.sess, exp(6*gr[\"W_2\"].^2 + gr[\"b_2\"]))"
   ]
  },
  {
   "cell_type": "code",
   "execution_count": null,
   "metadata": {},
   "outputs": [],
   "source": [
    "collect(keys(est.sess.graph))"
   ]
  },
  {
   "cell_type": "code",
   "execution_count": null,
   "metadata": {
    "collapsed": true
   },
   "outputs": [],
   "source": []
  }
 ],
 "metadata": {
  "kernelspec": {
   "display_name": "Julia 0.6.0",
   "language": "julia",
   "name": "julia-0.6"
  },
  "language_info": {
   "file_extension": ".jl",
   "mimetype": "application/julia",
   "name": "julia",
   "version": "0.6.0"
  }
 },
 "nbformat": 4,
 "nbformat_minor": 2
}
