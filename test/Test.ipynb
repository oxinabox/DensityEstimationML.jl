{
 "cells": [
  {
   "cell_type": "code",
   "execution_count": null,
   "metadata": {
    "collapsed": true
   },
   "outputs": [],
   "source": [
    "using StatsBase\n",
    "using Distributions"
   ]
  },
  {
   "cell_type": "code",
   "execution_count": 8,
   "metadata": {
    "collapsed": true
   },
   "outputs": [],
   "source": [
    "using TensorFlow\n",
    "using MLDataUtils"
   ]
  },
  {
   "cell_type": "code",
   "execution_count": 9,
   "metadata": {},
   "outputs": [],
   "source": [
    "using DensityEstimationML\n",
    "using Plots"
   ]
  },
  {
   "cell_type": "code",
   "execution_count": 10,
   "metadata": {},
   "outputs": [],
   "source": [
    "immutable NeuralDensityEstimator\n",
    "    sess::Session\n",
    "    \n",
    "    #Network nodes\n",
    "    optimizer::Tensor\n",
    "    t::Tensor\n",
    "    pdf::Tensor\n",
    "    cdf::Tensor\n",
    "end"
   ]
  },
  {
   "cell_type": "code",
   "execution_count": 112,
   "metadata": {},
   "outputs": [
    {
     "data": {
      "text/plain": [
       "6-element Array{Int64,1}:\n",
       " 2\n",
       " 2\n",
       " 2\n",
       " 2\n",
       " 2\n",
       " 2"
      ]
     },
     "execution_count": 112,
     "metadata": {},
     "output_type": "execute_result"
    }
   ],
   "source": [
    "a = Vector{Int}(6)\n",
    "a[:]=2\n",
    "a"
   ]
  },
  {
   "cell_type": "code",
   "execution_count": 194,
   "metadata": {},
   "outputs": [
    {
     "data": {
      "text/plain": [
       "NeuralDensityEstimator"
      ]
     },
     "execution_count": 194,
     "metadata": {},
     "output_type": "execute_result"
    }
   ],
   "source": [
    "leaky_relu6(z) = 0.001z + nn.relu6(z)\n",
    "\n",
    "function NeuralDensityEstimator(prob_layer_sizes)\n",
    "    sess = Session(Graph())\n",
    "    @tf begin\n",
    "        t1 = placeholder(Float32, shape=[1, -1])\n",
    "        t2 = placeholder(Float32, shape=[1, -1])\n",
    "        countprob_between = placeholder(Float32, shape=[-1])\n",
    "        \n",
    "        zp1 = [t1]\n",
    "        zp2 = [t2]\n",
    "        layer_sizes= [1; prob_layer_sizes; 1]\n",
    "        act_funs = Vector{Function}(length(layer_sizes)-1)\n",
    "        act_funs[:] = nn.relu6\n",
    "        act_funs[end] = nn.sigmoid\n",
    "        for ii in 2:length(layer_sizes)\n",
    "            below_size = layer_sizes[ii-1]\n",
    "            above_size = layer_sizes[ii]\n",
    "            \n",
    "            act_fun = act_funs[ii-1]\n",
    "            \n",
    "            Wii = get_variable(\"W_$ii\", [above_size, below_size], Float32)\n",
    "            bii = get_variable(\"b_$ii\", [above_size, 1], Float32)\n",
    "            \n",
    "            push!(zp1, act_fun(Wii*zp1[end] .+ bii))\n",
    "            push!(zp2, act_fun(Wii*zp2[end] .+ bii))\n",
    "        end\n",
    "        \n",
    "        cdf1 = zp1[end]\n",
    "        cdf2 = zp2[end]\n",
    "        #Assumes t2>t1\n",
    "        cdf_between = cdf2 - cdf1\n",
    "                \n",
    "        \n",
    "        losses = 0.5.*(cdf_between .- countprob_between).^2\n",
    "        \n",
    "        loss=reduce_mean(losses; axis=2)\n",
    "        optimizer = train.minimize(train.AdamOptimizer(), loss)\n",
    "        \n",
    "        pdf1 = gradients(cdf1, t1)\n",
    "    end\n",
    "    \n",
    "    run(sess, global_variables_initializer())\n",
    "    \n",
    "    NeuralDensityEstimator(sess, optimizer, t1, pdf1, cdf1)\n",
    "end"
   ]
  },
  {
   "cell_type": "code",
   "execution_count": 195,
   "metadata": {},
   "outputs": [],
   "source": [
    "function Distributions.cdf(est::NeuralDensityEstimator, t::Real)\n",
    "    gr = est.sess.graph\n",
    "    ts = reshape([t], (1,1))\n",
    "    run(est.sess, est.cdf, Dict(est.t=>ts))[1]\n",
    "end\n",
    "\n",
    "function Distributions.pdf(est::NeuralDensityEstimator, t::Real)\n",
    "    gr = est.sess.graph\n",
    "    ts = reshape([t], (1,1))\n",
    "    run(est.sess, est.pdf, Dict(est.t=>ts))[1]\n",
    "end\n",
    "\n"
   ]
  },
  {
   "cell_type": "code",
   "execution_count": 196,
   "metadata": {},
   "outputs": [
    {
     "name": "stderr",
     "output_type": "stream",
     "text": [
      "\u001b[1m\u001b[33mWARNING: \u001b[39m\u001b[22m\u001b[33mreplacing docs for 'get_cdf_training_pairs :: Tuple{Any}' in module 'Main'.\u001b[39m\n"
     ]
    },
    {
     "data": {
      "text/plain": [
       "get_cdf_training_pairs"
      ]
     },
     "execution_count": 196,
     "metadata": {},
     "output_type": "execute_result"
    }
   ],
   "source": [
    "\"\"\"\n",
    "Returns 3 vectors.\n",
    "A vector of start points \\$t1\\$\n",
    "A vector of end points \\$t2\\$\n",
    "A vector of the counts of elements \\$ti\\$ between them, such that \\$\\left{t_i \\mid t1 \\le ti < t2 \\right}\\$\n",
    "\"\"\"\n",
    "function get_cdf_training_pairs(observations)\n",
    "    observations = sort(observations)\n",
    "    \n",
    "    t1s = Float32[]\n",
    "    t2s = Float32[]\n",
    "    probs = Float32[]\n",
    "    for (ii, t1) in enumerate(observations)\n",
    "        for jj in ii+1 : length(observations)\n",
    "            t2 = observations[jj]\n",
    "            count = jj - ii           \n",
    "            push!(t1s, t1)\n",
    "            push!(t2s, t2)\n",
    "            push!(probs, count/length(observations))\n",
    "        end\n",
    "    end\n",
    "    \n",
    "    t1s, t2s, probs\n",
    "end"
   ]
  },
  {
   "cell_type": "code",
   "execution_count": 197,
   "metadata": {},
   "outputs": [],
   "source": [
    "function StatsBase.fit!(estimator::NeuralDensityEstimator, observations;\n",
    "    epochs = 20,\n",
    "    batch_size = 1024)\n",
    "    gr = estimator.sess.graph\n",
    "    \n",
    "    for ii in 1:epochs\n",
    "        batch_losses = Float32[]\n",
    "        for (t1_o, t2_o, probs_o) = eachbatch(shuffleobs(get_cdf_training_pairs(observations)), batch_size)\n",
    "            loss_o, _, = run(estimator.sess, \n",
    "                [gr[\"loss\"], estimator.optimizer],\n",
    "                Dict(gr[\"t1\"]=>t1_o', gr[\"t2\"]=>t2_o', gr[\"countprob_between\"]=>probs_o))\n",
    "            push!(batch_losses, loss_o[1])\n",
    "        end\n",
    "        epoch_loss = mean(batch_losses)\n",
    "        println(\"Epoch $ii: loss: $(epoch_loss)\")\n",
    "    end\n",
    "    estimator\n",
    "end"
   ]
  },
  {
   "cell_type": "code",
   "execution_count": 205,
   "metadata": {
    "scrolled": true
   },
   "outputs": [
    {
     "name": "stderr",
     "output_type": "stream",
     "text": [
      "2017-08-07 17:56:49.634704: I tensorflow/core/common_runtime/gpu/gpu_device.cc:1030] Creating TensorFlow device (/gpu:0) -> (device: 0, name: GeForce GTX TITAN X, pci bus id: 0000:01:00.0)\n",
      "\u001b[1m\u001b[33mWARNING: \u001b[39m\u001b[22m\u001b[33m.* is no longer a function object; use broadcast(*, ...) instead\u001b[39m\n",
      "Stacktrace:\n",
      " [1] \u001b[1mdepwarn\u001b[22m\u001b[22m\u001b[1m(\u001b[22m\u001b[22m::String, ::Symbol\u001b[1m)\u001b[22m\u001b[22m at \u001b[1m./deprecated.jl:70\u001b[22m\u001b[22m\n",
      " [2] \u001b[1m(::Base.##716#717)\u001b[22m\u001b[22m\u001b[1m(\u001b[22m\u001b[22m::Float64, ::TensorFlow.Tensor{Float32}\u001b[1m)\u001b[22m\u001b[22m at \u001b[1m./deprecated.jl:346\u001b[22m\u001b[22m\n",
      " [3] \u001b[1m(::TensorFlow.###8#9#11{Base.##716#717})\u001b[22m\u001b[22m\u001b[1m(\u001b[22m\u001b[22m::Array{Any,1}, ::Function, ::Float64, ::Vararg{Any,N} where N\u001b[1m)\u001b[22m\u001b[22m at \u001b[1m/home/uniwa/students2/students/20361362/linux/.julia/v0.6/TensorFlow/src/meta.jl:67\u001b[22m\u001b[22m\n",
      " [4] \u001b[1mNeuralDensityEstimator\u001b[22m\u001b[22m\u001b[1m(\u001b[22m\u001b[22m::Array{Int64,1}\u001b[1m)\u001b[22m\u001b[22m at \u001b[1m./In[194]:35\u001b[22m\u001b[22m\n",
      " [5] \u001b[1minclude_string\u001b[22m\u001b[22m\u001b[1m(\u001b[22m\u001b[22m::String, ::String\u001b[1m)\u001b[22m\u001b[22m at \u001b[1m./loading.jl:515\u001b[22m\u001b[22m\n",
      " [6] \u001b[1minclude_string\u001b[22m\u001b[22m\u001b[1m(\u001b[22m\u001b[22m::Module, ::String, ::String\u001b[1m)\u001b[22m\u001b[22m at \u001b[1m/home/uniwa/students2/students/20361362/linux/.julia/v0.6/Compat/src/Compat.jl:577\u001b[22m\u001b[22m\n",
      " [7] \u001b[1mexecute_request\u001b[22m\u001b[22m\u001b[1m(\u001b[22m\u001b[22m::ZMQ.Socket, ::IJulia.Msg\u001b[1m)\u001b[22m\u001b[22m at \u001b[1m/home/uniwa/students2/students/20361362/linux/.julia/v0.6/IJulia/src/execute_request.jl:154\u001b[22m\u001b[22m\n",
      " [8] \u001b[1meventloop\u001b[22m\u001b[22m\u001b[1m(\u001b[22m\u001b[22m::ZMQ.Socket\u001b[1m)\u001b[22m\u001b[22m at \u001b[1m/home/uniwa/students2/students/20361362/linux/.julia/v0.6/IJulia/src/eventloop.jl:8\u001b[22m\u001b[22m\n",
      " [9] \u001b[1m(::IJulia.##14#17)\u001b[22m\u001b[22m\u001b[1m(\u001b[22m\u001b[22m\u001b[1m)\u001b[22m\u001b[22m at \u001b[1m./task.jl:335\u001b[22m\u001b[22m\n",
      "while loading In[205], in expression starting on line 1\n"
     ]
    }
   ],
   "source": [
    "est = NeuralDensityEstimator([32, 64])\n",
    "data = GenerateDatasets.magdon_ismail_and_atiya();\n"
   ]
  },
  {
   "cell_type": "code",
   "execution_count": 206,
   "metadata": {},
   "outputs": [
    {
     "name": "stdout",
     "output_type": "stream",
     "text": [
      "Epoch 1: loss: 0.08006751\n"
     ]
    },
    {
     "name": "stderr",
     "output_type": "stream",
     "text": [
      "\u001b[1m\u001b[36mINFO: \u001b[39m\u001b[22m\u001b[36mThe specified values for size and/or count will result in 444 unused data points\n",
      "\u001b[39m\u001b[1m\u001b[36mINFO: \u001b[39m\u001b[22m\u001b[36mThe specified values for size and/or count will result in 444 unused data points\n",
      "\u001b[39m"
     ]
    },
    {
     "name": "stdout",
     "output_type": "stream",
     "text": [
      "Epoch 2: loss: 0.046977956\n",
      "Epoch 3: loss: 0.0085209375\n"
     ]
    },
    {
     "name": "stderr",
     "output_type": "stream",
     "text": [
      "\u001b[1m\u001b[36mINFO: \u001b[39m\u001b[22m\u001b[36mThe specified values for size and/or count will result in 444 unused data points\n",
      "\u001b[39m\u001b[1m\u001b[36mINFO: \u001b[39m\u001b[22m\u001b[36mThe specified values for size and/or count will result in 444 unused data points\n",
      "\u001b[39m"
     ]
    },
    {
     "name": "stdout",
     "output_type": "stream",
     "text": [
      "Epoch 4: loss: 0.005304319\n",
      "Epoch 5: loss: 0.003396785\n"
     ]
    },
    {
     "name": "stderr",
     "output_type": "stream",
     "text": [
      "\u001b[1m\u001b[36mINFO: \u001b[39m\u001b[22m\u001b[36mThe specified values for size and/or count will result in 444 unused data points\n",
      "\u001b[39m\u001b[1m\u001b[36mINFO: \u001b[39m\u001b[22m\u001b[36mThe specified values for size and/or count will result in 444 unused data points\n",
      "\u001b[39m"
     ]
    },
    {
     "name": "stdout",
     "output_type": "stream",
     "text": [
      "Epoch 6: loss: 0.0023797657\n",
      "Epoch 7: loss: 0.0021810306\n"
     ]
    },
    {
     "name": "stderr",
     "output_type": "stream",
     "text": [
      "\u001b[1m\u001b[36mINFO: \u001b[39m\u001b[22m\u001b[36mThe specified values for size and/or count will result in 444 unused data points\n",
      "\u001b[39m\u001b[1m\u001b[36mINFO: \u001b[39m\u001b[22m\u001b[36mThe specified values for size and/or count will result in 444 unused data points\n",
      "\u001b[39m"
     ]
    },
    {
     "name": "stdout",
     "output_type": "stream",
     "text": [
      "Epoch 8: loss: 0.0021199351\n",
      "Epoch 9: loss: 0.0020639251\n"
     ]
    },
    {
     "name": "stderr",
     "output_type": "stream",
     "text": [
      "\u001b[1m\u001b[36mINFO: \u001b[39m\u001b[22m\u001b[36mThe specified values for size and/or count will result in 444 unused data points\n",
      "\u001b[39m\u001b[1m\u001b[36mINFO: \u001b[39m\u001b[22m\u001b[36mThe specified values for size and/or count will result in 444 unused data points\n",
      "\u001b[39m\u001b[1m\u001b[36mINFO: \u001b[39m\u001b[22m\u001b[36mThe specified values for size and/or count will result in 444 unused data points\n",
      "\u001b[39m"
     ]
    },
    {
     "name": "stdout",
     "output_type": "stream",
     "text": [
      "Epoch 10: loss: 0.0020287037\n",
      "Epoch 11: loss: 0.0019947905\n"
     ]
    },
    {
     "name": "stderr",
     "output_type": "stream",
     "text": [
      "\u001b[1m\u001b[36mINFO: \u001b[39m\u001b[22m\u001b[36mThe specified values for size and/or count will result in 444 unused data points\n",
      "\u001b[39m"
     ]
    },
    {
     "name": "stdout",
     "output_type": "stream",
     "text": [
      "Epoch 12: loss: 0.0019686772\n",
      "Epoch 13: loss: 0.001954392\n",
      "Epoch 14: loss: 0.0019356569\n",
      "Epoch 15: loss: 0.0019233845\n"
     ]
    },
    {
     "name": "stderr",
     "output_type": "stream",
     "text": [
      "\u001b[1m\u001b[36mINFO: \u001b[39m\u001b[22m\u001b[36mThe specified values for size and/or count will result in 444 unused data points\n",
      "\u001b[39m\u001b[1m\u001b[36mINFO: \u001b[39m\u001b[22m\u001b[36mThe specified values for size and/or count will result in 444 unused data points\n",
      "\u001b[39m\u001b[1m\u001b[36mINFO: \u001b[39m\u001b[22m\u001b[36mThe specified values for size and/or count will result in 444 unused data points\n",
      "\u001b[39m\u001b[1m\u001b[36mINFO: \u001b[39m\u001b[22m\u001b[36mThe specified values for size and/or count will result in 444 unused data points\n",
      "\u001b[39m"
     ]
    },
    {
     "name": "stdout",
     "output_type": "stream",
     "text": [
      "Epoch 16: loss: 0.001920972\n",
      "Epoch 17: loss: 0.0019144812\n"
     ]
    },
    {
     "name": "stderr",
     "output_type": "stream",
     "text": [
      "\u001b[1m\u001b[36mINFO: \u001b[39m\u001b[22m\u001b[36mThe specified values for size and/or count will result in 444 unused data points\n",
      "\u001b[39m\u001b[1m\u001b[36mINFO: \u001b[39m\u001b[22m\u001b[36mThe specified values for size and/or count will result in 444 unused data points\n",
      "\u001b[39m"
     ]
    },
    {
     "name": "stdout",
     "output_type": "stream",
     "text": [
      "Epoch 18: loss: 0.0019133193\n",
      "Epoch 19: loss: 0.0019064002\n"
     ]
    },
    {
     "name": "stderr",
     "output_type": "stream",
     "text": [
      "\u001b[1m\u001b[36mINFO: \u001b[39m\u001b[22m\u001b[36mThe specified values for size and/or count will result in 444 unused data points\n",
      "\u001b[39m\u001b[1m\u001b[36mINFO: \u001b[39m\u001b[22m\u001b[36mThe specified values for size and/or count will result in 444 unused data points\n",
      "\u001b[39m"
     ]
    },
    {
     "name": "stdout",
     "output_type": "stream",
     "text": [
      "Epoch 20: loss: 0.0019004102\n",
      "Epoch 21: loss: 0.0018975632\n"
     ]
    },
    {
     "name": "stderr",
     "output_type": "stream",
     "text": [
      "\u001b[1m\u001b[36mINFO: \u001b[39m\u001b[22m\u001b[36mThe specified values for size and/or count will result in 444 unused data points\n",
      "\u001b[39m\u001b[1m\u001b[36mINFO: \u001b[39m\u001b[22m\u001b[36mThe specified values for size and/or count will result in 444 unused data points\n",
      "\u001b[39m"
     ]
    },
    {
     "name": "stdout",
     "output_type": "stream",
     "text": [
      "Epoch 22: loss: 0.0019001849\n",
      "Epoch 23: loss: 0.0018915924\n"
     ]
    },
    {
     "name": "stderr",
     "output_type": "stream",
     "text": [
      "\u001b[1m\u001b[36mINFO: \u001b[39m\u001b[22m\u001b[36mThe specified values for size and/or count will result in 444 unused data points\n",
      "\u001b[39m\u001b[1m\u001b[36mINFO: \u001b[39m\u001b[22m\u001b[36mThe specified values for size and/or count will result in 444 unused data points\n",
      "\u001b[39m"
     ]
    },
    {
     "name": "stdout",
     "output_type": "stream",
     "text": [
      "Epoch 24: loss: 0.0018957583\n",
      "Epoch 25: loss: 0.0018953802\n"
     ]
    },
    {
     "name": "stderr",
     "output_type": "stream",
     "text": [
      "\u001b[1m\u001b[36mINFO: \u001b[39m\u001b[22m\u001b[36mThe specified values for size and/or count will result in 444 unused data points\n",
      "\u001b[39m\u001b[1m\u001b[36mINFO: \u001b[39m\u001b[22m\u001b[36mThe specified values for size and/or count will result in 444 unused data points\n",
      "\u001b[39m"
     ]
    },
    {
     "name": "stdout",
     "output_type": "stream",
     "text": [
      "Epoch 26: loss: 0.0018967061\n",
      "Epoch 27: loss: 0.0018996648\n"
     ]
    },
    {
     "name": "stderr",
     "output_type": "stream",
     "text": [
      "\u001b[1m\u001b[36mINFO: \u001b[39m\u001b[22m\u001b[36mThe specified values for size and/or count will result in 444 unused data points\n",
      "\u001b[39m\u001b[1m\u001b[36mINFO: \u001b[39m\u001b[22m\u001b[36mThe specified values for size and/or count will result in 444 unused data points\n",
      "\u001b[39m"
     ]
    },
    {
     "name": "stdout",
     "output_type": "stream",
     "text": [
      "Epoch 28: loss: 0.0018994547\n",
      "Epoch 29: loss: 0.0018970398\n"
     ]
    },
    {
     "name": "stderr",
     "output_type": "stream",
     "text": [
      "\u001b[1m\u001b[36mINFO: \u001b[39m\u001b[22m\u001b[36mThe specified values for size and/or count will result in 444 unused data points\n",
      "\u001b[39m\u001b[1m\u001b[36mINFO: \u001b[39m\u001b[22m\u001b[36mThe specified values for size and/or count will result in 444 unused data points\n",
      "\u001b[39m"
     ]
    },
    {
     "name": "stdout",
     "output_type": "stream",
     "text": [
      "Epoch 30: loss: 0.0018952544\n",
      "Epoch 31: loss: 0.0018969594\n"
     ]
    },
    {
     "name": "stderr",
     "output_type": "stream",
     "text": [
      "\u001b[1m\u001b[36mINFO: \u001b[39m\u001b[22m\u001b[36mThe specified values for size and/or count will result in 444 unused data points\n",
      "\u001b[39m\u001b[1m\u001b[36mINFO: \u001b[39m\u001b[22m\u001b[36mThe specified values for size and/or count will result in 444 unused data points\n",
      "\u001b[39m"
     ]
    },
    {
     "name": "stdout",
     "output_type": "stream",
     "text": [
      "Epoch 32: loss: 0.0018964917\n",
      "Epoch 33: loss: 0.0018968823\n"
     ]
    },
    {
     "name": "stderr",
     "output_type": "stream",
     "text": [
      "\u001b[1m\u001b[36mINFO: \u001b[39m\u001b[22m\u001b[36mThe specified values for size and/or count will result in 444 unused data points\n",
      "\u001b[39m\u001b[1m\u001b[36mINFO: \u001b[39m\u001b[22m\u001b[36mThe specified values for size and/or count will result in 444 unused data points\n",
      "\u001b[39m"
     ]
    },
    {
     "name": "stdout",
     "output_type": "stream",
     "text": [
      "Epoch 34: loss: 0.0018922492\n",
      "Epoch 35: loss: 0.0018949332\n"
     ]
    },
    {
     "name": "stderr",
     "output_type": "stream",
     "text": [
      "\u001b[1m\u001b[36mINFO: \u001b[39m\u001b[22m\u001b[36mThe specified values for size and/or count will result in 444 unused data points\n",
      "\u001b[39m\u001b[1m\u001b[36mINFO: \u001b[39m\u001b[22m\u001b[36mThe specified values for size and/or count will result in 444 unused data points\n",
      "\u001b[39m"
     ]
    },
    {
     "name": "stdout",
     "output_type": "stream",
     "text": [
      "Epoch 36: loss: 0.0018930074\n",
      "Epoch 37: loss: 0.0018852577\n"
     ]
    },
    {
     "name": "stderr",
     "output_type": "stream",
     "text": [
      "\u001b[1m\u001b[36mINFO: \u001b[39m\u001b[22m\u001b[36mThe specified values for size and/or count will result in 444 unused data points\n",
      "\u001b[39m\u001b[1m\u001b[36mINFO: \u001b[39m\u001b[22m\u001b[36mThe specified values for size and/or count will result in 444 unused data points\n",
      "\u001b[39m"
     ]
    },
    {
     "name": "stdout",
     "output_type": "stream",
     "text": [
      "Epoch 38: loss: 0.0018969058\n",
      "Epoch 39: loss: 0.0018968921\n"
     ]
    },
    {
     "name": "stderr",
     "output_type": "stream",
     "text": [
      "\u001b[1m\u001b[36mINFO: \u001b[39m\u001b[22m\u001b[36mThe specified values for size and/or count will result in 444 unused data points\n",
      "\u001b[39m\u001b[1m\u001b[36mINFO: \u001b[39m\u001b[22m\u001b[36mThe specified values for size and/or count will result in 444 unused data points\n",
      "\u001b[39m"
     ]
    },
    {
     "name": "stdout",
     "output_type": "stream",
     "text": [
      "Epoch 40: loss: 0.0018948369\n",
      "Epoch 41: loss: 0.0018962547\n"
     ]
    },
    {
     "name": "stderr",
     "output_type": "stream",
     "text": [
      "\u001b[1m\u001b[36mINFO: \u001b[39m\u001b[22m\u001b[36mThe specified values for size and/or count will result in 444 unused data points\n",
      "\u001b[39m\u001b[1m\u001b[36mINFO: \u001b[39m\u001b[22m\u001b[36mThe specified values for size and/or count will result in 444 unused data points\n",
      "\u001b[39m"
     ]
    },
    {
     "name": "stdout",
     "output_type": "stream",
     "text": [
      "Epoch 42: loss: 0.0018947016\n",
      "Epoch 43: loss: 0.0018949046\n"
     ]
    },
    {
     "name": "stderr",
     "output_type": "stream",
     "text": [
      "\u001b[1m\u001b[36mINFO: \u001b[39m\u001b[22m\u001b[36mThe specified values for size and/or count will result in 444 unused data points\n",
      "\u001b[39m\u001b[1m\u001b[36mINFO: \u001b[39m\u001b[22m\u001b[36mThe specified values for size and/or count will result in 444 unused data points\n",
      "\u001b[39m"
     ]
    },
    {
     "name": "stdout",
     "output_type": "stream",
     "text": [
      "Epoch 44: loss: 0.0018906072\n",
      "Epoch 45: loss: 0.0019010892\n"
     ]
    },
    {
     "name": "stderr",
     "output_type": "stream",
     "text": [
      "\u001b[1m\u001b[36mINFO: \u001b[39m\u001b[22m\u001b[36mThe specified values for size and/or count will result in 444 unused data points\n",
      "\u001b[39m\u001b[1m\u001b[36mINFO: \u001b[39m\u001b[22m\u001b[36mThe specified values for size and/or count will result in 444 unused data points\n",
      "\u001b[39m"
     ]
    },
    {
     "name": "stdout",
     "output_type": "stream",
     "text": [
      "Epoch 46: loss: 0.0018929573\n",
      "Epoch 47: loss: 0.0018980795\n"
     ]
    },
    {
     "name": "stderr",
     "output_type": "stream",
     "text": [
      "\u001b[1m\u001b[36mINFO: \u001b[39m\u001b[22m\u001b[36mThe specified values for size and/or count will result in 444 unused data points\n",
      "\u001b[39m\u001b[1m\u001b[36mINFO: \u001b[39m\u001b[22m\u001b[36mThe specified values for size and/or count will result in 444 unused data points\n",
      "\u001b[39m"
     ]
    },
    {
     "name": "stdout",
     "output_type": "stream",
     "text": [
      "Epoch 48: loss: 0.0018937298\n",
      "Epoch 49: loss: 0.0018904986\n"
     ]
    },
    {
     "name": "stderr",
     "output_type": "stream",
     "text": [
      "\u001b[1m\u001b[36mINFO: \u001b[39m\u001b[22m\u001b[36mThe specified values for size and/or count will result in 444 unused data points\n",
      "\u001b[39m\u001b[1m\u001b[36mINFO: \u001b[39m\u001b[22m\u001b[36mThe specified values for size and/or count will result in 444 unused data points\n",
      "\u001b[39m"
     ]
    },
    {
     "name": "stdout",
     "output_type": "stream",
     "text": [
      "Epoch 50: loss: 0.0018953552\n",
      "Epoch 51: loss: 0.0018937041\n"
     ]
    },
    {
     "name": "stderr",
     "output_type": "stream",
     "text": [
      "\u001b[1m\u001b[36mINFO: \u001b[39m\u001b[22m\u001b[36mThe specified values for size and/or count will result in 444 unused data points\n",
      "\u001b[39m\u001b[1m\u001b[36mINFO: \u001b[39m\u001b[22m\u001b[36mThe specified values for size and/or count will result in 444 unused data points\n",
      "\u001b[39m"
     ]
    },
    {
     "name": "stdout",
     "output_type": "stream",
     "text": [
      "Epoch 52: loss: 0.0018965353\n",
      "Epoch 53: loss: 0.0018881798\n"
     ]
    },
    {
     "name": "stderr",
     "output_type": "stream",
     "text": [
      "\u001b[1m\u001b[36mINFO: \u001b[39m\u001b[22m\u001b[36mThe specified values for size and/or count will result in 444 unused data points\n",
      "\u001b[39m\u001b[1m\u001b[36mINFO: \u001b[39m\u001b[22m\u001b[36mThe specified values for size and/or count will result in 444 unused data points\n",
      "\u001b[39m"
     ]
    },
    {
     "name": "stdout",
     "output_type": "stream",
     "text": [
      "Epoch 54: loss: 0.0018956487\n",
      "Epoch 55: loss: 0.0018909003\n"
     ]
    },
    {
     "name": "stderr",
     "output_type": "stream",
     "text": [
      "\u001b[1m\u001b[36mINFO: \u001b[39m\u001b[22m\u001b[36mThe specified values for size and/or count will result in 444 unused data points\n",
      "\u001b[39m\u001b[1m\u001b[36mINFO: \u001b[39m\u001b[22m\u001b[36mThe specified values for size and/or count will result in 444 unused data points\n",
      "\u001b[39m"
     ]
    },
    {
     "name": "stdout",
     "output_type": "stream",
     "text": [
      "Epoch 56: loss: 0.001896214\n",
      "Epoch 57: loss: 0.0018936355\n"
     ]
    },
    {
     "name": "stderr",
     "output_type": "stream",
     "text": [
      "\u001b[1m\u001b[36mINFO: \u001b[39m\u001b[22m\u001b[36mThe specified values for size and/or count will result in 444 unused data points\n",
      "\u001b[39m\u001b[1m\u001b[36mINFO: \u001b[39m\u001b[22m\u001b[36mThe specified values for size and/or count will result in 444 unused data points\n",
      "\u001b[39m"
     ]
    },
    {
     "name": "stdout",
     "output_type": "stream",
     "text": [
      "Epoch 58: loss: 0.001889624\n",
      "Epoch 59: loss: 0.001886987\n"
     ]
    },
    {
     "name": "stderr",
     "output_type": "stream",
     "text": [
      "\u001b[1m\u001b[36mINFO: \u001b[39m\u001b[22m\u001b[36mThe specified values for size and/or count will result in 444 unused data points\n",
      "\u001b[39m\u001b[1m\u001b[36mINFO: \u001b[39m\u001b[22m\u001b[36mThe specified values for size and/or count will result in 444 unused data points\n",
      "\u001b[39m"
     ]
    },
    {
     "name": "stdout",
     "output_type": "stream",
     "text": [
      "Epoch 60: loss: 0.0018843632\n",
      "Epoch 61: loss: 0.0018803881\n"
     ]
    },
    {
     "name": "stderr",
     "output_type": "stream",
     "text": [
      "\u001b[1m\u001b[36mINFO: \u001b[39m\u001b[22m\u001b[36mThe specified values for size and/or count will result in 444 unused data points\n",
      "\u001b[39m\u001b[1m\u001b[36mINFO: \u001b[39m\u001b[22m\u001b[36mThe specified values for size and/or count will result in 444 unused data points\n",
      "\u001b[39m"
     ]
    },
    {
     "name": "stdout",
     "output_type": "stream",
     "text": [
      "Epoch 62: loss: 0.0018805065\n",
      "Epoch 63: loss: 0.0018829508\n"
     ]
    },
    {
     "name": "stderr",
     "output_type": "stream",
     "text": [
      "\u001b[1m\u001b[36mINFO: \u001b[39m\u001b[22m\u001b[36mThe specified values for size and/or count will result in 444 unused data points\n",
      "\u001b[39m\u001b[1m\u001b[36mINFO: \u001b[39m\u001b[22m\u001b[36mThe specified values for size and/or count will result in 444 unused data points\n",
      "\u001b[39m"
     ]
    },
    {
     "name": "stdout",
     "output_type": "stream",
     "text": [
      "Epoch 64: loss: 0.0018837481\n",
      "Epoch 65: loss: 0.0018784645\n"
     ]
    },
    {
     "name": "stderr",
     "output_type": "stream",
     "text": [
      "\u001b[1m\u001b[36mINFO: \u001b[39m\u001b[22m\u001b[36mThe specified values for size and/or count will result in 444 unused data points\n",
      "\u001b[39m\u001b[1m\u001b[36mINFO: \u001b[39m\u001b[22m\u001b[36mThe specified values for size and/or count will result in 444 unused data points\n",
      "\u001b[39m"
     ]
    },
    {
     "name": "stdout",
     "output_type": "stream",
     "text": [
      "Epoch 66: loss: 0.0018778426\n",
      "Epoch 67: loss: 0.0018761975\n"
     ]
    },
    {
     "name": "stderr",
     "output_type": "stream",
     "text": [
      "\u001b[1m\u001b[36mINFO: \u001b[39m\u001b[22m\u001b[36mThe specified values for size and/or count will result in 444 unused data points\n",
      "\u001b[39m\u001b[1m\u001b[36mINFO: \u001b[39m\u001b[22m\u001b[36mThe specified values for size and/or count will result in 444 unused data points\n",
      "\u001b[39m"
     ]
    },
    {
     "name": "stdout",
     "output_type": "stream",
     "text": [
      "Epoch 68: loss: 0.0018766035\n",
      "Epoch 69: loss: 0.0018787356\n"
     ]
    },
    {
     "name": "stderr",
     "output_type": "stream",
     "text": [
      "\u001b[1m\u001b[36mINFO: \u001b[39m\u001b[22m\u001b[36mThe specified values for size and/or count will result in 444 unused data points\n",
      "\u001b[39m\u001b[1m\u001b[36mINFO: \u001b[39m\u001b[22m\u001b[36mThe specified values for size and/or count will result in 444 unused data points\n",
      "\u001b[39m"
     ]
    },
    {
     "name": "stdout",
     "output_type": "stream",
     "text": [
      "Epoch 70: loss: 0.0018769632\n",
      "Epoch 71: loss: 0.0018788837\n"
     ]
    },
    {
     "name": "stderr",
     "output_type": "stream",
     "text": [
      "\u001b[1m\u001b[36mINFO: \u001b[39m\u001b[22m\u001b[36mThe specified values for size and/or count will result in 444 unused data points\n",
      "\u001b[39m\u001b[1m\u001b[36mINFO: \u001b[39m\u001b[22m\u001b[36mThe specified values for size and/or count will result in 444 unused data points\n",
      "\u001b[39m"
     ]
    },
    {
     "name": "stdout",
     "output_type": "stream",
     "text": [
      "Epoch 72: loss: 0.0018797147\n",
      "Epoch 73: loss: 0.0018731903\n"
     ]
    },
    {
     "name": "stderr",
     "output_type": "stream",
     "text": [
      "\u001b[1m\u001b[36mINFO: \u001b[39m\u001b[22m\u001b[36mThe specified values for size and/or count will result in 444 unused data points\n",
      "\u001b[39m\u001b[1m\u001b[36mINFO: \u001b[39m\u001b[22m\u001b[36mThe specified values for size and/or count will result in 444 unused data points\n",
      "\u001b[39m"
     ]
    },
    {
     "name": "stdout",
     "output_type": "stream",
     "text": [
      "Epoch 74: loss: 0.0018689993\n",
      "Epoch 75: loss: 0.0018671984\n"
     ]
    },
    {
     "name": "stderr",
     "output_type": "stream",
     "text": [
      "\u001b[1m\u001b[36mINFO: \u001b[39m\u001b[22m\u001b[36mThe specified values for size and/or count will result in 444 unused data points\n",
      "\u001b[39m\u001b[1m\u001b[36mINFO: \u001b[39m\u001b[22m\u001b[36mThe specified values for size and/or count will result in 444 unused data points\n",
      "\u001b[39m"
     ]
    },
    {
     "name": "stdout",
     "output_type": "stream",
     "text": [
      "Epoch 76: loss: 0.0018683085\n",
      "Epoch 77: loss: 0.0018628627\n"
     ]
    },
    {
     "name": "stderr",
     "output_type": "stream",
     "text": [
      "\u001b[1m\u001b[36mINFO: \u001b[39m\u001b[22m\u001b[36mThe specified values for size and/or count will result in 444 unused data points\n",
      "\u001b[39m\u001b[1m\u001b[36mINFO: \u001b[39m\u001b[22m\u001b[36mThe specified values for size and/or count will result in 444 unused data points\n",
      "\u001b[39m"
     ]
    },
    {
     "name": "stdout",
     "output_type": "stream",
     "text": [
      "Epoch 78: loss: 0.0018674076\n",
      "Epoch 79: loss: 0.0018705545\n"
     ]
    },
    {
     "name": "stderr",
     "output_type": "stream",
     "text": [
      "\u001b[1m\u001b[36mINFO: \u001b[39m\u001b[22m\u001b[36mThe specified values for size and/or count will result in 444 unused data points\n",
      "\u001b[39m\u001b[1m\u001b[36mINFO: \u001b[39m\u001b[22m\u001b[36mThe specified values for size and/or count will result in 444 unused data points\n",
      "\u001b[39m"
     ]
    },
    {
     "name": "stdout",
     "output_type": "stream",
     "text": [
      "Epoch 80: loss: 0.0018604919\n",
      "Epoch 81: loss: 0.0018704052\n"
     ]
    },
    {
     "name": "stderr",
     "output_type": "stream",
     "text": [
      "\u001b[1m\u001b[36mINFO: \u001b[39m\u001b[22m\u001b[36mThe specified values for size and/or count will result in 444 unused data points\n",
      "\u001b[39m\u001b[1m\u001b[36mINFO: \u001b[39m\u001b[22m\u001b[36mThe specified values for size and/or count will result in 444 unused data points\n",
      "\u001b[39m"
     ]
    },
    {
     "name": "stdout",
     "output_type": "stream",
     "text": [
      "Epoch 82: loss: 0.0018631951\n",
      "Epoch 83: loss: 0.0018622926\n"
     ]
    },
    {
     "name": "stderr",
     "output_type": "stream",
     "text": [
      "\u001b[1m\u001b[36mINFO: \u001b[39m\u001b[22m\u001b[36mThe specified values for size and/or count will result in 444 unused data points\n",
      "\u001b[39m\u001b[1m\u001b[36mINFO: \u001b[39m\u001b[22m\u001b[36mThe specified values for size and/or count will result in 444 unused data points\n",
      "\u001b[39m"
     ]
    },
    {
     "name": "stdout",
     "output_type": "stream",
     "text": [
      "Epoch 84: loss: 0.0018582602\n",
      "Epoch 85: loss: 0.0018535227\n"
     ]
    },
    {
     "name": "stderr",
     "output_type": "stream",
     "text": [
      "\u001b[1m\u001b[36mINFO: \u001b[39m\u001b[22m\u001b[36mThe specified values for size and/or count will result in 444 unused data points\n",
      "\u001b[39m\u001b[1m\u001b[36mINFO: \u001b[39m\u001b[22m\u001b[36mThe specified values for size and/or count will result in 444 unused data points\n",
      "\u001b[39m"
     ]
    },
    {
     "name": "stdout",
     "output_type": "stream",
     "text": [
      "Epoch 86: loss: 0.0018598153\n",
      "Epoch 87: loss: 0.0018553563\n"
     ]
    },
    {
     "name": "stderr",
     "output_type": "stream",
     "text": [
      "\u001b[1m\u001b[36mINFO: \u001b[39m\u001b[22m\u001b[36mThe specified values for size and/or count will result in 444 unused data points\n",
      "\u001b[39m\u001b[1m\u001b[36mINFO: \u001b[39m\u001b[22m\u001b[36mThe specified values for size and/or count will result in 444 unused data points\n",
      "\u001b[39m"
     ]
    },
    {
     "name": "stdout",
     "output_type": "stream",
     "text": [
      "Epoch 88: loss: 0.0018641935\n",
      "Epoch 89: loss: 0.001864215\n"
     ]
    },
    {
     "name": "stderr",
     "output_type": "stream",
     "text": [
      "\u001b[1m\u001b[36mINFO: \u001b[39m\u001b[22m\u001b[36mThe specified values for size and/or count will result in 444 unused data points\n",
      "\u001b[39m\u001b[1m\u001b[36mINFO: \u001b[39m\u001b[22m\u001b[36mThe specified values for size and/or count will result in 444 unused data points\n",
      "\u001b[39m"
     ]
    },
    {
     "name": "stdout",
     "output_type": "stream",
     "text": [
      "Epoch 90: loss: 0.0018523722\n",
      "Epoch 91: loss: 0.0018499993\n"
     ]
    },
    {
     "name": "stderr",
     "output_type": "stream",
     "text": [
      "\u001b[1m\u001b[36mINFO: \u001b[39m\u001b[22m\u001b[36mThe specified values for size and/or count will result in 444 unused data points\n",
      "\u001b[39m\u001b[1m\u001b[36mINFO: \u001b[39m\u001b[22m\u001b[36mThe specified values for size and/or count will result in 444 unused data points\n",
      "\u001b[39m"
     ]
    },
    {
     "name": "stdout",
     "output_type": "stream",
     "text": [
      "Epoch 92: loss: 0.0018488502\n",
      "Epoch 93: loss: 0.0018423517\n"
     ]
    },
    {
     "name": "stderr",
     "output_type": "stream",
     "text": [
      "\u001b[1m\u001b[36mINFO: \u001b[39m\u001b[22m\u001b[36mThe specified values for size and/or count will result in 444 unused data points\n",
      "\u001b[39m\u001b[1m\u001b[36mINFO: \u001b[39m\u001b[22m\u001b[36mThe specified values for size and/or count will result in 444 unused data points\n",
      "\u001b[39m"
     ]
    },
    {
     "name": "stdout",
     "output_type": "stream",
     "text": [
      "Epoch 94: loss: 0.0018513656\n",
      "Epoch 95: loss: 0.0018494421\n"
     ]
    },
    {
     "name": "stderr",
     "output_type": "stream",
     "text": [
      "\u001b[1m\u001b[36mINFO: \u001b[39m\u001b[22m\u001b[36mThe specified values for size and/or count will result in 444 unused data points\n",
      "\u001b[39m\u001b[1m\u001b[36mINFO: \u001b[39m\u001b[22m\u001b[36mThe specified values for size and/or count will result in 444 unused data points\n",
      "\u001b[39m"
     ]
    },
    {
     "name": "stdout",
     "output_type": "stream",
     "text": [
      "Epoch 96: loss: 0.0018489873\n",
      "Epoch 97: loss: 0.0018489037\n"
     ]
    },
    {
     "name": "stderr",
     "output_type": "stream",
     "text": [
      "\u001b[1m\u001b[36mINFO: \u001b[39m\u001b[22m\u001b[36mThe specified values for size and/or count will result in 444 unused data points\n",
      "\u001b[39m\u001b[1m\u001b[36mINFO: \u001b[39m\u001b[22m\u001b[36mThe specified values for size and/or count will result in 444 unused data points\n",
      "\u001b[39m"
     ]
    },
    {
     "name": "stdout",
     "output_type": "stream",
     "text": [
      "Epoch 98: loss: 0.0018465866\n",
      "Epoch 99: loss: 0.0018522037\n"
     ]
    },
    {
     "name": "stderr",
     "output_type": "stream",
     "text": [
      "\u001b[1m\u001b[36mINFO: \u001b[39m\u001b[22m\u001b[36mThe specified values for size and/or count will result in 444 unused data points\n",
      "\u001b[39m\u001b[1m\u001b[36mINFO: \u001b[39m\u001b[22m\u001b[36mThe specified values for size and/or count will result in 444 unused data points\n",
      "\u001b[39m"
     ]
    },
    {
     "name": "stdout",
     "output_type": "stream",
     "text": [
      "Epoch 100: loss: 0.0018517583\n"
     ]
    },
    {
     "data": {
      "text/plain": [
       "NeuralDensityEstimator(Session(Ptr{Void} @0x00007f8510d5deb0), <Tensor Group:1 shape=unknown dtype=Any>, <Tensor t1:1 shape=(1, ?) dtype=Float32>, <Tensor gradients/MatMul_grad/MatMul_3:1 shape=(1, ?) dtype=Float32>, <Tensor Sigmoid:1 shape=(1, ?) dtype=Float32>)"
      ]
     },
     "execution_count": 206,
     "metadata": {},
     "output_type": "execute_result"
    }
   ],
   "source": [
    "fit!(est, data; epochs=100)"
   ]
  },
  {
   "cell_type": "code",
   "execution_count": null,
   "metadata": {},
   "outputs": [],
   "source": []
  },
  {
   "cell_type": "code",
   "execution_count": 207,
   "metadata": {},
   "outputs": [
    {
     "data": {
      "text/html": [
       "<?xml version=\"1.0\" encoding=\"utf-8\"?>\n",
       "<svg xmlns=\"http://www.w3.org/2000/svg\" xmlns:xlink=\"http://www.w3.org/1999/xlink\" width=\"600\" height=\"400\" viewBox=\"0 0 600 400\">\n",
       "<defs>\n",
       "  <clipPath id=\"clip00\">\n",
       "    <rect x=\"0\" y=\"0\" width=\"600\" height=\"400\"/>\n",
       "  </clipPath>\n",
       "</defs>\n",
       "<polygon clip-path=\"url(#clip00)\" points=\"\n",
       "0,400 600,400 600,0 0,0 \n",
       "  \" fill=\"#ffffff\" fill-opacity=\"1\"/>\n",
       "<defs>\n",
       "  <clipPath id=\"clip01\">\n",
       "    <rect x=\"120\" y=\"0\" width=\"421\" height=\"400\"/>\n",
       "  </clipPath>\n",
       "</defs>\n",
       "<polygon clip-path=\"url(#clip00)\" points=\"\n",
       "39.3701,376.378 592.126,376.378 592.126,7.87402 39.3701,7.87402 \n",
       "  \" fill=\"#ffffff\" fill-opacity=\"1\"/>\n",
       "<defs>\n",
       "  <clipPath id=\"clip02\">\n",
       "    <rect x=\"39\" y=\"7\" width=\"554\" height=\"370\"/>\n",
       "  </clipPath>\n",
       "</defs>\n",
       "<polyline clip-path=\"url(#clip02)\" style=\"stroke:#000000; stroke-width:1; stroke-opacity:0.5; fill:none\" stroke-dasharray=\"1, 2\" points=\"\n",
       "  185.381,370.85 185.381,13.4016 \n",
       "  \"/>\n",
       "<polyline clip-path=\"url(#clip02)\" style=\"stroke:#000000; stroke-width:1; stroke-opacity:0.5; fill:none\" stroke-dasharray=\"1, 2\" points=\"\n",
       "  348.34,370.85 348.34,13.4016 \n",
       "  \"/>\n",
       "<polyline clip-path=\"url(#clip02)\" style=\"stroke:#000000; stroke-width:1; stroke-opacity:0.5; fill:none\" stroke-dasharray=\"1, 2\" points=\"\n",
       "  511.298,370.85 511.298,13.4016 \n",
       "  \"/>\n",
       "<polyline clip-path=\"url(#clip02)\" style=\"stroke:#000000; stroke-width:1; stroke-opacity:0.5; fill:none\" stroke-dasharray=\"1, 2\" points=\"\n",
       "  47.6614,376.378 583.835,376.378 \n",
       "  \"/>\n",
       "<polyline clip-path=\"url(#clip02)\" style=\"stroke:#000000; stroke-width:1; stroke-opacity:0.5; fill:none\" stroke-dasharray=\"1, 2\" points=\"\n",
       "  47.6614,279.403 583.835,279.403 \n",
       "  \"/>\n",
       "<polyline clip-path=\"url(#clip02)\" style=\"stroke:#000000; stroke-width:1; stroke-opacity:0.5; fill:none\" stroke-dasharray=\"1, 2\" points=\"\n",
       "  47.6614,182.429 583.835,182.429 \n",
       "  \"/>\n",
       "<polyline clip-path=\"url(#clip02)\" style=\"stroke:#000000; stroke-width:1; stroke-opacity:0.5; fill:none\" stroke-dasharray=\"1, 2\" points=\"\n",
       "  47.6614,85.4538 583.835,85.4538 \n",
       "  \"/>\n",
       "<polyline clip-path=\"url(#clip00)\" style=\"stroke:#000000; stroke-width:1; stroke-opacity:1; fill:none\" points=\"\n",
       "  39.3701,376.378 592.126,376.378 \n",
       "  \"/>\n",
       "<polyline clip-path=\"url(#clip00)\" style=\"stroke:#000000; stroke-width:1; stroke-opacity:1; fill:none\" points=\"\n",
       "  185.381,376.378 185.381,370.85 \n",
       "  \"/>\n",
       "<polyline clip-path=\"url(#clip00)\" style=\"stroke:#000000; stroke-width:1; stroke-opacity:1; fill:none\" points=\"\n",
       "  348.34,376.378 348.34,370.85 \n",
       "  \"/>\n",
       "<polyline clip-path=\"url(#clip00)\" style=\"stroke:#000000; stroke-width:1; stroke-opacity:1; fill:none\" points=\"\n",
       "  511.298,376.378 511.298,370.85 \n",
       "  \"/>\n",
       "<polyline clip-path=\"url(#clip00)\" style=\"stroke:#000000; stroke-width:1; stroke-opacity:1; fill:none\" points=\"\n",
       "  39.3701,376.378 39.3701,7.87402 \n",
       "  \"/>\n",
       "<polyline clip-path=\"url(#clip00)\" style=\"stroke:#000000; stroke-width:1; stroke-opacity:1; fill:none\" points=\"\n",
       "  39.3701,376.378 47.6614,376.378 \n",
       "  \"/>\n",
       "<polyline clip-path=\"url(#clip00)\" style=\"stroke:#000000; stroke-width:1; stroke-opacity:1; fill:none\" points=\"\n",
       "  39.3701,279.403 47.6614,279.403 \n",
       "  \"/>\n",
       "<polyline clip-path=\"url(#clip00)\" style=\"stroke:#000000; stroke-width:1; stroke-opacity:1; fill:none\" points=\"\n",
       "  39.3701,182.429 47.6614,182.429 \n",
       "  \"/>\n",
       "<polyline clip-path=\"url(#clip00)\" style=\"stroke:#000000; stroke-width:1; stroke-opacity:1; fill:none\" points=\"\n",
       "  39.3701,85.4538 47.6614,85.4538 \n",
       "  \"/>\n",
       "<g clip-path=\"url(#clip00)\">\n",
       "<text style=\"fill:#000000; fill-opacity:1; font-family:Arial,Helvetica Neue,Helvetica,sans-serif; font-size:12; text-anchor:middle;\" transform=\"rotate(0, 185.381, 390.178)\" x=\"185.381\" y=\"390.178\">-20</text>\n",
       "</g>\n",
       "<g clip-path=\"url(#clip00)\">\n",
       "<text style=\"fill:#000000; fill-opacity:1; font-family:Arial,Helvetica Neue,Helvetica,sans-serif; font-size:12; text-anchor:middle;\" transform=\"rotate(0, 348.34, 390.178)\" x=\"348.34\" y=\"390.178\">0</text>\n",
       "</g>\n",
       "<g clip-path=\"url(#clip00)\">\n",
       "<text style=\"fill:#000000; fill-opacity:1; font-family:Arial,Helvetica Neue,Helvetica,sans-serif; font-size:12; text-anchor:middle;\" transform=\"rotate(0, 511.298, 390.178)\" x=\"511.298\" y=\"390.178\">20</text>\n",
       "</g>\n",
       "<g clip-path=\"url(#clip00)\">\n",
       "<text style=\"fill:#000000; fill-opacity:1; font-family:Arial,Helvetica Neue,Helvetica,sans-serif; font-size:12; text-anchor:end;\" transform=\"rotate(0, 33.3701, 380.878)\" x=\"33.3701\" y=\"380.878\">0</text>\n",
       "</g>\n",
       "<g clip-path=\"url(#clip00)\">\n",
       "<text style=\"fill:#000000; fill-opacity:1; font-family:Arial,Helvetica Neue,Helvetica,sans-serif; font-size:12; text-anchor:end;\" transform=\"rotate(0, 33.3701, 283.903)\" x=\"33.3701\" y=\"283.903\">5</text>\n",
       "</g>\n",
       "<g clip-path=\"url(#clip00)\">\n",
       "<text style=\"fill:#000000; fill-opacity:1; font-family:Arial,Helvetica Neue,Helvetica,sans-serif; font-size:12; text-anchor:end;\" transform=\"rotate(0, 33.3701, 186.929)\" x=\"33.3701\" y=\"186.929\">10</text>\n",
       "</g>\n",
       "<g clip-path=\"url(#clip00)\">\n",
       "<text style=\"fill:#000000; fill-opacity:1; font-family:Arial,Helvetica Neue,Helvetica,sans-serif; font-size:12; text-anchor:end;\" transform=\"rotate(0, 33.3701, 89.9538)\" x=\"33.3701\" y=\"89.9538\">15</text>\n",
       "</g>\n",
       "<polygon clip-path=\"url(#clip02)\" points=\"\n",
       "55.0141,298.798 55.0141,376.378 71.31,376.378 71.31,298.798 55.0141,298.798 55.0141,298.798 \n",
       "  \" fill=\"#009af9\" fill-opacity=\"1\"/>\n",
       "<polyline clip-path=\"url(#clip02)\" style=\"stroke:#000000; stroke-width:1; stroke-opacity:1; fill:none\" points=\"\n",
       "  55.0141,298.798 55.0141,376.378 71.31,376.378 71.31,298.798 55.0141,298.798 \n",
       "  \"/>\n",
       "<polygon clip-path=\"url(#clip02)\" points=\"\n",
       "71.31,240.613 71.31,376.378 87.6059,376.378 87.6059,240.613 71.31,240.613 71.31,240.613 \n",
       "  \" fill=\"#009af9\" fill-opacity=\"1\"/>\n",
       "<polyline clip-path=\"url(#clip02)\" style=\"stroke:#000000; stroke-width:1; stroke-opacity:1; fill:none\" points=\"\n",
       "  71.31,240.613 71.31,376.378 87.6059,376.378 87.6059,240.613 71.31,240.613 \n",
       "  \"/>\n",
       "<polygon clip-path=\"url(#clip02)\" points=\"\n",
       "87.6059,7.87402 87.6059,376.378 103.902,376.378 103.902,7.87402 87.6059,7.87402 87.6059,7.87402 \n",
       "  \" fill=\"#009af9\" fill-opacity=\"1\"/>\n",
       "<polyline clip-path=\"url(#clip02)\" style=\"stroke:#000000; stroke-width:1; stroke-opacity:1; fill:none\" points=\"\n",
       "  87.6059,7.87402 87.6059,376.378 103.902,376.378 103.902,7.87402 87.6059,7.87402 \n",
       "  \"/>\n",
       "<polygon clip-path=\"url(#clip02)\" points=\"\n",
       "103.902,46.6639 103.902,376.378 120.198,376.378 120.198,46.6639 103.902,46.6639 103.902,46.6639 \n",
       "  \" fill=\"#009af9\" fill-opacity=\"1\"/>\n",
       "<polyline clip-path=\"url(#clip02)\" style=\"stroke:#000000; stroke-width:1; stroke-opacity:1; fill:none\" points=\"\n",
       "  103.902,46.6639 103.902,376.378 120.198,376.378 120.198,46.6639 103.902,46.6639 \n",
       "  \"/>\n",
       "<polygon clip-path=\"url(#clip02)\" points=\"\n",
       "120.198,201.823 120.198,376.378 136.493,376.378 136.493,201.823 120.198,201.823 120.198,201.823 \n",
       "  \" fill=\"#009af9\" fill-opacity=\"1\"/>\n",
       "<polyline clip-path=\"url(#clip02)\" style=\"stroke:#000000; stroke-width:1; stroke-opacity:1; fill:none\" points=\"\n",
       "  120.198,201.823 120.198,376.378 136.493,376.378 136.493,201.823 120.198,201.823 \n",
       "  \"/>\n",
       "<polygon clip-path=\"url(#clip02)\" points=\"\n",
       "136.493,298.798 136.493,376.378 152.789,376.378 152.789,298.798 136.493,298.798 136.493,298.798 \n",
       "  \" fill=\"#009af9\" fill-opacity=\"1\"/>\n",
       "<polyline clip-path=\"url(#clip02)\" style=\"stroke:#000000; stroke-width:1; stroke-opacity:1; fill:none\" points=\"\n",
       "  136.493,298.798 136.493,376.378 152.789,376.378 152.789,298.798 136.493,298.798 \n",
       "  \"/>\n",
       "<polygon clip-path=\"url(#clip02)\" points=\"\n",
       "152.789,318.193 152.789,376.378 169.085,376.378 169.085,318.193 152.789,318.193 152.789,318.193 \n",
       "  \" fill=\"#009af9\" fill-opacity=\"1\"/>\n",
       "<polyline clip-path=\"url(#clip02)\" style=\"stroke:#000000; stroke-width:1; stroke-opacity:1; fill:none\" points=\"\n",
       "  152.789,318.193 152.789,376.378 169.085,376.378 169.085,318.193 152.789,318.193 \n",
       "  \"/>\n",
       "<polygon clip-path=\"url(#clip02)\" points=\"\n",
       "169.085,376.378 169.085,376.378 185.381,376.378 185.381,376.378 169.085,376.378 169.085,376.378 \n",
       "  \" fill=\"#009af9\" fill-opacity=\"1\"/>\n",
       "<polyline clip-path=\"url(#clip02)\" style=\"stroke:#000000; stroke-width:1; stroke-opacity:1; fill:none\" points=\"\n",
       "  169.085,376.378 169.085,376.378 185.381,376.378 169.085,376.378 \n",
       "  \"/>\n",
       "<polygon clip-path=\"url(#clip02)\" points=\"\n",
       "185.381,376.378 185.381,376.378 201.677,376.378 201.677,376.378 185.381,376.378 185.381,376.378 \n",
       "  \" fill=\"#009af9\" fill-opacity=\"1\"/>\n",
       "<polyline clip-path=\"url(#clip02)\" style=\"stroke:#000000; stroke-width:1; stroke-opacity:1; fill:none\" points=\"\n",
       "  185.381,376.378 185.381,376.378 201.677,376.378 185.381,376.378 \n",
       "  \"/>\n",
       "<polygon clip-path=\"url(#clip02)\" points=\"\n",
       "201.677,376.378 201.677,376.378 217.973,376.378 217.973,376.378 201.677,376.378 201.677,376.378 \n",
       "  \" fill=\"#009af9\" fill-opacity=\"1\"/>\n",
       "<polyline clip-path=\"url(#clip02)\" style=\"stroke:#000000; stroke-width:1; stroke-opacity:1; fill:none\" points=\"\n",
       "  201.677,376.378 201.677,376.378 217.973,376.378 201.677,376.378 \n",
       "  \"/>\n",
       "<polygon clip-path=\"url(#clip02)\" points=\"\n",
       "217.973,376.378 217.973,376.378 234.269,376.378 234.269,376.378 217.973,376.378 217.973,376.378 \n",
       "  \" fill=\"#009af9\" fill-opacity=\"1\"/>\n",
       "<polyline clip-path=\"url(#clip02)\" style=\"stroke:#000000; stroke-width:1; stroke-opacity:1; fill:none\" points=\"\n",
       "  217.973,376.378 217.973,376.378 234.269,376.378 217.973,376.378 \n",
       "  \"/>\n",
       "<polygon clip-path=\"url(#clip02)\" points=\"\n",
       "234.269,356.983 234.269,376.378 250.565,376.378 250.565,356.983 234.269,356.983 234.269,356.983 \n",
       "  \" fill=\"#009af9\" fill-opacity=\"1\"/>\n",
       "<polyline clip-path=\"url(#clip02)\" style=\"stroke:#000000; stroke-width:1; stroke-opacity:1; fill:none\" points=\"\n",
       "  234.269,356.983 234.269,376.378 250.565,376.378 250.565,356.983 234.269,356.983 \n",
       "  \"/>\n",
       "<polygon clip-path=\"url(#clip02)\" points=\"\n",
       "250.565,376.378 250.565,376.378 266.86,376.378 266.86,376.378 250.565,376.378 250.565,376.378 \n",
       "  \" fill=\"#009af9\" fill-opacity=\"1\"/>\n",
       "<polyline clip-path=\"url(#clip02)\" style=\"stroke:#000000; stroke-width:1; stroke-opacity:1; fill:none\" points=\"\n",
       "  250.565,376.378 250.565,376.378 266.86,376.378 250.565,376.378 \n",
       "  \"/>\n",
       "<polygon clip-path=\"url(#clip02)\" points=\"\n",
       "266.86,356.983 266.86,376.378 283.156,376.378 283.156,356.983 266.86,356.983 266.86,356.983 \n",
       "  \" fill=\"#009af9\" fill-opacity=\"1\"/>\n",
       "<polyline clip-path=\"url(#clip02)\" style=\"stroke:#000000; stroke-width:1; stroke-opacity:1; fill:none\" points=\"\n",
       "  266.86,356.983 266.86,376.378 283.156,376.378 283.156,356.983 266.86,356.983 \n",
       "  \"/>\n",
       "<polygon clip-path=\"url(#clip02)\" points=\"\n",
       "283.156,318.193 283.156,376.378 299.452,376.378 299.452,318.193 283.156,318.193 283.156,318.193 \n",
       "  \" fill=\"#009af9\" fill-opacity=\"1\"/>\n",
       "<polyline clip-path=\"url(#clip02)\" style=\"stroke:#000000; stroke-width:1; stroke-opacity:1; fill:none\" points=\"\n",
       "  283.156,318.193 283.156,376.378 299.452,376.378 299.452,318.193 283.156,318.193 \n",
       "  \"/>\n",
       "<polygon clip-path=\"url(#clip02)\" points=\"\n",
       "299.452,337.588 299.452,376.378 315.748,376.378 315.748,337.588 299.452,337.588 299.452,337.588 \n",
       "  \" fill=\"#009af9\" fill-opacity=\"1\"/>\n",
       "<polyline clip-path=\"url(#clip02)\" style=\"stroke:#000000; stroke-width:1; stroke-opacity:1; fill:none\" points=\"\n",
       "  299.452,337.588 299.452,376.378 315.748,376.378 315.748,337.588 299.452,337.588 \n",
       "  \"/>\n",
       "<polygon clip-path=\"url(#clip02)\" points=\"\n",
       "315.748,298.798 315.748,376.378 332.044,376.378 332.044,298.798 315.748,298.798 315.748,298.798 \n",
       "  \" fill=\"#009af9\" fill-opacity=\"1\"/>\n",
       "<polyline clip-path=\"url(#clip02)\" style=\"stroke:#000000; stroke-width:1; stroke-opacity:1; fill:none\" points=\"\n",
       "  315.748,298.798 315.748,376.378 332.044,376.378 332.044,298.798 315.748,298.798 \n",
       "  \"/>\n",
       "<polygon clip-path=\"url(#clip02)\" points=\"\n",
       "332.044,240.613 332.044,376.378 348.34,376.378 348.34,240.613 332.044,240.613 332.044,240.613 \n",
       "  \" fill=\"#009af9\" fill-opacity=\"1\"/>\n",
       "<polyline clip-path=\"url(#clip02)\" style=\"stroke:#000000; stroke-width:1; stroke-opacity:1; fill:none\" points=\"\n",
       "  332.044,240.613 332.044,376.378 348.34,376.378 348.34,240.613 332.044,240.613 \n",
       "  \"/>\n",
       "<polygon clip-path=\"url(#clip02)\" points=\"\n",
       "348.34,124.244 348.34,376.378 364.636,376.378 364.636,124.244 348.34,124.244 348.34,124.244 \n",
       "  \" fill=\"#009af9\" fill-opacity=\"1\"/>\n",
       "<polyline clip-path=\"url(#clip02)\" style=\"stroke:#000000; stroke-width:1; stroke-opacity:1; fill:none\" points=\"\n",
       "  348.34,124.244 348.34,376.378 364.636,376.378 364.636,124.244 348.34,124.244 \n",
       "  \"/>\n",
       "<polygon clip-path=\"url(#clip02)\" points=\"\n",
       "364.636,143.639 364.636,376.378 380.932,376.378 380.932,143.639 364.636,143.639 364.636,143.639 \n",
       "  \" fill=\"#009af9\" fill-opacity=\"1\"/>\n",
       "<polyline clip-path=\"url(#clip02)\" style=\"stroke:#000000; stroke-width:1; stroke-opacity:1; fill:none\" points=\"\n",
       "  364.636,143.639 364.636,376.378 380.932,376.378 380.932,143.639 364.636,143.639 \n",
       "  \"/>\n",
       "<polygon clip-path=\"url(#clip02)\" points=\"\n",
       "380.932,104.849 380.932,376.378 397.227,376.378 397.227,104.849 380.932,104.849 380.932,104.849 \n",
       "  \" fill=\"#009af9\" fill-opacity=\"1\"/>\n",
       "<polyline clip-path=\"url(#clip02)\" style=\"stroke:#000000; stroke-width:1; stroke-opacity:1; fill:none\" points=\"\n",
       "  380.932,104.849 380.932,376.378 397.227,376.378 397.227,104.849 380.932,104.849 \n",
       "  \"/>\n",
       "<polygon clip-path=\"url(#clip02)\" points=\"\n",
       "397.227,163.034 397.227,376.378 413.523,376.378 413.523,163.034 397.227,163.034 397.227,163.034 \n",
       "  \" fill=\"#009af9\" fill-opacity=\"1\"/>\n",
       "<polyline clip-path=\"url(#clip02)\" style=\"stroke:#000000; stroke-width:1; stroke-opacity:1; fill:none\" points=\"\n",
       "  397.227,163.034 397.227,376.378 413.523,376.378 413.523,163.034 397.227,163.034 \n",
       "  \"/>\n",
       "<polygon clip-path=\"url(#clip02)\" points=\"\n",
       "413.523,182.429 413.523,376.378 429.819,376.378 429.819,182.429 413.523,182.429 413.523,182.429 \n",
       "  \" fill=\"#009af9\" fill-opacity=\"1\"/>\n",
       "<polyline clip-path=\"url(#clip02)\" style=\"stroke:#000000; stroke-width:1; stroke-opacity:1; fill:none\" points=\"\n",
       "  413.523,182.429 413.523,376.378 429.819,376.378 429.819,182.429 413.523,182.429 \n",
       "  \"/>\n",
       "<polygon clip-path=\"url(#clip02)\" points=\"\n",
       "429.819,104.849 429.819,376.378 446.115,376.378 446.115,104.849 429.819,104.849 429.819,104.849 \n",
       "  \" fill=\"#009af9\" fill-opacity=\"1\"/>\n",
       "<polyline clip-path=\"url(#clip02)\" style=\"stroke:#000000; stroke-width:1; stroke-opacity:1; fill:none\" points=\"\n",
       "  429.819,104.849 429.819,376.378 446.115,376.378 446.115,104.849 429.819,104.849 \n",
       "  \"/>\n",
       "<polygon clip-path=\"url(#clip02)\" points=\"\n",
       "446.115,260.008 446.115,376.378 462.411,376.378 462.411,260.008 446.115,260.008 446.115,260.008 \n",
       "  \" fill=\"#009af9\" fill-opacity=\"1\"/>\n",
       "<polyline clip-path=\"url(#clip02)\" style=\"stroke:#000000; stroke-width:1; stroke-opacity:1; fill:none\" points=\"\n",
       "  446.115,260.008 446.115,376.378 462.411,376.378 462.411,260.008 446.115,260.008 \n",
       "  \"/>\n",
       "<polygon clip-path=\"url(#clip02)\" points=\"\n",
       "462.411,221.218 462.411,376.378 478.707,376.378 478.707,221.218 462.411,221.218 462.411,221.218 \n",
       "  \" fill=\"#009af9\" fill-opacity=\"1\"/>\n",
       "<polyline clip-path=\"url(#clip02)\" style=\"stroke:#000000; stroke-width:1; stroke-opacity:1; fill:none\" points=\"\n",
       "  462.411,221.218 462.411,376.378 478.707,376.378 478.707,221.218 462.411,221.218 \n",
       "  \"/>\n",
       "<polygon clip-path=\"url(#clip02)\" points=\"\n",
       "478.707,182.429 478.707,376.378 495.003,376.378 495.003,182.429 478.707,182.429 478.707,182.429 \n",
       "  \" fill=\"#009af9\" fill-opacity=\"1\"/>\n",
       "<polyline clip-path=\"url(#clip02)\" style=\"stroke:#000000; stroke-width:1; stroke-opacity:1; fill:none\" points=\"\n",
       "  478.707,182.429 478.707,376.378 495.003,376.378 495.003,182.429 478.707,182.429 \n",
       "  \"/>\n",
       "<polygon clip-path=\"url(#clip02)\" points=\"\n",
       "495.003,260.008 495.003,376.378 511.298,376.378 511.298,260.008 495.003,260.008 495.003,260.008 \n",
       "  \" fill=\"#009af9\" fill-opacity=\"1\"/>\n",
       "<polyline clip-path=\"url(#clip02)\" style=\"stroke:#000000; stroke-width:1; stroke-opacity:1; fill:none\" points=\"\n",
       "  495.003,260.008 495.003,376.378 511.298,376.378 511.298,260.008 495.003,260.008 \n",
       "  \"/>\n",
       "<polygon clip-path=\"url(#clip02)\" points=\"\n",
       "511.298,260.008 511.298,376.378 527.594,376.378 527.594,260.008 511.298,260.008 511.298,260.008 \n",
       "  \" fill=\"#009af9\" fill-opacity=\"1\"/>\n",
       "<polyline clip-path=\"url(#clip02)\" style=\"stroke:#000000; stroke-width:1; stroke-opacity:1; fill:none\" points=\"\n",
       "  511.298,260.008 511.298,376.378 527.594,376.378 527.594,260.008 511.298,260.008 \n",
       "  \"/>\n",
       "<polygon clip-path=\"url(#clip02)\" points=\"\n",
       "527.594,298.798 527.594,376.378 543.89,376.378 543.89,298.798 527.594,298.798 527.594,298.798 \n",
       "  \" fill=\"#009af9\" fill-opacity=\"1\"/>\n",
       "<polyline clip-path=\"url(#clip02)\" style=\"stroke:#000000; stroke-width:1; stroke-opacity:1; fill:none\" points=\"\n",
       "  527.594,298.798 527.594,376.378 543.89,376.378 543.89,298.798 527.594,298.798 \n",
       "  \"/>\n",
       "<polygon clip-path=\"url(#clip02)\" points=\"\n",
       "543.89,318.193 543.89,376.378 560.186,376.378 560.186,318.193 543.89,318.193 543.89,318.193 \n",
       "  \" fill=\"#009af9\" fill-opacity=\"1\"/>\n",
       "<polyline clip-path=\"url(#clip02)\" style=\"stroke:#000000; stroke-width:1; stroke-opacity:1; fill:none\" points=\"\n",
       "  543.89,318.193 543.89,376.378 560.186,376.378 560.186,318.193 543.89,318.193 \n",
       "  \"/>\n",
       "<polygon clip-path=\"url(#clip02)\" points=\"\n",
       "560.186,337.588 560.186,376.378 576.482,376.378 576.482,337.588 560.186,337.588 560.186,337.588 \n",
       "  \" fill=\"#009af9\" fill-opacity=\"1\"/>\n",
       "<polyline clip-path=\"url(#clip02)\" style=\"stroke:#000000; stroke-width:1; stroke-opacity:1; fill:none\" points=\"\n",
       "  560.186,337.588 560.186,376.378 576.482,376.378 576.482,337.588 560.186,337.588 \n",
       "  \"/>\n",
       "<polygon clip-path=\"url(#clip00)\" points=\"\n",
       "501.61,58.994 574.126,58.994 574.126,28.754 501.61,28.754 \n",
       "  \" fill=\"#ffffff\" fill-opacity=\"1\"/>\n",
       "<polyline clip-path=\"url(#clip00)\" style=\"stroke:#000000; stroke-width:1; stroke-opacity:1; fill:none\" points=\"\n",
       "  501.61,58.994 574.126,58.994 574.126,28.754 501.61,28.754 501.61,58.994 \n",
       "  \"/>\n",
       "<polygon clip-path=\"url(#clip00)\" points=\"\n",
       "507.61,49.922 543.61,49.922 543.61,37.826 507.61,37.826 507.61,49.922 \n",
       "  \" fill=\"#009af9\" fill-opacity=\"1\"/>\n",
       "<polyline clip-path=\"url(#clip00)\" style=\"stroke:#000000; stroke-width:1; stroke-opacity:1; fill:none\" points=\"\n",
       "  507.61,49.922 543.61,49.922 543.61,37.826 507.61,37.826 507.61,49.922 \n",
       "  \"/>\n",
       "<g clip-path=\"url(#clip00)\">\n",
       "<text style=\"fill:#000000; fill-opacity:1; font-family:Arial,Helvetica Neue,Helvetica,sans-serif; font-size:12; text-anchor:start;\" transform=\"rotate(0, 549.61, 48.374)\" x=\"549.61\" y=\"48.374\">y1</text>\n",
       "</g>\n",
       "</svg>\n"
      ]
     },
     "execution_count": 207,
     "metadata": {},
     "output_type": "execute_result"
    }
   ],
   "source": [
    "histogram(data)"
   ]
  },
  {
   "cell_type": "code",
   "execution_count": 208,
   "metadata": {},
   "outputs": [
    {
     "data": {
      "text/html": [
       "<?xml version=\"1.0\" encoding=\"utf-8\"?>\n",
       "<svg xmlns=\"http://www.w3.org/2000/svg\" xmlns:xlink=\"http://www.w3.org/1999/xlink\" width=\"600\" height=\"400\" viewBox=\"0 0 600 400\">\n",
       "<defs>\n",
       "  <clipPath id=\"clip00\">\n",
       "    <rect x=\"0\" y=\"0\" width=\"600\" height=\"400\"/>\n",
       "  </clipPath>\n",
       "</defs>\n",
       "<polygon clip-path=\"url(#clip00)\" points=\"\n",
       "0,400 600,400 600,0 0,0 \n",
       "  \" fill=\"#ffffff\" fill-opacity=\"1\"/>\n",
       "<defs>\n",
       "  <clipPath id=\"clip01\">\n",
       "    <rect x=\"120\" y=\"0\" width=\"421\" height=\"400\"/>\n",
       "  </clipPath>\n",
       "</defs>\n",
       "<polygon clip-path=\"url(#clip00)\" points=\"\n",
       "39.3701,376.378 592.126,376.378 592.126,7.87402 39.3701,7.87402 \n",
       "  \" fill=\"#ffffff\" fill-opacity=\"1\"/>\n",
       "<defs>\n",
       "  <clipPath id=\"clip02\">\n",
       "    <rect x=\"39\" y=\"7\" width=\"554\" height=\"370\"/>\n",
       "  </clipPath>\n",
       "</defs>\n",
       "<polyline clip-path=\"url(#clip02)\" style=\"stroke:#000000; stroke-width:1; stroke-opacity:0.5; fill:none\" stroke-dasharray=\"1, 2\" points=\"\n",
       "  39.3701,370.85 39.3701,13.4016 \n",
       "  \"/>\n",
       "<polyline clip-path=\"url(#clip02)\" style=\"stroke:#000000; stroke-width:1; stroke-opacity:0.5; fill:none\" stroke-dasharray=\"1, 2\" points=\"\n",
       "  131.496,370.85 131.496,13.4016 \n",
       "  \"/>\n",
       "<polyline clip-path=\"url(#clip02)\" style=\"stroke:#000000; stroke-width:1; stroke-opacity:0.5; fill:none\" stroke-dasharray=\"1, 2\" points=\"\n",
       "  223.622,370.85 223.622,13.4016 \n",
       "  \"/>\n",
       "<polyline clip-path=\"url(#clip02)\" style=\"stroke:#000000; stroke-width:1; stroke-opacity:0.5; fill:none\" stroke-dasharray=\"1, 2\" points=\"\n",
       "  315.748,370.85 315.748,13.4016 \n",
       "  \"/>\n",
       "<polyline clip-path=\"url(#clip02)\" style=\"stroke:#000000; stroke-width:1; stroke-opacity:0.5; fill:none\" stroke-dasharray=\"1, 2\" points=\"\n",
       "  407.874,370.85 407.874,13.4016 \n",
       "  \"/>\n",
       "<polyline clip-path=\"url(#clip02)\" style=\"stroke:#000000; stroke-width:1; stroke-opacity:0.5; fill:none\" stroke-dasharray=\"1, 2\" points=\"\n",
       "  500,370.85 500,13.4016 \n",
       "  \"/>\n",
       "<polyline clip-path=\"url(#clip02)\" style=\"stroke:#000000; stroke-width:1; stroke-opacity:0.5; fill:none\" stroke-dasharray=\"1, 2\" points=\"\n",
       "  592.126,370.85 592.126,13.4016 \n",
       "  \"/>\n",
       "<polyline clip-path=\"url(#clip02)\" style=\"stroke:#000000; stroke-width:1; stroke-opacity:0.5; fill:none\" stroke-dasharray=\"1, 2\" points=\"\n",
       "  47.6614,376.378 583.835,376.378 \n",
       "  \"/>\n",
       "<polyline clip-path=\"url(#clip02)\" style=\"stroke:#000000; stroke-width:1; stroke-opacity:0.5; fill:none\" stroke-dasharray=\"1, 2\" points=\"\n",
       "  47.6614,289.311 583.835,289.311 \n",
       "  \"/>\n",
       "<polyline clip-path=\"url(#clip02)\" style=\"stroke:#000000; stroke-width:1; stroke-opacity:0.5; fill:none\" stroke-dasharray=\"1, 2\" points=\"\n",
       "  47.6614,202.245 583.835,202.245 \n",
       "  \"/>\n",
       "<polyline clip-path=\"url(#clip02)\" style=\"stroke:#000000; stroke-width:1; stroke-opacity:0.5; fill:none\" stroke-dasharray=\"1, 2\" points=\"\n",
       "  47.6614,115.178 583.835,115.178 \n",
       "  \"/>\n",
       "<polyline clip-path=\"url(#clip02)\" style=\"stroke:#000000; stroke-width:1; stroke-opacity:0.5; fill:none\" stroke-dasharray=\"1, 2\" points=\"\n",
       "  47.6614,28.1114 583.835,28.1114 \n",
       "  \"/>\n",
       "<polyline clip-path=\"url(#clip00)\" style=\"stroke:#000000; stroke-width:1; stroke-opacity:1; fill:none\" points=\"\n",
       "  39.3701,376.378 592.126,376.378 \n",
       "  \"/>\n",
       "<polyline clip-path=\"url(#clip00)\" style=\"stroke:#000000; stroke-width:1; stroke-opacity:1; fill:none\" points=\"\n",
       "  39.3701,376.378 39.3701,370.85 \n",
       "  \"/>\n",
       "<polyline clip-path=\"url(#clip00)\" style=\"stroke:#000000; stroke-width:1; stroke-opacity:1; fill:none\" points=\"\n",
       "  131.496,376.378 131.496,370.85 \n",
       "  \"/>\n",
       "<polyline clip-path=\"url(#clip00)\" style=\"stroke:#000000; stroke-width:1; stroke-opacity:1; fill:none\" points=\"\n",
       "  223.622,376.378 223.622,370.85 \n",
       "  \"/>\n",
       "<polyline clip-path=\"url(#clip00)\" style=\"stroke:#000000; stroke-width:1; stroke-opacity:1; fill:none\" points=\"\n",
       "  315.748,376.378 315.748,370.85 \n",
       "  \"/>\n",
       "<polyline clip-path=\"url(#clip00)\" style=\"stroke:#000000; stroke-width:1; stroke-opacity:1; fill:none\" points=\"\n",
       "  407.874,376.378 407.874,370.85 \n",
       "  \"/>\n",
       "<polyline clip-path=\"url(#clip00)\" style=\"stroke:#000000; stroke-width:1; stroke-opacity:1; fill:none\" points=\"\n",
       "  500,376.378 500,370.85 \n",
       "  \"/>\n",
       "<polyline clip-path=\"url(#clip00)\" style=\"stroke:#000000; stroke-width:1; stroke-opacity:1; fill:none\" points=\"\n",
       "  592.126,376.378 592.126,370.85 \n",
       "  \"/>\n",
       "<polyline clip-path=\"url(#clip00)\" style=\"stroke:#000000; stroke-width:1; stroke-opacity:1; fill:none\" points=\"\n",
       "  39.3701,376.378 39.3701,7.87402 \n",
       "  \"/>\n",
       "<polyline clip-path=\"url(#clip00)\" style=\"stroke:#000000; stroke-width:1; stroke-opacity:1; fill:none\" points=\"\n",
       "  39.3701,376.378 47.6614,376.378 \n",
       "  \"/>\n",
       "<polyline clip-path=\"url(#clip00)\" style=\"stroke:#000000; stroke-width:1; stroke-opacity:1; fill:none\" points=\"\n",
       "  39.3701,289.311 47.6614,289.311 \n",
       "  \"/>\n",
       "<polyline clip-path=\"url(#clip00)\" style=\"stroke:#000000; stroke-width:1; stroke-opacity:1; fill:none\" points=\"\n",
       "  39.3701,202.245 47.6614,202.245 \n",
       "  \"/>\n",
       "<polyline clip-path=\"url(#clip00)\" style=\"stroke:#000000; stroke-width:1; stroke-opacity:1; fill:none\" points=\"\n",
       "  39.3701,115.178 47.6614,115.178 \n",
       "  \"/>\n",
       "<polyline clip-path=\"url(#clip00)\" style=\"stroke:#000000; stroke-width:1; stroke-opacity:1; fill:none\" points=\"\n",
       "  39.3701,28.1114 47.6614,28.1114 \n",
       "  \"/>\n",
       "<g clip-path=\"url(#clip00)\">\n",
       "<text style=\"fill:#000000; fill-opacity:1; font-family:Arial,Helvetica Neue,Helvetica,sans-serif; font-size:12; text-anchor:middle;\" transform=\"rotate(0, 39.3701, 390.178)\" x=\"39.3701\" y=\"390.178\">-50</text>\n",
       "</g>\n",
       "<g clip-path=\"url(#clip00)\">\n",
       "<text style=\"fill:#000000; fill-opacity:1; font-family:Arial,Helvetica Neue,Helvetica,sans-serif; font-size:12; text-anchor:middle;\" transform=\"rotate(0, 131.496, 390.178)\" x=\"131.496\" y=\"390.178\">-25</text>\n",
       "</g>\n",
       "<g clip-path=\"url(#clip00)\">\n",
       "<text style=\"fill:#000000; fill-opacity:1; font-family:Arial,Helvetica Neue,Helvetica,sans-serif; font-size:12; text-anchor:middle;\" transform=\"rotate(0, 223.622, 390.178)\" x=\"223.622\" y=\"390.178\">0</text>\n",
       "</g>\n",
       "<g clip-path=\"url(#clip00)\">\n",
       "<text style=\"fill:#000000; fill-opacity:1; font-family:Arial,Helvetica Neue,Helvetica,sans-serif; font-size:12; text-anchor:middle;\" transform=\"rotate(0, 315.748, 390.178)\" x=\"315.748\" y=\"390.178\">25</text>\n",
       "</g>\n",
       "<g clip-path=\"url(#clip00)\">\n",
       "<text style=\"fill:#000000; fill-opacity:1; font-family:Arial,Helvetica Neue,Helvetica,sans-serif; font-size:12; text-anchor:middle;\" transform=\"rotate(0, 407.874, 390.178)\" x=\"407.874\" y=\"390.178\">50</text>\n",
       "</g>\n",
       "<g clip-path=\"url(#clip00)\">\n",
       "<text style=\"fill:#000000; fill-opacity:1; font-family:Arial,Helvetica Neue,Helvetica,sans-serif; font-size:12; text-anchor:middle;\" transform=\"rotate(0, 500, 390.178)\" x=\"500\" y=\"390.178\">75</text>\n",
       "</g>\n",
       "<g clip-path=\"url(#clip00)\">\n",
       "<text style=\"fill:#000000; fill-opacity:1; font-family:Arial,Helvetica Neue,Helvetica,sans-serif; font-size:12; text-anchor:middle;\" transform=\"rotate(0, 592.126, 390.178)\" x=\"592.126\" y=\"390.178\">100</text>\n",
       "</g>\n",
       "<g clip-path=\"url(#clip00)\">\n",
       "<text style=\"fill:#000000; fill-opacity:1; font-family:Arial,Helvetica Neue,Helvetica,sans-serif; font-size:12; text-anchor:end;\" transform=\"rotate(0, 33.3701, 380.878)\" x=\"33.3701\" y=\"380.878\">0.00</text>\n",
       "</g>\n",
       "<g clip-path=\"url(#clip00)\">\n",
       "<text style=\"fill:#000000; fill-opacity:1; font-family:Arial,Helvetica Neue,Helvetica,sans-serif; font-size:12; text-anchor:end;\" transform=\"rotate(0, 33.3701, 293.811)\" x=\"33.3701\" y=\"293.811\">0.01</text>\n",
       "</g>\n",
       "<g clip-path=\"url(#clip00)\">\n",
       "<text style=\"fill:#000000; fill-opacity:1; font-family:Arial,Helvetica Neue,Helvetica,sans-serif; font-size:12; text-anchor:end;\" transform=\"rotate(0, 33.3701, 206.745)\" x=\"33.3701\" y=\"206.745\">0.02</text>\n",
       "</g>\n",
       "<g clip-path=\"url(#clip00)\">\n",
       "<text style=\"fill:#000000; fill-opacity:1; font-family:Arial,Helvetica Neue,Helvetica,sans-serif; font-size:12; text-anchor:end;\" transform=\"rotate(0, 33.3701, 119.678)\" x=\"33.3701\" y=\"119.678\">0.03</text>\n",
       "</g>\n",
       "<g clip-path=\"url(#clip00)\">\n",
       "<text style=\"fill:#000000; fill-opacity:1; font-family:Arial,Helvetica Neue,Helvetica,sans-serif; font-size:12; text-anchor:end;\" transform=\"rotate(0, 33.3701, 32.6114)\" x=\"33.3701\" y=\"32.6114\">0.04</text>\n",
       "</g>\n",
       "<polyline clip-path=\"url(#clip02)\" style=\"stroke:#009af9; stroke-width:1; stroke-opacity:1; fill:none\" points=\"\n",
       "  39.3701,349.903 39.7386,349.803 40.1071,349.702 40.4756,349.601 40.8441,349.5 41.2126,349.398 41.5811,349.296 41.9496,349.194 42.3181,349.091 42.6866,348.988 \n",
       "  43.0551,348.885 43.4236,348.782 43.7921,348.678 44.1606,348.574 44.5291,348.469 44.8976,348.364 45.2661,348.259 45.6346,348.154 46.0031,348.048 46.3717,347.942 \n",
       "  46.7402,347.836 47.1087,347.729 47.4772,347.622 47.8457,347.515 48.2142,347.407 48.5827,347.299 48.9512,347.191 49.3197,347.082 49.6882,346.974 50.0567,346.864 \n",
       "  50.4252,346.755 50.7937,346.645 51.1622,346.535 51.5307,346.424 51.8992,346.314 52.2677,346.203 52.6362,346.091 53.0047,345.98 53.3732,345.867 53.7417,345.755 \n",
       "  54.1102,345.642 54.4787,345.529 54.8472,345.416 55.2157,345.303 55.5843,345.189 55.9528,345.074 56.3213,344.96 56.6898,344.845 57.0583,344.73 57.4268,344.614 \n",
       "  57.7953,344.498 58.1638,344.382 58.5323,344.266 58.9008,344.149 59.2693,344.032 59.6378,343.914 60.0063,343.796 60.3748,343.678 60.7433,343.56 61.1118,343.441 \n",
       "  61.4803,343.322 61.8488,343.203 62.2173,343.083 62.5858,342.963 62.9543,342.843 63.3228,342.722 63.6913,342.601 64.0598,342.48 64.4283,342.359 64.7969,342.237 \n",
       "  65.1654,342.114 65.5339,341.992 65.9024,341.869 66.2709,341.746 66.6394,341.622 67.0079,341.499 67.3764,341.374 67.7449,341.25 68.1134,341.125 68.4819,341 \n",
       "  68.8504,340.875 69.2189,340.749 69.5874,340.623 69.9559,340.497 70.3244,340.37 70.6929,340.243 71.0614,340.116 71.4299,339.988 71.7984,339.86 72.1669,339.732 \n",
       "  72.5354,339.604 72.9039,339.475 73.2724,339.346 73.6409,339.216 74.0094,339.087 74.378,338.956 74.7465,338.826 75.115,338.695 75.4835,338.564 75.852,338.433 \n",
       "  76.2205,338.301 76.589,338.17 76.9575,338.037 77.326,337.905 77.6945,337.772 78.063,337.639 78.4315,337.505 78.8,337.372 79.1685,337.237 79.537,337.103 \n",
       "  79.9055,336.968 80.274,336.833 80.6425,336.698 81.011,336.563 81.3795,336.427 81.748,336.291 82.1165,336.154 82.485,336.017 82.8535,335.88 83.222,335.743 \n",
       "  83.5906,335.605 83.9591,335.467 84.3276,335.329 84.6961,335.19 85.0646,335.051 85.4331,334.912 85.8016,334.773 86.1701,334.633 86.5386,334.493 86.9071,334.353 \n",
       "  87.2756,334.212 87.6441,334.071 88.0126,333.93 88.3811,333.789 88.7496,333.647 89.1181,333.505 89.4866,333.363 89.8551,333.22 90.2236,333.077 90.5921,332.934 \n",
       "  90.9606,332.79 91.3291,332.647 91.6976,332.503 92.0661,332.358 92.4346,332.214 92.8031,332.069 93.1717,331.924 93.5402,331.779 93.9087,331.633 94.2772,331.487 \n",
       "  94.6457,331.341 95.0142,331.194 95.3827,331.048 95.7512,330.901 96.1197,330.753 96.4882,330.606 96.8567,330.458 97.2252,330.31 97.5937,330.162 97.9622,330.013 \n",
       "  98.3307,329.864 98.6992,329.715 99.0677,329.566 99.4362,329.416 99.8047,329.266 100.173,329.116 100.542,328.966 100.91,328.815 101.279,328.665 101.647,328.514 \n",
       "  102.016,328.362 102.384,328.211 102.753,328.059 103.121,327.907 103.49,327.755 103.858,327.602 104.227,327.449 104.595,327.296 104.964,327.143 105.332,326.99 \n",
       "  105.701,326.836 106.069,326.682 106.438,326.528 106.806,326.374 107.175,326.219 107.543,326.064 107.912,325.909 108.28,325.754 108.649,325.599 109.017,325.443 \n",
       "  109.386,325.287 109.754,325.131 110.123,324.975 110.491,324.818 110.86,324.661 111.228,324.505 111.597,324.347 111.965,324.19 112.334,324.033 112.702,323.875 \n",
       "  113.071,323.717 113.439,323.559 113.808,323.401 114.176,323.242 114.545,323.084 114.913,322.925 115.282,322.766 115.65,322.607 116.019,322.447 116.387,322.288 \n",
       "  116.756,322.128 117.124,321.968 117.493,321.808 117.861,321.648 118.23,321.488 118.598,321.327 118.967,321.166 119.335,321.006 119.704,320.845 120.072,320.683 \n",
       "  120.441,320.522 120.809,320.361 121.178,320.199 121.546,320.037 121.915,319.875 122.283,319.713 122.652,319.551 123.02,319.389 123.389,319.227 123.757,319.064 \n",
       "  124.126,318.901 124.494,318.739 124.863,318.576 125.231,318.413 125.6,318.25 125.969,318.086 126.337,317.923 126.706,317.759 127.074,317.596 127.443,317.432 \n",
       "  127.811,317.268 128.18,317.104 128.548,316.94 128.917,316.776 129.285,316.612 129.654,316.448 130.022,316.284 130.391,316.119 130.759,315.955 131.128,315.79 \n",
       "  131.496,315.626 131.865,315.461 132.233,315.296 132.602,315.131 132.97,314.966 133.339,314.801 133.707,314.636 134.076,314.471 134.444,314.306 134.813,314.141 \n",
       "  135.181,313.976 135.55,313.811 135.918,313.645 136.287,313.48 136.655,313.315 137.024,313.149 137.392,312.984 137.761,312.818 138.129,312.653 138.498,312.488 \n",
       "  138.866,312.322 139.235,312.157 139.603,311.991 139.972,311.826 140.34,311.66 140.709,311.495 141.077,311.329 141.446,311.164 141.814,310.998 142.183,310.833 \n",
       "  142.551,310.668 142.92,310.502 143.288,310.337 143.657,310.172 144.025,310.006 144.394,309.841 144.762,309.676 145.131,309.511 145.499,309.346 145.868,309.18 \n",
       "  146.236,309.015 146.605,308.851 146.973,308.686 147.342,308.521 147.71,308.356 148.079,308.191 148.447,308.027 148.816,307.862 149.184,307.698 149.553,307.534 \n",
       "  149.921,307.369 150.29,307.205 150.658,307.041 151.027,306.877 151.395,306.713 151.764,306.55 152.132,306.386 152.501,306.223 152.869,306.059 153.238,305.896 \n",
       "  153.606,305.733 153.975,305.57 154.343,305.407 154.712,305.244 155.08,305.082 155.449,304.919 155.817,304.757 156.186,304.595 156.554,304.433 156.923,304.271 \n",
       "  157.291,304.11 157.66,303.948 158.028,303.787 158.397,303.626 158.765,303.465 159.134,303.304 159.502,303.144 159.871,302.983 160.239,302.823 160.608,302.663 \n",
       "  160.976,302.503 161.345,302.344 161.713,302.185 162.082,302.026 162.45,301.867 162.819,301.708 163.187,301.55 163.556,301.392 163.924,301.234 164.293,301.076 \n",
       "  164.661,300.919 165.03,300.762 165.398,300.605 165.767,300.448 166.135,300.292 166.504,300.135 166.872,299.98 167.241,299.824 167.609,299.669 167.978,299.514 \n",
       "  168.346,299.359 168.715,299.205 169.083,299.051 169.452,298.897 169.82,298.743 170.189,298.59 170.557,298.437 170.926,298.285 171.294,298.133 171.663,297.981 \n",
       "  172.031,297.829 172.4,297.678 172.769,297.527 173.137,297.377 173.506,297.227 173.874,297.077 174.243,296.927 174.611,296.778 174.98,296.63 175.348,296.481 \n",
       "  175.717,296.333 176.085,296.186 176.454,296.038 176.822,295.892 177.191,295.745 177.559,295.599 177.928,295.454 178.296,295.308 178.665,295.164 179.033,295.019 \n",
       "  179.402,294.875 179.77,294.732 180.139,294.589 180.507,294.446 180.876,294.304 181.244,294.162 181.613,294.021 181.981,293.88 182.35,293.739 182.718,293.599 \n",
       "  183.087,293.46 183.455,293.321 183.824,293.182 184.192,293.044 184.561,292.907 184.929,292.769 185.298,292.633 185.666,292.497 186.035,292.361 186.403,292.226 \n",
       "  186.772,292.091 187.14,291.957 187.509,291.823 187.877,291.69 188.246,291.558 188.614,291.426 188.983,291.294 189.351,291.163 189.72,291.033 190.088,290.903 \n",
       "  190.457,290.774 190.825,290.645 191.194,290.517 191.562,290.389 191.931,290.262 192.299,290.135 192.668,290.009 193.036,289.884 193.405,289.759 193.773,289.635 \n",
       "  194.142,289.511 194.51,289.388 194.879,289.266 195.247,289.144 195.616,289.023 195.984,288.902 196.353,288.782 196.721,288.663 197.09,288.544 197.458,288.426 \n",
       "  197.827,288.309 198.195,288.192 198.564,288.076 198.932,287.96 199.301,287.845 199.669,287.731 200.038,287.617 200.406,287.504 200.775,287.392 201.143,287.28 \n",
       "  201.512,287.17 201.88,287.059 202.249,286.95 202.617,286.841 202.986,286.733 203.354,286.625 203.723,286.518 204.091,286.412 204.46,286.307 204.828,286.202 \n",
       "  205.197,286.098 205.565,285.995 205.934,285.892 206.302,285.79 206.671,285.689 207.039,285.589 207.408,285.489 207.776,285.39 208.145,285.292 208.513,285.194 \n",
       "  208.882,285.098 209.25,285.002 209.619,284.906 209.987,284.812 210.356,284.718 210.724,284.625 211.093,284.533 211.461,284.442 211.83,284.351 212.198,284.261 \n",
       "  212.567,284.172 212.935,284.084 213.304,283.996 213.672,283.91 214.041,283.824 214.409,283.739 214.778,283.654 215.146,283.571 215.515,283.488 215.883,283.406 \n",
       "  216.252,283.325 216.62,283.245 216.989,283.165 217.357,283.087 217.726,283.009 218.094,282.932 218.463,282.855 218.831,282.78 219.2,282.706 219.569,282.632 \n",
       "  219.937,282.559 220.306,282.487 220.674,282.416 221.043,282.346 221.411,282.276 221.78,291.735 222.148,291.68 222.517,299.959 222.885,299.915 223.254,299.872 \n",
       "  223.622,307.046 223.991,307.012 224.359,293.003 224.728,269.824 225.096,151.228 225.465,113.75 225.833,76.9949 226.202,41.4696 226.57,27.3394 226.939,26.6897 \n",
       "  227.307,7.87402 227.676,142.288 228.044,119.998 228.413,142.579 228.781,140.487 229.15,102.242 229.518,101.996 229.887,101.772 230.255,101.569 230.624,101.389 \n",
       "  230.992,101.23 231.361,101.093 231.729,100.978 232.098,100.886 232.466,100.815 232.835,100.766 233.203,100.74 233.572,100.735 233.94,100.753 234.309,100.793 \n",
       "  234.677,100.855 235.046,100.939 235.414,101.045 235.783,101.172 236.151,101.322 236.52,101.494 236.888,101.688 237.257,101.903 237.625,102.141 237.994,102.399 \n",
       "  238.362,102.68 238.731,102.982 239.099,103.305 239.468,103.65 239.836,104.015 240.205,104.402 240.573,104.81 240.942,105.238 241.31,105.688 241.679,106.157 \n",
       "  242.047,106.648 242.416,107.158 242.784,107.688 243.153,108.239 243.521,108.809 243.89,109.399 244.258,110.008 244.627,110.636 244.995,111.283 245.364,111.949 \n",
       "  245.732,112.634 246.101,113.337 246.469,114.058 246.838,114.798 247.206,115.555 247.575,116.329 247.943,117.121 248.312,117.93 248.68,118.756 249.049,119.599 \n",
       "  249.417,120.457 249.786,121.332 250.154,122.223 250.523,123.129 250.891,124.051 251.26,124.988 251.628,125.94 251.997,126.906 252.365,127.887 252.734,128.881 \n",
       "  253.102,129.89 253.471,130.911 253.839,131.947 254.208,132.995 254.576,134.055 254.945,135.128 255.313,136.214 255.682,137.311 256.05,138.419 256.419,139.539 \n",
       "  256.787,140.67 257.156,141.811 257.524,142.963 257.893,144.125 258.261,145.297 258.63,146.478 258.998,147.669 259.367,148.868 259.735,150.076 260.104,151.293 \n",
       "  260.472,152.518 260.841,153.75 261.209,154.99 261.578,96.1197 261.946,98.1615 262.315,100.217 262.683,102.285 263.052,104.366 263.42,106.458 263.789,108.56 \n",
       "  264.157,110.673 264.526,112.795 264.894,114.926 265.263,117.064 265.631,119.21 266,121.362 266.369,123.52 266.737,125.684 267.106,127.852 267.474,130.024 \n",
       "  267.843,132.199 268.211,134.377 268.58,136.557 268.948,138.739 269.317,140.921 269.685,143.104 270.054,145.286 270.422,147.468 270.791,149.649 271.159,151.827 \n",
       "  271.528,154.003 271.896,156.176 272.265,158.346 272.633,160.512 273.002,162.673 273.37,164.83 273.739,166.981 274.107,169.126 274.476,171.265 274.844,173.398 \n",
       "  275.213,175.523 275.581,177.641 275.95,179.752 276.318,181.854 276.687,183.947 277.055,186.031 277.424,188.107 277.792,190.172 278.161,192.228 278.529,194.273 \n",
       "  278.898,196.308 279.266,198.332 279.635,200.344 280.003,202.346 280.372,204.335 280.74,206.313 281.109,208.279 281.477,210.232 281.846,212.173 282.214,214.101 \n",
       "  282.583,216.016 282.951,217.918 283.32,219.806 283.688,221.681 284.057,223.542 284.425,225.39 284.794,227.223 285.162,229.042 285.531,230.847 285.899,232.638 \n",
       "  286.268,234.414 286.636,236.176 287.005,237.923 287.373,239.655 287.742,241.373 288.11,243.075 288.479,244.763 288.847,246.435 289.216,248.093 289.584,249.735 \n",
       "  289.953,251.362 290.321,252.974 290.69,254.571 291.058,256.153 291.427,257.719 291.795,259.27 292.164,260.806 292.532,262.326 292.901,263.832 293.269,265.322 \n",
       "  293.638,266.796 294.006,268.256 294.375,269.701 294.743,271.13 295.112,272.544 295.48,273.943 295.849,275.328 296.217,276.697 296.586,278.051 296.954,279.391 \n",
       "  297.323,280.715 297.691,282.025 298.06,283.32 298.428,284.601 298.797,285.867 299.165,287.119 299.534,288.356 299.902,289.579 300.271,290.787 300.639,291.982 \n",
       "  301.008,293.162 301.376,294.329 301.745,295.481 302.113,296.62 302.482,297.745 302.85,298.856 303.219,299.954 303.587,301.039 303.956,302.11 304.324,303.168 \n",
       "  304.693,304.213 305.061,305.245 305.43,306.264 305.798,307.27 306.167,308.263 306.535,309.244 306.904,310.213 307.272,311.169 307.641,312.112 308.009,313.044 \n",
       "  308.378,313.963 308.746,314.871 309.115,315.767 309.483,316.651 309.852,317.524 310.22,318.385 310.589,319.234 310.957,320.073 311.326,320.9 311.694,321.716 \n",
       "  312.063,322.522 312.431,323.316 312.8,324.1 313.169,324.873 313.537,325.636 313.906,326.389 314.274,327.131 314.643,327.863 315.011,328.585 315.38,329.297 \n",
       "  315.748,329.999 316.117,330.692 316.485,331.375 316.854,332.048 317.222,332.713 317.591,333.368 317.959,334.013 318.328,334.65 318.696,335.278 319.065,335.897 \n",
       "  319.433,336.507 319.802,337.109 320.17,337.702 320.539,338.287 320.907,338.863 321.276,339.431 321.644,339.992 322.013,340.544 322.381,341.088 322.75,341.624 \n",
       "  323.118,342.153 323.487,342.674 323.855,343.187 324.224,343.694 324.592,344.192 324.961,344.684 325.329,345.168 325.698,345.646 326.066,346.116 326.435,346.58 \n",
       "  326.803,347.036 327.172,347.487 327.54,347.93 327.909,348.367 328.277,348.797 328.646,349.222 329.014,349.64 329.383,350.051 329.751,350.457 330.12,350.857 \n",
       "  330.488,351.32 330.857,352.61 331.225,353.26 331.594,354.227 331.962,354.78 332.331,355.161 332.699,355.459 333.068,355.754 333.436,356.044 333.805,356.331 \n",
       "  334.173,356.613 334.542,356.892 334.91,357.167 335.279,357.438 335.647,357.706 336.016,357.97 336.384,358.23 336.753,358.487 337.121,358.74 337.49,358.989 \n",
       "  337.858,359.235 338.227,359.478 338.595,359.718 338.964,359.954 339.332,360.187 339.701,360.417 340.069,360.643 340.438,360.866 340.806,361.087 341.175,361.304 \n",
       "  341.543,361.518 341.912,361.73 342.28,361.938 342.649,362.143 343.017,362.346 343.386,362.546 343.754,362.743 344.123,362.937 344.491,363.128 344.86,363.317 \n",
       "  345.228,363.504 345.597,363.687 345.965,363.868 346.334,364.047 346.702,364.223 347.071,364.397 347.439,364.567 347.808,364.736 348.176,364.903 348.545,365.067 \n",
       "  348.913,365.228 349.282,365.388 349.65,365.545 350.019,365.7 350.387,365.853 350.756,366.004 351.124,366.152 351.493,366.299 351.861,366.443 352.23,366.586 \n",
       "  352.598,366.726 352.967,366.864 353.335,367.001 353.704,367.135 354.072,367.268 354.441,367.399 354.809,367.527 355.178,367.654 355.546,367.78 355.915,367.903 \n",
       "  356.283,368.025 356.652,368.145 357.02,368.263 357.389,368.38 357.757,368.495 358.126,368.608 358.494,368.72 358.863,368.83 359.231,368.939 359.6,369.046 \n",
       "  359.969,369.151 360.337,369.255 360.706,369.358 361.074,369.459 361.443,369.558 361.811,369.657 362.18,369.753 362.548,369.849 362.917,369.943 363.285,370.036 \n",
       "  363.654,370.127 364.022,370.217 364.391,370.306 364.759,370.394 365.128,370.48 365.496,370.565 365.865,370.649 366.233,370.731 366.602,370.813 366.97,370.893 \n",
       "  367.339,370.972 367.707,371.05 368.076,371.127 368.444,371.203 368.813,371.278 369.181,371.351 369.55,371.424 369.918,371.496 370.287,371.566 370.655,371.636 \n",
       "  371.024,371.704 371.392,371.772 371.761,371.838 372.129,371.904 372.498,371.969 372.866,372.032 373.235,372.095 373.603,372.157 373.972,372.218 374.34,372.278 \n",
       "  374.709,372.338 375.077,372.396 375.446,372.454 375.814,372.51 376.183,372.566 376.551,372.622 376.92,372.676 377.288,372.729 377.657,372.782 378.025,372.834 \n",
       "  378.394,372.886 378.762,372.936 379.131,372.986 379.499,373.035 379.868,373.083 380.236,373.131 380.605,373.178 380.973,373.225 381.342,373.27 381.71,373.315 \n",
       "  382.079,373.36 382.447,373.403 382.816,373.446 383.184,373.489 383.553,373.531 383.921,373.572 384.29,373.613 384.658,373.653 385.027,373.692 385.395,373.731 \n",
       "  385.764,373.77 386.132,373.807 386.501,373.845 386.869,373.881 387.238,373.918 387.606,373.953 387.975,373.988 388.343,374.023 388.712,374.057 389.08,374.091 \n",
       "  389.449,374.124 389.817,374.157 390.186,374.189 390.554,374.221 390.923,374.252 391.291,374.283 391.66,374.313 392.028,374.343 392.397,374.373 392.765,374.402 \n",
       "  393.134,374.43 393.502,374.459 393.871,374.487 394.239,374.514 394.608,374.541 394.976,374.568 395.345,374.594 395.713,374.62 396.082,374.645 396.45,374.671 \n",
       "  396.819,374.695 397.187,374.72 397.556,374.744 397.924,374.768 398.293,374.791 398.661,374.814 399.03,374.837 399.398,374.859 399.767,374.881 400.135,374.903 \n",
       "  400.504,374.924 400.872,374.945 401.241,374.966 401.609,374.987 401.978,375.007 402.346,375.027 402.715,375.047 403.083,375.066 403.452,375.085 403.82,375.104 \n",
       "  404.189,375.122 404.557,375.141 404.926,375.158 405.294,375.176 405.663,375.194 406.031,375.211 406.4,375.228 406.769,375.244 407.137,375.261 407.506,375.277 \n",
       "  407.874,375.293 408.243,375.309 408.611,375.324 408.98,375.34 409.348,375.355 409.717,375.37 410.085,375.384 410.454,375.466 410.822,375.478 411.191,375.49 \n",
       "  411.559,375.502 411.928,375.514 412.296,375.526 412.665,375.594 413.033,375.604 413.402,375.614 413.77,375.624 414.139,375.688 414.507,375.696 414.876,375.81 \n",
       "  415.244,375.815 415.613,375.821 415.981,375.826 416.35,375.832 416.718,375.837 417.087,375.895 417.455,375.899 417.824,375.904 418.192,375.908 418.561,375.964 \n",
       "  418.929,376.061 419.298,376.063 419.666,376.155 420.035,376.2 420.403,376.2 420.772,376.201 421.14,376.202 421.509,376.202 421.877,376.246 422.246,376.246 \n",
       "  422.614,376.246 422.983,376.247 423.351,376.247 423.72,376.247 424.088,376.248 424.457,376.248 424.825,376.248 425.194,376.249 425.562,376.249 425.931,376.249 \n",
       "  426.299,376.25 426.668,376.25 427.036,376.251 427.405,376.251 427.773,376.251 428.142,376.251 428.51,376.252 428.879,376.252 429.247,376.253 429.616,376.253 \n",
       "  429.984,376.253 430.353,376.253 430.721,376.254 431.09,376.302 431.458,376.336 431.827,376.336 432.195,376.336 432.564,376.336 432.932,376.336 433.301,376.336 \n",
       "  433.669,376.339 434.038,376.339 434.406,376.339 434.775,376.339 435.143,376.339 435.512,376.339 435.88,376.339 436.249,376.339 436.617,376.339 436.986,376.339 \n",
       "  437.354,376.339 437.723,376.339 438.091,376.339 438.46,376.339 438.828,376.339 439.197,376.339 439.565,376.34 439.934,376.34 440.302,376.34 440.671,376.34 \n",
       "  441.039,376.34 441.408,376.34 441.776,376.34 442.145,376.34 442.513,376.34 442.882,376.34 443.25,376.34 443.619,376.34 443.987,376.34 444.356,376.34 \n",
       "  444.724,376.34 445.093,376.34 445.461,376.34 445.83,376.34 446.198,376.34 446.567,376.34 446.935,376.34 447.304,376.34 447.672,376.34 448.041,376.34 \n",
       "  448.409,376.34 448.778,376.34 449.146,376.34 449.515,376.34 449.883,376.34 450.252,376.34 450.62,376.34 450.989,376.34 451.357,376.341 451.726,376.341 \n",
       "  452.094,376.341 452.463,376.341 452.831,376.341 453.2,376.341 453.569,376.341 453.937,376.341 454.306,376.341 454.674,376.341 455.043,376.341 455.411,376.341 \n",
       "  455.78,376.341 456.148,376.341 456.517,376.341 456.885,376.341 457.254,376.378 457.622,376.378 457.991,376.378 458.359,376.378 458.728,376.378 459.096,376.378 \n",
       "  459.465,376.378 459.833,376.378 460.202,376.378 460.57,376.378 460.939,376.378 461.307,376.378 461.676,376.378 462.044,376.378 462.413,376.378 462.781,376.378 \n",
       "  463.15,376.378 463.518,376.378 463.887,376.378 464.255,376.378 464.624,376.378 464.992,376.378 465.361,376.378 465.729,376.378 466.098,376.378 466.466,376.378 \n",
       "  466.835,376.378 467.203,376.378 467.572,376.378 467.94,376.378 468.309,376.378 468.677,376.378 469.046,376.378 469.414,376.378 469.783,376.378 470.151,376.378 \n",
       "  470.52,376.378 470.888,376.378 471.257,376.378 471.625,376.378 471.994,376.378 472.362,376.378 472.731,376.378 473.099,376.378 473.468,376.378 473.836,376.378 \n",
       "  474.205,376.378 474.573,376.378 474.942,376.378 475.31,376.378 475.679,376.378 476.047,376.378 476.416,376.378 476.784,376.378 477.153,376.378 477.521,376.378 \n",
       "  477.89,376.378 478.258,376.378 478.627,376.378 478.995,376.378 479.364,376.378 479.732,376.378 480.101,376.378 480.469,376.378 480.838,376.378 481.206,376.378 \n",
       "  481.575,376.378 481.943,376.378 482.312,376.378 482.68,376.378 483.049,376.378 483.417,376.378 483.786,376.378 484.154,376.378 484.523,376.378 484.891,376.378 \n",
       "  485.26,376.378 485.628,376.378 485.997,376.378 486.365,376.378 486.734,376.378 487.102,376.378 487.471,376.378 487.839,376.378 488.208,376.378 488.576,376.378 \n",
       "  488.945,376.378 489.313,376.378 489.682,376.378 490.05,376.378 490.419,376.378 490.787,376.378 491.156,376.378 491.524,376.378 491.893,376.378 492.261,376.378 \n",
       "  492.63,376.378 492.998,376.378 493.367,376.378 493.735,376.378 494.104,376.378 494.472,376.378 494.841,376.378 495.209,376.378 495.578,376.378 495.946,376.378 \n",
       "  496.315,376.378 496.683,376.378 497.052,376.378 497.42,376.378 497.789,376.378 498.157,376.378 498.526,376.378 498.894,376.378 499.263,376.378 499.631,376.378 \n",
       "  500,376.378 500.369,376.378 500.737,376.378 501.106,376.378 501.474,376.378 501.843,376.378 502.211,376.378 502.58,376.378 502.948,376.378 503.317,376.378 \n",
       "  503.685,376.378 504.054,376.378 504.422,376.378 504.791,376.378 505.159,376.378 505.528,376.378 505.896,376.378 506.265,376.378 506.633,376.378 507.002,376.378 \n",
       "  507.37,376.378 507.739,376.378 508.107,376.378 508.476,376.378 508.844,376.378 509.213,376.378 509.581,376.378 509.95,376.378 510.318,376.378 510.687,376.378 \n",
       "  511.055,376.378 511.424,376.378 511.792,376.378 512.161,376.378 512.529,376.378 512.898,376.378 513.266,376.378 513.635,376.378 514.003,376.378 514.372,376.378 \n",
       "  514.74,376.378 515.109,376.378 515.477,376.378 515.846,376.378 516.214,376.378 516.583,376.378 516.951,376.378 517.32,376.378 517.688,376.378 518.057,376.378 \n",
       "  518.425,376.378 518.794,376.378 519.162,376.378 519.531,376.378 519.899,376.378 520.268,376.378 520.636,376.378 521.005,376.378 521.373,376.378 521.742,376.378 \n",
       "  522.11,376.378 522.479,376.378 522.847,376.378 523.216,376.378 523.584,376.378 523.953,376.378 524.321,376.378 524.69,376.378 525.058,376.378 525.427,376.378 \n",
       "  525.795,376.378 526.164,376.378 526.532,376.378 526.901,376.378 527.269,376.378 527.638,376.378 528.006,376.378 528.375,376.378 528.743,376.378 529.112,376.378 \n",
       "  529.48,376.378 529.849,376.378 530.217,376.378 530.586,376.378 530.954,376.378 531.323,376.378 531.691,376.378 532.06,376.378 532.428,376.378 532.797,376.378 \n",
       "  533.165,376.378 533.534,376.378 533.902,376.378 534.271,376.378 534.639,376.378 535.008,376.378 535.376,376.378 535.745,376.378 536.113,376.378 536.482,376.378 \n",
       "  536.85,376.378 537.219,376.378 537.587,376.378 537.956,376.378 538.324,376.378 538.693,376.378 539.061,376.378 539.43,376.378 539.798,376.378 540.167,376.378 \n",
       "  540.535,376.378 540.904,376.378 541.272,376.378 541.641,376.378 542.009,376.378 542.378,376.378 542.746,376.378 543.115,376.378 543.483,376.378 543.852,376.378 \n",
       "  544.22,376.378 544.589,376.378 544.957,376.378 545.326,376.378 545.694,376.378 546.063,376.378 546.431,376.378 546.8,376.378 547.169,376.378 547.537,376.378 \n",
       "  547.906,376.378 548.274,376.378 548.643,376.378 549.011,376.378 549.38,376.378 549.748,376.378 550.117,376.378 550.485,376.378 550.854,376.378 551.222,376.378 \n",
       "  551.591,376.378 551.959,376.378 552.328,376.378 552.696,376.378 553.065,376.378 553.433,376.378 553.802,376.378 554.17,376.378 554.539,376.378 554.907,376.378 \n",
       "  555.276,376.378 555.644,376.378 556.013,376.378 556.381,376.378 556.75,376.378 557.118,376.378 557.487,376.378 557.855,376.378 558.224,376.378 558.592,376.378 \n",
       "  558.961,376.378 559.329,376.378 559.698,376.378 560.066,376.378 560.435,376.378 560.803,376.378 561.172,376.378 561.54,376.378 561.909,376.378 562.277,376.378 \n",
       "  562.646,376.378 563.014,376.378 563.383,376.378 563.751,376.378 564.12,376.378 564.488,376.378 564.857,376.378 565.225,376.378 565.594,376.378 565.962,376.378 \n",
       "  566.331,376.378 566.699,376.378 567.068,376.378 567.436,376.378 567.805,376.378 568.173,376.378 568.542,376.378 568.91,376.378 569.279,376.378 569.647,376.378 \n",
       "  570.016,376.378 570.384,376.378 570.753,376.378 571.121,376.378 571.49,376.378 571.858,376.378 572.227,376.378 572.595,376.378 572.964,376.378 573.332,376.378 \n",
       "  573.701,376.378 574.069,376.378 574.438,376.378 574.806,376.378 575.175,376.378 575.543,376.378 575.912,376.378 576.28,376.378 576.649,376.378 577.017,376.378 \n",
       "  577.386,376.378 577.754,376.378 578.123,376.378 578.491,376.378 578.86,376.378 579.228,376.378 579.597,376.378 579.965,376.378 580.334,376.378 580.702,376.378 \n",
       "  581.071,376.378 581.439,376.378 581.808,376.378 582.176,376.378 582.545,376.378 582.913,376.378 583.282,376.378 583.65,376.378 584.019,376.378 584.387,376.378 \n",
       "  584.756,376.378 585.124,376.378 585.493,376.378 585.861,376.378 586.23,376.378 586.598,376.378 586.967,376.378 587.335,376.378 587.704,376.378 588.072,376.378 \n",
       "  588.441,376.378 588.809,376.378 589.178,376.378 589.546,376.378 589.915,376.378 590.283,376.378 590.652,376.378 591.02,376.378 591.389,376.378 591.757,376.378 \n",
       "  592.126,376.378 \n",
       "  \"/>\n",
       "<polygon clip-path=\"url(#clip00)\" points=\"\n",
       "501.61,58.994 574.126,58.994 574.126,28.754 501.61,28.754 \n",
       "  \" fill=\"#ffffff\" fill-opacity=\"1\"/>\n",
       "<polyline clip-path=\"url(#clip00)\" style=\"stroke:#000000; stroke-width:1; stroke-opacity:1; fill:none\" points=\"\n",
       "  501.61,58.994 574.126,58.994 574.126,28.754 501.61,28.754 501.61,58.994 \n",
       "  \"/>\n",
       "<polyline clip-path=\"url(#clip00)\" style=\"stroke:#009af9; stroke-width:1; stroke-opacity:1; fill:none\" points=\"\n",
       "  507.61,43.874 543.61,43.874 \n",
       "  \"/>\n",
       "<g clip-path=\"url(#clip00)\">\n",
       "<text style=\"fill:#000000; fill-opacity:1; font-family:Arial,Helvetica Neue,Helvetica,sans-serif; font-size:12; text-anchor:start;\" transform=\"rotate(0, 549.61, 48.374)\" x=\"549.61\" y=\"48.374\">y1</text>\n",
       "</g>\n",
       "</svg>\n"
      ]
     },
     "execution_count": 208,
     "metadata": {},
     "output_type": "execute_result"
    }
   ],
   "source": [
    "X=-50:0.1:100\n",
    "\n",
    "plot(X, pdf.(est, X))"
   ]
  },
  {
   "cell_type": "code",
   "execution_count": 209,
   "metadata": {},
   "outputs": [
    {
     "data": {
      "text/plain": [
       "empirical_cdf (generic function with 1 method)"
      ]
     },
     "execution_count": 209,
     "metadata": {},
     "output_type": "execute_result"
    }
   ],
   "source": [
    "empirical_cdf(data, X) = [length(filter(i->i<x, data)) for x in X]./length(data)"
   ]
  },
  {
   "cell_type": "code",
   "execution_count": 210,
   "metadata": {},
   "outputs": [
    {
     "data": {
      "text/html": [
       "<?xml version=\"1.0\" encoding=\"utf-8\"?>\n",
       "<svg xmlns=\"http://www.w3.org/2000/svg\" xmlns:xlink=\"http://www.w3.org/1999/xlink\" width=\"600\" height=\"400\" viewBox=\"0 0 600 400\">\n",
       "<defs>\n",
       "  <clipPath id=\"clip00\">\n",
       "    <rect x=\"0\" y=\"0\" width=\"600\" height=\"400\"/>\n",
       "  </clipPath>\n",
       "</defs>\n",
       "<polygon clip-path=\"url(#clip00)\" points=\"\n",
       "0,400 600,400 600,0 0,0 \n",
       "  \" fill=\"#ffffff\" fill-opacity=\"1\"/>\n",
       "<defs>\n",
       "  <clipPath id=\"clip01\">\n",
       "    <rect x=\"120\" y=\"0\" width=\"421\" height=\"400\"/>\n",
       "  </clipPath>\n",
       "</defs>\n",
       "<polygon clip-path=\"url(#clip00)\" points=\"\n",
       "39.3701,376.378 592.126,376.378 592.126,7.87402 39.3701,7.87402 \n",
       "  \" fill=\"#ffffff\" fill-opacity=\"1\"/>\n",
       "<defs>\n",
       "  <clipPath id=\"clip02\">\n",
       "    <rect x=\"39\" y=\"7\" width=\"554\" height=\"370\"/>\n",
       "  </clipPath>\n",
       "</defs>\n",
       "<polyline clip-path=\"url(#clip02)\" style=\"stroke:#000000; stroke-width:1; stroke-opacity:0.5; fill:none\" stroke-dasharray=\"1, 2\" points=\"\n",
       "  39.3701,370.85 39.3701,13.4016 \n",
       "  \"/>\n",
       "<polyline clip-path=\"url(#clip02)\" style=\"stroke:#000000; stroke-width:1; stroke-opacity:0.5; fill:none\" stroke-dasharray=\"1, 2\" points=\"\n",
       "  131.496,370.85 131.496,13.4016 \n",
       "  \"/>\n",
       "<polyline clip-path=\"url(#clip02)\" style=\"stroke:#000000; stroke-width:1; stroke-opacity:0.5; fill:none\" stroke-dasharray=\"1, 2\" points=\"\n",
       "  223.622,370.85 223.622,13.4016 \n",
       "  \"/>\n",
       "<polyline clip-path=\"url(#clip02)\" style=\"stroke:#000000; stroke-width:1; stroke-opacity:0.5; fill:none\" stroke-dasharray=\"1, 2\" points=\"\n",
       "  315.748,370.85 315.748,13.4016 \n",
       "  \"/>\n",
       "<polyline clip-path=\"url(#clip02)\" style=\"stroke:#000000; stroke-width:1; stroke-opacity:0.5; fill:none\" stroke-dasharray=\"1, 2\" points=\"\n",
       "  407.874,370.85 407.874,13.4016 \n",
       "  \"/>\n",
       "<polyline clip-path=\"url(#clip02)\" style=\"stroke:#000000; stroke-width:1; stroke-opacity:0.5; fill:none\" stroke-dasharray=\"1, 2\" points=\"\n",
       "  500,370.85 500,13.4016 \n",
       "  \"/>\n",
       "<polyline clip-path=\"url(#clip02)\" style=\"stroke:#000000; stroke-width:1; stroke-opacity:0.5; fill:none\" stroke-dasharray=\"1, 2\" points=\"\n",
       "  592.126,370.85 592.126,13.4016 \n",
       "  \"/>\n",
       "<polyline clip-path=\"url(#clip02)\" style=\"stroke:#000000; stroke-width:1; stroke-opacity:0.5; fill:none\" stroke-dasharray=\"1, 2\" points=\"\n",
       "  47.6614,376.378 583.835,376.378 \n",
       "  \"/>\n",
       "<polyline clip-path=\"url(#clip02)\" style=\"stroke:#000000; stroke-width:1; stroke-opacity:0.5; fill:none\" stroke-dasharray=\"1, 2\" points=\"\n",
       "  47.6614,302.677 583.835,302.677 \n",
       "  \"/>\n",
       "<polyline clip-path=\"url(#clip02)\" style=\"stroke:#000000; stroke-width:1; stroke-opacity:0.5; fill:none\" stroke-dasharray=\"1, 2\" points=\"\n",
       "  47.6614,228.976 583.835,228.976 \n",
       "  \"/>\n",
       "<polyline clip-path=\"url(#clip02)\" style=\"stroke:#000000; stroke-width:1; stroke-opacity:0.5; fill:none\" stroke-dasharray=\"1, 2\" points=\"\n",
       "  47.6614,155.276 583.835,155.276 \n",
       "  \"/>\n",
       "<polyline clip-path=\"url(#clip02)\" style=\"stroke:#000000; stroke-width:1; stroke-opacity:0.5; fill:none\" stroke-dasharray=\"1, 2\" points=\"\n",
       "  47.6614,81.5748 583.835,81.5748 \n",
       "  \"/>\n",
       "<polyline clip-path=\"url(#clip02)\" style=\"stroke:#000000; stroke-width:1; stroke-opacity:0.5; fill:none\" stroke-dasharray=\"1, 2\" points=\"\n",
       "  47.6614,7.87402 583.835,7.87402 \n",
       "  \"/>\n",
       "<polyline clip-path=\"url(#clip00)\" style=\"stroke:#000000; stroke-width:1; stroke-opacity:1; fill:none\" points=\"\n",
       "  39.3701,376.378 592.126,376.378 \n",
       "  \"/>\n",
       "<polyline clip-path=\"url(#clip00)\" style=\"stroke:#000000; stroke-width:1; stroke-opacity:1; fill:none\" points=\"\n",
       "  39.3701,376.378 39.3701,370.85 \n",
       "  \"/>\n",
       "<polyline clip-path=\"url(#clip00)\" style=\"stroke:#000000; stroke-width:1; stroke-opacity:1; fill:none\" points=\"\n",
       "  131.496,376.378 131.496,370.85 \n",
       "  \"/>\n",
       "<polyline clip-path=\"url(#clip00)\" style=\"stroke:#000000; stroke-width:1; stroke-opacity:1; fill:none\" points=\"\n",
       "  223.622,376.378 223.622,370.85 \n",
       "  \"/>\n",
       "<polyline clip-path=\"url(#clip00)\" style=\"stroke:#000000; stroke-width:1; stroke-opacity:1; fill:none\" points=\"\n",
       "  315.748,376.378 315.748,370.85 \n",
       "  \"/>\n",
       "<polyline clip-path=\"url(#clip00)\" style=\"stroke:#000000; stroke-width:1; stroke-opacity:1; fill:none\" points=\"\n",
       "  407.874,376.378 407.874,370.85 \n",
       "  \"/>\n",
       "<polyline clip-path=\"url(#clip00)\" style=\"stroke:#000000; stroke-width:1; stroke-opacity:1; fill:none\" points=\"\n",
       "  500,376.378 500,370.85 \n",
       "  \"/>\n",
       "<polyline clip-path=\"url(#clip00)\" style=\"stroke:#000000; stroke-width:1; stroke-opacity:1; fill:none\" points=\"\n",
       "  592.126,376.378 592.126,370.85 \n",
       "  \"/>\n",
       "<polyline clip-path=\"url(#clip00)\" style=\"stroke:#000000; stroke-width:1; stroke-opacity:1; fill:none\" points=\"\n",
       "  39.3701,376.378 39.3701,7.87402 \n",
       "  \"/>\n",
       "<polyline clip-path=\"url(#clip00)\" style=\"stroke:#000000; stroke-width:1; stroke-opacity:1; fill:none\" points=\"\n",
       "  39.3701,376.378 47.6614,376.378 \n",
       "  \"/>\n",
       "<polyline clip-path=\"url(#clip00)\" style=\"stroke:#000000; stroke-width:1; stroke-opacity:1; fill:none\" points=\"\n",
       "  39.3701,302.677 47.6614,302.677 \n",
       "  \"/>\n",
       "<polyline clip-path=\"url(#clip00)\" style=\"stroke:#000000; stroke-width:1; stroke-opacity:1; fill:none\" points=\"\n",
       "  39.3701,228.976 47.6614,228.976 \n",
       "  \"/>\n",
       "<polyline clip-path=\"url(#clip00)\" style=\"stroke:#000000; stroke-width:1; stroke-opacity:1; fill:none\" points=\"\n",
       "  39.3701,155.276 47.6614,155.276 \n",
       "  \"/>\n",
       "<polyline clip-path=\"url(#clip00)\" style=\"stroke:#000000; stroke-width:1; stroke-opacity:1; fill:none\" points=\"\n",
       "  39.3701,81.5748 47.6614,81.5748 \n",
       "  \"/>\n",
       "<polyline clip-path=\"url(#clip00)\" style=\"stroke:#000000; stroke-width:1; stroke-opacity:1; fill:none\" points=\"\n",
       "  39.3701,7.87402 47.6614,7.87402 \n",
       "  \"/>\n",
       "<g clip-path=\"url(#clip00)\">\n",
       "<text style=\"fill:#000000; fill-opacity:1; font-family:Arial,Helvetica Neue,Helvetica,sans-serif; font-size:12; text-anchor:middle;\" transform=\"rotate(0, 39.3701, 390.178)\" x=\"39.3701\" y=\"390.178\">-50</text>\n",
       "</g>\n",
       "<g clip-path=\"url(#clip00)\">\n",
       "<text style=\"fill:#000000; fill-opacity:1; font-family:Arial,Helvetica Neue,Helvetica,sans-serif; font-size:12; text-anchor:middle;\" transform=\"rotate(0, 131.496, 390.178)\" x=\"131.496\" y=\"390.178\">-25</text>\n",
       "</g>\n",
       "<g clip-path=\"url(#clip00)\">\n",
       "<text style=\"fill:#000000; fill-opacity:1; font-family:Arial,Helvetica Neue,Helvetica,sans-serif; font-size:12; text-anchor:middle;\" transform=\"rotate(0, 223.622, 390.178)\" x=\"223.622\" y=\"390.178\">0</text>\n",
       "</g>\n",
       "<g clip-path=\"url(#clip00)\">\n",
       "<text style=\"fill:#000000; fill-opacity:1; font-family:Arial,Helvetica Neue,Helvetica,sans-serif; font-size:12; text-anchor:middle;\" transform=\"rotate(0, 315.748, 390.178)\" x=\"315.748\" y=\"390.178\">25</text>\n",
       "</g>\n",
       "<g clip-path=\"url(#clip00)\">\n",
       "<text style=\"fill:#000000; fill-opacity:1; font-family:Arial,Helvetica Neue,Helvetica,sans-serif; font-size:12; text-anchor:middle;\" transform=\"rotate(0, 407.874, 390.178)\" x=\"407.874\" y=\"390.178\">50</text>\n",
       "</g>\n",
       "<g clip-path=\"url(#clip00)\">\n",
       "<text style=\"fill:#000000; fill-opacity:1; font-family:Arial,Helvetica Neue,Helvetica,sans-serif; font-size:12; text-anchor:middle;\" transform=\"rotate(0, 500, 390.178)\" x=\"500\" y=\"390.178\">75</text>\n",
       "</g>\n",
       "<g clip-path=\"url(#clip00)\">\n",
       "<text style=\"fill:#000000; fill-opacity:1; font-family:Arial,Helvetica Neue,Helvetica,sans-serif; font-size:12; text-anchor:middle;\" transform=\"rotate(0, 592.126, 390.178)\" x=\"592.126\" y=\"390.178\">100</text>\n",
       "</g>\n",
       "<g clip-path=\"url(#clip00)\">\n",
       "<text style=\"fill:#000000; fill-opacity:1; font-family:Arial,Helvetica Neue,Helvetica,sans-serif; font-size:12; text-anchor:end;\" transform=\"rotate(0, 33.3701, 380.878)\" x=\"33.3701\" y=\"380.878\">0.0</text>\n",
       "</g>\n",
       "<g clip-path=\"url(#clip00)\">\n",
       "<text style=\"fill:#000000; fill-opacity:1; font-family:Arial,Helvetica Neue,Helvetica,sans-serif; font-size:12; text-anchor:end;\" transform=\"rotate(0, 33.3701, 307.177)\" x=\"33.3701\" y=\"307.177\">0.2</text>\n",
       "</g>\n",
       "<g clip-path=\"url(#clip00)\">\n",
       "<text style=\"fill:#000000; fill-opacity:1; font-family:Arial,Helvetica Neue,Helvetica,sans-serif; font-size:12; text-anchor:end;\" transform=\"rotate(0, 33.3701, 233.476)\" x=\"33.3701\" y=\"233.476\">0.4</text>\n",
       "</g>\n",
       "<g clip-path=\"url(#clip00)\">\n",
       "<text style=\"fill:#000000; fill-opacity:1; font-family:Arial,Helvetica Neue,Helvetica,sans-serif; font-size:12; text-anchor:end;\" transform=\"rotate(0, 33.3701, 159.776)\" x=\"33.3701\" y=\"159.776\">0.6</text>\n",
       "</g>\n",
       "<g clip-path=\"url(#clip00)\">\n",
       "<text style=\"fill:#000000; fill-opacity:1; font-family:Arial,Helvetica Neue,Helvetica,sans-serif; font-size:12; text-anchor:end;\" transform=\"rotate(0, 33.3701, 86.0748)\" x=\"33.3701\" y=\"86.0748\">0.8</text>\n",
       "</g>\n",
       "<g clip-path=\"url(#clip00)\">\n",
       "<text style=\"fill:#000000; fill-opacity:1; font-family:Arial,Helvetica Neue,Helvetica,sans-serif; font-size:12; text-anchor:end;\" transform=\"rotate(0, 33.3701, 12.374)\" x=\"33.3701\" y=\"12.374\">1.0</text>\n",
       "</g>\n",
       "<polyline clip-path=\"url(#clip02)\" style=\"stroke:#009af9; stroke-width:1; stroke-opacity:1; fill:none\" points=\"\n",
       "  39.3701,349.154 39.7386,349.042 40.1071,348.929 40.4756,348.816 40.8441,348.702 41.2126,348.588 41.5811,348.474 41.9496,348.359 42.3181,348.244 42.6866,348.128 \n",
       "  43.0551,348.012 43.4236,347.895 43.7921,347.778 44.1606,347.661 44.5291,347.543 44.8976,347.425 45.2661,347.306 45.6346,347.187 46.0031,347.067 46.3717,346.947 \n",
       "  46.7402,346.826 47.1087,346.705 47.4772,346.584 47.8457,346.462 48.2142,346.339 48.5827,346.217 48.9512,346.093 49.3197,345.969 49.6882,345.845 50.0567,345.721 \n",
       "  50.4252,345.595 50.7937,345.47 51.1622,345.344 51.5307,345.217 51.8992,345.09 52.2677,344.963 52.6362,344.835 53.0047,344.706 53.3732,344.577 53.7417,344.448 \n",
       "  54.1102,344.318 54.4787,344.188 54.8472,344.057 55.2157,343.926 55.5843,343.794 55.9528,343.662 56.3213,343.529 56.6898,343.396 57.0583,343.262 57.4268,343.128 \n",
       "  57.7953,342.993 58.1638,342.858 58.5323,342.722 58.9008,342.586 59.2693,342.45 59.6378,342.312 60.0063,342.175 60.3748,342.037 60.7433,341.898 61.1118,341.759 \n",
       "  61.4803,341.619 61.8488,341.479 62.2173,341.338 62.5858,341.197 62.9543,341.056 63.3228,340.913 63.6913,340.771 64.0598,340.627 64.4283,340.484 64.7969,340.339 \n",
       "  65.1654,340.195 65.5339,340.049 65.9024,339.904 66.2709,339.757 66.6394,339.61 67.0079,339.463 67.3764,339.315 67.7449,339.167 68.1134,339.018 68.4819,338.868 \n",
       "  68.8504,338.718 69.2189,338.568 69.5874,338.417 69.9559,338.265 70.3244,338.113 70.6929,337.96 71.0614,337.807 71.4299,337.653 71.7984,337.499 72.1669,337.344 \n",
       "  72.5354,337.189 72.9039,337.033 73.2724,336.877 73.6409,336.72 74.0094,336.562 74.378,336.404 74.7465,336.245 75.115,336.086 75.4835,335.926 75.852,335.766 \n",
       "  76.2205,335.605 76.589,335.444 76.9575,335.282 77.326,335.119 77.6945,334.956 78.063,334.792 78.4315,334.628 78.8,334.463 79.1685,334.298 79.537,334.132 \n",
       "  79.9055,333.965 80.274,333.798 80.6425,333.631 81.011,333.462 81.3795,333.294 81.748,333.124 82.1165,332.954 82.485,332.784 82.8535,332.613 83.222,332.441 \n",
       "  83.5906,332.269 83.9591,332.096 84.3276,331.922 84.6961,331.748 85.0646,331.574 85.4331,331.399 85.8016,331.223 86.1701,331.046 86.5386,330.869 86.9071,330.692 \n",
       "  87.2756,330.514 87.6441,330.335 88.0126,330.155 88.3811,329.976 88.7496,329.795 89.1181,329.614 89.4866,329.432 89.8551,329.25 90.2236,329.067 90.5921,328.883 \n",
       "  90.9606,328.699 91.3291,328.514 91.6976,328.329 92.0661,328.143 92.4346,327.956 92.8031,327.769 93.1717,327.581 93.5402,327.393 93.9087,327.204 94.2772,327.014 \n",
       "  94.6457,326.824 95.0142,326.633 95.3827,326.441 95.7512,326.249 96.1197,326.056 96.4882,325.863 96.8567,325.669 97.2252,325.474 97.5937,325.279 97.9622,325.083 \n",
       "  98.3307,324.886 98.6992,324.689 99.0677,324.491 99.4362,324.293 99.8047,324.094 100.173,323.894 100.542,323.694 100.91,323.493 101.279,323.291 101.647,323.089 \n",
       "  102.016,322.886 102.384,322.682 102.753,322.478 103.121,322.273 103.49,322.068 103.858,321.862 104.227,321.655 104.595,321.448 104.964,321.24 105.332,321.031 \n",
       "  105.701,320.821 106.069,320.611 106.438,320.401 106.806,320.189 107.175,319.977 107.543,319.765 107.912,319.552 108.28,319.338 108.649,319.123 109.017,318.908 \n",
       "  109.386,318.692 109.754,318.475 110.123,318.258 110.491,318.04 110.86,317.822 111.228,317.602 111.597,317.383 111.965,317.162 112.334,316.941 112.702,316.719 \n",
       "  113.071,316.496 113.439,316.273 113.808,316.049 114.176,315.825 114.545,315.599 114.913,315.374 115.282,315.147 115.65,314.92 116.019,314.692 116.387,314.463 \n",
       "  116.756,314.234 117.124,314.004 117.493,313.773 117.861,313.542 118.23,313.31 118.598,313.077 118.967,312.844 119.335,312.61 119.704,312.375 120.072,312.14 \n",
       "  120.441,311.904 120.809,311.667 121.178,311.43 121.546,311.192 121.915,310.953 122.283,310.713 122.652,310.473 123.02,310.232 123.389,309.991 123.757,309.749 \n",
       "  124.126,309.506 124.494,309.262 124.863,309.018 125.231,308.773 125.6,308.527 125.969,308.281 126.337,308.034 126.706,307.786 127.074,307.537 127.443,307.288 \n",
       "  127.811,307.038 128.18,306.788 128.548,306.537 128.917,306.285 129.285,306.032 129.654,305.779 130.022,305.525 130.391,305.27 130.759,305.015 131.128,304.759 \n",
       "  131.496,304.502 131.865,304.244 132.233,303.986 132.602,303.727 132.97,303.468 133.339,303.208 133.707,302.947 134.076,302.685 134.444,302.423 134.813,302.16 \n",
       "  135.181,301.896 135.55,301.631 135.918,301.366 136.287,301.1 136.655,300.834 137.024,300.566 137.392,300.298 137.761,300.03 138.129,299.76 138.498,299.49 \n",
       "  138.866,299.22 139.235,298.948 139.603,298.676 139.972,298.403 140.34,298.13 140.709,297.855 141.077,297.58 141.446,297.305 141.814,297.028 142.183,296.751 \n",
       "  142.551,296.473 142.92,296.195 143.288,295.916 143.657,295.636 144.025,295.355 144.394,295.074 144.762,294.792 145.131,294.51 145.499,294.226 145.868,293.942 \n",
       "  146.236,293.657 146.605,293.372 146.973,293.086 147.342,292.799 147.71,292.511 148.079,292.223 148.447,291.934 148.816,291.645 149.184,291.354 149.553,291.063 \n",
       "  149.921,290.771 150.29,290.479 150.658,290.186 151.027,289.892 151.395,289.598 151.764,289.302 152.132,289.006 152.501,288.71 152.869,288.413 153.238,288.115 \n",
       "  153.606,287.816 153.975,287.517 154.343,287.217 154.712,286.916 155.08,286.614 155.449,286.312 155.817,286.01 156.186,285.706 156.554,285.402 156.923,285.097 \n",
       "  157.291,284.792 157.66,284.485 158.028,284.178 158.397,283.871 158.765,283.563 159.134,283.254 159.502,282.944 159.871,282.634 160.239,282.323 160.608,282.011 \n",
       "  160.976,281.699 161.345,281.386 161.713,281.072 162.082,280.758 162.45,280.443 162.819,280.127 163.187,279.811 163.556,279.494 163.924,279.176 164.293,278.858 \n",
       "  164.661,278.539 165.03,278.219 165.398,277.898 165.767,277.577 166.135,277.256 166.504,276.933 166.872,276.61 167.241,276.287 167.609,275.962 167.978,275.637 \n",
       "  168.346,275.312 168.715,274.985 169.083,274.658 169.452,274.331 169.82,274.003 170.189,273.674 170.557,273.344 170.926,273.014 171.294,272.683 171.663,272.352 \n",
       "  172.031,272.019 172.4,271.687 172.769,271.353 173.137,271.019 173.506,270.684 173.874,270.349 174.243,270.013 174.611,269.677 174.98,269.339 175.348,269.002 \n",
       "  175.717,268.663 176.085,268.324 176.454,267.984 176.822,267.644 177.191,267.303 177.559,266.961 177.928,266.619 178.296,266.276 178.665,265.933 179.033,265.589 \n",
       "  179.402,265.244 179.77,264.899 180.139,264.553 180.507,264.207 180.876,263.86 181.244,263.512 181.613,263.164 181.981,262.815 182.35,262.465 182.718,262.115 \n",
       "  183.087,261.765 183.455,261.413 183.824,261.062 184.192,260.709 184.561,260.356 184.929,260.003 185.298,259.648 185.666,259.294 186.035,258.938 186.403,258.582 \n",
       "  186.772,258.226 187.14,257.869 187.509,257.511 187.877,257.153 188.246,256.795 188.614,256.435 188.983,256.075 189.351,255.715 189.72,255.354 190.088,254.993 \n",
       "  190.457,254.631 190.825,254.268 191.194,253.905 191.562,253.541 191.931,253.177 192.299,252.812 192.668,252.447 193.036,252.081 193.405,251.715 193.773,251.348 \n",
       "  194.142,250.98 194.51,250.613 194.879,250.244 195.247,249.875 195.616,249.506 195.984,249.136 196.353,248.765 196.721,248.394 197.09,248.023 197.458,247.651 \n",
       "  197.827,247.278 198.195,246.905 198.564,246.532 198.932,246.158 199.301,245.783 199.669,245.408 200.038,245.033 200.406,244.657 200.775,244.281 201.143,243.904 \n",
       "  201.512,243.526 201.88,243.149 202.249,242.77 202.617,242.392 202.986,242.012 203.354,241.633 203.723,241.253 204.091,240.872 204.46,240.491 204.828,240.11 \n",
       "  205.197,239.728 205.565,239.345 205.934,238.963 206.302,238.58 206.671,238.196 207.039,237.812 207.408,237.427 207.776,237.043 208.145,236.657 208.513,236.271 \n",
       "  208.882,235.885 209.25,235.499 209.619,235.112 209.987,234.724 210.356,234.337 210.724,233.949 211.093,233.56 211.461,233.171 211.83,232.782 212.198,232.392 \n",
       "  212.567,232.002 212.935,231.612 213.304,231.221 213.672,230.83 214.041,230.438 214.409,230.046 214.778,229.654 215.146,229.261 215.515,228.868 215.883,228.475 \n",
       "  216.252,228.081 216.62,227.687 216.989,227.293 217.357,226.898 217.726,226.503 218.094,226.108 218.463,225.712 218.831,225.316 219.2,224.92 219.569,224.523 \n",
       "  219.937,224.126 220.306,223.729 220.674,223.332 221.043,222.934 221.411,222.536 221.78,222.144 222.148,221.785 222.517,221.457 222.885,221.134 223.254,220.81 \n",
       "  223.622,220.505 223.991,220.212 224.359,219.911 224.728,219.467 225.096,218.904 225.465,217.893 225.833,216.749 226.202,215.366 226.57,213.938 226.939,212.459 \n",
       "  227.307,210.981 227.676,209.897 228.044,208.875 228.413,207.845 228.781,206.822 229.15,205.752 229.518,204.591 229.887,203.429 230.255,202.266 230.624,201.103 \n",
       "  230.992,199.939 231.361,198.774 231.729,197.608 232.098,196.443 232.466,195.277 232.835,194.11 233.203,192.944 233.572,191.777 233.94,190.61 234.309,189.444 \n",
       "  234.677,188.278 235.046,187.112 235.414,185.946 235.783,184.781 236.151,183.616 236.52,182.453 236.888,181.29 237.257,180.127 237.625,178.966 237.994,177.806 \n",
       "  238.362,176.647 238.731,175.489 239.099,174.333 239.468,173.178 239.836,172.024 240.205,170.872 240.573,169.722 240.942,168.574 241.31,167.427 241.679,166.282 \n",
       "  242.047,165.14 242.416,163.999 242.784,162.861 243.153,161.725 243.521,160.591 243.89,159.46 244.258,158.331 244.627,157.205 244.995,156.082 245.364,154.961 \n",
       "  245.732,153.843 246.101,152.728 246.469,151.617 246.838,150.508 247.206,149.402 247.575,148.3 247.943,147.201 248.312,146.106 248.68,145.014 249.049,143.925 \n",
       "  249.417,142.84 249.786,141.759 250.154,140.681 250.523,139.607 250.891,138.537 251.26,137.471 251.628,136.409 251.997,135.351 252.365,134.298 252.734,133.248 \n",
       "  253.102,132.203 253.471,131.162 253.839,130.125 254.208,129.092 254.576,128.065 254.945,127.041 255.313,126.022 255.682,125.008 256.05,123.999 256.419,122.994 \n",
       "  256.787,121.994 257.156,120.999 257.524,120.008 257.893,119.023 258.261,118.042 258.63,117.067 258.998,116.096 259.367,115.131 259.735,114.171 260.104,113.215 \n",
       "  260.472,112.265 260.841,111.32 261.209,110.381 261.578,109.249 261.946,108.067 262.315,106.894 262.683,105.729 263.052,104.574 263.42,103.427 263.789,102.289 \n",
       "  264.157,101.16 264.526,100.04 264.894,98.9285 265.263,97.8265 265.631,96.7335 266,95.6496 266.369,94.5748 266.737,93.5092 267.106,92.4527 267.474,91.4055 \n",
       "  267.843,90.3674 268.211,89.3385 268.58,88.3189 268.948,87.3085 269.317,86.3073 269.685,85.3153 270.054,84.3327 270.422,83.3592 270.791,82.395 271.159,81.44 \n",
       "  271.528,80.4942 271.896,79.5576 272.265,78.6302 272.633,77.712 273.002,76.8029 273.37,75.903 273.739,75.0122 274.107,74.1305 274.476,73.2578 274.844,72.3942 \n",
       "  275.213,71.5396 275.581,70.694 275.95,69.8573 276.318,69.0295 276.687,68.2107 277.055,67.4006 277.424,66.5994 277.792,65.8069 278.161,65.0232 278.529,64.2481 \n",
       "  278.898,63.4817 279.266,62.7238 279.635,61.9745 280.003,61.2337 280.372,60.5013 280.74,59.7774 281.109,59.0617 281.477,58.3544 281.846,57.6553 282.214,56.9644 \n",
       "  282.583,56.2816 282.951,55.6069 283.32,54.9403 283.688,54.2816 284.057,53.6308 284.425,52.9878 284.794,52.3527 285.162,51.7252 285.531,51.1054 285.899,50.4933 \n",
       "  286.268,49.8887 286.636,49.2916 287.005,48.7019 287.373,48.1195 287.742,47.5445 288.11,46.9767 288.479,46.4161 288.847,45.8626 289.216,45.3161 289.584,44.7766 \n",
       "  289.953,44.2441 290.321,43.7184 290.69,43.1995 291.058,42.6873 291.427,42.1818 291.795,41.6828 292.164,41.1904 292.532,40.7045 292.901,40.225 293.269,39.7518 \n",
       "  293.638,39.2849 294.006,38.8242 294.375,38.3696 294.743,37.9211 295.112,37.4787 295.48,37.0422 295.849,36.6116 296.217,36.1868 296.586,35.7678 296.954,35.3545 \n",
       "  297.323,34.9467 297.691,34.5447 298.06,34.148 298.428,33.7569 298.797,33.3711 299.165,32.9907 299.534,32.6156 299.902,32.2456 300.271,31.8808 300.639,31.5211 \n",
       "  301.008,31.1664 301.376,30.8166 301.745,30.4718 302.113,30.1318 302.482,29.7967 302.85,29.4662 303.219,29.1404 303.587,28.8193 303.956,28.5027 304.324,28.1906 \n",
       "  304.693,27.8829 305.061,27.5797 305.43,27.2808 305.798,26.9862 306.167,26.6958 306.535,26.4096 306.904,26.1275 307.272,25.8494 307.641,25.5755 308.009,25.3055 \n",
       "  308.378,25.0394 308.746,24.7771 309.115,24.5187 309.483,24.264 309.852,24.0131 310.22,23.7658 310.589,23.5222 310.957,23.2821 311.326,23.0455 311.694,22.8125 \n",
       "  312.063,22.5828 312.431,22.3566 312.8,22.1336 313.169,21.914 313.537,21.6976 313.906,21.4845 314.274,21.2745 314.643,21.0676 315.011,20.8638 315.38,20.663 \n",
       "  315.748,20.4652 316.117,20.2704 316.485,20.0785 316.854,19.8895 317.222,19.7032 317.591,19.5198 317.959,19.3392 318.328,19.1612 318.696,18.9859 319.065,18.8133 \n",
       "  319.433,18.6432 319.802,18.4758 320.17,18.3108 320.539,18.1484 320.907,17.9884 321.276,17.8308 321.644,17.6756 322.013,17.5228 322.381,17.3723 322.75,17.2241 \n",
       "  323.118,17.0781 323.487,16.9343 323.855,16.7928 324.224,16.6534 324.592,16.5161 324.961,16.3809 325.329,16.2478 325.698,16.1167 326.066,15.9876 326.435,15.8605 \n",
       "  326.803,15.7354 327.172,15.6121 327.54,15.4908 327.909,15.3713 328.277,15.2537 328.646,15.1379 329.014,15.0238 329.383,14.9115 329.751,14.8009 330.12,14.6921 \n",
       "  330.488,14.585 330.857,14.4813 331.225,14.3821 331.594,14.2868 331.962,14.1942 332.331,14.1038 332.699,14.0146 333.068,13.9267 333.436,13.84 333.805,13.7546 \n",
       "  334.173,13.6703 334.542,13.5873 334.91,13.5054 335.279,13.4247 335.647,13.345 336.016,13.2666 336.384,13.1892 336.753,13.113 337.121,13.0378 337.49,12.9637 \n",
       "  337.858,12.8906 338.227,12.8185 338.595,12.7475 338.964,12.6775 339.332,12.6085 339.701,12.5404 340.069,12.4734 340.438,12.4073 340.806,12.3421 341.175,12.2778 \n",
       "  341.543,12.2145 341.912,12.152 342.28,12.0905 342.649,12.0298 343.017,11.97 343.386,11.911 343.754,11.8529 344.123,11.7956 344.491,11.7391 344.86,11.6834 \n",
       "  345.228,11.6285 345.597,11.5744 345.965,11.5211 346.334,11.4685 346.702,11.4167 347.071,11.3656 347.439,11.3153 347.808,11.2657 348.176,11.2167 348.545,11.1685 \n",
       "  348.913,11.121 349.282,11.0742 349.65,11.0279 350.019,10.9824 350.387,10.9376 350.756,10.8934 351.124,10.8498 351.493,10.8068 351.861,10.7644 352.23,10.7227 \n",
       "  352.598,10.6815 352.967,10.641 353.335,10.601 353.704,10.5616 354.072,10.5227 354.441,10.4845 354.809,10.4467 355.178,10.4096 355.546,10.3729 355.915,10.3368 \n",
       "  356.283,10.3012 356.652,10.266 357.02,10.2314 357.389,10.1974 357.757,10.1638 358.126,10.1306 358.494,10.098 358.863,10.0658 359.231,10.0341 359.6,10.0028 \n",
       "  359.969,9.972 360.337,9.94165 360.706,9.91171 361.074,9.88221 361.443,9.85313 361.811,9.82449 362.18,9.79624 362.548,9.76841 362.917,9.74098 363.285,9.71394 \n",
       "  363.654,9.68732 364.022,9.66105 364.391,9.63516 364.759,9.60961 365.128,9.5845 365.496,9.55968 365.865,9.53526 366.233,9.51119 366.602,9.48747 366.97,9.46407 \n",
       "  367.339,9.44103 367.707,9.41834 368.076,9.39596 368.444,9.37391 368.813,9.35216 369.181,9.33073 369.55,9.30957 369.918,9.2888 370.287,9.26826 370.655,9.24803 \n",
       "  371.024,9.22811 371.392,9.20847 371.761,9.18912 372.129,9.17006 372.498,9.15125 372.866,9.13272 373.235,9.11446 373.603,9.09645 373.972,9.07873 374.34,9.06127 \n",
       "  374.709,9.04402 375.077,9.02704 375.446,9.01033 375.814,8.99383 376.183,8.97758 376.551,8.96155 376.92,8.9458 377.288,8.93025 377.657,8.91492 378.025,8.8998 \n",
       "  378.394,8.88489 378.762,8.87022 379.131,8.85577 379.499,8.84151 379.868,8.82747 380.236,8.81364 380.605,8.8 380.973,8.78653 381.342,8.77329 381.71,8.76022 \n",
       "  382.079,8.74737 382.447,8.73467 382.816,8.72218 383.184,8.70983 383.553,8.69773 383.921,8.68574 384.29,8.67399 384.658,8.66235 385.027,8.65088 385.395,8.63959 \n",
       "  385.764,8.6285 386.132,8.61756 386.501,8.60675 386.869,8.59606 387.238,8.5856 387.606,8.57528 387.975,8.56509 388.343,8.55503 388.712,8.54512 389.08,8.53537 \n",
       "  389.449,8.52577 389.817,8.51632 390.186,8.50695 390.554,8.49776 390.923,8.48869 391.291,8.47978 391.66,8.47097 392.028,8.46229 392.397,8.45375 392.765,8.44531 \n",
       "  393.134,8.43703 393.502,8.42884 393.871,8.42078 394.239,8.41285 394.608,8.40501 394.976,8.3973 395.345,8.38968 395.713,8.38219 396.082,8.37479 396.45,8.36752 \n",
       "  396.819,8.36033 397.187,8.35328 397.556,8.3463 397.924,8.33942 398.293,8.33268 398.661,8.32602 399.03,8.31943 399.398,8.31296 399.767,8.30656 400.135,8.3003 \n",
       "  400.504,8.29407 400.872,8.28798 401.241,8.28196 401.609,8.27601 401.978,8.27019 402.346,8.26444 402.715,8.25875 403.083,8.25317 403.452,8.24765 403.82,8.24221 \n",
       "  404.189,8.23687 404.557,8.23155 404.926,8.22639 405.294,8.22125 405.663,8.21622 406.031,8.21122 406.4,8.20634 406.769,8.20149 407.137,8.19674 407.506,8.19204 \n",
       "  407.874,8.18741 408.243,8.18284 408.611,8.17838 408.98,8.17394 409.348,8.16955 409.717,8.16527 410.085,8.16105 410.454,8.15696 410.822,8.15314 411.191,8.14934 \n",
       "  411.559,8.14561 411.928,8.14192 412.296,8.13832 412.665,8.13487 413.033,8.13153 413.402,8.12828 413.77,8.12507 414.139,8.12208 414.507,8.11921 414.876,8.11657 \n",
       "  415.244,8.11415 415.613,8.11178 415.981,8.10945 416.35,8.10713 416.718,8.1048 417.087,8.10275 417.455,8.10073 417.824,8.09871 418.192,8.09669 418.561,8.09489 \n",
       "  418.929,8.09335 419.298,8.09204 419.666,8.09081 420.035,8.08993 420.403,8.08918 420.772,8.08843 421.14,8.08769 421.509,8.08694 421.877,8.08633 422.246,8.08575 \n",
       "  422.614,8.08518 422.983,8.08468 423.351,8.08411 423.72,8.08354 424.088,8.08301 424.457,8.08244 424.825,8.08191 425.194,8.08134 425.562,8.08081 425.931,8.08024 \n",
       "  426.299,8.07971 426.668,8.07919 427.036,8.07862 427.405,8.07809 427.773,8.07756 428.142,8.07703 428.51,8.07651 428.879,8.07594 429.247,8.07541 429.616,8.07488 \n",
       "  429.984,8.07435 430.353,8.07383 430.721,8.0733 431.09,8.07277 431.458,8.07251 431.827,8.07233 432.195,8.07216 432.564,8.07198 432.932,8.07181 433.301,8.07163 \n",
       "  433.669,8.07146 434.038,8.07128 434.406,8.07115 434.775,8.07097 435.143,8.0708 435.512,8.07062 435.88,8.07049 436.249,8.07031 436.617,8.07014 436.986,8.07001 \n",
       "  437.354,8.06983 437.723,8.06965 438.091,8.06948 438.46,8.06935 438.828,8.06917 439.197,8.069 439.565,8.06882 439.934,8.06869 440.302,8.06851 440.671,8.06834 \n",
       "  441.039,8.0682 441.408,8.06803 441.776,8.06785 442.145,8.06772 442.513,8.06755 442.882,8.06737 443.25,8.06724 443.619,8.06706 443.987,8.06689 444.356,8.06675 \n",
       "  444.724,8.06658 445.093,8.0664 445.461,8.06627 445.83,8.0661 446.198,8.06592 446.567,8.06579 446.935,8.06561 447.304,8.06544 447.672,8.0653 448.041,8.06513 \n",
       "  448.409,8.06495 448.778,8.06482 449.146,8.06467 449.515,8.06449 449.883,8.06436 450.252,8.06418 450.62,8.06405 450.989,8.06388 451.357,8.0637 451.726,8.06357 \n",
       "  452.094,8.06339 452.463,8.06326 452.831,8.06309 453.2,8.06291 453.569,8.06278 453.937,8.0626 454.306,8.06247 454.674,8.0623 455.043,8.06212 455.411,8.06199 \n",
       "  455.78,8.06181 456.148,8.06168 456.517,8.06151 456.885,8.06137 457.254,8.06133 457.622,8.06133 457.991,8.06133 458.359,8.06133 458.728,8.06133 459.096,8.06133 \n",
       "  459.465,8.06133 459.833,8.06133 460.202,8.06133 460.57,8.06133 460.939,8.06133 461.307,8.06133 461.676,8.06133 462.044,8.06133 462.413,8.06133 462.781,8.06133 \n",
       "  463.15,8.06133 463.518,8.06133 463.887,8.06133 464.255,8.06133 464.624,8.06133 464.992,8.06133 465.361,8.06133 465.729,8.06133 466.098,8.06133 466.466,8.06133 \n",
       "  466.835,8.06133 467.203,8.06133 467.572,8.06133 467.94,8.06133 468.309,8.06133 468.677,8.06133 469.046,8.06133 469.414,8.06133 469.783,8.06133 470.151,8.06133 \n",
       "  470.52,8.06133 470.888,8.06133 471.257,8.06133 471.625,8.06133 471.994,8.06133 472.362,8.06133 472.731,8.06133 473.099,8.06133 473.468,8.06133 473.836,8.06133 \n",
       "  474.205,8.06133 474.573,8.06133 474.942,8.06133 475.31,8.06133 475.679,8.06133 476.047,8.06133 476.416,8.06133 476.784,8.06133 477.153,8.06133 477.521,8.06133 \n",
       "  477.89,8.06133 478.258,8.06133 478.627,8.06133 478.995,8.06133 479.364,8.06133 479.732,8.06133 480.101,8.06133 480.469,8.06133 480.838,8.06133 481.206,8.06133 \n",
       "  481.575,8.06133 481.943,8.06133 482.312,8.06133 482.68,8.06133 483.049,8.06133 483.417,8.06133 483.786,8.06133 484.154,8.06133 484.523,8.06133 484.891,8.06133 \n",
       "  485.26,8.06133 485.628,8.06133 485.997,8.06133 486.365,8.06133 486.734,8.06133 487.102,8.06133 487.471,8.06133 487.839,8.06133 488.208,8.06133 488.576,8.06133 \n",
       "  488.945,8.06133 489.313,8.06133 489.682,8.06133 490.05,8.06133 490.419,8.06133 490.787,8.06133 491.156,8.06133 491.524,8.06133 491.893,8.06133 492.261,8.06133 \n",
       "  492.63,8.06133 492.998,8.06133 493.367,8.06133 493.735,8.06133 494.104,8.06133 494.472,8.06133 494.841,8.06133 495.209,8.06133 495.578,8.06133 495.946,8.06133 \n",
       "  496.315,8.06133 496.683,8.06133 497.052,8.06133 497.42,8.06133 497.789,8.06133 498.157,8.06133 498.526,8.06133 498.894,8.06133 499.263,8.06133 499.631,8.06133 \n",
       "  500,8.06133 500.369,8.06133 500.737,8.06133 501.106,8.06133 501.474,8.06133 501.843,8.06133 502.211,8.06133 502.58,8.06133 502.948,8.06133 503.317,8.06133 \n",
       "  503.685,8.06133 504.054,8.06133 504.422,8.06133 504.791,8.06133 505.159,8.06133 505.528,8.06133 505.896,8.06133 506.265,8.06133 506.633,8.06133 507.002,8.06133 \n",
       "  507.37,8.06133 507.739,8.06133 508.107,8.06133 508.476,8.06133 508.844,8.06133 509.213,8.06133 509.581,8.06133 509.95,8.06133 510.318,8.06133 510.687,8.06133 \n",
       "  511.055,8.06133 511.424,8.06133 511.792,8.06133 512.161,8.06133 512.529,8.06133 512.898,8.06133 513.266,8.06133 513.635,8.06133 514.003,8.06133 514.372,8.06133 \n",
       "  514.74,8.06133 515.109,8.06133 515.477,8.06133 515.846,8.06133 516.214,8.06133 516.583,8.06133 516.951,8.06133 517.32,8.06133 517.688,8.06133 518.057,8.06133 \n",
       "  518.425,8.06133 518.794,8.06133 519.162,8.06133 519.531,8.06133 519.899,8.06133 520.268,8.06133 520.636,8.06133 521.005,8.06133 521.373,8.06133 521.742,8.06133 \n",
       "  522.11,8.06133 522.479,8.06133 522.847,8.06133 523.216,8.06133 523.584,8.06133 523.953,8.06133 524.321,8.06133 524.69,8.06133 525.058,8.06133 525.427,8.06133 \n",
       "  525.795,8.06133 526.164,8.06133 526.532,8.06133 526.901,8.06133 527.269,8.06133 527.638,8.06133 528.006,8.06133 528.375,8.06133 528.743,8.06133 529.112,8.06133 \n",
       "  529.48,8.06133 529.849,8.06133 530.217,8.06133 530.586,8.06133 530.954,8.06133 531.323,8.06133 531.691,8.06133 532.06,8.06133 532.428,8.06133 532.797,8.06133 \n",
       "  533.165,8.06133 533.534,8.06133 533.902,8.06133 534.271,8.06133 534.639,8.06133 535.008,8.06133 535.376,8.06133 535.745,8.06133 536.113,8.06133 536.482,8.06133 \n",
       "  536.85,8.06133 537.219,8.06133 537.587,8.06133 537.956,8.06133 538.324,8.06133 538.693,8.06133 539.061,8.06133 539.43,8.06133 539.798,8.06133 540.167,8.06133 \n",
       "  540.535,8.06133 540.904,8.06133 541.272,8.06133 541.641,8.06133 542.009,8.06133 542.378,8.06133 542.746,8.06133 543.115,8.06133 543.483,8.06133 543.852,8.06133 \n",
       "  544.22,8.06133 544.589,8.06133 544.957,8.06133 545.326,8.06133 545.694,8.06133 546.063,8.06133 546.431,8.06133 546.8,8.06133 547.169,8.06133 547.537,8.06133 \n",
       "  547.906,8.06133 548.274,8.06133 548.643,8.06133 549.011,8.06133 549.38,8.06133 549.748,8.06133 550.117,8.06133 550.485,8.06133 550.854,8.06133 551.222,8.06133 \n",
       "  551.591,8.06133 551.959,8.06133 552.328,8.06133 552.696,8.06133 553.065,8.06133 553.433,8.06133 553.802,8.06133 554.17,8.06133 554.539,8.06133 554.907,8.06133 \n",
       "  555.276,8.06133 555.644,8.06133 556.013,8.06133 556.381,8.06133 556.75,8.06133 557.118,8.06133 557.487,8.06133 557.855,8.06133 558.224,8.06133 558.592,8.06133 \n",
       "  558.961,8.06133 559.329,8.06133 559.698,8.06133 560.066,8.06133 560.435,8.06133 560.803,8.06133 561.172,8.06133 561.54,8.06133 561.909,8.06133 562.277,8.06133 \n",
       "  562.646,8.06133 563.014,8.06133 563.383,8.06133 563.751,8.06133 564.12,8.06133 564.488,8.06133 564.857,8.06133 565.225,8.06133 565.594,8.06133 565.962,8.06133 \n",
       "  566.331,8.06133 566.699,8.06133 567.068,8.06133 567.436,8.06133 567.805,8.06133 568.173,8.06133 568.542,8.06133 568.91,8.06133 569.279,8.06133 569.647,8.06133 \n",
       "  570.016,8.06133 570.384,8.06133 570.753,8.06133 571.121,8.06133 571.49,8.06133 571.858,8.06133 572.227,8.06133 572.595,8.06133 572.964,8.06133 573.332,8.06133 \n",
       "  573.701,8.06133 574.069,8.06133 574.438,8.06133 574.806,8.06133 575.175,8.06133 575.543,8.06133 575.912,8.06133 576.28,8.06133 576.649,8.06133 577.017,8.06133 \n",
       "  577.386,8.06133 577.754,8.06133 578.123,8.06133 578.491,8.06133 578.86,8.06133 579.228,8.06133 579.597,8.06133 579.965,8.06133 580.334,8.06133 580.702,8.06133 \n",
       "  581.071,8.06133 581.439,8.06133 581.808,8.06133 582.176,8.06133 582.545,8.06133 582.913,8.06133 583.282,8.06133 583.65,8.06133 584.019,8.06133 584.387,8.06133 \n",
       "  584.756,8.06133 585.124,8.06133 585.493,8.06133 585.861,8.06133 586.23,8.06133 586.598,8.06133 586.967,8.06133 587.335,8.06133 587.704,8.06133 588.072,8.06133 \n",
       "  588.441,8.06133 588.809,8.06133 589.178,8.06133 589.546,8.06133 589.915,8.06133 590.283,8.06133 590.652,8.06133 591.02,8.06133 591.389,8.06133 591.757,8.06133 \n",
       "  592.126,8.06133 \n",
       "  \"/>\n",
       "<polyline clip-path=\"url(#clip02)\" style=\"stroke:#e26f46; stroke-width:1; stroke-opacity:1; fill:none\" points=\"\n",
       "  39.3701,376.378 39.7386,376.378 40.1071,376.378 40.4756,376.378 40.8441,376.378 41.2126,376.378 41.5811,376.378 41.9496,376.378 42.3181,376.378 42.6866,376.378 \n",
       "  43.0551,376.378 43.4236,376.378 43.7921,376.378 44.1606,376.378 44.5291,376.378 44.8976,376.378 45.2661,376.378 45.6346,376.378 46.0031,376.378 46.3717,376.378 \n",
       "  46.7402,376.378 47.1087,376.378 47.4772,376.378 47.8457,376.378 48.2142,376.378 48.5827,376.378 48.9512,376.378 49.3197,376.378 49.6882,376.378 50.0567,376.378 \n",
       "  50.4252,376.378 50.7937,376.378 51.1622,376.378 51.5307,376.378 51.8992,376.378 52.2677,376.378 52.6362,376.378 53.0047,376.378 53.3732,376.378 53.7417,376.378 \n",
       "  54.1102,376.378 54.4787,376.378 54.8472,376.378 55.2157,376.378 55.5843,376.378 55.9528,376.378 56.3213,376.378 56.6898,376.378 57.0583,376.378 57.4268,376.378 \n",
       "  57.7953,376.378 58.1638,376.378 58.5323,376.378 58.9008,376.378 59.2693,376.378 59.6378,376.378 60.0063,376.378 60.3748,376.378 60.7433,376.378 61.1118,376.378 \n",
       "  61.4803,376.378 61.8488,376.378 62.2173,376.378 62.5858,376.378 62.9543,376.378 63.3228,376.378 63.6913,376.378 64.0598,376.378 64.4283,376.378 64.7969,376.378 \n",
       "  65.1654,376.378 65.5339,376.378 65.9024,376.378 66.2709,376.378 66.6394,376.378 67.0079,376.378 67.3764,376.378 67.7449,376.378 68.1134,376.378 68.4819,376.378 \n",
       "  68.8504,376.378 69.2189,376.378 69.5874,376.378 69.9559,376.378 70.3244,376.378 70.6929,376.378 71.0614,376.378 71.4299,376.378 71.7984,376.378 72.1669,376.378 \n",
       "  72.5354,376.378 72.9039,376.378 73.2724,376.378 73.6409,376.378 74.0094,376.378 74.378,376.378 74.7465,376.378 75.115,376.378 75.4835,376.378 75.852,376.378 \n",
       "  76.2205,376.378 76.589,376.378 76.9575,376.378 77.326,376.378 77.6945,376.378 78.063,376.378 78.4315,376.378 78.8,376.378 79.1685,376.378 79.537,376.378 \n",
       "  79.9055,376.378 80.274,376.378 80.6425,376.378 81.011,376.378 81.3795,376.378 81.748,376.378 82.1165,376.378 82.485,376.378 82.8535,376.378 83.222,376.378 \n",
       "  83.5906,376.378 83.9591,376.378 84.3276,376.378 84.6961,376.378 85.0646,376.378 85.4331,376.378 85.8016,376.378 86.1701,376.378 86.5386,376.378 86.9071,376.378 \n",
       "  87.2756,376.378 87.6441,376.378 88.0126,376.378 88.3811,376.378 88.7496,376.378 89.1181,376.378 89.4866,376.378 89.8551,376.378 90.2236,376.378 90.5921,376.378 \n",
       "  90.9606,376.378 91.3291,376.378 91.6976,374.535 92.0661,374.535 92.4346,372.693 92.8031,372.693 93.1717,370.85 93.5402,370.85 93.9087,370.85 94.2772,370.85 \n",
       "  94.6457,370.85 95.0142,370.85 95.3827,370.85 95.7512,369.008 96.1197,369.008 96.4882,369.008 96.8567,369.008 97.2252,369.008 97.5937,369.008 97.9622,369.008 \n",
       "  98.3307,369.008 98.6992,367.165 99.0677,367.165 99.4362,367.165 99.8047,365.323 100.173,365.323 100.542,365.323 100.91,363.48 101.279,363.48 101.647,363.48 \n",
       "  102.016,363.48 102.384,363.48 102.753,359.795 103.121,359.795 103.49,359.795 103.858,359.795 104.227,359.795 104.595,359.795 104.964,359.795 105.332,359.795 \n",
       "  105.701,356.11 106.069,352.425 106.438,352.425 106.806,352.425 107.175,348.74 107.543,348.74 107.912,348.74 108.28,345.055 108.649,343.213 109.017,339.528 \n",
       "  109.386,337.685 109.754,335.843 110.123,335.843 110.491,332.157 110.86,330.315 111.228,324.787 111.597,322.945 111.965,322.945 112.334,321.102 112.702,321.102 \n",
       "  113.071,321.102 113.439,319.26 113.808,319.26 114.176,319.26 114.545,319.26 114.913,319.26 115.282,311.89 115.65,308.205 116.019,304.52 116.387,302.677 \n",
       "  116.756,302.677 117.124,300.835 117.493,298.992 117.861,298.992 118.23,297.15 118.598,295.307 118.967,295.307 119.335,295.307 119.704,293.465 120.072,291.622 \n",
       "  120.441,289.78 120.809,289.78 121.178,286.094 121.546,286.094 121.915,284.252 122.283,284.252 122.652,282.409 123.02,280.567 123.389,280.567 123.757,278.724 \n",
       "  124.126,278.724 124.494,278.724 124.863,278.724 125.231,275.039 125.6,275.039 125.969,275.039 126.337,275.039 126.706,273.197 127.074,273.197 127.443,273.197 \n",
       "  127.811,273.197 128.18,267.669 128.548,267.669 128.917,267.669 129.285,267.669 129.654,267.669 130.022,267.669 130.391,267.669 130.759,265.827 131.128,265.827 \n",
       "  131.496,265.827 131.865,265.827 132.233,265.827 132.602,265.827 132.97,265.827 133.339,265.827 133.707,265.827 134.076,265.827 134.444,265.827 134.813,265.827 \n",
       "  135.181,265.827 135.55,265.827 135.918,265.827 136.287,263.984 136.655,263.984 137.024,262.142 137.392,262.142 137.761,262.142 138.129,262.142 138.498,262.142 \n",
       "  138.866,262.142 139.235,262.142 139.603,262.142 139.972,260.299 140.34,260.299 140.709,260.299 141.077,260.299 141.446,260.299 141.814,260.299 142.183,260.299 \n",
       "  142.551,260.299 142.92,260.299 143.288,260.299 143.657,260.299 144.025,260.299 144.394,260.299 144.762,260.299 145.131,260.299 145.499,260.299 145.868,260.299 \n",
       "  146.236,260.299 146.605,260.299 146.973,260.299 147.342,260.299 147.71,260.299 148.079,260.299 148.447,260.299 148.816,260.299 149.184,260.299 149.553,260.299 \n",
       "  149.921,260.299 150.29,260.299 150.658,260.299 151.027,260.299 151.395,260.299 151.764,260.299 152.132,260.299 152.501,260.299 152.869,260.299 153.238,260.299 \n",
       "  153.606,260.299 153.975,260.299 154.343,260.299 154.712,260.299 155.08,260.299 155.449,260.299 155.817,260.299 156.186,260.299 156.554,260.299 156.923,260.299 \n",
       "  157.291,260.299 157.66,260.299 158.028,260.299 158.397,260.299 158.765,260.299 159.134,260.299 159.502,260.299 159.871,260.299 160.239,260.299 160.608,260.299 \n",
       "  160.976,260.299 161.345,260.299 161.713,260.299 162.082,260.299 162.45,260.299 162.819,260.299 163.187,260.299 163.556,260.299 163.924,260.299 164.293,260.299 \n",
       "  164.661,260.299 165.03,260.299 165.398,260.299 165.767,260.299 166.135,260.299 166.504,260.299 166.872,260.299 167.241,260.299 167.609,260.299 167.978,260.299 \n",
       "  168.346,260.299 168.715,260.299 169.083,260.299 169.452,260.299 169.82,260.299 170.189,260.299 170.557,260.299 170.926,260.299 171.294,260.299 171.663,260.299 \n",
       "  172.031,260.299 172.4,260.299 172.769,260.299 173.137,260.299 173.506,260.299 173.874,260.299 174.243,260.299 174.611,260.299 174.98,260.299 175.348,260.299 \n",
       "  175.717,260.299 176.085,260.299 176.454,260.299 176.822,260.299 177.191,260.299 177.559,258.457 177.928,258.457 178.296,258.457 178.665,258.457 179.033,258.457 \n",
       "  179.402,258.457 179.77,258.457 180.139,258.457 180.507,258.457 180.876,258.457 181.244,258.457 181.613,258.457 181.981,258.457 182.35,258.457 182.718,258.457 \n",
       "  183.087,258.457 183.455,258.457 183.824,258.457 184.192,258.457 184.561,258.457 184.929,258.457 185.298,258.457 185.666,258.457 186.035,258.457 186.403,258.457 \n",
       "  186.772,258.457 187.14,258.457 187.509,258.457 187.877,258.457 188.246,258.457 188.614,258.457 188.983,258.457 189.351,256.614 189.72,256.614 190.088,256.614 \n",
       "  190.457,256.614 190.825,256.614 191.194,256.614 191.562,256.614 191.931,256.614 192.299,256.614 192.668,256.614 193.036,256.614 193.405,256.614 193.773,256.614 \n",
       "  194.142,256.614 194.51,256.614 194.879,256.614 195.247,256.614 195.616,256.614 195.984,256.614 196.353,256.614 196.721,254.772 197.09,252.929 197.458,251.087 \n",
       "  197.827,251.087 198.195,251.087 198.564,251.087 198.932,251.087 199.301,251.087 199.669,251.087 200.038,251.087 200.406,251.087 200.775,251.087 201.143,251.087 \n",
       "  201.512,251.087 201.88,251.087 202.249,251.087 202.617,251.087 202.986,251.087 203.354,251.087 203.723,251.087 204.091,249.244 204.46,249.244 204.828,249.244 \n",
       "  205.197,249.244 205.565,249.244 205.934,249.244 206.302,249.244 206.671,249.244 207.039,249.244 207.408,249.244 207.776,249.244 208.145,249.244 208.513,247.402 \n",
       "  208.882,247.402 209.25,247.402 209.619,243.717 209.987,243.717 210.356,243.717 210.724,243.717 211.093,243.717 211.461,243.717 211.83,241.874 212.198,241.874 \n",
       "  212.567,241.874 212.935,241.874 213.304,241.874 213.672,241.874 214.041,241.874 214.409,241.874 214.778,241.874 215.146,241.874 215.515,240.031 215.883,240.031 \n",
       "  216.252,240.031 216.62,238.189 216.989,238.189 217.357,238.189 217.726,238.189 218.094,238.189 218.463,238.189 218.831,236.346 219.2,234.504 219.569,234.504 \n",
       "  219.937,234.504 220.306,234.504 220.674,228.976 221.043,227.134 221.411,227.134 221.78,227.134 222.148,227.134 222.517,227.134 222.885,227.134 223.254,227.134 \n",
       "  223.622,227.134 223.991,227.134 224.359,225.291 224.728,225.291 225.096,223.449 225.465,223.449 225.833,219.764 226.202,217.921 226.57,216.079 226.939,216.079 \n",
       "  227.307,214.236 227.676,212.394 228.044,210.551 228.413,210.551 228.781,210.551 229.15,210.551 229.518,210.551 229.887,208.709 230.255,205.024 230.624,203.181 \n",
       "  230.992,203.181 231.361,203.181 231.729,201.339 232.098,199.496 232.466,197.654 232.835,193.969 233.203,192.126 233.572,190.283 233.94,190.283 234.309,190.283 \n",
       "  234.677,190.283 235.046,190.283 235.414,188.441 235.783,186.598 236.151,186.598 236.52,186.598 236.888,186.598 237.257,186.598 237.625,182.913 237.994,182.913 \n",
       "  238.362,181.071 238.731,179.228 239.099,179.228 239.468,175.543 239.836,171.858 240.205,170.016 240.573,168.173 240.942,166.331 241.31,166.331 241.679,166.331 \n",
       "  242.047,166.331 242.416,164.488 242.784,164.488 243.153,162.646 243.521,162.646 243.89,160.803 244.258,160.803 244.627,157.118 244.995,157.118 245.364,157.118 \n",
       "  245.732,155.276 246.101,155.276 246.469,155.276 246.838,155.276 247.206,155.276 247.575,155.276 247.943,155.276 248.312,153.433 248.68,153.433 249.049,153.433 \n",
       "  249.417,151.591 249.786,151.591 250.154,149.748 250.523,146.063 250.891,144.22 251.26,144.22 251.628,142.378 251.997,140.535 252.365,136.85 252.734,135.008 \n",
       "  253.102,135.008 253.471,133.165 253.839,131.323 254.208,131.323 254.576,129.48 254.945,127.638 255.313,127.638 255.682,127.638 256.05,127.638 256.419,123.953 \n",
       "  256.787,122.11 257.156,122.11 257.524,120.268 257.893,120.268 258.261,120.268 258.63,120.268 258.998,120.268 259.367,120.268 259.735,116.583 260.104,116.583 \n",
       "  260.472,116.583 260.841,112.898 261.209,111.055 261.578,111.055 261.946,109.213 262.315,109.213 262.683,107.37 263.052,107.37 263.42,103.685 263.789,103.685 \n",
       "  264.157,101.843 264.526,101.843 264.894,101.843 265.263,101.843 265.631,100 266,98.1575 266.369,96.315 266.737,94.4724 267.106,92.6299 267.474,92.6299 \n",
       "  267.843,90.7874 268.211,90.7874 268.58,88.9449 268.948,88.9449 269.317,88.9449 269.685,87.1024 270.054,87.1024 270.422,87.1024 270.791,87.1024 271.159,87.1024 \n",
       "  271.528,87.1024 271.896,87.1024 272.265,87.1024 272.633,87.1024 273.002,85.2598 273.37,85.2598 273.739,83.4173 274.107,79.7323 274.476,79.7323 274.844,79.7323 \n",
       "  275.213,79.7323 275.581,79.7323 275.95,79.7323 276.318,76.0472 276.687,76.0472 277.055,76.0472 277.424,72.3622 277.792,72.3622 278.161,72.3622 278.529,72.3622 \n",
       "  278.898,70.5197 279.266,70.5197 279.635,70.5197 280.003,70.5197 280.372,68.6772 280.74,68.6772 281.109,66.8346 281.477,66.8346 281.846,64.9921 282.214,64.9921 \n",
       "  282.583,64.9921 282.951,64.9921 283.32,63.1496 283.688,63.1496 284.057,63.1496 284.425,61.3071 284.794,61.3071 285.162,61.3071 285.531,59.4646 285.899,57.622 \n",
       "  286.268,57.622 286.636,55.7795 287.005,53.937 287.373,53.937 287.742,50.252 288.11,50.252 288.479,50.252 288.847,48.4094 289.216,46.5669 289.584,46.5669 \n",
       "  289.953,46.5669 290.321,46.5669 290.69,44.7244 291.058,44.7244 291.427,44.7244 291.795,44.7244 292.164,42.8819 292.532,42.8819 292.901,42.8819 293.269,42.8819 \n",
       "  293.638,41.0394 294.006,39.1969 294.375,39.1969 294.743,39.1969 295.112,39.1969 295.48,35.5118 295.849,35.5118 296.217,35.5118 296.586,35.5118 296.954,35.5118 \n",
       "  297.323,35.5118 297.691,35.5118 298.06,33.6693 298.428,33.6693 298.797,33.6693 299.165,33.6693 299.534,33.6693 299.902,31.8268 300.271,31.8268 300.639,29.9843 \n",
       "  301.008,29.9843 301.376,26.2992 301.745,26.2992 302.113,26.2992 302.482,24.4567 302.85,24.4567 303.219,24.4567 303.587,24.4567 303.956,24.4567 304.324,24.4567 \n",
       "  304.693,24.4567 305.061,24.4567 305.43,22.6142 305.798,22.6142 306.167,22.6142 306.535,22.6142 306.904,22.6142 307.272,22.6142 307.641,22.6142 308.009,20.7717 \n",
       "  308.378,18.9291 308.746,18.9291 309.115,18.9291 309.483,18.9291 309.852,18.9291 310.22,18.9291 310.589,18.9291 310.957,17.0866 311.326,17.0866 311.694,17.0866 \n",
       "  312.063,17.0866 312.431,17.0866 312.8,17.0866 313.169,17.0866 313.537,17.0866 313.906,17.0866 314.274,17.0866 314.643,15.2441 315.011,15.2441 315.38,15.2441 \n",
       "  315.748,13.4016 316.117,13.4016 316.485,13.4016 316.854,13.4016 317.222,13.4016 317.591,13.4016 317.959,13.4016 318.328,11.5591 318.696,11.5591 319.065,11.5591 \n",
       "  319.433,11.5591 319.802,9.71654 320.17,9.71654 320.539,9.71654 320.907,9.71654 321.276,9.71654 321.644,9.71654 322.013,9.71654 322.381,9.71654 322.75,9.71654 \n",
       "  323.118,9.71654 323.487,9.71654 323.855,9.71654 324.224,9.71654 324.592,9.71654 324.961,9.71654 325.329,9.71654 325.698,9.71654 326.066,9.71654 326.435,7.87402 \n",
       "  326.803,7.87402 327.172,7.87402 327.54,7.87402 327.909,7.87402 328.277,7.87402 328.646,7.87402 329.014,7.87402 329.383,7.87402 329.751,7.87402 330.12,7.87402 \n",
       "  330.488,7.87402 330.857,7.87402 331.225,7.87402 331.594,7.87402 331.962,7.87402 332.331,7.87402 332.699,7.87402 333.068,7.87402 333.436,7.87402 333.805,7.87402 \n",
       "  334.173,7.87402 334.542,7.87402 334.91,7.87402 335.279,7.87402 335.647,7.87402 336.016,7.87402 336.384,7.87402 336.753,7.87402 337.121,7.87402 337.49,7.87402 \n",
       "  337.858,7.87402 338.227,7.87402 338.595,7.87402 338.964,7.87402 339.332,7.87402 339.701,7.87402 340.069,7.87402 340.438,7.87402 340.806,7.87402 341.175,7.87402 \n",
       "  341.543,7.87402 341.912,7.87402 342.28,7.87402 342.649,7.87402 343.017,7.87402 343.386,7.87402 343.754,7.87402 344.123,7.87402 344.491,7.87402 344.86,7.87402 \n",
       "  345.228,7.87402 345.597,7.87402 345.965,7.87402 346.334,7.87402 346.702,7.87402 347.071,7.87402 347.439,7.87402 347.808,7.87402 348.176,7.87402 348.545,7.87402 \n",
       "  348.913,7.87402 349.282,7.87402 349.65,7.87402 350.019,7.87402 350.387,7.87402 350.756,7.87402 351.124,7.87402 351.493,7.87402 351.861,7.87402 352.23,7.87402 \n",
       "  352.598,7.87402 352.967,7.87402 353.335,7.87402 353.704,7.87402 354.072,7.87402 354.441,7.87402 354.809,7.87402 355.178,7.87402 355.546,7.87402 355.915,7.87402 \n",
       "  356.283,7.87402 356.652,7.87402 357.02,7.87402 357.389,7.87402 357.757,7.87402 358.126,7.87402 358.494,7.87402 358.863,7.87402 359.231,7.87402 359.6,7.87402 \n",
       "  359.969,7.87402 360.337,7.87402 360.706,7.87402 361.074,7.87402 361.443,7.87402 361.811,7.87402 362.18,7.87402 362.548,7.87402 362.917,7.87402 363.285,7.87402 \n",
       "  363.654,7.87402 364.022,7.87402 364.391,7.87402 364.759,7.87402 365.128,7.87402 365.496,7.87402 365.865,7.87402 366.233,7.87402 366.602,7.87402 366.97,7.87402 \n",
       "  367.339,7.87402 367.707,7.87402 368.076,7.87402 368.444,7.87402 368.813,7.87402 369.181,7.87402 369.55,7.87402 369.918,7.87402 370.287,7.87402 370.655,7.87402 \n",
       "  371.024,7.87402 371.392,7.87402 371.761,7.87402 372.129,7.87402 372.498,7.87402 372.866,7.87402 373.235,7.87402 373.603,7.87402 373.972,7.87402 374.34,7.87402 \n",
       "  374.709,7.87402 375.077,7.87402 375.446,7.87402 375.814,7.87402 376.183,7.87402 376.551,7.87402 376.92,7.87402 377.288,7.87402 377.657,7.87402 378.025,7.87402 \n",
       "  378.394,7.87402 378.762,7.87402 379.131,7.87402 379.499,7.87402 379.868,7.87402 380.236,7.87402 380.605,7.87402 380.973,7.87402 381.342,7.87402 381.71,7.87402 \n",
       "  382.079,7.87402 382.447,7.87402 382.816,7.87402 383.184,7.87402 383.553,7.87402 383.921,7.87402 384.29,7.87402 384.658,7.87402 385.027,7.87402 385.395,7.87402 \n",
       "  385.764,7.87402 386.132,7.87402 386.501,7.87402 386.869,7.87402 387.238,7.87402 387.606,7.87402 387.975,7.87402 388.343,7.87402 388.712,7.87402 389.08,7.87402 \n",
       "  389.449,7.87402 389.817,7.87402 390.186,7.87402 390.554,7.87402 390.923,7.87402 391.291,7.87402 391.66,7.87402 392.028,7.87402 392.397,7.87402 392.765,7.87402 \n",
       "  393.134,7.87402 393.502,7.87402 393.871,7.87402 394.239,7.87402 394.608,7.87402 394.976,7.87402 395.345,7.87402 395.713,7.87402 396.082,7.87402 396.45,7.87402 \n",
       "  396.819,7.87402 397.187,7.87402 397.556,7.87402 397.924,7.87402 398.293,7.87402 398.661,7.87402 399.03,7.87402 399.398,7.87402 399.767,7.87402 400.135,7.87402 \n",
       "  400.504,7.87402 400.872,7.87402 401.241,7.87402 401.609,7.87402 401.978,7.87402 402.346,7.87402 402.715,7.87402 403.083,7.87402 403.452,7.87402 403.82,7.87402 \n",
       "  404.189,7.87402 404.557,7.87402 404.926,7.87402 405.294,7.87402 405.663,7.87402 406.031,7.87402 406.4,7.87402 406.769,7.87402 407.137,7.87402 407.506,7.87402 \n",
       "  407.874,7.87402 408.243,7.87402 408.611,7.87402 408.98,7.87402 409.348,7.87402 409.717,7.87402 410.085,7.87402 410.454,7.87402 410.822,7.87402 411.191,7.87402 \n",
       "  411.559,7.87402 411.928,7.87402 412.296,7.87402 412.665,7.87402 413.033,7.87402 413.402,7.87402 413.77,7.87402 414.139,7.87402 414.507,7.87402 414.876,7.87402 \n",
       "  415.244,7.87402 415.613,7.87402 415.981,7.87402 416.35,7.87402 416.718,7.87402 417.087,7.87402 417.455,7.87402 417.824,7.87402 418.192,7.87402 418.561,7.87402 \n",
       "  418.929,7.87402 419.298,7.87402 419.666,7.87402 420.035,7.87402 420.403,7.87402 420.772,7.87402 421.14,7.87402 421.509,7.87402 421.877,7.87402 422.246,7.87402 \n",
       "  422.614,7.87402 422.983,7.87402 423.351,7.87402 423.72,7.87402 424.088,7.87402 424.457,7.87402 424.825,7.87402 425.194,7.87402 425.562,7.87402 425.931,7.87402 \n",
       "  426.299,7.87402 426.668,7.87402 427.036,7.87402 427.405,7.87402 427.773,7.87402 428.142,7.87402 428.51,7.87402 428.879,7.87402 429.247,7.87402 429.616,7.87402 \n",
       "  429.984,7.87402 430.353,7.87402 430.721,7.87402 431.09,7.87402 431.458,7.87402 431.827,7.87402 432.195,7.87402 432.564,7.87402 432.932,7.87402 433.301,7.87402 \n",
       "  433.669,7.87402 434.038,7.87402 434.406,7.87402 434.775,7.87402 435.143,7.87402 435.512,7.87402 435.88,7.87402 436.249,7.87402 436.617,7.87402 436.986,7.87402 \n",
       "  437.354,7.87402 437.723,7.87402 438.091,7.87402 438.46,7.87402 438.828,7.87402 439.197,7.87402 439.565,7.87402 439.934,7.87402 440.302,7.87402 440.671,7.87402 \n",
       "  441.039,7.87402 441.408,7.87402 441.776,7.87402 442.145,7.87402 442.513,7.87402 442.882,7.87402 443.25,7.87402 443.619,7.87402 443.987,7.87402 444.356,7.87402 \n",
       "  444.724,7.87402 445.093,7.87402 445.461,7.87402 445.83,7.87402 446.198,7.87402 446.567,7.87402 446.935,7.87402 447.304,7.87402 447.672,7.87402 448.041,7.87402 \n",
       "  448.409,7.87402 448.778,7.87402 449.146,7.87402 449.515,7.87402 449.883,7.87402 450.252,7.87402 450.62,7.87402 450.989,7.87402 451.357,7.87402 451.726,7.87402 \n",
       "  452.094,7.87402 452.463,7.87402 452.831,7.87402 453.2,7.87402 453.569,7.87402 453.937,7.87402 454.306,7.87402 454.674,7.87402 455.043,7.87402 455.411,7.87402 \n",
       "  455.78,7.87402 456.148,7.87402 456.517,7.87402 456.885,7.87402 457.254,7.87402 457.622,7.87402 457.991,7.87402 458.359,7.87402 458.728,7.87402 459.096,7.87402 \n",
       "  459.465,7.87402 459.833,7.87402 460.202,7.87402 460.57,7.87402 460.939,7.87402 461.307,7.87402 461.676,7.87402 462.044,7.87402 462.413,7.87402 462.781,7.87402 \n",
       "  463.15,7.87402 463.518,7.87402 463.887,7.87402 464.255,7.87402 464.624,7.87402 464.992,7.87402 465.361,7.87402 465.729,7.87402 466.098,7.87402 466.466,7.87402 \n",
       "  466.835,7.87402 467.203,7.87402 467.572,7.87402 467.94,7.87402 468.309,7.87402 468.677,7.87402 469.046,7.87402 469.414,7.87402 469.783,7.87402 470.151,7.87402 \n",
       "  470.52,7.87402 470.888,7.87402 471.257,7.87402 471.625,7.87402 471.994,7.87402 472.362,7.87402 472.731,7.87402 473.099,7.87402 473.468,7.87402 473.836,7.87402 \n",
       "  474.205,7.87402 474.573,7.87402 474.942,7.87402 475.31,7.87402 475.679,7.87402 476.047,7.87402 476.416,7.87402 476.784,7.87402 477.153,7.87402 477.521,7.87402 \n",
       "  477.89,7.87402 478.258,7.87402 478.627,7.87402 478.995,7.87402 479.364,7.87402 479.732,7.87402 480.101,7.87402 480.469,7.87402 480.838,7.87402 481.206,7.87402 \n",
       "  481.575,7.87402 481.943,7.87402 482.312,7.87402 482.68,7.87402 483.049,7.87402 483.417,7.87402 483.786,7.87402 484.154,7.87402 484.523,7.87402 484.891,7.87402 \n",
       "  485.26,7.87402 485.628,7.87402 485.997,7.87402 486.365,7.87402 486.734,7.87402 487.102,7.87402 487.471,7.87402 487.839,7.87402 488.208,7.87402 488.576,7.87402 \n",
       "  488.945,7.87402 489.313,7.87402 489.682,7.87402 490.05,7.87402 490.419,7.87402 490.787,7.87402 491.156,7.87402 491.524,7.87402 491.893,7.87402 492.261,7.87402 \n",
       "  492.63,7.87402 492.998,7.87402 493.367,7.87402 493.735,7.87402 494.104,7.87402 494.472,7.87402 494.841,7.87402 495.209,7.87402 495.578,7.87402 495.946,7.87402 \n",
       "  496.315,7.87402 496.683,7.87402 497.052,7.87402 497.42,7.87402 497.789,7.87402 498.157,7.87402 498.526,7.87402 498.894,7.87402 499.263,7.87402 499.631,7.87402 \n",
       "  500,7.87402 500.369,7.87402 500.737,7.87402 501.106,7.87402 501.474,7.87402 501.843,7.87402 502.211,7.87402 502.58,7.87402 502.948,7.87402 503.317,7.87402 \n",
       "  503.685,7.87402 504.054,7.87402 504.422,7.87402 504.791,7.87402 505.159,7.87402 505.528,7.87402 505.896,7.87402 506.265,7.87402 506.633,7.87402 507.002,7.87402 \n",
       "  507.37,7.87402 507.739,7.87402 508.107,7.87402 508.476,7.87402 508.844,7.87402 509.213,7.87402 509.581,7.87402 509.95,7.87402 510.318,7.87402 510.687,7.87402 \n",
       "  511.055,7.87402 511.424,7.87402 511.792,7.87402 512.161,7.87402 512.529,7.87402 512.898,7.87402 513.266,7.87402 513.635,7.87402 514.003,7.87402 514.372,7.87402 \n",
       "  514.74,7.87402 515.109,7.87402 515.477,7.87402 515.846,7.87402 516.214,7.87402 516.583,7.87402 516.951,7.87402 517.32,7.87402 517.688,7.87402 518.057,7.87402 \n",
       "  518.425,7.87402 518.794,7.87402 519.162,7.87402 519.531,7.87402 519.899,7.87402 520.268,7.87402 520.636,7.87402 521.005,7.87402 521.373,7.87402 521.742,7.87402 \n",
       "  522.11,7.87402 522.479,7.87402 522.847,7.87402 523.216,7.87402 523.584,7.87402 523.953,7.87402 524.321,7.87402 524.69,7.87402 525.058,7.87402 525.427,7.87402 \n",
       "  525.795,7.87402 526.164,7.87402 526.532,7.87402 526.901,7.87402 527.269,7.87402 527.638,7.87402 528.006,7.87402 528.375,7.87402 528.743,7.87402 529.112,7.87402 \n",
       "  529.48,7.87402 529.849,7.87402 530.217,7.87402 530.586,7.87402 530.954,7.87402 531.323,7.87402 531.691,7.87402 532.06,7.87402 532.428,7.87402 532.797,7.87402 \n",
       "  533.165,7.87402 533.534,7.87402 533.902,7.87402 534.271,7.87402 534.639,7.87402 535.008,7.87402 535.376,7.87402 535.745,7.87402 536.113,7.87402 536.482,7.87402 \n",
       "  536.85,7.87402 537.219,7.87402 537.587,7.87402 537.956,7.87402 538.324,7.87402 538.693,7.87402 539.061,7.87402 539.43,7.87402 539.798,7.87402 540.167,7.87402 \n",
       "  540.535,7.87402 540.904,7.87402 541.272,7.87402 541.641,7.87402 542.009,7.87402 542.378,7.87402 542.746,7.87402 543.115,7.87402 543.483,7.87402 543.852,7.87402 \n",
       "  544.22,7.87402 544.589,7.87402 544.957,7.87402 545.326,7.87402 545.694,7.87402 546.063,7.87402 546.431,7.87402 546.8,7.87402 547.169,7.87402 547.537,7.87402 \n",
       "  547.906,7.87402 548.274,7.87402 548.643,7.87402 549.011,7.87402 549.38,7.87402 549.748,7.87402 550.117,7.87402 550.485,7.87402 550.854,7.87402 551.222,7.87402 \n",
       "  551.591,7.87402 551.959,7.87402 552.328,7.87402 552.696,7.87402 553.065,7.87402 553.433,7.87402 553.802,7.87402 554.17,7.87402 554.539,7.87402 554.907,7.87402 \n",
       "  555.276,7.87402 555.644,7.87402 556.013,7.87402 556.381,7.87402 556.75,7.87402 557.118,7.87402 557.487,7.87402 557.855,7.87402 558.224,7.87402 558.592,7.87402 \n",
       "  558.961,7.87402 559.329,7.87402 559.698,7.87402 560.066,7.87402 560.435,7.87402 560.803,7.87402 561.172,7.87402 561.54,7.87402 561.909,7.87402 562.277,7.87402 \n",
       "  562.646,7.87402 563.014,7.87402 563.383,7.87402 563.751,7.87402 564.12,7.87402 564.488,7.87402 564.857,7.87402 565.225,7.87402 565.594,7.87402 565.962,7.87402 \n",
       "  566.331,7.87402 566.699,7.87402 567.068,7.87402 567.436,7.87402 567.805,7.87402 568.173,7.87402 568.542,7.87402 568.91,7.87402 569.279,7.87402 569.647,7.87402 \n",
       "  570.016,7.87402 570.384,7.87402 570.753,7.87402 571.121,7.87402 571.49,7.87402 571.858,7.87402 572.227,7.87402 572.595,7.87402 572.964,7.87402 573.332,7.87402 \n",
       "  573.701,7.87402 574.069,7.87402 574.438,7.87402 574.806,7.87402 575.175,7.87402 575.543,7.87402 575.912,7.87402 576.28,7.87402 576.649,7.87402 577.017,7.87402 \n",
       "  577.386,7.87402 577.754,7.87402 578.123,7.87402 578.491,7.87402 578.86,7.87402 579.228,7.87402 579.597,7.87402 579.965,7.87402 580.334,7.87402 580.702,7.87402 \n",
       "  581.071,7.87402 581.439,7.87402 581.808,7.87402 582.176,7.87402 582.545,7.87402 582.913,7.87402 583.282,7.87402 583.65,7.87402 584.019,7.87402 584.387,7.87402 \n",
       "  584.756,7.87402 585.124,7.87402 585.493,7.87402 585.861,7.87402 586.23,7.87402 586.598,7.87402 586.967,7.87402 587.335,7.87402 587.704,7.87402 588.072,7.87402 \n",
       "  588.441,7.87402 588.809,7.87402 589.178,7.87402 589.546,7.87402 589.915,7.87402 590.283,7.87402 590.652,7.87402 591.02,7.87402 591.389,7.87402 591.757,7.87402 \n",
       "  592.126,7.87402 \n",
       "  \"/>\n",
       "<polygon clip-path=\"url(#clip00)\" points=\"\n",
       "461.433,74.114 574.126,74.114 574.126,28.754 461.433,28.754 \n",
       "  \" fill=\"#ffffff\" fill-opacity=\"1\"/>\n",
       "<polyline clip-path=\"url(#clip00)\" style=\"stroke:#000000; stroke-width:1; stroke-opacity:1; fill:none\" points=\"\n",
       "  461.433,74.114 574.126,74.114 574.126,28.754 461.433,28.754 461.433,74.114 \n",
       "  \"/>\n",
       "<polyline clip-path=\"url(#clip00)\" style=\"stroke:#009af9; stroke-width:1; stroke-opacity:1; fill:none\" points=\"\n",
       "  467.433,43.874 503.433,43.874 \n",
       "  \"/>\n",
       "<g clip-path=\"url(#clip00)\">\n",
       "<text style=\"fill:#000000; fill-opacity:1; font-family:Arial,Helvetica Neue,Helvetica,sans-serif; font-size:12; text-anchor:start;\" transform=\"rotate(0, 509.433, 48.374)\" x=\"509.433\" y=\"48.374\">Estimated</text>\n",
       "</g>\n",
       "<polyline clip-path=\"url(#clip00)\" style=\"stroke:#e26f46; stroke-width:1; stroke-opacity:1; fill:none\" points=\"\n",
       "  467.433,58.994 503.433,58.994 \n",
       "  \"/>\n",
       "<g clip-path=\"url(#clip00)\">\n",
       "<text style=\"fill:#000000; fill-opacity:1; font-family:Arial,Helvetica Neue,Helvetica,sans-serif; font-size:12; text-anchor:start;\" transform=\"rotate(0, 509.433, 63.494)\" x=\"509.433\" y=\"63.494\">Empirical</text>\n",
       "</g>\n",
       "</svg>\n"
      ]
     },
     "execution_count": 210,
     "metadata": {},
     "output_type": "execute_result"
    }
   ],
   "source": [
    "plot(X, [cdf.(est, X), empirical_cdf(data, X)] , label=[\"Estimated\" \"Empirical\"])"
   ]
  },
  {
   "cell_type": "code",
   "execution_count": null,
   "metadata": {
    "collapsed": true
   },
   "outputs": [],
   "source": []
  }
 ],
 "metadata": {
  "kernelspec": {
   "display_name": "Julia 0.6.0",
   "language": "julia",
   "name": "julia-0.6"
  },
  "language_info": {
   "file_extension": ".jl",
   "mimetype": "application/julia",
   "name": "julia",
   "version": "0.6.0"
  }
 },
 "nbformat": 4,
 "nbformat_minor": 2
}
