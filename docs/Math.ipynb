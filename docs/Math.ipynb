{
 "cells": [
  {
   "cell_type": "code",
   "execution_count": 1,
   "metadata": {},
   "outputs": [
    {
     "data": {
      "text/plain": [
       "only (generic function with 1 method)"
      ]
     },
     "execution_count": 1,
     "metadata": {},
     "output_type": "execute_result"
    }
   ],
   "source": [
    "function only(itr)\n",
    "    state = start(itr)\n",
    "    val,state = next(itr, state)\n",
    "    @assert(done(itr,state))\n",
    "    return val\n",
    "end"
   ]
  },
  {
   "cell_type": "code",
   "execution_count": 2,
   "metadata": {},
   "outputs": [],
   "source": [
    "using SymEngine\n",
    "using Expr2LaTeX\n",
    "Expr2LaTeX.render(symexpr::SymEngine.Basic)=symexpr |> repr |> parse |> render"
   ]
  },
  {
   "cell_type": "code",
   "execution_count": 4,
   "metadata": {},
   "outputs": [
    {
     "data": {
      "text/plain": [
       "bias_var (generic function with 1 method)"
      ]
     },
     "execution_count": 4,
     "metadata": {},
     "output_type": "execute_result"
    }
   ],
   "source": [
    "function weight_var(name, input_size, output_size)\n",
    "    [symbols(\"$(name)_$j$i\") for j in 1:output_size, i in 1:input_size]\n",
    "end\n",
    "function bias_var(name, output_size)\n",
    "    [symbols(\"$(name)_$j\") for j in 1:output_size]\n",
    "end\n",
    "\n"
   ]
  },
  {
   "cell_type": "code",
   "execution_count": 63,
   "metadata": {},
   "outputs": [
    {
     "data": {
      "text/plain": [
       "V_11/(1 + exp(-(b_1 + x*W_11^2))) + V_12/(1 + exp(-(b_2 + x*W_21^2))) + V_13/(1 + exp(-(b_3 + x*W_31^2)))"
      ]
     },
     "execution_count": 63,
     "metadata": {},
     "output_type": "execute_result"
    }
   ],
   "source": [
    "@vars x\n",
    "W = weight_var(\"W\", 1, 3)\n",
    "b = bias_var(\"b\",3)\n",
    "V = weight_var(\"V\", 3, 1)\n",
    "\n",
    "z=(sigmoid.(W.^2*x + b))\n",
    "N=V*z |> only"
   ]
  },
  {
   "cell_type": "code",
   "execution_count": 64,
   "metadata": {},
   "outputs": [
    {
     "data": {
      "text/latex": [
       "$(\\frac{V_{11}}{(1 + \\mathrm{exp}(((b_{1} + (x * W_{11}^{2})))))} + \\frac{V_{12}}{(1 + \\mathrm{exp}(((b_{2} + (x * W_{21}^{2})))))} + \\frac{V_{13}}{(1 + \\mathrm{exp}(((b_{3} + (x * W_{31}^{2})))))})$"
      ],
      "text/plain": [
       "L\"$(\\frac{V_{11}}{(1 + \\mathrm{exp}(((b_{1} + (x * W_{11}^{2})))))} + \\frac{V_{12}}{(1 + \\mathrm{exp}(((b_{2} + (x * W_{21}^{2})))))} + \\frac{V_{13}}{(1 + \\mathrm{exp}(((b_{3} + (x * W_{31}^{2})))))})$\""
      ]
     },
     "metadata": {},
     "output_type": "display_data"
    }
   ],
   "source": [
    "render(N)"
   ]
  },
  {
   "cell_type": "code",
   "execution_count": 65,
   "metadata": {},
   "outputs": [
    {
     "data": {
      "text/latex": [
       "$(\\frac{(\\mathrm{exp}(((b_{1} + (x * W_{11}^{2})))) * W_{11}^{2} * V_{11})}{(1 + \\mathrm{exp}(((b_{1} + (x * W_{11}^{2})))))^{2}} + \\frac{(\\mathrm{exp}(((b_{2} + (x * W_{21}^{2})))) * W_{21}^{2} * V_{12})}{(1 + \\mathrm{exp}(((b_{2} + (x * W_{21}^{2})))))^{2}} + \\frac{(\\mathrm{exp}(((b_{3} + (x * W_{31}^{2})))) * W_{31}^{2} * V_{13})}{(1 + \\mathrm{exp}(((b_{3} + (x * W_{31}^{2})))))^{2}})$"
      ],
      "text/plain": [
       "L\"$(\\frac{(\\mathrm{exp}(((b_{1} + (x * W_{11}^{2})))) * W_{11}^{2} * V_{11})}{(1 + \\mathrm{exp}(((b_{1} + (x * W_{11}^{2})))))^{2}} + \\frac{(\\mathrm{exp}(((b_{2} + (x * W_{21}^{2})))) * W_{21}^{2} * V_{12})}{(1 + \\mathrm{exp}(((b_{2} + (x * W_{21}^{2})))))^{2}} + \\frac{(\\mathrm{exp}(((b_{3} + (x * W_{31}^{2})))) * W_{31}^{2} * V_{13})}{(1 + \\mathrm{exp}(((b_{3} + (x * W_{31}^{2})))))^{2}})$\""
      ]
     },
     "metadata": {},
     "output_type": "display_data"
    }
   ],
   "source": [
    "render(diff(N,x))"
   ]
  },
  {
   "cell_type": "markdown",
   "metadata": {},
   "source": []
  },
  {
   "cell_type": "code",
   "execution_count": null,
   "metadata": {
    "collapsed": true
   },
   "outputs": [],
   "source": []
  }
 ],
 "metadata": {
  "kernelspec": {
   "display_name": "Julia 0.6.0",
   "language": "julia",
   "name": "julia-0.6"
  },
  "language_info": {
   "file_extension": ".jl",
   "mimetype": "application/julia",
   "name": "julia",
   "version": "0.6.0"
  }
 },
 "nbformat": 4,
 "nbformat_minor": 2
}
