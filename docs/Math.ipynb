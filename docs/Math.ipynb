{
 "cells": [
  {
   "cell_type": "code",
   "execution_count": 1,
   "metadata": {},
   "outputs": [
    {
     "data": {
      "text/plain": [
       "only (generic function with 1 method)"
      ]
     },
     "execution_count": 1,
     "metadata": {},
     "output_type": "execute_result"
    }
   ],
   "source": [
    "function only(itr)\n",
    "    state = start(itr)\n",
    "    val,state = next(itr, state)\n",
    "    @assert(done(itr,state))\n",
    "    return val\n",
    "end"
   ]
  },
  {
   "cell_type": "code",
   "execution_count": 2,
   "metadata": {
    "collapsed": true
   },
   "outputs": [],
   "source": [
    "using SymEngine\n",
    "import SymEngine: as_numer_denom\n",
    "using Expr2LaTeX\n",
    "Expr2LaTeX.render(symexpr::SymEngine.Basic)=symexpr |> repr |> parse |> render"
   ]
  },
  {
   "cell_type": "code",
   "execution_count": 205,
   "metadata": {},
   "outputs": [
    {
     "data": {
      "text/plain": [
       "\u001b[1m\u001b[32mTest Passed\n",
       "\u001b[39m\u001b[22m"
      ]
     },
     "execution_count": 205,
     "metadata": {},
     "output_type": "execute_result"
    }
   ],
   "source": [
    "function ugly_simplify(f)\n",
    "    num,den = as_numer_denom(f)\n",
    "    inv(expand(inv(num)*den))\n",
    "end\n",
    "\n",
    "function basic_simplify(f)\n",
    "    num2,den2 = as_numer_denom(ugly_simplify(f))\n",
    "    num2/den2\n",
    "end\n",
    "\n",
    "(a)≖(b) = ugly_simplify(a)==ugly_simplify(b)\n",
    "\n",
    "### Tests\n",
    "using Base.Test\n",
    "@vars z\n",
    "s1 = (1 + exp(-z))^(-1)\n",
    "s2 = exp(z)/(1+exp(z))\n",
    "\n",
    "@test s1 ≖ s2\n",
    "@test inv(s1)≖inv(s2)\n",
    "\n",
    "n1 = subs(s1, z=>-z)\n",
    "n2 = 1-s1\n",
    "n3 = subs(s2, z=>-z)\n",
    "n4 = 1-s2\n",
    "@test n1 ≖ n2 ≖ n3 ≖ n4\n",
    "@test inv(n1)≖inv(n2) ≖ inv(n3) ≖ inv(n4)\n"
   ]
  },
  {
   "cell_type": "code",
   "execution_count": null,
   "metadata": {
    "collapsed": true
   },
   "outputs": [],
   "source": []
  },
  {
   "cell_type": "code",
   "execution_count": 182,
   "metadata": {},
   "outputs": [
    {
     "data": {
      "text/plain": [
       "exp(-z)/(1 + exp(-z))^2"
      ]
     },
     "execution_count": 182,
     "metadata": {},
     "output_type": "execute_result"
    }
   ],
   "source": [
    "sigmoid(z)=(1 + exp(-z))^(-1)\n",
    "@vars z\n",
    "diff(sigmoid(z),z)"
   ]
  },
  {
   "cell_type": "code",
   "execution_count": 5,
   "metadata": {},
   "outputs": [
    {
     "data": {
      "text/plain": [
       "bias_var (generic function with 1 method)"
      ]
     },
     "execution_count": 5,
     "metadata": {},
     "output_type": "execute_result"
    }
   ],
   "source": [
    "function weight_var(name, input_size, output_size)\n",
    "    [symbols(\"$(name)_$j$i\") for j in 1:output_size, i in 1:input_size]\n",
    "end\n",
    "function bias_var(name, output_size)\n",
    "    [symbols(\"$(name)_$j\") for j in 1:output_size]\n",
    "end\n",
    "\n"
   ]
  },
  {
   "cell_type": "markdown",
   "metadata": {},
   "source": [
    "## Basic Network\n",
    "\n",
    "Single input single output\n",
    "1 hidden layer"
   ]
  },
  {
   "cell_type": "code",
   "execution_count": 99,
   "metadata": {},
   "outputs": [
    {
     "data": {
      "text/latex": [
       "$(\\frac{V_{11}}{(1 + \\mathrm{exp}(-(b_{1} + (x * W_{11}))))} + \\frac{V_{12}}{(1 + \\mathrm{exp}(-(b_{2} + (x * W_{21}))))} + \\frac{V_{13}}{(1 + \\mathrm{exp}(-(b_{3} + (x * W_{31}))))})$"
      ],
      "text/plain": [
       "L\"$(\\frac{V_{11}}{(1 + \\mathrm{exp}(-(b_{1} + (x * W_{11}))))} + \\frac{V_{12}}{(1 + \\mathrm{exp}(-(b_{2} + (x * W_{21}))))} + \\frac{V_{13}}{(1 + \\mathrm{exp}(-(b_{3} + (x * W_{31}))))})$\""
      ]
     },
     "metadata": {},
     "output_type": "display_data"
    }
   ],
   "source": [
    "@vars x\n",
    "W = weight_var(\"W\", 1, 3)\n",
    "b = bias_var(\"b\",3)\n",
    "V = weight_var(\"V\", 3, 1)\n",
    "\n",
    "z=(sigmoid.(W*x + b))\n",
    "N=V*z |> only\n",
    "render(N)"
   ]
  },
  {
   "cell_type": "code",
   "execution_count": 96,
   "metadata": {},
   "outputs": [
    {
     "data": {
      "text/latex": [
       "$(\\frac{(\\mathrm{exp}(-(b_{1} + (x * W_{11}))) * W_{11} * V_{11})}{(1 + \\mathrm{exp}(-(b_{1} + (x * W_{11}))))^{2}} + \\frac{(\\mathrm{exp}(-(b_{2} + (x * W_{21}))) * W_{21} * V_{12})}{(1 + \\mathrm{exp}(-(b_{2} + (x * W_{21}))))^{2}} + \\frac{(\\mathrm{exp}(-(b_{3} + (x * W_{31}))) * W_{31} * V_{13})}{(1 + \\mathrm{exp}(-(b_{3} + (x * W_{31}))))^{2}})$"
      ],
      "text/plain": [
       "L\"$(\\frac{(\\mathrm{exp}(-(b_{1} + (x * W_{11}))) * W_{11} * V_{11})}{(1 + \\mathrm{exp}(-(b_{1} + (x * W_{11}))))^{2}} + \\frac{(\\mathrm{exp}(-(b_{2} + (x * W_{21}))) * W_{21} * V_{12})}{(1 + \\mathrm{exp}(-(b_{2} + (x * W_{21}))))^{2}} + \\frac{(\\mathrm{exp}(-(b_{3} + (x * W_{31}))) * W_{31} * V_{13})}{(1 + \\mathrm{exp}(-(b_{3} + (x * W_{31}))))^{2}})$\""
      ]
     },
     "metadata": {},
     "output_type": "display_data"
    }
   ],
   "source": [
    "dNdx = diff(N,x)\n",
    "render(dNdx)"
   ]
  },
  {
   "cell_type": "code",
   "execution_count": 171,
   "metadata": {},
   "outputs": [
    {
     "data": {
      "text/latex": [
       "$(\\frac{(W_{11} * V_{11})}{((1 + \\mathrm{exp}(b_{1} + (x * W_{11}))) * (1 + \\mathrm{exp}(-(b_{1} + (x * W_{11})))))} + \\frac{(W_{21} * V_{12})}{((1 + \\mathrm{exp}(b_{2} + (x * W_{21}))) * (1 + \\mathrm{exp}(-(b_{2} + (x * W_{21})))))} + \\frac{(W_{31} * V_{13})}{((1 + \\mathrm{exp}(b_{3} + (x * W_{31}))) * (1 + \\mathrm{exp}(-(b_{3} + (x * W_{31})))))})$"
      ],
      "text/plain": [
       "L\"$(\\frac{(W_{11} * V_{11})}{((1 + \\mathrm{exp}(b_{1} + (x * W_{11}))) * (1 + \\mathrm{exp}(-(b_{1} + (x * W_{11})))))} + \\frac{(W_{21} * V_{12})}{((1 + \\mathrm{exp}(b_{2} + (x * W_{21}))) * (1 + \\mathrm{exp}(-(b_{2} + (x * W_{21})))))} + \\frac{(W_{31} * V_{13})}{((1 + \\mathrm{exp}(b_{3} + (x * W_{31}))) * (1 + \\mathrm{exp}(-(b_{3} + (x * W_{31})))))})$\""
      ]
     },
     "metadata": {},
     "output_type": "display_data"
    }
   ],
   "source": [
    "# I am pretty sure this is the right equation for the derivative of a plain nerual network\n",
    "# But symengine is not strong enough to  recognise that it matches the above\n",
    "mdNdx = (W'.*V)*(sigmoid.(-(W*x + b)).*sigmoid.(W*x + b)) |> first\n",
    "render.(mdNdx)"
   ]
  },
  {
   "cell_type": "code",
   "execution_count": 169,
   "metadata": {},
   "outputs": [
    {
     "data": {
      "text/plain": [
       "1×3 Array{SymEngine.Basic,2}:\n",
       " W_11*V_11  W_21*V_12  W_31*V_13"
      ]
     },
     "execution_count": 169,
     "metadata": {},
     "output_type": "execute_result"
    }
   ],
   "source": [
    "W'.*V"
   ]
  },
  {
   "cell_type": "markdown",
   "metadata": {},
   "source": [
    "## Expodential Output net\n",
    "Single input single output still,\n",
    "1 hidden layer,\n",
    "output expodential,"
   ]
  },
  {
   "cell_type": "code",
   "execution_count": 101,
   "metadata": {},
   "outputs": [
    {
     "data": {
      "text/latex": [
       "$\\mathrm{exp}(\\frac{V_{11}}{(1 + \\mathrm{exp}(-(b_{1} + (x * W_{11}))))} + \\frac{V_{12}}{(1 + \\mathrm{exp}(-(b_{2} + (x * W_{21}))))} + \\frac{V_{13}}{(1 + \\mathrm{exp}(-(b_{3} + (x * W_{31}))))})$"
      ],
      "text/plain": [
       "L\"$\\mathrm{exp}(\\frac{V_{11}}{(1 + \\mathrm{exp}(-(b_{1} + (x * W_{11}))))} + \\frac{V_{12}}{(1 + \\mathrm{exp}(-(b_{2} + (x * W_{21}))))} + \\frac{V_{13}}{(1 + \\mathrm{exp}(-(b_{3} + (x * W_{31}))))})$\""
      ]
     },
     "metadata": {},
     "output_type": "display_data"
    }
   ],
   "source": [
    "@vars x\n",
    "W = weight_var(\"W\", 1, 3)\n",
    "b = bias_var(\"b\",3)\n",
    "V = weight_var(\"V\", 3, 1)\n",
    "\n",
    "z=sigmoid.(W*x + b)\n",
    "N=exp.(V*z) |> only\n",
    "render(N)"
   ]
  },
  {
   "cell_type": "code",
   "execution_count": 102,
   "metadata": {},
   "outputs": [
    {
     "data": {
      "text/latex": [
       "$(\\mathrm{exp}(\\frac{V_{11}}{(1 + \\mathrm{exp}(-(b_{1} + (x * W_{11}))))} + \\frac{V_{12}}{(1 + \\mathrm{exp}(-(b_{2} + (x * W_{21}))))} + \\frac{V_{13}}{(1 + \\mathrm{exp}(-(b_{3} + (x * W_{31}))))}) * (\\frac{(\\mathrm{exp}(-(b_{1} + (x * W_{11}))) * W_{11} * V_{11})}{(1 + \\mathrm{exp}(-(b_{1} + (x * W_{11}))))^{2}} + \\frac{(\\mathrm{exp}(-(b_{2} + (x * W_{21}))) * W_{21} * V_{12})}{(1 + \\mathrm{exp}(-(b_{2} + (x * W_{21}))))^{2}} + \\frac{(\\mathrm{exp}(-(b_{3} + (x * W_{31}))) * W_{31} * V_{13})}{(1 + \\mathrm{exp}(-(b_{3} + (x * W_{31}))))^{2}}))$"
      ],
      "text/plain": [
       "L\"$(\\mathrm{exp}(\\frac{V_{11}}{(1 + \\mathrm{exp}(-(b_{1} + (x * W_{11}))))} + \\frac{V_{12}}{(1 + \\mathrm{exp}(-(b_{2} + (x * W_{21}))))} + \\frac{V_{13}}{(1 + \\mathrm{exp}(-(b_{3} + (x * W_{31}))))}) * (\\frac{(\\mathrm{exp}(-(b_{1} + (x * W_{11}))) * W_{11} * V_{11})}{(1 + \\mathrm{exp}(-(b_{1} + (x * W_{11}))))^{2}} + \\frac{(\\mathrm{exp}(-(b_{2} + (x * W_{21}))) * W_{21} * V_{12})}{(1 + \\mathrm{exp}(-(b_{2} + (x * W_{21}))))^{2}} + \\frac{(\\mathrm{exp}(-(b_{3} + (x * W_{31}))) * W_{31} * V_{13})}{(1 + \\mathrm{exp}(-(b_{3} + (x * W_{31}))))^{2}}))$\""
      ]
     },
     "metadata": {},
     "output_type": "display_data"
    }
   ],
   "source": [
    "dNdx = diff(N,x)\n",
    "render(dNdx)"
   ]
  },
  {
   "cell_type": "code",
   "execution_count": 103,
   "metadata": {},
   "outputs": [
    {
     "data": {
      "text/latex": [
       "$(\\mathrm{exp}(\\frac{V_{11}}{(1 + \\mathrm{exp}(-(b_{1} + (x * W_{11}))))} + \\frac{V_{12}}{(1 + \\mathrm{exp}(-(b_{2} + (x * W_{21}))))} + \\frac{V_{13}}{(1 + \\mathrm{exp}(-(b_{3} + (x * W_{31}))))}) * (\\frac{(W_{11} * V_{11})}{((1 + \\mathrm{exp}(b_{1} + (x * W_{11}))) * (1 + \\mathrm{exp}(-(b_{1} + (x * W_{11})))))} + \\frac{(W_{21} * V_{12})}{((1 + \\mathrm{exp}(b_{2} + (x * W_{21}))) * (1 + \\mathrm{exp}(-(b_{2} + (x * W_{21})))))} + \\frac{(W_{31} * V_{13})}{((1 + \\mathrm{exp}(b_{3} + (x * W_{31}))) * (1 + \\mathrm{exp}(-(b_{3} + (x * W_{31})))))}))$"
      ],
      "text/plain": [
       "L\"$(\\mathrm{exp}(\\frac{V_{11}}{(1 + \\mathrm{exp}(-(b_{1} + (x * W_{11}))))} + \\frac{V_{12}}{(1 + \\mathrm{exp}(-(b_{2} + (x * W_{21}))))} + \\frac{V_{13}}{(1 + \\mathrm{exp}(-(b_{3} + (x * W_{31}))))}) * (\\frac{(W_{11} * V_{11})}{((1 + \\mathrm{exp}(b_{1} + (x * W_{11}))) * (1 + \\mathrm{exp}(-(b_{1} + (x * W_{11})))))} + \\frac{(W_{21} * V_{12})}{((1 + \\mathrm{exp}(b_{2} + (x * W_{21}))) * (1 + \\mathrm{exp}(-(b_{2} + (x * W_{21})))))} + \\frac{(W_{31} * V_{13})}{((1 + \\mathrm{exp}(b_{3} + (x * W_{31}))) * (1 + \\mathrm{exp}(-(b_{3} + (x * W_{31})))))}))$\""
      ]
     },
     "metadata": {},
     "output_type": "display_data"
    }
   ],
   "source": [
    "# I am pretty sure this is the right equation for the derivative of this network\n",
    "# as we just use the standard `d(exp(f(x))/dx = f'(x)*exp(f(x))` rule\n",
    "$\n",
    "# But symengine is not strong enough to  recognise that it matches the above\n",
    "mdZm1dx = (W'.*V)*(sigmoid.(-(W*x + b)).*sigmoid.(W*x + b)) |> first\n",
    "mdNdx = mdZm1dx*N\n",
    "render.(mdNdx)"
   ]
  },
  {
   "cell_type": "markdown",
   "metadata": {},
   "source": [
    "## Deeper Expodential Output net\n",
    "Single input single output still,\n",
    "2 hidden layer,\n",
    "output expodential,"
   ]
  },
  {
   "cell_type": "code",
   "execution_count": 105,
   "metadata": {},
   "outputs": [
    {
     "data": {
      "text/latex": [
       "$\\mathrm{exp}(\\frac{V_{11}}{(1 + \\mathrm{exp}(-(c_{1} + \\frac{U_{11}}{(1 + \\mathrm{exp}(-(b_{1} + (x * W_{11}))))} + \\frac{U_{12}}{(1 + \\mathrm{exp}(-(b_{2} + (x * W_{21}))))} + \\frac{U_{13}}{(1 + \\mathrm{exp}(-(b_{3} + (x * W_{31}))))})))} + \\frac{V_{12}}{(1 + \\mathrm{exp}(-(c_{2} + \\frac{U_{21}}{(1 + \\mathrm{exp}(-(b_{1} + (x * W_{11}))))} + \\frac{U_{22}}{(1 + \\mathrm{exp}(-(b_{2} + (x * W_{21}))))} + \\frac{U_{23}}{(1 + \\mathrm{exp}(-(b_{3} + (x * W_{31}))))})))} + \\frac{V_{13}}{(1 + \\mathrm{exp}(-(c_{3} + \\frac{U_{31}}{(1 + \\mathrm{exp}(-(b_{1} + (x * W_{11}))))} + \\frac{U_{32}}{(1 + \\mathrm{exp}(-(b_{2} + (x * W_{21}))))} + \\frac{U_{33}}{(1 + \\mathrm{exp}(-(b_{3} + (x * W_{31}))))})))})$"
      ],
      "text/plain": [
       "L\"$\\mathrm{exp}(\\frac{V_{11}}{(1 + \\mathrm{exp}(-(c_{1} + \\frac{U_{11}}{(1 + \\mathrm{exp}(-(b_{1} + (x * W_{11}))))} + \\frac{U_{12}}{(1 + \\mathrm{exp}(-(b_{2} + (x * W_{21}))))} + \\frac{U_{13}}{(1 + \\mathrm{exp}(-(b_{3} + (x * W_{31}))))})))} + \\frac{V_{12}}{(1 + \\mathrm{exp}(-(c_{2} + \\frac{U_{21}}{(1 + \\mathrm{exp}(-(b_{1} + (x * W_{11}))))} + \\frac{U_{22}}{(1 + \\mathrm{exp}(-(b_{2} + (x * W_{21}))))} + \\frac{U_{23}}{(1 + \\mathrm{exp}(-(b_{3} + (x * W_{31}))))})))} + \\frac{V_{13}}{(1 + \\mathrm{exp}(-(c_{3} + \\frac{U_{31}}{(1 + \\mathrm{exp}(-(b_{1} + (x * W_{11}))))} + \\frac{U_{32}}{(1 + \\mathrm{exp}(-(b_{2} + (x * W_{21}))))} + \\frac{U_{33}}{(1 + \\mathrm{exp}(-(b_{3} + (x * W_{31}))))})))})$\""
      ]
     },
     "metadata": {},
     "output_type": "display_data"
    }
   ],
   "source": [
    "@vars x\n",
    "W = weight_var(\"W\", 1, 3)\n",
    "b = bias_var(\"b\",3)\n",
    "U = weight_var(\"U\", 3, 3)\n",
    "c = bias_var(\"c\",3)\n",
    "V = weight_var(\"V\", 3, 1)\n",
    "\n",
    "z1=sigmoid.(W*x + b)\n",
    "z2=sigmoid.(U*z1 + c)\n",
    "N=exp.(V*z2) |> only\n",
    "render(N)"
   ]
  },
  {
   "cell_type": "code",
   "execution_count": 106,
   "metadata": {},
   "outputs": [
    {
     "data": {
      "text/latex": [
       "$(\\mathrm{exp}(\\frac{V_{11}}{(1 + \\mathrm{exp}(-(c_{1} + \\frac{U_{11}}{(1 + \\mathrm{exp}(-(b_{1} + (x * W_{11}))))} + \\frac{U_{12}}{(1 + \\mathrm{exp}(-(b_{2} + (x * W_{21}))))} + \\frac{U_{13}}{(1 + \\mathrm{exp}(-(b_{3} + (x * W_{31}))))})))} + \\frac{V_{12}}{(1 + \\mathrm{exp}(-(c_{2} + \\frac{U_{21}}{(1 + \\mathrm{exp}(-(b_{1} + (x * W_{11}))))} + \\frac{U_{22}}{(1 + \\mathrm{exp}(-(b_{2} + (x * W_{21}))))} + \\frac{U_{23}}{(1 + \\mathrm{exp}(-(b_{3} + (x * W_{31}))))})))} + \\frac{V_{13}}{(1 + \\mathrm{exp}(-(c_{3} + \\frac{U_{31}}{(1 + \\mathrm{exp}(-(b_{1} + (x * W_{11}))))} + \\frac{U_{32}}{(1 + \\mathrm{exp}(-(b_{2} + (x * W_{21}))))} + \\frac{U_{33}}{(1 + \\mathrm{exp}(-(b_{3} + (x * W_{31}))))})))}) * (\\frac{(\\mathrm{exp}(-(c_{1} + \\frac{U_{11}}{(1 + \\mathrm{exp}(-(b_{1} + (x * W_{11}))))} + \\frac{U_{12}}{(1 + \\mathrm{exp}(-(b_{2} + (x * W_{21}))))} + \\frac{U_{13}}{(1 + \\mathrm{exp}(-(b_{3} + (x * W_{31}))))})) * V_{11} * (\\frac{(\\mathrm{exp}(-(b_{1} + (x * W_{11}))) * W_{11} * U_{11})}{(1 + \\mathrm{exp}(-(b_{1} + (x * W_{11}))))^{2}} + \\frac{(\\mathrm{exp}(-(b_{2} + (x * W_{21}))) * W_{21} * U_{12})}{(1 + \\mathrm{exp}(-(b_{2} + (x * W_{21}))))^{2}} + \\frac{(\\mathrm{exp}(-(b_{3} + (x * W_{31}))) * W_{31} * U_{13})}{(1 + \\mathrm{exp}(-(b_{3} + (x * W_{31}))))^{2}}))}{(1 + \\mathrm{exp}(-(c_{1} + \\frac{U_{11}}{(1 + \\mathrm{exp}(-(b_{1} + (x * W_{11}))))} + \\frac{U_{12}}{(1 + \\mathrm{exp}(-(b_{2} + (x * W_{21}))))} + \\frac{U_{13}}{(1 + \\mathrm{exp}(-(b_{3} + (x * W_{31}))))})))^{2}} + \\frac{(\\mathrm{exp}(-(c_{2} + \\frac{U_{21}}{(1 + \\mathrm{exp}(-(b_{1} + (x * W_{11}))))} + \\frac{U_{22}}{(1 + \\mathrm{exp}(-(b_{2} + (x * W_{21}))))} + \\frac{U_{23}}{(1 + \\mathrm{exp}(-(b_{3} + (x * W_{31}))))})) * V_{12} * (\\frac{(\\mathrm{exp}(-(b_{1} + (x * W_{11}))) * W_{11} * U_{21})}{(1 + \\mathrm{exp}(-(b_{1} + (x * W_{11}))))^{2}} + \\frac{(\\mathrm{exp}(-(b_{2} + (x * W_{21}))) * W_{21} * U_{22})}{(1 + \\mathrm{exp}(-(b_{2} + (x * W_{21}))))^{2}} + \\frac{(\\mathrm{exp}(-(b_{3} + (x * W_{31}))) * W_{31} * U_{23})}{(1 + \\mathrm{exp}(-(b_{3} + (x * W_{31}))))^{2}}))}{(1 + \\mathrm{exp}(-(c_{2} + \\frac{U_{21}}{(1 + \\mathrm{exp}(-(b_{1} + (x * W_{11}))))} + \\frac{U_{22}}{(1 + \\mathrm{exp}(-(b_{2} + (x * W_{21}))))} + \\frac{U_{23}}{(1 + \\mathrm{exp}(-(b_{3} + (x * W_{31}))))})))^{2}} + \\frac{(\\mathrm{exp}(-(c_{3} + \\frac{U_{31}}{(1 + \\mathrm{exp}(-(b_{1} + (x * W_{11}))))} + \\frac{U_{32}}{(1 + \\mathrm{exp}(-(b_{2} + (x * W_{21}))))} + \\frac{U_{33}}{(1 + \\mathrm{exp}(-(b_{3} + (x * W_{31}))))})) * V_{13} * (\\frac{(\\mathrm{exp}(-(b_{1} + (x * W_{11}))) * W_{11} * U_{31})}{(1 + \\mathrm{exp}(-(b_{1} + (x * W_{11}))))^{2}} + \\frac{(\\mathrm{exp}(-(b_{2} + (x * W_{21}))) * W_{21} * U_{32})}{(1 + \\mathrm{exp}(-(b_{2} + (x * W_{21}))))^{2}} + \\frac{(\\mathrm{exp}(-(b_{3} + (x * W_{31}))) * W_{31} * U_{33})}{(1 + \\mathrm{exp}(-(b_{3} + (x * W_{31}))))^{2}}))}{(1 + \\mathrm{exp}(-(c_{3} + \\frac{U_{31}}{(1 + \\mathrm{exp}(-(b_{1} + (x * W_{11}))))} + \\frac{U_{32}}{(1 + \\mathrm{exp}(-(b_{2} + (x * W_{21}))))} + \\frac{U_{33}}{(1 + \\mathrm{exp}(-(b_{3} + (x * W_{31}))))})))^{2}}))$"
      ],
      "text/plain": [
       "L\"$(\\mathrm{exp}(\\frac{V_{11}}{(1 + \\mathrm{exp}(-(c_{1} + \\frac{U_{11}}{(1 + \\mathrm{exp}(-(b_{1} + (x * W_{11}))))} + \\frac{U_{12}}{(1 + \\mathrm{exp}(-(b_{2} + (x * W_{21}))))} + \\frac{U_{13}}{(1 + \\mathrm{exp}(-(b_{3} + (x * W_{31}))))})))} + \\frac{V_{12}}{(1 + \\mathrm{exp}(-(c_{2} + \\frac{U_{21}}{(1 + \\mathrm{exp}(-(b_{1} + (x * W_{11}))))} + \\frac{U_{22}}{(1 + \\mathrm{exp}(-(b_{2} + (x * W_{21}))))} + \\frac{U_{23}}{(1 + \\mathrm{exp}(-(b_{3} + (x * W_{31}))))})))} + \\frac{V_{13}}{(1 + \\mathrm{exp}(-(c_{3} + \\frac{U_{31}}{(1 + \\mathrm{exp}(-(b_{1} + (x * W_{11}))))} + \\frac{U_{32}}{(1 + \\mathrm{exp}(-(b_{2} + (x * W_{21}))))} + \\frac{U_{33}}{(1 + \\mathrm{exp}(-(b_{3} + (x * W_{31}))))})))}) * (\\frac{(\\mathrm{exp}(-(c_{1} + \\frac{U_{11}}{(1 + \\mathrm{exp}(-(b_{1} + (x * W_{11}))))} + \\frac{U_{12}}{(1 + \\mathrm{exp}(-(b_{2} + (x * W_{21}))))} + \\frac{U_{13}}{(1 + \\mathrm{exp}(-(b_{3} + (x * W_{31}))))})) * V_{11} * (\\frac{(\\mathrm{exp}(-(b_{1} + (x * W_{11}))) * W_{11} * U_{11})}{(1 + \\mathrm{exp}(-(b_{1} + (x * W_{11}))))^{2}} + \\frac{(\\mathrm{exp}(-(b_{2} + (x * W_{21}))) * W_{21} * U_{12})}{(1 + \\mathrm{exp}(-(b_{2} + (x * W_{21}))))^{2}} + \\frac{(\\mathrm{exp}(-(b_{3} + (x * W_{31}))) * W_{31} * U_{13})}{(1 + \\mathrm{exp}(-(b_{3} + (x * W_{31}))))^{2}}))}{(1 + \\mathrm{exp}(-(c_{1} + \\frac{U_{11}}{(1 + \\mathrm{exp}(-(b_{1} + (x * W_{11}))))} + \\frac{U_{12}}{(1 + \\mathrm{exp}(-(b_{2} + (x * W_{21}))))} + \\frac{U_{13}}{(1 + \\mathrm{exp}(-(b_{3} + (x * W_{31}))))})))^{2}} + \\frac{(\\mathrm{exp}(-(c_{2} + \\frac{U_{21}}{(1 + \\mathrm{exp}(-(b_{1} + (x * W_{11}))))} + \\frac{U_{22}}{(1 + \\mathrm{exp}(-(b_{2} + (x * W_{21}))))} + \\frac{U_{23}}{(1 + \\mathrm{exp}(-(b_{3} + (x * W_{31}))))})) * V_{12} * (\\frac{(\\mathrm{exp}(-(b_{1} + (x * W_{11}))) * W_{11} * U_{21})}{(1 + \\mathrm{exp}(-(b_{1} + (x * W_{11}))))^{2}} + \\frac{(\\mathrm{exp}(-(b_{2} + (x * W_{21}))) * W_{21} * U_{22})}{(1 + \\mathrm{exp}(-(b_{2} + (x * W_{21}))))^{2}} + \\frac{(\\mathrm{exp}(-(b_{3} + (x * W_{31}))) * W_{31} * U_{23})}{(1 + \\mathrm{exp}(-(b_{3} + (x * W_{31}))))^{2}}))}{(1 + \\mathrm{exp}(-(c_{2} + \\frac{U_{21}}{(1 + \\mathrm{exp}(-(b_{1} + (x * W_{11}))))} + \\frac{U_{22}}{(1 + \\mathrm{exp}(-(b_{2} + (x * W_{21}))))} + \\frac{U_{23}}{(1 + \\mathrm{exp}(-(b_{3} + (x * W_{31}))))})))^{2}} + \\frac{(\\mathrm{exp}(-(c_{3} + \\frac{U_{31}}{(1 + \\mathrm{exp}(-(b_{1} + (x * W_{11}))))} + \\frac{U_{32}}{(1 + \\mathrm{exp}(-(b_{2} + (x * W_{21}))))} + \\frac{U_{33}}{(1 + \\mathrm{exp}(-(b_{3} + (x * W_{31}))))})) * V_{13} * (\\frac{(\\mathrm{exp}(-(b_{1} + (x * W_{11}))) * W_{11} * U_{31})}{(1 + \\mathrm{exp}(-(b_{1} + (x * W_{11}))))^{2}} + \\frac{(\\mathrm{exp}(-(b_{2} + (x * W_{21}))) * W_{21} * U_{32})}{(1 + \\mathrm{exp}(-(b_{2} + (x * W_{21}))))^{2}} + \\frac{(\\mathrm{exp}(-(b_{3} + (x * W_{31}))) * W_{31} * U_{33})}{(1 + \\mathrm{exp}(-(b_{3} + (x * W_{31}))))^{2}}))}{(1 + \\mathrm{exp}(-(c_{3} + \\frac{U_{31}}{(1 + \\mathrm{exp}(-(b_{1} + (x * W_{11}))))} + \\frac{U_{32}}{(1 + \\mathrm{exp}(-(b_{2} + (x * W_{21}))))} + \\frac{U_{33}}{(1 + \\mathrm{exp}(-(b_{3} + (x * W_{31}))))})))^{2}}))$\""
      ]
     },
     "metadata": {},
     "output_type": "display_data"
    }
   ],
   "source": [
    "dNdx = diff(N,x)\n",
    "render(dNdx)"
   ]
  },
  {
   "cell_type": "code",
   "execution_count": 107,
   "metadata": {
    "collapsed": true
   },
   "outputs": [],
   "source": [
    "# TODO workout the clean form of this"
   ]
  },
  {
   "cell_type": "markdown",
   "metadata": {},
   "source": [
    "### Find the parts that count to the gradient"
   ]
  },
  {
   "cell_type": "code",
   "execution_count": 163,
   "metadata": {
    "scrolled": true
   },
   "outputs": [
    {
     "data": {
      "text/latex": [
       "$((V_{11} * ((W_{11} * U_{11}) + (W_{21} * U_{12}) + (W_{31} * U_{13}))) + (V_{12} * ((W_{11} * U_{21}) + (W_{21} * U_{22}) + (W_{31} * U_{23}))) + (V_{13} * ((W_{11} * U_{31}) + (W_{21} * U_{32}) + (W_{31} * U_{33}))))$"
      ],
      "text/plain": [
       "L\"$((V_{11} * ((W_{11} * U_{11}) + (W_{21} * U_{12}) + (W_{31} * U_{13}))) + (V_{12} * ((W_{11} * U_{21}) + (W_{21} * U_{22}) + (W_{31} * U_{23}))) + (V_{13} * ((W_{11} * U_{31}) + (W_{21} * U_{32}) + (W_{31} * U_{33}))))$\""
      ]
     },
     "metadata": {},
     "output_type": "display_data"
    }
   ],
   "source": [
    "using MacroTools: postwalk\n",
    "tree = parse(repr(dNdx))\n",
    "\n",
    "tree = postwalk(x -> @capture(x, exp(z_)) ? 1 : x, tree)\n",
    "tree = postwalk(x -> @capture(x, (1+1)^2) ? 1 : x, tree)\n",
    "tree = postwalk(x -> @capture(x, z_/1) ? z : x, tree)\n",
    "tree = postwalk(x -> @capture(x, 1*z_) ? z : x, tree)\n",
    "tree = postwalk(x -> @capture(x, 1*z_*y_) ? :($z*$y) : x, tree)\n",
    "tree |> render"
   ]
  },
  {
   "cell_type": "code",
   "execution_count": 165,
   "metadata": {},
   "outputs": [
    {
     "data": {
      "text/plain": [
       "V_11*(W_11*U_11 + W_21*U_12 + W_31*U_13) + V_12*(W_11*U_21 + W_21*U_22 + W_31*U_23) + V_13*(W_11*U_31 + W_21*U_32 + W_31*U_33)"
      ]
     },
     "execution_count": 165,
     "metadata": {},
     "output_type": "execute_result"
    }
   ],
   "source": [
    "V*(U*W )|> only"
   ]
  },
  {
   "cell_type": "markdown",
   "metadata": {
    "collapsed": true
   },
   "source": [
    "Note that each product term is scaled with a sigmoidal term that varies both with the value of the weights in that term and te corresponding biases, as well as with $x$"
   ]
  },
  {
   "cell_type": "markdown",
   "metadata": {},
   "source": [
    "# Proof of Ability to Approximate any PDF\n"
   ]
  },
  {
   "cell_type": "code",
   "execution_count": 207,
   "metadata": {},
   "outputs": [
    {
     "data": {
      "text/latex": [
       "$\\frac{1}{((1 + \\mathrm{exp}(z)) * (1 + \\mathrm{exp}(-(z))))}$"
      ],
      "text/plain": [
       "L\"$\\frac{1}{((1 + \\mathrm{exp}(z)) * (1 + \\mathrm{exp}(-(z))))}$\""
      ]
     },
     "metadata": {},
     "output_type": "display_data"
    },
    {
     "data": {
      "text/latex": [
       "$(2 + \\mathrm{exp}(z) + \\mathrm{exp}(-(z)))^{-1}$"
      ],
      "text/plain": [
       "L\"$(2 + \\mathrm{exp}(z) + \\mathrm{exp}(-(z)))^{-1}$\""
      ]
     },
     "metadata": {},
     "output_type": "display_data"
    },
    {
     "name": "stdout",
     "output_type": "stream",
     "text": [
      "diff(sigmoid(z), z) ≖ sigmoid(z) * sigmoid(-z) = true\n"
     ]
    }
   ],
   "source": [
    "@vars z\n",
    "@show diff(sigmoid(z),z) ≖ sigmoid(z)*sigmoid(-z)\n",
    "sigmoid(z)*sigmoid(-z) |> render\n",
    "(sigmoid(z)*sigmoid(-z)) |> ugly_simplify |> render"
   ]
  },
  {
   "cell_type": "code",
   "execution_count": 212,
   "metadata": {},
   "outputs": [
    {
     "data": {
      "text/latex": [
       "$\\frac{(((-1 - (2 * \\mathrm{exp}(z))) - \\mathrm{exp}(2 * z)) + \\mathrm{exp}(z + z^{2}))}{((2 * \\mathrm{exp}(z + z^{2})) + \\mathrm{exp}((2 * z) + z^{2}) + \\mathrm{exp}(z^{2}))}$"
      ],
      "text/plain": [
       "L\"$\\frac{(((-1 - (2 * \\mathrm{exp}(z))) - \\mathrm{exp}(2 * z)) + \\mathrm{exp}(z + z^{2}))}{((2 * \\mathrm{exp}(z + z^{2})) + \\mathrm{exp}((2 * z) + z^{2}) + \\mathrm{exp}(z^{2}))}$\""
      ]
     },
     "metadata": {},
     "output_type": "display_data"
    }
   ],
   "source": [
    "basic_simplify((sigmoid(z)*sigmoid(-z)) - exp(-z^2)) |> render"
   ]
  },
  {
   "cell_type": "markdown",
   "metadata": {},
   "source": [
    "Our approximation to a PDF is:\n",
    "$$f(x)=\\frac{h(x)}{\\int_{S}h(z)dz}=\\frac{\\frac{\\partial N(x,\\tilde{p})}{\\partial x}}{N(max(S),\\tilde{p})-N(min(S),\\tilde{p})}$$.\n",
    "\n",
    "As we have shown above the numerator $\\frac{\\partial N(x,\\tilde{p})}{\\partial x} = g(x,\\tilde{p}) \\;N(x,\\tilde{p})$.\n",
    "\n",
    "Where $g(x,\\tilde{p})$ is  effectively a weighted sum of terms of forms similar to $\\frac{\\partial \\sigma(z)}{\\partial z} = \\sigma(z)\\sigma(-z) = \\frac{1}{(1+\\exp(-z)(1 + \\exp(-z))}$.\n",
    "As shown below that function defines a bell-curve.\n",
    "\n",
    "The weights and baises of the penultimate layers of the network ($W$, $U$), define the shape and position of that bell-curve.\n",
    "The  weight component of final expodential layer ($V$), determines the weighting of each bell-curve (though it also must scaled to counter effects of the prior layer weights).\n",
    "\n",
    "\n",
    "$$f(x)=\\frac{h(x)}{\\int_{S}h(z)dz} = \\frac{g(x,\\tilde{p}) \\; N(x,\\tilde{p})}{N(max(S),\\tilde{p})-N(min(S),\\tilde{p})}$$.\n",
    "For now we will focus on $g(x,\\tilde{p})$\n"
   ]
  },
  {
   "cell_type": "code",
   "execution_count": 216,
   "metadata": {},
   "outputs": [
    {
     "data": {
      "text/html": [
       "<?xml version=\"1.0\" encoding=\"utf-8\"?>\n",
       "<svg xmlns=\"http://www.w3.org/2000/svg\" xmlns:xlink=\"http://www.w3.org/1999/xlink\" width=\"600\" height=\"400\" viewBox=\"0 0 600 400\">\n",
       "<defs>\n",
       "  <clipPath id=\"clip00\">\n",
       "    <rect x=\"0\" y=\"0\" width=\"600\" height=\"400\"/>\n",
       "  </clipPath>\n",
       "</defs>\n",
       "<polygon clip-path=\"url(#clip00)\" points=\"\n",
       "0,400 600,400 600,0 0,0 \n",
       "  \" fill=\"#ffffff\" fill-opacity=\"1\"/>\n",
       "<defs>\n",
       "  <clipPath id=\"clip01\">\n",
       "    <rect x=\"120\" y=\"0\" width=\"421\" height=\"400\"/>\n",
       "  </clipPath>\n",
       "</defs>\n",
       "<polygon clip-path=\"url(#clip00)\" points=\"\n",
       "38.8117,375.813 580.315,375.813 580.315,11.811 38.8117,11.811 \n",
       "  \" fill=\"#ffffff\" fill-opacity=\"1\"/>\n",
       "<defs>\n",
       "  <clipPath id=\"clip02\">\n",
       "    <rect x=\"38\" y=\"11\" width=\"543\" height=\"365\"/>\n",
       "  </clipPath>\n",
       "</defs>\n",
       "<polyline clip-path=\"url(#clip02)\" style=\"stroke:#000000; stroke-width:0.5; stroke-opacity:0.1; fill:none\" points=\"\n",
       "  173.052,370.353 173.052,17.2711 \n",
       "  \"/>\n",
       "<polyline clip-path=\"url(#clip02)\" style=\"stroke:#000000; stroke-width:0.5; stroke-opacity:0.1; fill:none\" points=\"\n",
       "  309.966,370.353 309.966,17.2711 \n",
       "  \"/>\n",
       "<polyline clip-path=\"url(#clip02)\" style=\"stroke:#000000; stroke-width:0.5; stroke-opacity:0.1; fill:none\" points=\"\n",
       "  446.881,370.353 446.881,17.2711 \n",
       "  \"/>\n",
       "<polyline clip-path=\"url(#clip02)\" style=\"stroke:#000000; stroke-width:0.5; stroke-opacity:0.1; fill:none\" points=\"\n",
       "  46.9343,311.362 572.192,311.362 \n",
       "  \"/>\n",
       "<polyline clip-path=\"url(#clip02)\" style=\"stroke:#000000; stroke-width:0.5; stroke-opacity:0.1; fill:none\" points=\"\n",
       "  46.9343,236.46 572.192,236.46 \n",
       "  \"/>\n",
       "<polyline clip-path=\"url(#clip02)\" style=\"stroke:#000000; stroke-width:0.5; stroke-opacity:0.1; fill:none\" points=\"\n",
       "  46.9343,161.558 572.192,161.558 \n",
       "  \"/>\n",
       "<polyline clip-path=\"url(#clip02)\" style=\"stroke:#000000; stroke-width:0.5; stroke-opacity:0.1; fill:none\" points=\"\n",
       "  46.9343,86.656 572.192,86.656 \n",
       "  \"/>\n",
       "<polyline clip-path=\"url(#clip00)\" style=\"stroke:#000000; stroke-width:1; stroke-opacity:1; fill:none\" points=\"\n",
       "  38.8117,375.813 580.315,375.813 \n",
       "  \"/>\n",
       "<polyline clip-path=\"url(#clip00)\" style=\"stroke:#000000; stroke-width:1; stroke-opacity:1; fill:none\" points=\"\n",
       "  173.052,375.813 173.052,370.353 \n",
       "  \"/>\n",
       "<polyline clip-path=\"url(#clip00)\" style=\"stroke:#000000; stroke-width:1; stroke-opacity:1; fill:none\" points=\"\n",
       "  309.966,375.813 309.966,370.353 \n",
       "  \"/>\n",
       "<polyline clip-path=\"url(#clip00)\" style=\"stroke:#000000; stroke-width:1; stroke-opacity:1; fill:none\" points=\"\n",
       "  446.881,375.813 446.881,370.353 \n",
       "  \"/>\n",
       "<polyline clip-path=\"url(#clip00)\" style=\"stroke:#000000; stroke-width:1; stroke-opacity:1; fill:none\" points=\"\n",
       "  38.8117,375.813 38.8117,11.811 \n",
       "  \"/>\n",
       "<polyline clip-path=\"url(#clip00)\" style=\"stroke:#000000; stroke-width:1; stroke-opacity:1; fill:none\" points=\"\n",
       "  38.8117,311.362 46.9343,311.362 \n",
       "  \"/>\n",
       "<polyline clip-path=\"url(#clip00)\" style=\"stroke:#000000; stroke-width:1; stroke-opacity:1; fill:none\" points=\"\n",
       "  38.8117,236.46 46.9343,236.46 \n",
       "  \"/>\n",
       "<polyline clip-path=\"url(#clip00)\" style=\"stroke:#000000; stroke-width:1; stroke-opacity:1; fill:none\" points=\"\n",
       "  38.8117,161.558 46.9343,161.558 \n",
       "  \"/>\n",
       "<polyline clip-path=\"url(#clip00)\" style=\"stroke:#000000; stroke-width:1; stroke-opacity:1; fill:none\" points=\"\n",
       "  38.8117,86.656 46.9343,86.656 \n",
       "  \"/>\n",
       "<g clip-path=\"url(#clip00)\">\n",
       "<text style=\"fill:#000000; fill-opacity:1; font-family:Arial,Helvetica Neue,Helvetica,sans-serif; font-size:12; text-anchor:middle;\" transform=\"rotate(0, 173.052, 389.613)\" x=\"173.052\" y=\"389.613\">-2.5</text>\n",
       "</g>\n",
       "<g clip-path=\"url(#clip00)\">\n",
       "<text style=\"fill:#000000; fill-opacity:1; font-family:Arial,Helvetica Neue,Helvetica,sans-serif; font-size:12; text-anchor:middle;\" transform=\"rotate(0, 309.966, 389.613)\" x=\"309.966\" y=\"389.613\">0.0</text>\n",
       "</g>\n",
       "<g clip-path=\"url(#clip00)\">\n",
       "<text style=\"fill:#000000; fill-opacity:1; font-family:Arial,Helvetica Neue,Helvetica,sans-serif; font-size:12; text-anchor:middle;\" transform=\"rotate(0, 446.881, 389.613)\" x=\"446.881\" y=\"389.613\">2.5</text>\n",
       "</g>\n",
       "<g clip-path=\"url(#clip00)\">\n",
       "<text style=\"fill:#000000; fill-opacity:1; font-family:Arial,Helvetica Neue,Helvetica,sans-serif; font-size:12; text-anchor:end;\" transform=\"rotate(0, 32.8117, 315.862)\" x=\"32.8117\" y=\"315.862\">0.05</text>\n",
       "</g>\n",
       "<g clip-path=\"url(#clip00)\">\n",
       "<text style=\"fill:#000000; fill-opacity:1; font-family:Arial,Helvetica Neue,Helvetica,sans-serif; font-size:12; text-anchor:end;\" transform=\"rotate(0, 32.8117, 240.96)\" x=\"32.8117\" y=\"240.96\">0.10</text>\n",
       "</g>\n",
       "<g clip-path=\"url(#clip00)\">\n",
       "<text style=\"fill:#000000; fill-opacity:1; font-family:Arial,Helvetica Neue,Helvetica,sans-serif; font-size:12; text-anchor:end;\" transform=\"rotate(0, 32.8117, 166.058)\" x=\"32.8117\" y=\"166.058\">0.15</text>\n",
       "</g>\n",
       "<g clip-path=\"url(#clip00)\">\n",
       "<text style=\"fill:#000000; fill-opacity:1; font-family:Arial,Helvetica Neue,Helvetica,sans-serif; font-size:12; text-anchor:end;\" transform=\"rotate(0, 32.8117, 91.156)\" x=\"32.8117\" y=\"91.156\">0.20</text>\n",
       "</g>\n",
       "<polyline clip-path=\"url(#clip02)\" style=\"stroke:#009af9; stroke-width:1; stroke-opacity:1; fill:none\" points=\"\n",
       "  38.8117,375.813 41.4859,375.298 66.2124,369.185 90.9389,359.788 105.798,351.921 120.658,341.869 133.222,331.292 145.785,318.457 159.433,301.562 173.08,281.199 \n",
       "  185.662,259.098 198.244,233.724 225.222,169.533 256.479,88.5685 263.424,71.9973 270.368,56.7333 277.312,43.1626 284.257,31.653 290.346,23.5184 296.436,17.4114 \n",
       "  302.525,13.4771 308.615,11.811 315.254,12.6255 321.893,16.1599 328.533,22.3119 335.172,30.9069 341.851,41.7788 348.529,54.5934 355.208,69.0265 361.887,84.7361 \n",
       "  376.655,122.309 391.424,161.043 405.475,196.513 419.527,229.043 426.832,244.489 434.138,258.848 441.443,272.098 448.748,284.248 461.047,302.304 473.346,317.554 \n",
       "  488.362,332.803 503.377,344.891 517.493,353.874 531.608,360.979 554.221,369.337 576.835,374.976 580.315,375.661 \n",
       "  \"/>\n",
       "<polygon clip-path=\"url(#clip00)\" points=\"\n",
       "489.799,62.931 562.315,62.931 562.315,32.691 489.799,32.691 \n",
       "  \" fill=\"#ffffff\" fill-opacity=\"1\"/>\n",
       "<polyline clip-path=\"url(#clip00)\" style=\"stroke:#000000; stroke-width:1; stroke-opacity:1; fill:none\" points=\"\n",
       "  489.799,62.931 562.315,62.931 562.315,32.691 489.799,32.691 489.799,62.931 \n",
       "  \"/>\n",
       "<polyline clip-path=\"url(#clip00)\" style=\"stroke:#009af9; stroke-width:1; stroke-opacity:1; fill:none\" points=\"\n",
       "  495.799,47.811 531.799,47.811 \n",
       "  \"/>\n",
       "<g clip-path=\"url(#clip00)\">\n",
       "<text style=\"fill:#000000; fill-opacity:1; font-family:Arial,Helvetica Neue,Helvetica,sans-serif; font-size:12; text-anchor:start;\" transform=\"rotate(0, 537.799, 52.311)\" x=\"537.799\" y=\"52.311\">y1</text>\n",
       "</g>\n",
       "</svg>\n"
      ]
     },
     "execution_count": 216,
     "metadata": {},
     "output_type": "execute_result"
    }
   ],
   "source": [
    "using Plots\n",
    "plot(x->sigmoid(x)*sigmoid(-x))"
   ]
  },
  {
   "cell_type": "markdown",
   "metadata": {},
   "source": [
    "It has been shown in [Bacharoglou, 2010, APPROXIMATION OF PROBABILITY DISTRIBUTIONS\n",
    "BY CONVEX MIXTURES OF GAUSSIAN MEASURES](http://www.mathaware.org/journals/proc/2010-138-07/S0002-9939-10-10340-2/S0002-9939-10-10340-2.pdf)\n",
    "that every PDF with compact support can be approximated by an weighted non-negative sum of gaussians. \n",
    "(It actually does it with a restricted subset of gaussians, but we don't need that)\n",
    "\n",
    "\n",
    "Bacharogluo,2010 theorem 1 is noted as applicable to mixtures of any approximate identity ([defn](http://people.math.gatech.edu/~heil/7338/fall09/approxid.pdf)).   \n",
    "It is easy to construct an approximate identity from sequences of $\\frac{\\partial \\sigma(Wz+b)}{\\partial z}$,\n",
    "(though that depends on which form or approximate identity is there are many definitions)\n",
    "\n",
    "Which directly gives us the result that $g(x, \\tilde{p})$ can approximate any PDF with continuous support.\n"
   ]
  },
  {
   "cell_type": "code",
   "execution_count": null,
   "metadata": {
    "collapsed": true
   },
   "outputs": [],
   "source": []
  },
  {
   "cell_type": "code",
   "execution_count": null,
   "metadata": {
    "collapsed": true
   },
   "outputs": [],
   "source": []
  },
  {
   "cell_type": "code",
   "execution_count": null,
   "metadata": {
    "collapsed": true
   },
   "outputs": [],
   "source": []
  },
  {
   "cell_type": "code",
   "execution_count": 217,
   "metadata": {},
   "outputs": [
    {
     "data": {
      "text/plain": [
       "(x,)"
      ]
     },
     "execution_count": 217,
     "metadata": {},
     "output_type": "execute_result"
    }
   ],
   "source": [
    "@vars x"
   ]
  },
  {
   "cell_type": "code",
   "execution_count": 219,
   "metadata": {},
   "outputs": [
    {
     "name": "stderr",
     "output_type": "stream",
     "text": [
      "WARNING: ColorTypes.U16 is deprecated, use FixedPointNumbers.Normed{UInt16, 16} instead.\n",
      "  likely near In[219]:1\n",
      "WARNING: ColorTypes.U8 is deprecated, use FixedPointNumbers.Normed{UInt8, 8} instead.\n",
      "  likely near In[219]:1\n",
      "WARNING: ColorTypes.U16 is deprecated, use FixedPointNumbers.Normed{UInt16, 16} instead.\n",
      "  likely near In[219]:1\n",
      "WARNING: ColorTypes.U8 is deprecated, use FixedPointNumbers.Normed{UInt8, 8} instead.\n",
      "  likely near In[219]:1\n",
      "WARNING: ColorTypes.U16 is deprecated, use FixedPointNumbers.Normed{UInt16, 16} instead.\n",
      "  likely near In[219]:1\n",
      "WARNING: ColorTypes.U8 is deprecated, use FixedPointNumbers.Normed{UInt8, 8} instead.\n",
      "  likely near In[219]:1\n"
     ]
    },
    {
     "data": {
      "text/html": [
       "59-element Array{Method,1}:<ul><li> /(A::<b>Union{BitArray{1}, BitArray{2}}</b>, B::<b>Union{BitArray{1}, BitArray{2}}</b>) at <a href=\"https://github.com/JuliaLang/julia/tree/903644385b91ed8d95e5e3a5716c089dd1f1b08a/base/bitarray.jl#L1192\" target=\"_blank\">bitarray.jl:1192</a><li> <<(B::<b>BitArray{1}</b>, i::<b>Int64</b>) at <a href=\"https://github.com/JuliaLang/julia/tree/903644385b91ed8d95e5e3a5716c089dd1f1b08a/base/bitarray.jl#L1457\" target=\"_blank\">bitarray.jl:1457</a><li> <<(B::<b>BitArray{1}</b>, i::<b>UInt64</b>) at <a href=\"https://github.com/JuliaLang/julia/tree/903644385b91ed8d95e5e3a5716c089dd1f1b08a/base/bitarray.jl#L1367\" target=\"_blank\">bitarray.jl:1367</a><li> >>(B::<b>BitArray{1}</b>, i::<b>Union{Int64, UInt64}</b>) at <a href=\"https://github.com/JuliaLang/julia/tree/903644385b91ed8d95e5e3a5716c089dd1f1b08a/base/bitarray.jl#L1418\" target=\"_blank\">bitarray.jl:1418</a><li> >>>(B::<b>BitArray{1}</b>, i::<b>Int64</b>) at <a href=\"https://github.com/JuliaLang/julia/tree/903644385b91ed8d95e5e3a5716c089dd1f1b08a/base/bitarray.jl#L1465\" target=\"_blank\">bitarray.jl:1465</a><li> >>>(B::<b>BitArray{1}</b>, i::<b>UInt64</b>) at <a href=\"https://github.com/JuliaLang/julia/tree/903644385b91ed8d95e5e3a5716c089dd1f1b08a/base/bitarray.jl#L1375\" target=\"_blank\">bitarray.jl:1375</a><li> \\(A::<b>Union{BitArray{1}, BitArray{2}}</b>, B::<b>Union{BitArray{1}, BitArray{2}}</b>) at <a href=\"https://github.com/JuliaLang/julia/tree/903644385b91ed8d95e5e3a5716c089dd1f1b08a/base/bitarray.jl#L1192\" target=\"_blank\">bitarray.jl:1192</a><li> append!(B::<b>BitArray{1}</b>, items::<b>BitArray{1}</b>) at <a href=\"https://github.com/JuliaLang/julia/tree/903644385b91ed8d95e5e3a5716c089dd1f1b08a/base/bitarray.jl#L781\" target=\"_blank\">bitarray.jl:781</a><li> append!(B::<b>BitArray{1}</b>, items::<b>AbstractArray{Bool,1}</b>) at <a href=\"https://github.com/JuliaLang/julia/tree/903644385b91ed8d95e5e3a5716c089dd1f1b08a/base/bitarray.jl#L796\" target=\"_blank\">bitarray.jl:796</a><li> append!(A::<b>Array{Bool,1}</b>, items::<b>BitArray{1}</b>) at <a href=\"https://github.com/JuliaLang/julia/tree/903644385b91ed8d95e5e3a5716c089dd1f1b08a/base/bitarray.jl#L797\" target=\"_blank\">bitarray.jl:797</a><li> broadcast(::<b>Base.#*</b>, x::<b>BitArray{1}</b>, y::<b>AbstractSparseArray{Bool,Ti,1} where Ti</b>) at <a href=\"https://github.com/JuliaLang/julia/tree/903644385b91ed8d95e5e3a5716c089dd1f1b08a/base/sparse/sparsevector.jl#L1325\" target=\"_blank\">sparse/sparsevector.jl:1325</a><li> broadcast(::<b>Base.#*</b>, x::<b>AbstractSparseArray{Bool,Ti,1} where Ti</b>, y::<b>BitArray{1}</b>) at <a href=\"https://github.com/JuliaLang/julia/tree/903644385b91ed8d95e5e3a5716c089dd1f1b08a/base/sparse/sparsevector.jl#L1326\" target=\"_blank\">sparse/sparsevector.jl:1326</a><li> ctranspose(B::<b>Union{BitArray{1}, BitArray{2}}</b>) at <a href=\"https://github.com/JuliaLang/julia/tree/903644385b91ed8d95e5e3a5716c089dd1f1b08a/base/linalg/bitarray.jl#L298\" target=\"_blank\">linalg/bitarray.jl:298</a><li> deleteat!(B::<b>BitArray{1}</b>, r::<b>UnitRange{Int64}</b>) at <a href=\"https://github.com/JuliaLang/julia/tree/903644385b91ed8d95e5e3a5716c089dd1f1b08a/base/bitarray.jl#L968\" target=\"_blank\">bitarray.jl:968</a><li> deleteat!(B::<b>BitArray{1}</b>, i::<b>Integer</b>) at <a href=\"https://github.com/JuliaLang/julia/tree/903644385b91ed8d95e5e3a5716c089dd1f1b08a/base/bitarray.jl#L961\" target=\"_blank\">bitarray.jl:961</a><li> deleteat!(B::<b>BitArray{1}</b>, inds) at <a href=\"https://github.com/JuliaLang/julia/tree/903644385b91ed8d95e5e3a5716c089dd1f1b08a/base/bitarray.jl#L992\" target=\"_blank\">bitarray.jl:992</a><li> diagm(v::<b>Union{BitArray{1}, BitArray{2}}</b>) at <a href=\"https://github.com/JuliaLang/julia/tree/903644385b91ed8d95e5e3a5716c089dd1f1b08a/base/linalg/bitarray.jl#L90\" target=\"_blank\">linalg/bitarray.jl:90</a><li> dot(x::<b>BitArray{1}</b>, y::<b>BitArray{1}</b>) at <a href=\"https://github.com/JuliaLang/julia/tree/903644385b91ed8d95e5e3a5716c089dd1f1b08a/base/linalg/bitarray.jl#L5\" target=\"_blank\">linalg/bitarray.jl:5</a><li> empty!(B::<b>BitArray{1}</b>) at <a href=\"https://github.com/JuliaLang/julia/tree/903644385b91ed8d95e5e3a5716c089dd1f1b08a/base/bitarray.jl#L1093\" target=\"_blank\">bitarray.jl:1093</a><li> findn(B::<b>BitArray{1}</b>) at <a href=\"https://github.com/JuliaLang/julia/tree/903644385b91ed8d95e5e3a5716c089dd1f1b08a/base/bitarray.jl#L1800\" target=\"_blank\">bitarray.jl:1800</a><li> gradient(F::<b>BitArray{1}</b>, h::<b>BitArray{1}</b>) at <a href=\"https://github.com/JuliaLang/julia/tree/903644385b91ed8d95e5e3a5716c089dd1f1b08a/base/linalg/bitarray.jl#L76\" target=\"_blank\">linalg/bitarray.jl:76</a><li> gradient(F::<b>BitArray{1}</b>) at <a href=\"https://github.com/JuliaLang/julia/tree/903644385b91ed8d95e5e3a5716c089dd1f1b08a/base/linalg/bitarray.jl#L72\" target=\"_blank\">linalg/bitarray.jl:72</a><li> gradient(F::<b>BitArray{1}</b>, h::<b>Real</b>) at <a href=\"https://github.com/JuliaLang/julia/tree/903644385b91ed8d95e5e3a5716c089dd1f1b08a/base/linalg/bitarray.jl#L73\" target=\"_blank\">linalg/bitarray.jl:73</a><li> gradient(F::<b>Array{T,1} where T</b>, h::<b>BitArray{1}</b>) at <a href=\"https://github.com/JuliaLang/julia/tree/903644385b91ed8d95e5e3a5716c089dd1f1b08a/base/linalg/bitarray.jl#L74\" target=\"_blank\">linalg/bitarray.jl:74</a><li> gradient(F::<b>BitArray{1}</b>, h::<b>Array{T,1} where T</b>) at <a href=\"https://github.com/JuliaLang/julia/tree/903644385b91ed8d95e5e3a5716c089dd1f1b08a/base/linalg/bitarray.jl#L75\" target=\"_blank\">linalg/bitarray.jl:75</a><li> insert!(B::<b>BitArray{1}</b>, i::<b>Integer</b>, item) at <a href=\"https://github.com/JuliaLang/julia/tree/903644385b91ed8d95e5e3a5716c089dd1f1b08a/base/bitarray.jl#L901\" target=\"_blank\">bitarray.jl:901</a><li> kron(a::<b>BitArray{1}</b>, b::<b>BitArray{1}</b>) at <a href=\"https://github.com/JuliaLang/julia/tree/903644385b91ed8d95e5e3a5716c089dd1f1b08a/base/linalg/bitarray.jl#L107\" target=\"_blank\">linalg/bitarray.jl:107</a><li> ordschur(schur::<b>Base.LinAlg.Schur</b>, select::<b>Union{Array{Bool,1}, BitArray{1}}</b>) at <a href=\"https://github.com/JuliaLang/julia/tree/903644385b91ed8d95e5e3a5716c089dd1f1b08a/base/linalg/schur.jl#L138\" target=\"_blank\">linalg/schur.jl:138</a><li> ordschur<i>{Ty<:Union{Complex{Float32}, Complex{Float64}, Float32, Float64}}</i>(T::<b>Union{Base.ReshapedArray{Ty,2,A,MI} where MI<:Tuple{Vararg{Base.MultiplicativeInverses.SignedMultiplicativeInverse{Int64},N} where N} where A<:DenseArray, DenseArray{Ty,2}, SubArray{Ty,2,A,I,L} where L} where I<:Tuple{Vararg{Union{Base.AbstractCartesianIndex, Int64, Range{Int64}},N} where N} where A<:Union{Base.ReshapedArray{T,N,A,MI} where MI<:Tuple{Vararg{Base.MultiplicativeInverses.SignedMultiplicativeInverse{Int64},N} where N} where A<:DenseArray where N where T, DenseArray}</b>, Z::<b>Union{Base.ReshapedArray{Ty,2,A,MI} where MI<:Tuple{Vararg{Base.MultiplicativeInverses.SignedMultiplicativeInverse{Int64},N} where N} where A<:DenseArray, DenseArray{Ty,2}, SubArray{Ty,2,A,I,L} where L} where I<:Tuple{Vararg{Union{Base.AbstractCartesianIndex, Int64, Range{Int64}},N} where N} where A<:Union{Base.ReshapedArray{T,N,A,MI} where MI<:Tuple{Vararg{Base.MultiplicativeInverses.SignedMultiplicativeInverse{Int64},N} where N} where A<:DenseArray where N where T, DenseArray}</b>, select::<b>Union{Array{Bool,1}, BitArray{1}}</b>) at <a href=\"https://github.com/JuliaLang/julia/tree/903644385b91ed8d95e5e3a5716c089dd1f1b08a/base/linalg/schur.jl#L159\" target=\"_blank\">linalg/schur.jl:159</a><li> ordschur(gschur::<b>Base.LinAlg.GeneralizedSchur</b>, select::<b>Union{Array{Bool,1}, BitArray{1}}</b>) at <a href=\"https://github.com/JuliaLang/julia/tree/903644385b91ed8d95e5e3a5716c089dd1f1b08a/base/linalg/schur.jl#L225\" target=\"_blank\">linalg/schur.jl:225</a><li> ordschur<i>{Ty<:Union{Complex{Float32}, Complex{Float64}, Float32, Float64}}</i>(S::<b>Union{Base.ReshapedArray{Ty,2,A,MI} where MI<:Tuple{Vararg{Base.MultiplicativeInverses.SignedMultiplicativeInverse{Int64},N} where N} where A<:DenseArray, DenseArray{Ty,2}, SubArray{Ty,2,A,I,L} where L} where I<:Tuple{Vararg{Union{Base.AbstractCartesianIndex, Int64, Range{Int64}},N} where N} where A<:Union{Base.ReshapedArray{T,N,A,MI} where MI<:Tuple{Vararg{Base.MultiplicativeInverses.SignedMultiplicativeInverse{Int64},N} where N} where A<:DenseArray where N where T, DenseArray}</b>, T::<b>Union{Base.ReshapedArray{Ty,2,A,MI} where MI<:Tuple{Vararg{Base.MultiplicativeInverses.SignedMultiplicativeInverse{Int64},N} where N} where A<:DenseArray, DenseArray{Ty,2}, SubArray{Ty,2,A,I,L} where L} where I<:Tuple{Vararg{Union{Base.AbstractCartesianIndex, Int64, Range{Int64}},N} where N} where A<:Union{Base.ReshapedArray{T,N,A,MI} where MI<:Tuple{Vararg{Base.MultiplicativeInverses.SignedMultiplicativeInverse{Int64},N} where N} where A<:DenseArray where N where T, DenseArray}</b>, Q::<b>Union{Base.ReshapedArray{Ty,2,A,MI} where MI<:Tuple{Vararg{Base.MultiplicativeInverses.SignedMultiplicativeInverse{Int64},N} where N} where A<:DenseArray, DenseArray{Ty,2}, SubArray{Ty,2,A,I,L} where L} where I<:Tuple{Vararg{Union{Base.AbstractCartesianIndex, Int64, Range{Int64}},N} where N} where A<:Union{Base.ReshapedArray{T,N,A,MI} where MI<:Tuple{Vararg{Base.MultiplicativeInverses.SignedMultiplicativeInverse{Int64},N} where N} where A<:DenseArray where N where T, DenseArray}</b>, Z::<b>Union{Base.ReshapedArray{Ty,2,A,MI} where MI<:Tuple{Vararg{Base.MultiplicativeInverses.SignedMultiplicativeInverse{Int64},N} where N} where A<:DenseArray, DenseArray{Ty,2}, SubArray{Ty,2,A,I,L} where L} where I<:Tuple{Vararg{Union{Base.AbstractCartesianIndex, Int64, Range{Int64}},N} where N} where A<:Union{Base.ReshapedArray{T,N,A,MI} where MI<:Tuple{Vararg{Base.MultiplicativeInverses.SignedMultiplicativeInverse{Int64},N} where N} where A<:DenseArray where N where T, DenseArray}</b>, select::<b>Union{Array{Bool,1}, BitArray{1}}</b>) at <a href=\"https://github.com/JuliaLang/julia/tree/903644385b91ed8d95e5e3a5716c089dd1f1b08a/base/linalg/schur.jl#L247\" target=\"_blank\">linalg/schur.jl:247</a><li> ordschur!(schur::<b>Base.LinAlg.Schur</b>, select::<b>Union{Array{Bool,1}, BitArray{1}}</b>) at <a href=\"https://github.com/JuliaLang/julia/tree/903644385b91ed8d95e5e3a5716c089dd1f1b08a/base/linalg/schur.jl#L123\" target=\"_blank\">linalg/schur.jl:123</a><li> ordschur!<i>{Ty<:Union{Complex{Float32}, Complex{Float64}, Float32, Float64}}</i>(T::<b>Union{Base.ReshapedArray{Ty,2,A,MI} where MI<:Tuple{Vararg{Base.MultiplicativeInverses.SignedMultiplicativeInverse{Int64},N} where N} where A<:DenseArray, DenseArray{Ty,2}, SubArray{Ty,2,A,I,L} where L} where I<:Tuple{Vararg{Union{Base.AbstractCartesianIndex, Int64, Range{Int64}},N} where N} where A<:Union{Base.ReshapedArray{T,N,A,MI} where MI<:Tuple{Vararg{Base.MultiplicativeInverses.SignedMultiplicativeInverse{Int64},N} where N} where A<:DenseArray where N where T, DenseArray}</b>, Z::<b>Union{Base.ReshapedArray{Ty,2,A,MI} where MI<:Tuple{Vararg{Base.MultiplicativeInverses.SignedMultiplicativeInverse{Int64},N} where N} where A<:DenseArray, DenseArray{Ty,2}, SubArray{Ty,2,A,I,L} where L} where I<:Tuple{Vararg{Union{Base.AbstractCartesianIndex, Int64, Range{Int64}},N} where N} where A<:Union{Base.ReshapedArray{T,N,A,MI} where MI<:Tuple{Vararg{Base.MultiplicativeInverses.SignedMultiplicativeInverse{Int64},N} where N} where A<:DenseArray where N where T, DenseArray}</b>, select::<b>Union{Array{Bool,1}, BitArray{1}}</b>) at <a href=\"https://github.com/JuliaLang/julia/tree/903644385b91ed8d95e5e3a5716c089dd1f1b08a/base/linalg/schur.jl#L146\" target=\"_blank\">linalg/schur.jl:146</a><li> ordschur!(gschur::<b>Base.LinAlg.GeneralizedSchur</b>, select::<b>Union{Array{Bool,1}, BitArray{1}}</b>) at <a href=\"https://github.com/JuliaLang/julia/tree/903644385b91ed8d95e5e3a5716c089dd1f1b08a/base/linalg/schur.jl#L209\" target=\"_blank\">linalg/schur.jl:209</a><li> ordschur!<i>{Ty<:Union{Complex{Float32}, Complex{Float64}, Float32, Float64}}</i>(S::<b>Union{Base.ReshapedArray{Ty,2,A,MI} where MI<:Tuple{Vararg{Base.MultiplicativeInverses.SignedMultiplicativeInverse{Int64},N} where N} where A<:DenseArray, DenseArray{Ty,2}, SubArray{Ty,2,A,I,L} where L} where I<:Tuple{Vararg{Union{Base.AbstractCartesianIndex, Int64, Range{Int64}},N} where N} where A<:Union{Base.ReshapedArray{T,N,A,MI} where MI<:Tuple{Vararg{Base.MultiplicativeInverses.SignedMultiplicativeInverse{Int64},N} where N} where A<:DenseArray where N where T, DenseArray}</b>, T::<b>Union{Base.ReshapedArray{Ty,2,A,MI} where MI<:Tuple{Vararg{Base.MultiplicativeInverses.SignedMultiplicativeInverse{Int64},N} where N} where A<:DenseArray, DenseArray{Ty,2}, SubArray{Ty,2,A,I,L} where L} where I<:Tuple{Vararg{Union{Base.AbstractCartesianIndex, Int64, Range{Int64}},N} where N} where A<:Union{Base.ReshapedArray{T,N,A,MI} where MI<:Tuple{Vararg{Base.MultiplicativeInverses.SignedMultiplicativeInverse{Int64},N} where N} where A<:DenseArray where N where T, DenseArray}</b>, Q::<b>Union{Base.ReshapedArray{Ty,2,A,MI} where MI<:Tuple{Vararg{Base.MultiplicativeInverses.SignedMultiplicativeInverse{Int64},N} where N} where A<:DenseArray, DenseArray{Ty,2}, SubArray{Ty,2,A,I,L} where L} where I<:Tuple{Vararg{Union{Base.AbstractCartesianIndex, Int64, Range{Int64}},N} where N} where A<:Union{Base.ReshapedArray{T,N,A,MI} where MI<:Tuple{Vararg{Base.MultiplicativeInverses.SignedMultiplicativeInverse{Int64},N} where N} where A<:DenseArray where N where T, DenseArray}</b>, Z::<b>Union{Base.ReshapedArray{Ty,2,A,MI} where MI<:Tuple{Vararg{Base.MultiplicativeInverses.SignedMultiplicativeInverse{Int64},N} where N} where A<:DenseArray, DenseArray{Ty,2}, SubArray{Ty,2,A,I,L} where L} where I<:Tuple{Vararg{Union{Base.AbstractCartesianIndex, Int64, Range{Int64}},N} where N} where A<:Union{Base.ReshapedArray{T,N,A,MI} where MI<:Tuple{Vararg{Base.MultiplicativeInverses.SignedMultiplicativeInverse{Int64},N} where N} where A<:DenseArray where N where T, DenseArray}</b>, select::<b>Union{Array{Bool,1}, BitArray{1}}</b>) at <a href=\"https://github.com/JuliaLang/julia/tree/903644385b91ed8d95e5e3a5716c089dd1f1b08a/base/linalg/schur.jl#L233\" target=\"_blank\">linalg/schur.jl:233</a><li> pop!(B::<b>BitArray{1}</b>) at <a href=\"https://github.com/JuliaLang/julia/tree/903644385b91ed8d95e5e3a5716c089dd1f1b08a/base/bitarray.jl#L844\" target=\"_blank\">bitarray.jl:844</a><li> prepend!(A::<b>Array{Bool,1}</b>, items::<b>BitArray{1}</b>) at <a href=\"https://github.com/JuliaLang/julia/tree/903644385b91ed8d95e5e3a5716c089dd1f1b08a/base/bitarray.jl#L817\" target=\"_blank\">bitarray.jl:817</a><li> prepend!(B::<b>BitArray{1}</b>, items::<b>BitArray{1}</b>) at <a href=\"https://github.com/JuliaLang/julia/tree/903644385b91ed8d95e5e3a5716c089dd1f1b08a/base/bitarray.jl#L800\" target=\"_blank\">bitarray.jl:800</a><li> prepend!(B::<b>BitArray{1}</b>, items::<b>AbstractArray{Bool,1}</b>) at <a href=\"https://github.com/JuliaLang/julia/tree/903644385b91ed8d95e5e3a5716c089dd1f1b08a/base/bitarray.jl#L816\" target=\"_blank\">bitarray.jl:816</a><li> push!(B::<b>BitArray{1}</b>, item) at <a href=\"https://github.com/JuliaLang/julia/tree/903644385b91ed8d95e5e3a5716c089dd1f1b08a/base/bitarray.jl#L764\" target=\"_blank\">bitarray.jl:764</a><li> resize!(B::<b>BitArray{1}</b>, n::<b>Integer</b>) at <a href=\"https://github.com/JuliaLang/julia/tree/903644385b91ed8d95e5e3a5716c089dd1f1b08a/base/bitarray.jl#L825\" target=\"_blank\">bitarray.jl:825</a><li> reverse(v::<b>BitArray{1}</b>) at <a href=\"https://github.com/JuliaLang/julia/tree/903644385b91ed8d95e5e3a5716c089dd1f1b08a/base/bitarray.jl#L1363\" target=\"_blank\">bitarray.jl:1363</a><li> reverse!(B::<b>BitArray{1}</b>) at <a href=\"https://github.com/JuliaLang/julia/tree/903644385b91ed8d95e5e3a5716c089dd1f1b08a/base/bitarray.jl#L1324\" target=\"_blank\">bitarray.jl:1324</a><li> rol(B::<b>BitArray{1}</b>, i::<b>Integer</b>) at <a href=\"https://github.com/JuliaLang/julia/tree/903644385b91ed8d95e5e3a5716c089dd1f1b08a/base/bitarray.jl#L1534\" target=\"_blank\">bitarray.jl:1534</a><li> rol!(dest::<b>BitArray{1}</b>, src::<b>BitArray{1}</b>, i::<b>Integer</b>) at <a href=\"https://github.com/JuliaLang/julia/tree/903644385b91ed8d95e5e3a5716c089dd1f1b08a/base/bitarray.jl#L1474\" target=\"_blank\">bitarray.jl:1474</a><li> rol!(B::<b>BitArray{1}</b>, i::<b>Integer</b>) at <a href=\"https://github.com/JuliaLang/julia/tree/903644385b91ed8d95e5e3a5716c089dd1f1b08a/base/bitarray.jl#L1491\" target=\"_blank\">bitarray.jl:1491</a><li> ror(B::<b>BitArray{1}</b>, i::<b>Integer</b>) at <a href=\"https://github.com/JuliaLang/julia/tree/903644385b91ed8d95e5e3a5716c089dd1f1b08a/base/bitarray.jl#L1603\" target=\"_blank\">bitarray.jl:1603</a><li> ror!(dest::<b>BitArray{1}</b>, src::<b>BitArray{1}</b>, i::<b>Integer</b>) at <a href=\"https://github.com/JuliaLang/julia/tree/903644385b91ed8d95e5e3a5716c089dd1f1b08a/base/bitarray.jl#L1543\" target=\"_blank\">bitarray.jl:1543</a><li> ror!(B::<b>BitArray{1}</b>, i::<b>Integer</b>) at <a href=\"https://github.com/JuliaLang/julia/tree/903644385b91ed8d95e5e3a5716c089dd1f1b08a/base/bitarray.jl#L1560\" target=\"_blank\">bitarray.jl:1560</a><li> shift!(B::<b>BitArray{1}</b>) at <a href=\"https://github.com/JuliaLang/julia/tree/903644385b91ed8d95e5e3a5716c089dd1f1b08a/base/bitarray.jl#L878\" target=\"_blank\">bitarray.jl:878</a><li> size(B::<b>BitArray{1}</b>) at <a href=\"https://github.com/JuliaLang/julia/tree/903644385b91ed8d95e5e3a5716c089dd1f1b08a/base/bitarray.jl#L62\" target=\"_blank\">bitarray.jl:62</a><li> size(B::<b>BitArray{1}</b>, d) at <a href=\"https://github.com/JuliaLang/julia/tree/903644385b91ed8d95e5e3a5716c089dd1f1b08a/base/bitarray.jl#L66\" target=\"_blank\">bitarray.jl:66</a><li> sizehint!(B::<b>BitArray{1}</b>, sz::<b>Integer</b>) at <a href=\"https://github.com/JuliaLang/julia/tree/903644385b91ed8d95e5e3a5716c089dd1f1b08a/base/bitarray.jl#L820\" target=\"_blank\">bitarray.jl:820</a><li> slicedim(A::<b>BitArray{1}</b>, d::<b>Integer</b>, i::<b>Integer</b>) at <a href=\"https://github.com/JuliaLang/julia/tree/903644385b91ed8d95e5e3a5716c089dd1f1b08a/base/bitarray.jl#L1241\" target=\"_blank\">bitarray.jl:1241</a><li> splice!(B::<b>BitArray{1}</b>, i::<b>Integer</b>) at <a href=\"https://github.com/JuliaLang/julia/tree/903644385b91ed8d95e5e3a5716c089dd1f1b08a/base/bitarray.jl#L1030\" target=\"_blank\">bitarray.jl:1030</a><li> splice!(B::<b>BitArray{1}</b>, r::<b>Union{Integer, UnitRange{Int64}}</b>) at <a href=\"https://github.com/JuliaLang/julia/tree/903644385b91ed8d95e5e3a5716c089dd1f1b08a/base/bitarray.jl#L1041\" target=\"_blank\">bitarray.jl:1041</a><li> splice!(B::<b>BitArray{1}</b>, r::<b>Union{Integer, UnitRange{Int64}}</b>, ins::<b>AbstractArray</b>) at <a href=\"https://github.com/JuliaLang/julia/tree/903644385b91ed8d95e5e3a5716c089dd1f1b08a/base/bitarray.jl#L1041\" target=\"_blank\">bitarray.jl:1041</a><li> splice!(B::<b>BitArray{1}</b>, r::<b>Union{Integer, UnitRange{Int64}}</b>, ins) at <a href=\"https://github.com/JuliaLang/julia/tree/903644385b91ed8d95e5e3a5716c089dd1f1b08a/base/bitarray.jl#L1082\" target=\"_blank\">bitarray.jl:1082</a><li> unshift!(B::<b>BitArray{1}</b>, item) at <a href=\"https://github.com/JuliaLang/julia/tree/903644385b91ed8d95e5e3a5716c089dd1f1b08a/base/bitarray.jl#L856\" target=\"_blank\">bitarray.jl:856</a></ul>"
      ],
      "text/plain": [
       "59-element Array{Method,1}:\n",
       " /(A::Union{BitArray{1}, BitArray{2}}, B::Union{BitArray{1}, BitArray{2}}) in Base at bitarray.jl:1192                                                                                                                                                                                                                                                                                                                                                                                                                                                                                                                                                                                                                                                                                                                                                                                                                                                                                                                                                                                                                                                                                                                                                                                                                                                                                                                                                                                                                                                                                                                                                                                                                                                                                                                                                                                                                                                                                                                                                                                                                                                                                           \n",
       " <<(B::BitArray{1}, i::Int64) in Base at bitarray.jl:1457                                                                                                                                                                                                                                                                                                                                                                                                                                                                                                                                                                                                                                                                                                                                                                                                                                                                                                                                                                                                                                                                                                                                                                                                                                                                                                                                                                                                                                                                                                                                                                                                                                                                                                                                                                                                                                                                                                                                                                                                                                                                                                                                        \n",
       " <<(B::BitArray{1}, i::UInt64) in Base at bitarray.jl:1367                                                                                                                                                                                                                                                                                                                                                                                                                                                                                                                                                                                                                                                                                                                                                                                                                                                                                                                                                                                                                                                                                                                                                                                                                                                                                                                                                                                                                                                                                                                                                                                                                                                                                                                                                                                                                                                                                                                                                                                                                                                                                                                                       \n",
       " >>(B::BitArray{1}, i::Union{Int64, UInt64}) in Base at bitarray.jl:1418                                                                                                                                                                                                                                                                                                                                                                                                                                                                                                                                                                                                                                                                                                                                                                                                                                                                                                                                                                                                                                                                                                                                                                                                                                                                                                                                                                                                                                                                                                                                                                                                                                                                                                                                                                                                                                                                                                                                                                                                                                                                                                                         \n",
       " >>>(B::BitArray{1}, i::Int64) in Base at bitarray.jl:1465                                                                                                                                                                                                                                                                                                                                                                                                                                                                                                                                                                                                                                                                                                                                                                                                                                                                                                                                                                                                                                                                                                                                                                                                                                                                                                                                                                                                                                                                                                                                                                                                                                                                                                                                                                                                                                                                                                                                                                                                                                                                                                                                       \n",
       " >>>(B::BitArray{1}, i::UInt64) in Base at bitarray.jl:1375                                                                                                                                                                                                                                                                                                                                                                                                                                                                                                                                                                                                                                                                                                                                                                                                                                                                                                                                                                                                                                                                                                                                                                                                                                                                                                                                                                                                                                                                                                                                                                                                                                                                                                                                                                                                                                                                                                                                                                                                                                                                                                                                      \n",
       " \\(A::Union{BitArray{1}, BitArray{2}}, B::Union{BitArray{1}, BitArray{2}}) in Base at bitarray.jl:1192                                                                                                                                                                                                                                                                                                                                                                                                                                                                                                                                                                                                                                                                                                                                                                                                                                                                                                                                                                                                                                                                                                                                                                                                                                                                                                                                                                                                                                                                                                                                                                                                                                                                                                                                                                                                                                                                                                                                                                                                                                                                                           \n",
       " append!(B::BitArray{1}, items::BitArray{1}) in Base at bitarray.jl:781                                                                                                                                                                                                                                                                                                                                                                                                                                                                                                                                                                                                                                                                                                                                                                                                                                                                                                                                                                                                                                                                                                                                                                                                                                                                                                                                                                                                                                                                                                                                                                                                                                                                                                                                                                                                                                                                                                                                                                                                                                                                                                                          \n",
       " append!(B::BitArray{1}, items::AbstractArray{Bool,1}) in Base at bitarray.jl:796                                                                                                                                                                                                                                                                                                                                                                                                                                                                                                                                                                                                                                                                                                                                                                                                                                                                                                                                                                                                                                                                                                                                                                                                                                                                                                                                                                                                                                                                                                                                                                                                                                                                                                                                                                                                                                                                                                                                                                                                                                                                                                                \n",
       " append!(A::Array{Bool,1}, items::BitArray{1}) in Base at bitarray.jl:797                                                                                                                                                                                                                                                                                                                                                                                                                                                                                                                                                                                                                                                                                                                                                                                                                                                                                                                                                                                                                                                                                                                                                                                                                                                                                                                                                                                                                                                                                                                                                                                                                                                                                                                                                                                                                                                                                                                                                                                                                                                                                                                        \n",
       " broadcast(::Base.#*, x::BitArray{1}, y::AbstractSparseArray{Bool,Ti,1} where Ti) in Base.SparseArrays at sparse/sparsevector.jl:1325                                                                                                                                                                                                                                                                                                                                                                                                                                                                                                                                                                                                                                                                                                                                                                                                                                                                                                                                                                                                                                                                                                                                                                                                                                                                                                                                                                                                                                                                                                                                                                                                                                                                                                                                                                                                                                                                                                                                                                                                                                                            \n",
       " broadcast(::Base.#*, x::AbstractSparseArray{Bool,Ti,1} where Ti, y::BitArray{1}) in Base.SparseArrays at sparse/sparsevector.jl:1326                                                                                                                                                                                                                                                                                                                                                                                                                                                                                                                                                                                                                                                                                                                                                                                                                                                                                                                                                                                                                                                                                                                                                                                                                                                                                                                                                                                                                                                                                                                                                                                                                                                                                                                                                                                                                                                                                                                                                                                                                                                            \n",
       " ctranspose(B::Union{BitArray{1}, BitArray{2}}) in Base.LinAlg at linalg/bitarray.jl:298                                                                                                                                                                                                                                                                                                                                                                                                                                                                                                                                                                                                                                                                                                                                                                                                                                                                                                                                                                                                                                                                                                                                                                                                                                                                                                                                                                                                                                                                                                                                                                                                                                                                                                                                                                                                                                                                                                                                                                                                                                                                                                         \n",
       " deleteat!(B::BitArray{1}, r::UnitRange{Int64}) in Base at bitarray.jl:968                                                                                                                                                                                                                                                                                                                                                                                                                                                                                                                                                                                                                                                                                                                                                                                                                                                                                                                                                                                                                                                                                                                                                                                                                                                                                                                                                                                                                                                                                                                                                                                                                                                                                                                                                                                                                                                                                                                                                                                                                                                                                                                       \n",
       " deleteat!(B::BitArray{1}, i::Integer) in Base at bitarray.jl:961                                                                                                                                                                                                                                                                                                                                                                                                                                                                                                                                                                                                                                                                                                                                                                                                                                                                                                                                                                                                                                                                                                                                                                                                                                                                                                                                                                                                                                                                                                                                                                                                                                                                                                                                                                                                                                                                                                                                                                                                                                                                                                                                \n",
       " deleteat!(B::BitArray{1}, inds) in Base at bitarray.jl:992                                                                                                                                                                                                                                                                                                                                                                                                                                                                                                                                                                                                                                                                                                                                                                                                                                                                                                                                                                                                                                                                                                                                                                                                                                                                                                                                                                                                                                                                                                                                                                                                                                                                                                                                                                                                                                                                                                                                                                                                                                                                                                                                      \n",
       " diagm(v::Union{BitArray{1}, BitArray{2}}) in Base.LinAlg at linalg/bitarray.jl:90                                                                                                                                                                                                                                                                                                                                                                                                                                                                                                                                                                                                                                                                                                                                                                                                                                                                                                                                                                                                                                                                                                                                                                                                                                                                                                                                                                                                                                                                                                                                                                                                                                                                                                                                                                                                                                                                                                                                                                                                                                                                                                               \n",
       " dot(x::BitArray{1}, y::BitArray{1}) in Base.LinAlg at linalg/bitarray.jl:5                                                                                                                                                                                                                                                                                                                                                                                                                                                                                                                                                                                                                                                                                                                                                                                                                                                                                                                                                                                                                                                                                                                                                                                                                                                                                                                                                                                                                                                                                                                                                                                                                                                                                                                                                                                                                                                                                                                                                                                                                                                                                                                      \n",
       " empty!(B::BitArray{1}) in Base at bitarray.jl:1093                                                                                                                                                                                                                                                                                                                                                                                                                                                                                                                                                                                                                                                                                                                                                                                                                                                                                                                                                                                                                                                                                                                                                                                                                                                                                                                                                                                                                                                                                                                                                                                                                                                                                                                                                                                                                                                                                                                                                                                                                                                                                                                                              \n",
       " findn(B::BitArray{1}) in Base at bitarray.jl:1800                                                                                                                                                                                                                                                                                                                                                                                                                                                                                                                                                                                                                                                                                                                                                                                                                                                                                                                                                                                                                                                                                                                                                                                                                                                                                                                                                                                                                                                                                                                                                                                                                                                                                                                                                                                                                                                                                                                                                                                                                                                                                                                                               \n",
       " gradient(F::BitArray{1}, h::BitArray{1}) in Base.LinAlg at linalg/bitarray.jl:76                                                                                                                                                                                                                                                                                                                                                                                                                                                                                                                                                                                                                                                                                                                                                                                                                                                                                                                                                                                                                                                                                                                                                                                                                                                                                                                                                                                                                                                                                                                                                                                                                                                                                                                                                                                                                                                                                                                                                                                                                                                                                                                \n",
       " gradient(F::BitArray{1}) in Base.LinAlg at linalg/bitarray.jl:72                                                                                                                                                                                                                                                                                                                                                                                                                                                                                                                                                                                                                                                                                                                                                                                                                                                                                                                                                                                                                                                                                                                                                                                                                                                                                                                                                                                                                                                                                                                                                                                                                                                                                                                                                                                                                                                                                                                                                                                                                                                                                                                                \n",
       " gradient(F::BitArray{1}, h::Real) in Base.LinAlg at linalg/bitarray.jl:73                                                                                                                                                                                                                                                                                                                                                                                                                                                                                                                                                                                                                                                                                                                                                                                                                                                                                                                                                                                                                                                                                                                                                                                                                                                                                                                                                                                                                                                                                                                                                                                                                                                                                                                                                                                                                                                                                                                                                                                                                                                                                                                       \n",
       " gradient(F::Array{T,1} where T, h::BitArray{1}) in Base.LinAlg at linalg/bitarray.jl:74                                                                                                                                                                                                                                                                                                                                                                                                                                                                                                                                                                                                                                                                                                                                                                                                                                                                                                                                                                                                                                                                                                                                                                                                                                                                                                                                                                                                                                                                                                                                                                                                                                                                                                                                                                                                                                                                                                                                                                                                                                                                                                         \n",
       " gradient(F::BitArray{1}, h::Array{T,1} where T) in Base.LinAlg at linalg/bitarray.jl:75                                                                                                                                                                                                                                                                                                                                                                                                                                                                                                                                                                                                                                                                                                                                                                                                                                                                                                                                                                                                                                                                                                                                                                                                                                                                                                                                                                                                                                                                                                                                                                                                                                                                                                                                                                                                                                                                                                                                                                                                                                                                                                         \n",
       " insert!(B::BitArray{1}, i::Integer, item) in Base at bitarray.jl:901                                                                                                                                                                                                                                                                                                                                                                                                                                                                                                                                                                                                                                                                                                                                                                                                                                                                                                                                                                                                                                                                                                                                                                                                                                                                                                                                                                                                                                                                                                                                                                                                                                                                                                                                                                                                                                                                                                                                                                                                                                                                                                                            \n",
       " kron(a::BitArray{1}, b::BitArray{1}) in Base.LinAlg at linalg/bitarray.jl:107                                                                                                                                                                                                                                                                                                                                                                                                                                                                                                                                                                                                                                                                                                                                                                                                                                                                                                                                                                                                                                                                                                                                                                                                                                                                                                                                                                                                                                                                                                                                                                                                                                                                                                                                                                                                                                                                                                                                                                                                                                                                                                                   \n",
       " ordschur(schur::Base.LinAlg.Schur, select::Union{Array{Bool,1}, BitArray{1}}) in Base.LinAlg at linalg/schur.jl:138                                                                                                                                                                                                                                                                                                                                                                                                                                                                                                                                                                                                                                                                                                                                                                                                                                                                                                                                                                                                                                                                                                                                                                                                                                                                                                                                                                                                                                                                                                                                                                                                                                                                                                                                                                                                                                                                                                                                                                                                                                                                             \n",
       " ordschur(T::Union{Base.ReshapedArray{Ty,2,A,MI} where MI<:Tuple{Vararg{Base.MultiplicativeInverses.SignedMultiplicativeInverse{Int64},N} where N} where A<:DenseArray, DenseArray{Ty,2}, SubArray{Ty,2,A,I,L} where L} where I<:Tuple{Vararg{Union{Base.AbstractCartesianIndex, Int64, Range{Int64}},N} where N} where A<:Union{Base.ReshapedArray{T,N,A,MI} where MI<:Tuple{Vararg{Base.MultiplicativeInverses.SignedMultiplicativeInverse{Int64},N} where N} where A<:DenseArray where N where T, DenseArray}, Z::Union{Base.ReshapedArray{Ty,2,A,MI} where MI<:Tuple{Vararg{Base.MultiplicativeInverses.SignedMultiplicativeInverse{Int64},N} where N} where A<:DenseArray, DenseArray{Ty,2}, SubArray{Ty,2,A,I,L} where L} where I<:Tuple{Vararg{Union{Base.AbstractCartesianIndex, Int64, Range{Int64}},N} where N} where A<:Union{Base.ReshapedArray{T,N,A,MI} where MI<:Tuple{Vararg{Base.MultiplicativeInverses.SignedMultiplicativeInverse{Int64},N} where N} where A<:DenseArray where N where T, DenseArray}, select::Union{Array{Bool,1}, BitArray{1}}) where Ty<:Union{Complex{Float32}, Complex{Float64}, Float32, Float64} in Base.LinAlg at linalg/schur.jl:159                                                                                                                                                                                                                                                                                                                                                                                                                                                                                                                                                                                                                                                                                                                                                                                                                                                                                                                                                                                                                 \n",
       " ordschur(gschur::Base.LinAlg.GeneralizedSchur, select::Union{Array{Bool,1}, BitArray{1}}) in Base.LinAlg at linalg/schur.jl:225                                                                                                                                                                                                                                                                                                                                                                                                                                                                                                                                                                                                                                                                                                                                                                                                                                                                                                                                                                                                                                                                                                                                                                                                                                                                                                                                                                                                                                                                                                                                                                                                                                                                                                                                                                                                                                                                                                                                                                                                                                                                 \n",
       " ordschur(S::Union{Base.ReshapedArray{Ty,2,A,MI} where MI<:Tuple{Vararg{Base.MultiplicativeInverses.SignedMultiplicativeInverse{Int64},N} where N} where A<:DenseArray, DenseArray{Ty,2}, SubArray{Ty,2,A,I,L} where L} where I<:Tuple{Vararg{Union{Base.AbstractCartesianIndex, Int64, Range{Int64}},N} where N} where A<:Union{Base.ReshapedArray{T,N,A,MI} where MI<:Tuple{Vararg{Base.MultiplicativeInverses.SignedMultiplicativeInverse{Int64},N} where N} where A<:DenseArray where N where T, DenseArray}, T::Union{Base.ReshapedArray{Ty,2,A,MI} where MI<:Tuple{Vararg{Base.MultiplicativeInverses.SignedMultiplicativeInverse{Int64},N} where N} where A<:DenseArray, DenseArray{Ty,2}, SubArray{Ty,2,A,I,L} where L} where I<:Tuple{Vararg{Union{Base.AbstractCartesianIndex, Int64, Range{Int64}},N} where N} where A<:Union{Base.ReshapedArray{T,N,A,MI} where MI<:Tuple{Vararg{Base.MultiplicativeInverses.SignedMultiplicativeInverse{Int64},N} where N} where A<:DenseArray where N where T, DenseArray}, Q::Union{Base.ReshapedArray{Ty,2,A,MI} where MI<:Tuple{Vararg{Base.MultiplicativeInverses.SignedMultiplicativeInverse{Int64},N} where N} where A<:DenseArray, DenseArray{Ty,2}, SubArray{Ty,2,A,I,L} where L} where I<:Tuple{Vararg{Union{Base.AbstractCartesianIndex, Int64, Range{Int64}},N} where N} where A<:Union{Base.ReshapedArray{T,N,A,MI} where MI<:Tuple{Vararg{Base.MultiplicativeInverses.SignedMultiplicativeInverse{Int64},N} where N} where A<:DenseArray where N where T, DenseArray}, Z::Union{Base.ReshapedArray{Ty,2,A,MI} where MI<:Tuple{Vararg{Base.MultiplicativeInverses.SignedMultiplicativeInverse{Int64},N} where N} where A<:DenseArray, DenseArray{Ty,2}, SubArray{Ty,2,A,I,L} where L} where I<:Tuple{Vararg{Union{Base.AbstractCartesianIndex, Int64, Range{Int64}},N} where N} where A<:Union{Base.ReshapedArray{T,N,A,MI} where MI<:Tuple{Vararg{Base.MultiplicativeInverses.SignedMultiplicativeInverse{Int64},N} where N} where A<:DenseArray where N where T, DenseArray}, select::Union{Array{Bool,1}, BitArray{1}}) where Ty<:Union{Complex{Float32}, Complex{Float64}, Float32, Float64} in Base.LinAlg at linalg/schur.jl:247 \n",
       " ordschur!(schur::Base.LinAlg.Schur, select::Union{Array{Bool,1}, BitArray{1}}) in Base.LinAlg at linalg/schur.jl:123                                                                                                                                                                                                                                                                                                                                                                                                                                                                                                                                                                                                                                                                                                                                                                                                                                                                                                                                                                                                                                                                                                                                                                                                                                                                                                                                                                                                                                                                                                                                                                                                                                                                                                                                                                                                                                                                                                                                                                                                                                                                            \n",
       " ordschur!(T::Union{Base.ReshapedArray{Ty,2,A,MI} where MI<:Tuple{Vararg{Base.MultiplicativeInverses.SignedMultiplicativeInverse{Int64},N} where N} where A<:DenseArray, DenseArray{Ty,2}, SubArray{Ty,2,A,I,L} where L} where I<:Tuple{Vararg{Union{Base.AbstractCartesianIndex, Int64, Range{Int64}},N} where N} where A<:Union{Base.ReshapedArray{T,N,A,MI} where MI<:Tuple{Vararg{Base.MultiplicativeInverses.SignedMultiplicativeInverse{Int64},N} where N} where A<:DenseArray where N where T, DenseArray}, Z::Union{Base.ReshapedArray{Ty,2,A,MI} where MI<:Tuple{Vararg{Base.MultiplicativeInverses.SignedMultiplicativeInverse{Int64},N} where N} where A<:DenseArray, DenseArray{Ty,2}, SubArray{Ty,2,A,I,L} where L} where I<:Tuple{Vararg{Union{Base.AbstractCartesianIndex, Int64, Range{Int64}},N} where N} where A<:Union{Base.ReshapedArray{T,N,A,MI} where MI<:Tuple{Vararg{Base.MultiplicativeInverses.SignedMultiplicativeInverse{Int64},N} where N} where A<:DenseArray where N where T, DenseArray}, select::Union{Array{Bool,1}, BitArray{1}}) where Ty<:Union{Complex{Float32}, Complex{Float64}, Float32, Float64} in Base.LinAlg at linalg/schur.jl:146                                                                                                                                                                                                                                                                                                                                                                                                                                                                                                                                                                                                                                                                                                                                                                                                                                                                                                                                                                                                                \n",
       " ordschur!(gschur::Base.LinAlg.GeneralizedSchur, select::Union{Array{Bool,1}, BitArray{1}}) in Base.LinAlg at linalg/schur.jl:209                                                                                                                                                                                                                                                                                                                                                                                                                                                                                                                                                                                                                                                                                                                                                                                                                                                                                                                                                                                                                                                                                                                                                                                                                                                                                                                                                                                                                                                                                                                                                                                                                                                                                                                                                                                                                                                                                                                                                                                                                                                                \n",
       " ordschur!(S::Union{Base.ReshapedArray{Ty,2,A,MI} where MI<:Tuple{Vararg{Base.MultiplicativeInverses.SignedMultiplicativeInverse{Int64},N} where N} where A<:DenseArray, DenseArray{Ty,2}, SubArray{Ty,2,A,I,L} where L} where I<:Tuple{Vararg{Union{Base.AbstractCartesianIndex, Int64, Range{Int64}},N} where N} where A<:Union{Base.ReshapedArray{T,N,A,MI} where MI<:Tuple{Vararg{Base.MultiplicativeInverses.SignedMultiplicativeInverse{Int64},N} where N} where A<:DenseArray where N where T, DenseArray}, T::Union{Base.ReshapedArray{Ty,2,A,MI} where MI<:Tuple{Vararg{Base.MultiplicativeInverses.SignedMultiplicativeInverse{Int64},N} where N} where A<:DenseArray, DenseArray{Ty,2}, SubArray{Ty,2,A,I,L} where L} where I<:Tuple{Vararg{Union{Base.AbstractCartesianIndex, Int64, Range{Int64}},N} where N} where A<:Union{Base.ReshapedArray{T,N,A,MI} where MI<:Tuple{Vararg{Base.MultiplicativeInverses.SignedMultiplicativeInverse{Int64},N} where N} where A<:DenseArray where N where T, DenseArray}, Q::Union{Base.ReshapedArray{Ty,2,A,MI} where MI<:Tuple{Vararg{Base.MultiplicativeInverses.SignedMultiplicativeInverse{Int64},N} where N} where A<:DenseArray, DenseArray{Ty,2}, SubArray{Ty,2,A,I,L} where L} where I<:Tuple{Vararg{Union{Base.AbstractCartesianIndex, Int64, Range{Int64}},N} where N} where A<:Union{Base.ReshapedArray{T,N,A,MI} where MI<:Tuple{Vararg{Base.MultiplicativeInverses.SignedMultiplicativeInverse{Int64},N} where N} where A<:DenseArray where N where T, DenseArray}, Z::Union{Base.ReshapedArray{Ty,2,A,MI} where MI<:Tuple{Vararg{Base.MultiplicativeInverses.SignedMultiplicativeInverse{Int64},N} where N} where A<:DenseArray, DenseArray{Ty,2}, SubArray{Ty,2,A,I,L} where L} where I<:Tuple{Vararg{Union{Base.AbstractCartesianIndex, Int64, Range{Int64}},N} where N} where A<:Union{Base.ReshapedArray{T,N,A,MI} where MI<:Tuple{Vararg{Base.MultiplicativeInverses.SignedMultiplicativeInverse{Int64},N} where N} where A<:DenseArray where N where T, DenseArray}, select::Union{Array{Bool,1}, BitArray{1}}) where Ty<:Union{Complex{Float32}, Complex{Float64}, Float32, Float64} in Base.LinAlg at linalg/schur.jl:233\n",
       " pop!(B::BitArray{1}) in Base at bitarray.jl:844                                                                                                                                                                                                                                                                                                                                                                                                                                                                                                                                                                                                                                                                                                                                                                                                                                                                                                                                                                                                                                                                                                                                                                                                                                                                                                                                                                                                                                                                                                                                                                                                                                                                                                                                                                                                                                                                                                                                                                                                                                                                                                                                                 \n",
       " prepend!(A::Array{Bool,1}, items::BitArray{1}) in Base at bitarray.jl:817                                                                                                                                                                                                                                                                                                                                                                                                                                                                                                                                                                                                                                                                                                                                                                                                                                                                                                                                                                                                                                                                                                                                                                                                                                                                                                                                                                                                                                                                                                                                                                                                                                                                                                                                                                                                                                                                                                                                                                                                                                                                                                                       \n",
       " prepend!(B::BitArray{1}, items::BitArray{1}) in Base at bitarray.jl:800                                                                                                                                                                                                                                                                                                                                                                                                                                                                                                                                                                                                                                                                                                                                                                                                                                                                                                                                                                                                                                                                                                                                                                                                                                                                                                                                                                                                                                                                                                                                                                                                                                                                                                                                                                                                                                                                                                                                                                                                                                                                                                                         \n",
       " prepend!(B::BitArray{1}, items::AbstractArray{Bool,1}) in Base at bitarray.jl:816                                                                                                                                                                                                                                                                                                                                                                                                                                                                                                                                                                                                                                                                                                                                                                                                                                                                                                                                                                                                                                                                                                                                                                                                                                                                                                                                                                                                                                                                                                                                                                                                                                                                                                                                                                                                                                                                                                                                                                                                                                                                                                               \n",
       " push!(B::BitArray{1}, item) in Base at bitarray.jl:764                                                                                                                                                                                                                                                                                                                                                                                                                                                                                                                                                                                                                                                                                                                                                                                                                                                                                                                                                                                                                                                                                                                                                                                                                                                                                                                                                                                                                                                                                                                                                                                                                                                                                                                                                                                                                                                                                                                                                                                                                                                                                                                                          \n",
       " resize!(B::BitArray{1}, n::Integer) in Base at bitarray.jl:825                                                                                                                                                                                                                                                                                                                                                                                                                                                                                                                                                                                                                                                                                                                                                                                                                                                                                                                                                                                                                                                                                                                                                                                                                                                                                                                                                                                                                                                                                                                                                                                                                                                                                                                                                                                                                                                                                                                                                                                                                                                                                                                                  \n",
       " reverse(v::BitArray{1}) in Base at bitarray.jl:1363                                                                                                                                                                                                                                                                                                                                                                                                                                                                                                                                                                                                                                                                                                                                                                                                                                                                                                                                                                                                                                                                                                                                                                                                                                                                                                                                                                                                                                                                                                                                                                                                                                                                                                                                                                                                                                                                                                                                                                                                                                                                                                                                             \n",
       " reverse!(B::BitArray{1}) in Base at bitarray.jl:1324                                                                                                                                                                                                                                                                                                                                                                                                                                                                                                                                                                                                                                                                                                                                                                                                                                                                                                                                                                                                                                                                                                                                                                                                                                                                                                                                                                                                                                                                                                                                                                                                                                                                                                                                                                                                                                                                                                                                                                                                                                                                                                                                            \n",
       " rol(B::BitArray{1}, i::Integer) in Base at bitarray.jl:1534                                                                                                                                                                                                                                                                                                                                                                                                                                                                                                                                                                                                                                                                                                                                                                                                                                                                                                                                                                                                                                                                                                                                                                                                                                                                                                                                                                                                                                                                                                                                                                                                                                                                                                                                                                                                                                                                                                                                                                                                                                                                                                                                     \n",
       " rol!(dest::BitArray{1}, src::BitArray{1}, i::Integer) in Base at bitarray.jl:1474                                                                                                                                                                                                                                                                                                                                                                                                                                                                                                                                                                                                                                                                                                                                                                                                                                                                                                                                                                                                                                                                                                                                                                                                                                                                                                                                                                                                                                                                                                                                                                                                                                                                                                                                                                                                                                                                                                                                                                                                                                                                                                               \n",
       " rol!(B::BitArray{1}, i::Integer) in Base at bitarray.jl:1491                                                                                                                                                                                                                                                                                                                                                                                                                                                                                                                                                                                                                                                                                                                                                                                                                                                                                                                                                                                                                                                                                                                                                                                                                                                                                                                                                                                                                                                                                                                                                                                                                                                                                                                                                                                                                                                                                                                                                                                                                                                                                                                                    \n",
       " ror(B::BitArray{1}, i::Integer) in Base at bitarray.jl:1603                                                                                                                                                                                                                                                                                                                                                                                                                                                                                                                                                                                                                                                                                                                                                                                                                                                                                                                                                                                                                                                                                                                                                                                                                                                                                                                                                                                                                                                                                                                                                                                                                                                                                                                                                                                                                                                                                                                                                                                                                                                                                                                                     \n",
       " ror!(dest::BitArray{1}, src::BitArray{1}, i::Integer) in Base at bitarray.jl:1543                                                                                                                                                                                                                                                                                                                                                                                                                                                                                                                                                                                                                                                                                                                                                                                                                                                                                                                                                                                                                                                                                                                                                                                                                                                                                                                                                                                                                                                                                                                                                                                                                                                                                                                                                                                                                                                                                                                                                                                                                                                                                                               \n",
       " ror!(B::BitArray{1}, i::Integer) in Base at bitarray.jl:1560                                                                                                                                                                                                                                                                                                                                                                                                                                                                                                                                                                                                                                                                                                                                                                                                                                                                                                                                                                                                                                                                                                                                                                                                                                                                                                                                                                                                                                                                                                                                                                                                                                                                                                                                                                                                                                                                                                                                                                                                                                                                                                                                    \n",
       " shift!(B::BitArray{1}) in Base at bitarray.jl:878                                                                                                                                                                                                                                                                                                                                                                                                                                                                                                                                                                                                                                                                                                                                                                                                                                                                                                                                                                                                                                                                                                                                                                                                                                                                                                                                                                                                                                                                                                                                                                                                                                                                                                                                                                                                                                                                                                                                                                                                                                                                                                                                               \n",
       " size(B::BitArray{1}) in Base at bitarray.jl:62                                                                                                                                                                                                                                                                                                                                                                                                                                                                                                                                                                                                                                                                                                                                                                                                                                                                                                                                                                                                                                                                                                                                                                                                                                                                                                                                                                                                                                                                                                                                                                                                                                                                                                                                                                                                                                                                                                                                                                                                                                                                                                                                                  \n",
       " size(B::BitArray{1}, d) in Base at bitarray.jl:66                                                                                                                                                                                                                                                                                                                                                                                                                                                                                                                                                                                                                                                                                                                                                                                                                                                                                                                                                                                                                                                                                                                                                                                                                                                                                                                                                                                                                                                                                                                                                                                                                                                                                                                                                                                                                                                                                                                                                                                                                                                                                                                                               \n",
       " sizehint!(B::BitArray{1}, sz::Integer) in Base at bitarray.jl:820                                                                                                                                                                                                                                                                                                                                                                                                                                                                                                                                                                                                                                                                                                                                                                                                                                                                                                                                                                                                                                                                                                                                                                                                                                                                                                                                                                                                                                                                                                                                                                                                                                                                                                                                                                                                                                                                                                                                                                                                                                                                                                                               \n",
       " slicedim(A::BitArray{1}, d::Integer, i::Integer) in Base at bitarray.jl:1241                                                                                                                                                                                                                                                                                                                                                                                                                                                                                                                                                                                                                                                                                                                                                                                                                                                                                                                                                                                                                                                                                                                                                                                                                                                                                                                                                                                                                                                                                                                                                                                                                                                                                                                                                                                                                                                                                                                                                                                                                                                                                                                    \n",
       " splice!(B::BitArray{1}, i::Integer) in Base at bitarray.jl:1030                                                                                                                                                                                                                                                                                                                                                                                                                                                                                                                                                                                                                                                                                                                                                                                                                                                                                                                                                                                                                                                                                                                                                                                                                                                                                                                                                                                                                                                                                                                                                                                                                                                                                                                                                                                                                                                                                                                                                                                                                                                                                                                                 \n",
       " splice!(B::BitArray{1}, r::Union{Integer, UnitRange{Int64}}) in Base at bitarray.jl:1041                                                                                                                                                                                                                                                                                                                                                                                                                                                                                                                                                                                                                                                                                                                                                                                                                                                                                                                                                                                                                                                                                                                                                                                                                                                                                                                                                                                                                                                                                                                                                                                                                                                                                                                                                                                                                                                                                                                                                                                                                                                                                                        \n",
       " splice!(B::BitArray{1}, r::Union{Integer, UnitRange{Int64}}, ins::AbstractArray) in Base at bitarray.jl:1041                                                                                                                                                                                                                                                                                                                                                                                                                                                                                                                                                                                                                                                                                                                                                                                                                                                                                                                                                                                                                                                                                                                                                                                                                                                                                                                                                                                                                                                                                                                                                                                                                                                                                                                                                                                                                                                                                                                                                                                                                                                                                    \n",
       " splice!(B::BitArray{1}, r::Union{Integer, UnitRange{Int64}}, ins) in Base at bitarray.jl:1082                                                                                                                                                                                                                                                                                                                                                                                                                                                                                                                                                                                                                                                                                                                                                                                                                                                                                                                                                                                                                                                                                                                                                                                                                                                                                                                                                                                                                                                                                                                                                                                                                                                                                                                                                                                                                                                                                                                                                                                                                                                                                                   \n",
       " unshift!(B::BitArray{1}, item) in Base at bitarray.jl:856                                                                                                                                                                                                                                                                                                                                                                                                                                                                                                                                                                                                                                                                                                                                                                                                                                                                                                                                                                                                                                                                                                                                                                                                                                                                                                                                                                                                                                                                                                                                                                                                                                                                                                                                                                                                                                                                                                                                                                                                                                                                                                                                       "
      ]
     },
     "execution_count": 219,
     "metadata": {},
     "output_type": "execute_result"
    }
   ],
   "source": [
    "methodswith(BitVector)"
   ]
  },
  {
   "cell_type": "code",
   "execution_count": 221,
   "metadata": {},
   "outputs": [
    {
     "data": {
      "text/html": [
       "getindex(B::<b>BitArray</b>, i::<b>Int64</b>) at <a href=\"https://github.com/JuliaLang/julia/tree/903644385b91ed8d95e5e3a5716c089dd1f1b08a/base/bitarray.jl#L665\" target=\"_blank\">bitarray.jl:665</a>"
      ],
      "text/plain": [
       "getindex(B::BitArray, i::Int64) in Base at bitarray.jl:665"
      ]
     },
     "execution_count": 221,
     "metadata": {},
     "output_type": "execute_result"
    }
   ],
   "source": [
    "@which falses(3)[2]"
   ]
  },
  {
   "cell_type": "code",
   "execution_count": null,
   "metadata": {
    "collapsed": true
   },
   "outputs": [],
   "source": []
  }
 ],
 "metadata": {
  "kernelspec": {
   "display_name": "Julia 0.6.0",
   "language": "julia",
   "name": "julia-0.6"
  },
  "language_info": {
   "file_extension": ".jl",
   "mimetype": "application/julia",
   "name": "julia",
   "version": "0.6.0"
  }
 },
 "nbformat": 4,
 "nbformat_minor": 2
}
