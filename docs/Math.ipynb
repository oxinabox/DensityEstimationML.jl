{
 "cells": [
  {
   "cell_type": "code",
   "execution_count": 1,
   "metadata": {},
   "outputs": [
    {
     "data": {
      "text/plain": [
       "only (generic function with 1 method)"
      ]
     },
     "execution_count": 1,
     "metadata": {},
     "output_type": "execute_result"
    }
   ],
   "source": [
    "function only(itr)\n",
    "    state = start(itr)\n",
    "    val,state = next(itr, state)\n",
    "    @assert(done(itr,state))\n",
    "    return val\n",
    "end"
   ]
  },
  {
   "cell_type": "code",
   "execution_count": 2,
   "metadata": {},
   "outputs": [],
   "source": [
    "using SymEngine\n",
    "import SymEngine: as_numer_denom\n",
    "using Expr2LaTeX\n",
    "Expr2LaTeX.render(symexpr::SymEngine.Basic)=symexpr |> repr |> parse |> render"
   ]
  },
  {
   "cell_type": "code",
   "execution_count": 66,
   "metadata": {},
   "outputs": [
    {
     "data": {
      "text/plain": [
       "\u001b[1m\u001b[32mTest Passed\n",
       "\u001b[39m\u001b[22m"
      ]
     },
     "execution_count": 66,
     "metadata": {},
     "output_type": "execute_result"
    }
   ],
   "source": [
    "function ugly_simplify(f)\n",
    "    num,den = as_numer_denom(f)\n",
    "    inv(expand(inv(num)*den))\n",
    "end\n",
    "\n",
    "function basic_simplify(f)\n",
    "    num2,den2 = as_numer_denom(ugly_simplify)\n",
    "    num2/den2\n",
    "end\n",
    "\n",
    "(a)≖(b) = ugly_simplify(a)==ugly_simplify(b)\n",
    "\n",
    "### Tests\n",
    "using Base.Test\n",
    "@vars z\n",
    "s1 = (1 + exp(-z))^(-1)\n",
    "s2 = exp(z)/(1+exp(z))\n",
    "\n",
    "@test s1 ≖ s2\n",
    "@test inv(s1)≖inv(s2)\n",
    "\n",
    "n1 = subs(s1, z=>-z)\n",
    "n2 = 1-s1\n",
    "n3 = subs(s2, z=>-z)\n",
    "n4 = 1-s2\n",
    "@test n1 ≖ n2 ≖ n3 ≖ n4\n",
    "@test inv(n1)≖inv(n2) ≖ inv(n3) ≖ inv(n4)\n"
   ]
  },
  {
   "cell_type": "code",
   "execution_count": null,
   "metadata": {
    "collapsed": true
   },
   "outputs": [],
   "source": []
  },
  {
   "cell_type": "code",
   "execution_count": 4,
   "metadata": {},
   "outputs": [
    {
     "data": {
      "text/plain": [
       "sigmoid (generic function with 1 method)"
      ]
     },
     "execution_count": 4,
     "metadata": {},
     "output_type": "execute_result"
    }
   ],
   "source": [
    "sigmoid(z)=(1 + exp(-z))^(-1)"
   ]
  },
  {
   "cell_type": "code",
   "execution_count": 5,
   "metadata": {},
   "outputs": [
    {
     "data": {
      "text/plain": [
       "bias_var (generic function with 1 method)"
      ]
     },
     "execution_count": 5,
     "metadata": {},
     "output_type": "execute_result"
    }
   ],
   "source": [
    "function weight_var(name, input_size, output_size)\n",
    "    [symbols(\"$(name)_$j$i\") for j in 1:output_size, i in 1:input_size]\n",
    "end\n",
    "function bias_var(name, output_size)\n",
    "    [symbols(\"$(name)_$j\") for j in 1:output_size]\n",
    "end\n",
    "\n"
   ]
  },
  {
   "cell_type": "markdown",
   "metadata": {},
   "source": [
    "## Basic Network\n",
    "\n",
    "Single input single output\n",
    "1 hidden layer"
   ]
  },
  {
   "cell_type": "code",
   "execution_count": 99,
   "metadata": {},
   "outputs": [
    {
     "data": {
      "text/latex": [
       "$(\\frac{V_{11}}{(1 + \\mathrm{exp}(-(b_{1} + (x * W_{11}))))} + \\frac{V_{12}}{(1 + \\mathrm{exp}(-(b_{2} + (x * W_{21}))))} + \\frac{V_{13}}{(1 + \\mathrm{exp}(-(b_{3} + (x * W_{31}))))})$"
      ],
      "text/plain": [
       "L\"$(\\frac{V_{11}}{(1 + \\mathrm{exp}(-(b_{1} + (x * W_{11}))))} + \\frac{V_{12}}{(1 + \\mathrm{exp}(-(b_{2} + (x * W_{21}))))} + \\frac{V_{13}}{(1 + \\mathrm{exp}(-(b_{3} + (x * W_{31}))))})$\""
      ]
     },
     "metadata": {},
     "output_type": "display_data"
    }
   ],
   "source": [
    "@vars x\n",
    "W = weight_var(\"W\", 1, 3)\n",
    "b = bias_var(\"b\",3)\n",
    "V = weight_var(\"V\", 3, 1)\n",
    "\n",
    "z=(sigmoid.(W*x + b))\n",
    "N=V*z |> only\n",
    "render(N)"
   ]
  },
  {
   "cell_type": "code",
   "execution_count": 96,
   "metadata": {},
   "outputs": [
    {
     "data": {
      "text/latex": [
       "$(\\frac{(\\mathrm{exp}(-(b_{1} + (x * W_{11}))) * W_{11} * V_{11})}{(1 + \\mathrm{exp}(-(b_{1} + (x * W_{11}))))^{2}} + \\frac{(\\mathrm{exp}(-(b_{2} + (x * W_{21}))) * W_{21} * V_{12})}{(1 + \\mathrm{exp}(-(b_{2} + (x * W_{21}))))^{2}} + \\frac{(\\mathrm{exp}(-(b_{3} + (x * W_{31}))) * W_{31} * V_{13})}{(1 + \\mathrm{exp}(-(b_{3} + (x * W_{31}))))^{2}})$"
      ],
      "text/plain": [
       "L\"$(\\frac{(\\mathrm{exp}(-(b_{1} + (x * W_{11}))) * W_{11} * V_{11})}{(1 + \\mathrm{exp}(-(b_{1} + (x * W_{11}))))^{2}} + \\frac{(\\mathrm{exp}(-(b_{2} + (x * W_{21}))) * W_{21} * V_{12})}{(1 + \\mathrm{exp}(-(b_{2} + (x * W_{21}))))^{2}} + \\frac{(\\mathrm{exp}(-(b_{3} + (x * W_{31}))) * W_{31} * V_{13})}{(1 + \\mathrm{exp}(-(b_{3} + (x * W_{31}))))^{2}})$\""
      ]
     },
     "metadata": {},
     "output_type": "display_data"
    }
   ],
   "source": [
    "dNdx = diff(N,x)\n",
    "render(dNdx)"
   ]
  },
  {
   "cell_type": "code",
   "execution_count": 97,
   "metadata": {},
   "outputs": [
    {
     "data": {
      "text/latex": [
       "$(\\frac{(W_{11} * V_{11})}{((1 + \\mathrm{exp}(b_{1} + (x * W_{11}))) * (1 + \\mathrm{exp}(-(b_{1} + (x * W_{11})))))} + \\frac{(W_{21} * V_{12})}{((1 + \\mathrm{exp}(b_{2} + (x * W_{21}))) * (1 + \\mathrm{exp}(-(b_{2} + (x * W_{21})))))} + \\frac{(W_{31} * V_{13})}{((1 + \\mathrm{exp}(b_{3} + (x * W_{31}))) * (1 + \\mathrm{exp}(-(b_{3} + (x * W_{31})))))})$"
      ],
      "text/plain": [
       "L\"$(\\frac{(W_{11} * V_{11})}{((1 + \\mathrm{exp}(b_{1} + (x * W_{11}))) * (1 + \\mathrm{exp}(-(b_{1} + (x * W_{11})))))} + \\frac{(W_{21} * V_{12})}{((1 + \\mathrm{exp}(b_{2} + (x * W_{21}))) * (1 + \\mathrm{exp}(-(b_{2} + (x * W_{21})))))} + \\frac{(W_{31} * V_{13})}{((1 + \\mathrm{exp}(b_{3} + (x * W_{31}))) * (1 + \\mathrm{exp}(-(b_{3} + (x * W_{31})))))})$\""
      ]
     },
     "metadata": {},
     "output_type": "display_data"
    }
   ],
   "source": [
    "# I am pretty sure this is the right equation for the derivative of a plain nerual network\n",
    "# But symengine is not strong enough to  recognise that it matches the above\n",
    "mdNdx = (W'.*V)*(sigmoid.(-(W*x + b)).*sigmoid.(W*x + b)) |> first\n",
    "render.(mdNdx)"
   ]
  },
  {
   "cell_type": "markdown",
   "metadata": {},
   "source": [
    "## Expodential Output net\n",
    "Single input single output still,\n",
    "1 hidden layer,\n",
    "output expodential,"
   ]
  },
  {
   "cell_type": "code",
   "execution_count": 101,
   "metadata": {},
   "outputs": [
    {
     "data": {
      "text/latex": [
       "$\\mathrm{exp}(\\frac{V_{11}}{(1 + \\mathrm{exp}(-(b_{1} + (x * W_{11}))))} + \\frac{V_{12}}{(1 + \\mathrm{exp}(-(b_{2} + (x * W_{21}))))} + \\frac{V_{13}}{(1 + \\mathrm{exp}(-(b_{3} + (x * W_{31}))))})$"
      ],
      "text/plain": [
       "L\"$\\mathrm{exp}(\\frac{V_{11}}{(1 + \\mathrm{exp}(-(b_{1} + (x * W_{11}))))} + \\frac{V_{12}}{(1 + \\mathrm{exp}(-(b_{2} + (x * W_{21}))))} + \\frac{V_{13}}{(1 + \\mathrm{exp}(-(b_{3} + (x * W_{31}))))})$\""
      ]
     },
     "metadata": {},
     "output_type": "display_data"
    }
   ],
   "source": [
    "@vars x\n",
    "W = weight_var(\"W\", 1, 3)\n",
    "b = bias_var(\"b\",3)\n",
    "V = weight_var(\"V\", 3, 1)\n",
    "\n",
    "z=sigmoid.(W*x + b)\n",
    "N=exp.(V*z) |> only\n",
    "render(N)"
   ]
  },
  {
   "cell_type": "code",
   "execution_count": 102,
   "metadata": {},
   "outputs": [
    {
     "data": {
      "text/latex": [
       "$(\\mathrm{exp}(\\frac{V_{11}}{(1 + \\mathrm{exp}(-(b_{1} + (x * W_{11}))))} + \\frac{V_{12}}{(1 + \\mathrm{exp}(-(b_{2} + (x * W_{21}))))} + \\frac{V_{13}}{(1 + \\mathrm{exp}(-(b_{3} + (x * W_{31}))))}) * (\\frac{(\\mathrm{exp}(-(b_{1} + (x * W_{11}))) * W_{11} * V_{11})}{(1 + \\mathrm{exp}(-(b_{1} + (x * W_{11}))))^{2}} + \\frac{(\\mathrm{exp}(-(b_{2} + (x * W_{21}))) * W_{21} * V_{12})}{(1 + \\mathrm{exp}(-(b_{2} + (x * W_{21}))))^{2}} + \\frac{(\\mathrm{exp}(-(b_{3} + (x * W_{31}))) * W_{31} * V_{13})}{(1 + \\mathrm{exp}(-(b_{3} + (x * W_{31}))))^{2}}))$"
      ],
      "text/plain": [
       "L\"$(\\mathrm{exp}(\\frac{V_{11}}{(1 + \\mathrm{exp}(-(b_{1} + (x * W_{11}))))} + \\frac{V_{12}}{(1 + \\mathrm{exp}(-(b_{2} + (x * W_{21}))))} + \\frac{V_{13}}{(1 + \\mathrm{exp}(-(b_{3} + (x * W_{31}))))}) * (\\frac{(\\mathrm{exp}(-(b_{1} + (x * W_{11}))) * W_{11} * V_{11})}{(1 + \\mathrm{exp}(-(b_{1} + (x * W_{11}))))^{2}} + \\frac{(\\mathrm{exp}(-(b_{2} + (x * W_{21}))) * W_{21} * V_{12})}{(1 + \\mathrm{exp}(-(b_{2} + (x * W_{21}))))^{2}} + \\frac{(\\mathrm{exp}(-(b_{3} + (x * W_{31}))) * W_{31} * V_{13})}{(1 + \\mathrm{exp}(-(b_{3} + (x * W_{31}))))^{2}}))$\""
      ]
     },
     "metadata": {},
     "output_type": "display_data"
    }
   ],
   "source": [
    "dNdx = diff(N,x)\n",
    "render(dNdx)"
   ]
  },
  {
   "cell_type": "code",
   "execution_count": 103,
   "metadata": {},
   "outputs": [
    {
     "data": {
      "text/latex": [
       "$(\\mathrm{exp}(\\frac{V_{11}}{(1 + \\mathrm{exp}(-(b_{1} + (x * W_{11}))))} + \\frac{V_{12}}{(1 + \\mathrm{exp}(-(b_{2} + (x * W_{21}))))} + \\frac{V_{13}}{(1 + \\mathrm{exp}(-(b_{3} + (x * W_{31}))))}) * (\\frac{(W_{11} * V_{11})}{((1 + \\mathrm{exp}(b_{1} + (x * W_{11}))) * (1 + \\mathrm{exp}(-(b_{1} + (x * W_{11})))))} + \\frac{(W_{21} * V_{12})}{((1 + \\mathrm{exp}(b_{2} + (x * W_{21}))) * (1 + \\mathrm{exp}(-(b_{2} + (x * W_{21})))))} + \\frac{(W_{31} * V_{13})}{((1 + \\mathrm{exp}(b_{3} + (x * W_{31}))) * (1 + \\mathrm{exp}(-(b_{3} + (x * W_{31})))))}))$"
      ],
      "text/plain": [
       "L\"$(\\mathrm{exp}(\\frac{V_{11}}{(1 + \\mathrm{exp}(-(b_{1} + (x * W_{11}))))} + \\frac{V_{12}}{(1 + \\mathrm{exp}(-(b_{2} + (x * W_{21}))))} + \\frac{V_{13}}{(1 + \\mathrm{exp}(-(b_{3} + (x * W_{31}))))}) * (\\frac{(W_{11} * V_{11})}{((1 + \\mathrm{exp}(b_{1} + (x * W_{11}))) * (1 + \\mathrm{exp}(-(b_{1} + (x * W_{11})))))} + \\frac{(W_{21} * V_{12})}{((1 + \\mathrm{exp}(b_{2} + (x * W_{21}))) * (1 + \\mathrm{exp}(-(b_{2} + (x * W_{21})))))} + \\frac{(W_{31} * V_{13})}{((1 + \\mathrm{exp}(b_{3} + (x * W_{31}))) * (1 + \\mathrm{exp}(-(b_{3} + (x * W_{31})))))}))$\""
      ]
     },
     "metadata": {},
     "output_type": "display_data"
    }
   ],
   "source": [
    "# I am pretty sure this is the right equation for the derivative of this network\n",
    "# as we just use the standard `d(exp(f(x))/dx = f'(x)*exp(f(x))` rule\n",
    "$\n",
    "# But symengine is not strong enough to  recognise that it matches the above\n",
    "mdZm1dx = (W'.*V)*(sigmoid.(-(W*x + b)).*sigmoid.(W*x + b)) |> first\n",
    "mdNdx = mdZm1dx*N\n",
    "render.(mdNdx)"
   ]
  },
  {
   "cell_type": "markdown",
   "metadata": {},
   "source": [
    "## Deeper Expodential Output net\n",
    "Single input single output still,\n",
    "2 hidden layer,\n",
    "output expodential,"
   ]
  },
  {
   "cell_type": "code",
   "execution_count": 105,
   "metadata": {},
   "outputs": [
    {
     "data": {
      "text/latex": [
       "$\\mathrm{exp}(\\frac{V_{11}}{(1 + \\mathrm{exp}(-(c_{1} + \\frac{U_{11}}{(1 + \\mathrm{exp}(-(b_{1} + (x * W_{11}))))} + \\frac{U_{12}}{(1 + \\mathrm{exp}(-(b_{2} + (x * W_{21}))))} + \\frac{U_{13}}{(1 + \\mathrm{exp}(-(b_{3} + (x * W_{31}))))})))} + \\frac{V_{12}}{(1 + \\mathrm{exp}(-(c_{2} + \\frac{U_{21}}{(1 + \\mathrm{exp}(-(b_{1} + (x * W_{11}))))} + \\frac{U_{22}}{(1 + \\mathrm{exp}(-(b_{2} + (x * W_{21}))))} + \\frac{U_{23}}{(1 + \\mathrm{exp}(-(b_{3} + (x * W_{31}))))})))} + \\frac{V_{13}}{(1 + \\mathrm{exp}(-(c_{3} + \\frac{U_{31}}{(1 + \\mathrm{exp}(-(b_{1} + (x * W_{11}))))} + \\frac{U_{32}}{(1 + \\mathrm{exp}(-(b_{2} + (x * W_{21}))))} + \\frac{U_{33}}{(1 + \\mathrm{exp}(-(b_{3} + (x * W_{31}))))})))})$"
      ],
      "text/plain": [
       "L\"$\\mathrm{exp}(\\frac{V_{11}}{(1 + \\mathrm{exp}(-(c_{1} + \\frac{U_{11}}{(1 + \\mathrm{exp}(-(b_{1} + (x * W_{11}))))} + \\frac{U_{12}}{(1 + \\mathrm{exp}(-(b_{2} + (x * W_{21}))))} + \\frac{U_{13}}{(1 + \\mathrm{exp}(-(b_{3} + (x * W_{31}))))})))} + \\frac{V_{12}}{(1 + \\mathrm{exp}(-(c_{2} + \\frac{U_{21}}{(1 + \\mathrm{exp}(-(b_{1} + (x * W_{11}))))} + \\frac{U_{22}}{(1 + \\mathrm{exp}(-(b_{2} + (x * W_{21}))))} + \\frac{U_{23}}{(1 + \\mathrm{exp}(-(b_{3} + (x * W_{31}))))})))} + \\frac{V_{13}}{(1 + \\mathrm{exp}(-(c_{3} + \\frac{U_{31}}{(1 + \\mathrm{exp}(-(b_{1} + (x * W_{11}))))} + \\frac{U_{32}}{(1 + \\mathrm{exp}(-(b_{2} + (x * W_{21}))))} + \\frac{U_{33}}{(1 + \\mathrm{exp}(-(b_{3} + (x * W_{31}))))})))})$\""
      ]
     },
     "metadata": {},
     "output_type": "display_data"
    }
   ],
   "source": [
    "@vars x\n",
    "W = weight_var(\"W\", 1, 3)\n",
    "b = bias_var(\"b\",3)\n",
    "U = weight_var(\"U\", 3, 3)\n",
    "c = bias_var(\"c\",3)\n",
    "V = weight_var(\"V\", 3, 1)\n",
    "\n",
    "z1=sigmoid.(W*x + b)\n",
    "z2=sigmoid.(U*z1 + c)\n",
    "N=exp.(V*z2) |> only\n",
    "render(N)"
   ]
  },
  {
   "cell_type": "code",
   "execution_count": 106,
   "metadata": {},
   "outputs": [
    {
     "data": {
      "text/latex": [
       "$(\\mathrm{exp}(\\frac{V_{11}}{(1 + \\mathrm{exp}(-(c_{1} + \\frac{U_{11}}{(1 + \\mathrm{exp}(-(b_{1} + (x * W_{11}))))} + \\frac{U_{12}}{(1 + \\mathrm{exp}(-(b_{2} + (x * W_{21}))))} + \\frac{U_{13}}{(1 + \\mathrm{exp}(-(b_{3} + (x * W_{31}))))})))} + \\frac{V_{12}}{(1 + \\mathrm{exp}(-(c_{2} + \\frac{U_{21}}{(1 + \\mathrm{exp}(-(b_{1} + (x * W_{11}))))} + \\frac{U_{22}}{(1 + \\mathrm{exp}(-(b_{2} + (x * W_{21}))))} + \\frac{U_{23}}{(1 + \\mathrm{exp}(-(b_{3} + (x * W_{31}))))})))} + \\frac{V_{13}}{(1 + \\mathrm{exp}(-(c_{3} + \\frac{U_{31}}{(1 + \\mathrm{exp}(-(b_{1} + (x * W_{11}))))} + \\frac{U_{32}}{(1 + \\mathrm{exp}(-(b_{2} + (x * W_{21}))))} + \\frac{U_{33}}{(1 + \\mathrm{exp}(-(b_{3} + (x * W_{31}))))})))}) * (\\frac{(\\mathrm{exp}(-(c_{1} + \\frac{U_{11}}{(1 + \\mathrm{exp}(-(b_{1} + (x * W_{11}))))} + \\frac{U_{12}}{(1 + \\mathrm{exp}(-(b_{2} + (x * W_{21}))))} + \\frac{U_{13}}{(1 + \\mathrm{exp}(-(b_{3} + (x * W_{31}))))})) * V_{11} * (\\frac{(\\mathrm{exp}(-(b_{1} + (x * W_{11}))) * W_{11} * U_{11})}{(1 + \\mathrm{exp}(-(b_{1} + (x * W_{11}))))^{2}} + \\frac{(\\mathrm{exp}(-(b_{2} + (x * W_{21}))) * W_{21} * U_{12})}{(1 + \\mathrm{exp}(-(b_{2} + (x * W_{21}))))^{2}} + \\frac{(\\mathrm{exp}(-(b_{3} + (x * W_{31}))) * W_{31} * U_{13})}{(1 + \\mathrm{exp}(-(b_{3} + (x * W_{31}))))^{2}}))}{(1 + \\mathrm{exp}(-(c_{1} + \\frac{U_{11}}{(1 + \\mathrm{exp}(-(b_{1} + (x * W_{11}))))} + \\frac{U_{12}}{(1 + \\mathrm{exp}(-(b_{2} + (x * W_{21}))))} + \\frac{U_{13}}{(1 + \\mathrm{exp}(-(b_{3} + (x * W_{31}))))})))^{2}} + \\frac{(\\mathrm{exp}(-(c_{2} + \\frac{U_{21}}{(1 + \\mathrm{exp}(-(b_{1} + (x * W_{11}))))} + \\frac{U_{22}}{(1 + \\mathrm{exp}(-(b_{2} + (x * W_{21}))))} + \\frac{U_{23}}{(1 + \\mathrm{exp}(-(b_{3} + (x * W_{31}))))})) * V_{12} * (\\frac{(\\mathrm{exp}(-(b_{1} + (x * W_{11}))) * W_{11} * U_{21})}{(1 + \\mathrm{exp}(-(b_{1} + (x * W_{11}))))^{2}} + \\frac{(\\mathrm{exp}(-(b_{2} + (x * W_{21}))) * W_{21} * U_{22})}{(1 + \\mathrm{exp}(-(b_{2} + (x * W_{21}))))^{2}} + \\frac{(\\mathrm{exp}(-(b_{3} + (x * W_{31}))) * W_{31} * U_{23})}{(1 + \\mathrm{exp}(-(b_{3} + (x * W_{31}))))^{2}}))}{(1 + \\mathrm{exp}(-(c_{2} + \\frac{U_{21}}{(1 + \\mathrm{exp}(-(b_{1} + (x * W_{11}))))} + \\frac{U_{22}}{(1 + \\mathrm{exp}(-(b_{2} + (x * W_{21}))))} + \\frac{U_{23}}{(1 + \\mathrm{exp}(-(b_{3} + (x * W_{31}))))})))^{2}} + \\frac{(\\mathrm{exp}(-(c_{3} + \\frac{U_{31}}{(1 + \\mathrm{exp}(-(b_{1} + (x * W_{11}))))} + \\frac{U_{32}}{(1 + \\mathrm{exp}(-(b_{2} + (x * W_{21}))))} + \\frac{U_{33}}{(1 + \\mathrm{exp}(-(b_{3} + (x * W_{31}))))})) * V_{13} * (\\frac{(\\mathrm{exp}(-(b_{1} + (x * W_{11}))) * W_{11} * U_{31})}{(1 + \\mathrm{exp}(-(b_{1} + (x * W_{11}))))^{2}} + \\frac{(\\mathrm{exp}(-(b_{2} + (x * W_{21}))) * W_{21} * U_{32})}{(1 + \\mathrm{exp}(-(b_{2} + (x * W_{21}))))^{2}} + \\frac{(\\mathrm{exp}(-(b_{3} + (x * W_{31}))) * W_{31} * U_{33})}{(1 + \\mathrm{exp}(-(b_{3} + (x * W_{31}))))^{2}}))}{(1 + \\mathrm{exp}(-(c_{3} + \\frac{U_{31}}{(1 + \\mathrm{exp}(-(b_{1} + (x * W_{11}))))} + \\frac{U_{32}}{(1 + \\mathrm{exp}(-(b_{2} + (x * W_{21}))))} + \\frac{U_{33}}{(1 + \\mathrm{exp}(-(b_{3} + (x * W_{31}))))})))^{2}}))$"
      ],
      "text/plain": [
       "L\"$(\\mathrm{exp}(\\frac{V_{11}}{(1 + \\mathrm{exp}(-(c_{1} + \\frac{U_{11}}{(1 + \\mathrm{exp}(-(b_{1} + (x * W_{11}))))} + \\frac{U_{12}}{(1 + \\mathrm{exp}(-(b_{2} + (x * W_{21}))))} + \\frac{U_{13}}{(1 + \\mathrm{exp}(-(b_{3} + (x * W_{31}))))})))} + \\frac{V_{12}}{(1 + \\mathrm{exp}(-(c_{2} + \\frac{U_{21}}{(1 + \\mathrm{exp}(-(b_{1} + (x * W_{11}))))} + \\frac{U_{22}}{(1 + \\mathrm{exp}(-(b_{2} + (x * W_{21}))))} + \\frac{U_{23}}{(1 + \\mathrm{exp}(-(b_{3} + (x * W_{31}))))})))} + \\frac{V_{13}}{(1 + \\mathrm{exp}(-(c_{3} + \\frac{U_{31}}{(1 + \\mathrm{exp}(-(b_{1} + (x * W_{11}))))} + \\frac{U_{32}}{(1 + \\mathrm{exp}(-(b_{2} + (x * W_{21}))))} + \\frac{U_{33}}{(1 + \\mathrm{exp}(-(b_{3} + (x * W_{31}))))})))}) * (\\frac{(\\mathrm{exp}(-(c_{1} + \\frac{U_{11}}{(1 + \\mathrm{exp}(-(b_{1} + (x * W_{11}))))} + \\frac{U_{12}}{(1 + \\mathrm{exp}(-(b_{2} + (x * W_{21}))))} + \\frac{U_{13}}{(1 + \\mathrm{exp}(-(b_{3} + (x * W_{31}))))})) * V_{11} * (\\frac{(\\mathrm{exp}(-(b_{1} + (x * W_{11}))) * W_{11} * U_{11})}{(1 + \\mathrm{exp}(-(b_{1} + (x * W_{11}))))^{2}} + \\frac{(\\mathrm{exp}(-(b_{2} + (x * W_{21}))) * W_{21} * U_{12})}{(1 + \\mathrm{exp}(-(b_{2} + (x * W_{21}))))^{2}} + \\frac{(\\mathrm{exp}(-(b_{3} + (x * W_{31}))) * W_{31} * U_{13})}{(1 + \\mathrm{exp}(-(b_{3} + (x * W_{31}))))^{2}}))}{(1 + \\mathrm{exp}(-(c_{1} + \\frac{U_{11}}{(1 + \\mathrm{exp}(-(b_{1} + (x * W_{11}))))} + \\frac{U_{12}}{(1 + \\mathrm{exp}(-(b_{2} + (x * W_{21}))))} + \\frac{U_{13}}{(1 + \\mathrm{exp}(-(b_{3} + (x * W_{31}))))})))^{2}} + \\frac{(\\mathrm{exp}(-(c_{2} + \\frac{U_{21}}{(1 + \\mathrm{exp}(-(b_{1} + (x * W_{11}))))} + \\frac{U_{22}}{(1 + \\mathrm{exp}(-(b_{2} + (x * W_{21}))))} + \\frac{U_{23}}{(1 + \\mathrm{exp}(-(b_{3} + (x * W_{31}))))})) * V_{12} * (\\frac{(\\mathrm{exp}(-(b_{1} + (x * W_{11}))) * W_{11} * U_{21})}{(1 + \\mathrm{exp}(-(b_{1} + (x * W_{11}))))^{2}} + \\frac{(\\mathrm{exp}(-(b_{2} + (x * W_{21}))) * W_{21} * U_{22})}{(1 + \\mathrm{exp}(-(b_{2} + (x * W_{21}))))^{2}} + \\frac{(\\mathrm{exp}(-(b_{3} + (x * W_{31}))) * W_{31} * U_{23})}{(1 + \\mathrm{exp}(-(b_{3} + (x * W_{31}))))^{2}}))}{(1 + \\mathrm{exp}(-(c_{2} + \\frac{U_{21}}{(1 + \\mathrm{exp}(-(b_{1} + (x * W_{11}))))} + \\frac{U_{22}}{(1 + \\mathrm{exp}(-(b_{2} + (x * W_{21}))))} + \\frac{U_{23}}{(1 + \\mathrm{exp}(-(b_{3} + (x * W_{31}))))})))^{2}} + \\frac{(\\mathrm{exp}(-(c_{3} + \\frac{U_{31}}{(1 + \\mathrm{exp}(-(b_{1} + (x * W_{11}))))} + \\frac{U_{32}}{(1 + \\mathrm{exp}(-(b_{2} + (x * W_{21}))))} + \\frac{U_{33}}{(1 + \\mathrm{exp}(-(b_{3} + (x * W_{31}))))})) * V_{13} * (\\frac{(\\mathrm{exp}(-(b_{1} + (x * W_{11}))) * W_{11} * U_{31})}{(1 + \\mathrm{exp}(-(b_{1} + (x * W_{11}))))^{2}} + \\frac{(\\mathrm{exp}(-(b_{2} + (x * W_{21}))) * W_{21} * U_{32})}{(1 + \\mathrm{exp}(-(b_{2} + (x * W_{21}))))^{2}} + \\frac{(\\mathrm{exp}(-(b_{3} + (x * W_{31}))) * W_{31} * U_{33})}{(1 + \\mathrm{exp}(-(b_{3} + (x * W_{31}))))^{2}}))}{(1 + \\mathrm{exp}(-(c_{3} + \\frac{U_{31}}{(1 + \\mathrm{exp}(-(b_{1} + (x * W_{11}))))} + \\frac{U_{32}}{(1 + \\mathrm{exp}(-(b_{2} + (x * W_{21}))))} + \\frac{U_{33}}{(1 + \\mathrm{exp}(-(b_{3} + (x * W_{31}))))})))^{2}}))$\""
      ]
     },
     "metadata": {},
     "output_type": "display_data"
    }
   ],
   "source": [
    "dNdx = diff(N,x)\n",
    "render(dNdx)"
   ]
  },
  {
   "cell_type": "code",
   "execution_count": 107,
   "metadata": {
    "collapsed": true
   },
   "outputs": [],
   "source": [
    "# TODO workout the clean form of this"
   ]
  },
  {
   "cell_type": "markdown",
   "metadata": {},
   "source": [
    "### Find the parts that count to the gradient"
   ]
  },
  {
   "cell_type": "code",
   "execution_count": 151,
   "metadata": {
    "scrolled": true
   },
   "outputs": [
    {
     "data": {
      "text/latex": [
       "$(1 * ((1 * V_{11} * ((1 * W_{11} * U_{11}) + (1 * W_{21} * U_{12}) + (1 * W_{31} * U_{13}))) + (1 * V_{12} * ((1 * W_{11} * U_{21}) + (1 * W_{21} * U_{22}) + (1 * W_{31} * U_{23}))) + (1 * V_{13} * ((1 * W_{11} * U_{31}) + (1 * W_{21} * U_{32}) + (1 * W_{31} * U_{33})))))$"
      ],
      "text/plain": [
       "L\"$(1 * ((1 * V_{11} * ((1 * W_{11} * U_{11}) + (1 * W_{21} * U_{12}) + (1 * W_{31} * U_{13}))) + (1 * V_{12} * ((1 * W_{11} * U_{21}) + (1 * W_{21} * U_{22}) + (1 * W_{31} * U_{23}))) + (1 * V_{13} * ((1 * W_{11} * U_{31}) + (1 * W_{21} * U_{32}) + (1 * W_{31} * U_{33})))))$\""
      ]
     },
     "metadata": {},
     "output_type": "display_data"
    }
   ],
   "source": [
    "using MacroTools: postwalk\n",
    "tree = parse(repr(dNdx))\n",
    "\n",
    "tree = postwalk(x -> @capture(x, exp(z_)) ? 1 : x, tree)\n",
    "tree = postwalk(x -> @capture(x, (1+1)^2) ? 1 : x, tree)\n",
    "tree = postwalk(x -> @capture(x, z_/1) ? z : x, tree)\n",
    "tree |> render"
   ]
  },
  {
   "cell_type": "code",
   "execution_count": 154,
   "metadata": {},
   "outputs": [
    {
     "data": {
      "text/plain": [
       "W_11*V_11*U_11 + W_11*V_12*U_21 + W_11*V_13*U_31 + W_21*V_11*U_12 + W_21*V_12*U_22 + W_21*V_13*U_32 + W_31*V_11*U_13 + W_31*V_12*U_23 + W_31*V_13*U_33"
      ]
     },
     "execution_count": 154,
     "metadata": {},
     "output_type": "execute_result"
    }
   ],
   "source": [
    "expand(V*U*W |> only)"
   ]
  },
  {
   "cell_type": "code",
   "execution_count": null,
   "metadata": {
    "collapsed": true
   },
   "outputs": [],
   "source": []
  }
 ],
 "metadata": {
  "kernelspec": {
   "display_name": "Julia 0.6.0",
   "language": "julia",
   "name": "julia-0.6"
  },
  "language_info": {
   "file_extension": ".jl",
   "mimetype": "application/julia",
   "name": "julia",
   "version": "0.6.0"
  }
 },
 "nbformat": 4,
 "nbformat_minor": 2
}
